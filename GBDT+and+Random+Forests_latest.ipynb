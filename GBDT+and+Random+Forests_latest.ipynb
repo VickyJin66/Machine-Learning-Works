{
 "cells": [
  {
   "cell_type": "markdown",
   "metadata": {},
   "source": [
    "# Objectives:\n",
    "For each Featurization(BOWs, TF-IDF, W2V, AVGW2V-TFIDF) we need to split the data based on Time Based Slicing and apply RandomForest and GBDT Algo and find test accurcy.\n",
    "\n",
    "apply cross-val-score to find optimal depth and numbers of base trees for both RF and GBDT and for GBDT alone find optimal learning rate. "
   ]
  },
  {
   "cell_type": "code",
   "execution_count": 1,
   "metadata": {
    "collapsed": true
   },
   "outputs": [],
   "source": [
    "import sqlite3\n",
    "import pandas as pd\n",
    "import numpy as np\n",
    "import nltk\n",
    "import string\n",
    "import matplotlib.pyplot as plt\n",
    "import seaborn as sn\n",
    "from sklearn.feature_extraction.text import TfidfTransformer\n",
    "from sklearn.feature_extraction.text import TfidfVectorizer\n",
    "from sklearn.feature_extraction.text import CountVectorizer\n",
    "from sklearn.metrics import confusion_matrix\n",
    "from sklearn import metrics\n",
    "from sklearn.metrics import roc_curve, auc\n",
    "from nltk.stem.porter import PorterStemmer\n",
    "import re\n",
    "import gensim\n",
    "import string\n",
    "from nltk.corpus import stopwords\n",
    "from nltk.stem import PorterStemmer\n",
    "from nltk.stem.wordnet import WordNetLemmatizer"
   ]
  },
  {
   "cell_type": "code",
   "execution_count": 2,
   "metadata": {
    "collapsed": true
   },
   "outputs": [],
   "source": [
    "# using the SQLite Table to read data.\n",
    "con = sqlite3.connect('database.sqlite') \n",
    "\n",
    "#filtering only positive and negative reviews i.e. \n",
    "# not taking into consideration those reviews with Score=3\n",
    "filtered_data = pd.read_sql_query(\"\"\"\n",
    "SELECT *\n",
    "FROM Reviews\n",
    "WHERE Score != 3\n",
    "\"\"\", con) \n",
    "# Give reviews with Score>3 a positive rating, and reviews with a score<3 a negative rating.\n",
    "def partition(x):\n",
    "    if x < 3:\n",
    "        return 'negative'\n",
    "    return 'positive'\n",
    "#changing reviews with score less than 3 to be positive and vice-versa\n",
    "actualScore = filtered_data['Score']\n",
    "positiveNegative = actualScore.map(partition) \n",
    "filtered_data['Score'] = positiveNegative"
   ]
  },
  {
   "cell_type": "code",
   "execution_count": 3,
   "metadata": {
    "collapsed": true
   },
   "outputs": [],
   "source": [
    "sorted_data=filtered_data.sort_values('ProductId', axis=0, ascending=True, inplace=False, kind='quicksort', na_position='last')\n",
    "# sort reviews based on ProductId"
   ]
  },
  {
   "cell_type": "code",
   "execution_count": 4,
   "metadata": {},
   "outputs": [
    {
     "data": {
      "text/plain": [
       "(364173, 10)"
      ]
     },
     "execution_count": 4,
     "metadata": {},
     "output_type": "execute_result"
    }
   ],
   "source": [
    "final=sorted_data.drop_duplicates(subset={\"UserId\",\"ProfileName\",\"Time\",\"Text\"}, keep='first', inplace=False)\n",
    "final.shape\n",
    "# Remove duplicate reviews"
   ]
  },
  {
   "cell_type": "code",
   "execution_count": 5,
   "metadata": {},
   "outputs": [
    {
     "name": "stdout",
     "output_type": "stream",
     "text": [
      "(364171, 10)\n"
     ]
    },
    {
     "data": {
      "text/plain": [
       "positive    307061\n",
       "negative     57110\n",
       "Name: Score, dtype: int64"
      ]
     },
     "execution_count": 5,
     "metadata": {},
     "output_type": "execute_result"
    }
   ],
   "source": [
    "final=final[final.HelpfulnessNumerator<=final.HelpfulnessDenominator]\n",
    "#Before starting the next phase of preprocessing lets see the number of entries left\n",
    "print(final.shape)\n",
    "\n",
    "#How many positive and negative reviews are present in our dataset?\n",
    "final['Score'].value_counts()"
   ]
  },
  {
   "cell_type": "code",
   "execution_count": 6,
   "metadata": {},
   "outputs": [
    {
     "name": "stdout",
     "output_type": "stream",
     "text": [
      "(364171, 10)\n"
     ]
    },
    {
     "data": {
      "text/plain": [
       "positive    307061\n",
       "negative     57110\n",
       "Name: Score, dtype: int64"
      ]
     },
     "execution_count": 6,
     "metadata": {},
     "output_type": "execute_result"
    }
   ],
   "source": [
    "final=final[final.HelpfulnessNumerator<=final.HelpfulnessDenominator]\n",
    "#Before starting the next phase of preprocessing lets see the number of entries left\n",
    "print(final.shape)\n",
    "\n",
    "#How many positive and negative reviews are present in our dataset?\n",
    "final['Score'].value_counts()"
   ]
  },
  {
   "cell_type": "code",
   "execution_count": 7,
   "metadata": {
    "collapsed": true
   },
   "outputs": [],
   "source": [
    "#stop = set(stopwords.words('english')) #set of stopwords\n",
    "sno = nltk.stem.SnowballStemmer('english') #initialising the snowball stemmer\n",
    "\n",
    "def cleanhtml(sentence): #function to clean the word of any html-tags\n",
    "    cleanr = re.compile('<.*?>')\n",
    "    cleantext = re.sub(cleanr, ' ', sentence)\n",
    "    return cleantext\n",
    "def cleanpunc(sentence): #function to clean the word of any punctuation or special characters\n",
    "    cleaned = re.sub(r'[?|!|\\'|\"|#]',r'',sentence)\n",
    "    cleaned = re.sub(r'[.|,|)|(|\\|/]',r' ',cleaned)\n",
    "    return  cleaned"
   ]
  },
  {
   "cell_type": "code",
   "execution_count": 8,
   "metadata": {
    "collapsed": true
   },
   "outputs": [],
   "source": [
    "#Code for implementing step-by-step the checks mentioned in the pre-processing phase\n",
    "# this code takes a while to run as it needs to run on 500k sentences.\n",
    "i=0\n",
    "str1=' '\n",
    "final_string=[]\n",
    "all_positive_words=[] # store words from +ve reviews here\n",
    "all_negative_words=[] # store words from -ve reviews here.\n",
    "s=''\n",
    "for sent in final['Text'].values:\n",
    "    filtered_sentence=[]\n",
    "    sent=cleanhtml(sent) # remove HTMl tags\n",
    "    for w in sent.split():\n",
    "        for cleaned_words in cleanpunc(w).split():\n",
    "            if((cleaned_words.isalpha()) & (len(cleaned_words)>2)):    \n",
    "                s=(sno.stem(cleaned_words.lower())).encode('utf8')\n",
    "                filtered_sentence.append(s)\n",
    "                if (final['Score'].values)[i] == 'positive': \n",
    "                    all_positive_words.append(s) #list of all words used to describe positive reviews\n",
    "                if(final['Score'].values)[i] == 'negative':\n",
    "                    all_negative_words.append(s) #list of all words used to describe negative reviews reviews\n",
    "            else:\n",
    "                continue \n",
    "    str1 = b\" \".join(filtered_sentence) #final string of cleaned words    \n",
    "    final_string.append(str1)\n",
    "    i+=1"
   ]
  },
  {
   "cell_type": "code",
   "execution_count": 8,
   "metadata": {
    "collapsed": true
   },
   "outputs": [],
   "source": [
    "import pickle\n",
    "pickle_in = open(\"final_string.pickle\",\"rb\")\n",
    "final_string = pickle.load(pickle_in)"
   ]
  },
  {
   "cell_type": "code",
   "execution_count": 9,
   "metadata": {},
   "outputs": [
    {
     "data": {
      "text/html": [
       "<div>\n",
       "<style>\n",
       "    .dataframe thead tr:only-child th {\n",
       "        text-align: right;\n",
       "    }\n",
       "\n",
       "    .dataframe thead th {\n",
       "        text-align: left;\n",
       "    }\n",
       "\n",
       "    .dataframe tbody tr th {\n",
       "        vertical-align: top;\n",
       "    }\n",
       "</style>\n",
       "<table border=\"1\" class=\"dataframe\">\n",
       "  <thead>\n",
       "    <tr style=\"text-align: right;\">\n",
       "      <th></th>\n",
       "      <th>Id</th>\n",
       "      <th>ProductId</th>\n",
       "      <th>UserId</th>\n",
       "      <th>ProfileName</th>\n",
       "      <th>HelpfulnessNumerator</th>\n",
       "      <th>HelpfulnessDenominator</th>\n",
       "      <th>Score</th>\n",
       "      <th>Time</th>\n",
       "      <th>Summary</th>\n",
       "      <th>Text</th>\n",
       "      <th>CleanedText</th>\n",
       "    </tr>\n",
       "  </thead>\n",
       "  <tbody>\n",
       "    <tr>\n",
       "      <th>138706</th>\n",
       "      <td>150524</td>\n",
       "      <td>0006641040</td>\n",
       "      <td>ACITT7DI6IDDL</td>\n",
       "      <td>shari zychinski</td>\n",
       "      <td>0</td>\n",
       "      <td>0</td>\n",
       "      <td>positive</td>\n",
       "      <td>939340800</td>\n",
       "      <td>EVERY book is educational</td>\n",
       "      <td>this witty little book makes my son laugh at l...</td>\n",
       "      <td>b'this witti littl book make son laugh loud re...</td>\n",
       "    </tr>\n",
       "    <tr>\n",
       "      <th>138683</th>\n",
       "      <td>150501</td>\n",
       "      <td>0006641040</td>\n",
       "      <td>AJ46FKXOVC7NR</td>\n",
       "      <td>Nicholas A Mesiano</td>\n",
       "      <td>2</td>\n",
       "      <td>2</td>\n",
       "      <td>positive</td>\n",
       "      <td>940809600</td>\n",
       "      <td>This whole series is great way to spend time w...</td>\n",
       "      <td>I can remember seeing the show when it aired o...</td>\n",
       "      <td>b'can rememb see the show when air televis yea...</td>\n",
       "    </tr>\n",
       "    <tr>\n",
       "      <th>417839</th>\n",
       "      <td>451856</td>\n",
       "      <td>B00004CXX9</td>\n",
       "      <td>AIUWLEQ1ADEG5</td>\n",
       "      <td>Elizabeth Medina</td>\n",
       "      <td>0</td>\n",
       "      <td>0</td>\n",
       "      <td>positive</td>\n",
       "      <td>944092800</td>\n",
       "      <td>Entertainingl Funny!</td>\n",
       "      <td>Beetlejuice is a well written movie ..... ever...</td>\n",
       "      <td>b'beetlejuic well written movi everyth about e...</td>\n",
       "    </tr>\n",
       "    <tr>\n",
       "      <th>346055</th>\n",
       "      <td>374359</td>\n",
       "      <td>B00004CI84</td>\n",
       "      <td>A344SMIA5JECGM</td>\n",
       "      <td>Vincent P. Ross</td>\n",
       "      <td>1</td>\n",
       "      <td>2</td>\n",
       "      <td>positive</td>\n",
       "      <td>944438400</td>\n",
       "      <td>A modern day fairy tale</td>\n",
       "      <td>A twist of rumplestiskin captured on film, sta...</td>\n",
       "      <td>b'twist rumplestiskin captur film star michael...</td>\n",
       "    </tr>\n",
       "    <tr>\n",
       "      <th>417838</th>\n",
       "      <td>451855</td>\n",
       "      <td>B00004CXX9</td>\n",
       "      <td>AJH6LUC1UT1ON</td>\n",
       "      <td>The Phantom of the Opera</td>\n",
       "      <td>0</td>\n",
       "      <td>0</td>\n",
       "      <td>positive</td>\n",
       "      <td>946857600</td>\n",
       "      <td>FANTASTIC!</td>\n",
       "      <td>Beetlejuice is an excellent and funny movie. K...</td>\n",
       "      <td>b'beetlejuic excel and funni movi keaton hilar...</td>\n",
       "    </tr>\n",
       "  </tbody>\n",
       "</table>\n",
       "</div>"
      ],
      "text/plain": [
       "            Id   ProductId          UserId               ProfileName  \\\n",
       "138706  150524  0006641040   ACITT7DI6IDDL           shari zychinski   \n",
       "138683  150501  0006641040   AJ46FKXOVC7NR        Nicholas A Mesiano   \n",
       "417839  451856  B00004CXX9   AIUWLEQ1ADEG5          Elizabeth Medina   \n",
       "346055  374359  B00004CI84  A344SMIA5JECGM           Vincent P. Ross   \n",
       "417838  451855  B00004CXX9   AJH6LUC1UT1ON  The Phantom of the Opera   \n",
       "\n",
       "        HelpfulnessNumerator  HelpfulnessDenominator     Score       Time  \\\n",
       "138706                     0                       0  positive  939340800   \n",
       "138683                     2                       2  positive  940809600   \n",
       "417839                     0                       0  positive  944092800   \n",
       "346055                     1                       2  positive  944438400   \n",
       "417838                     0                       0  positive  946857600   \n",
       "\n",
       "                                                  Summary  \\\n",
       "138706                          EVERY book is educational   \n",
       "138683  This whole series is great way to spend time w...   \n",
       "417839                               Entertainingl Funny!   \n",
       "346055                            A modern day fairy tale   \n",
       "417838                                         FANTASTIC!   \n",
       "\n",
       "                                                     Text  \\\n",
       "138706  this witty little book makes my son laugh at l...   \n",
       "138683  I can remember seeing the show when it aired o...   \n",
       "417839  Beetlejuice is a well written movie ..... ever...   \n",
       "346055  A twist of rumplestiskin captured on film, sta...   \n",
       "417838  Beetlejuice is an excellent and funny movie. K...   \n",
       "\n",
       "                                              CleanedText  \n",
       "138706  b'this witti littl book make son laugh loud re...  \n",
       "138683  b'can rememb see the show when air televis yea...  \n",
       "417839  b'beetlejuic well written movi everyth about e...  \n",
       "346055  b'twist rumplestiskin captur film star michael...  \n",
       "417838  b'beetlejuic excel and funni movi keaton hilar...  "
      ]
     },
     "execution_count": 9,
     "metadata": {},
     "output_type": "execute_result"
    }
   ],
   "source": [
    "final['CleanedText']=final_string\n",
    "final = final.sort_values(['Time'], ascending=[True])\n",
    "final.head()"
   ]
  },
  {
   "cell_type": "code",
   "execution_count": 10,
   "metadata": {
    "collapsed": true
   },
   "outputs": [],
   "source": [
    "final = final.tail(60000)"
   ]
  },
  {
   "cell_type": "code",
   "execution_count": 11,
   "metadata": {
    "collapsed": true
   },
   "outputs": [],
   "source": [
    "X = final['CleanedText']\n",
    "y = final['Score']"
   ]
  },
  {
   "cell_type": "markdown",
   "metadata": {},
   "source": [
    "# BOW with RF and GBDT"
   ]
  },
  {
   "cell_type": "code",
   "execution_count": 12,
   "metadata": {
    "collapsed": true
   },
   "outputs": [],
   "source": [
    "from sklearn.model_selection import train_test_split\n",
    "# Split arrays or matrices into random train and test subsets\n",
    "# test_size=0.3 means out of 10k 3k will be test set and 7k train set\n",
    "X_train, X_test, y_train, y_test = train_test_split(X, y, test_size=0.3, random_state=0)"
   ]
  },
  {
   "cell_type": "code",
   "execution_count": 13,
   "metadata": {
    "collapsed": true
   },
   "outputs": [],
   "source": [
    "count_vect = CountVectorizer(min_df=2)\n",
    "X_train = count_vect.fit_transform(X_train)\n",
    "X_test = count_vect.transform(X_test)"
   ]
  },
  {
   "cell_type": "code",
   "execution_count": 38,
   "metadata": {},
   "outputs": [
    {
     "name": "stdout",
     "output_type": "stream",
     "text": [
      "Tuned Logistic Regression Parameters: {'max_depth': 25, 'n_estimators': 500}\n",
      "Best score is 0.9011904761904762\n"
     ]
    }
   ],
   "source": [
    "# Import necessary modules\n",
    "\n",
    "from sklearn.model_selection import GridSearchCV\n",
    "from sklearn.ensemble import RandomForestClassifier\n",
    "from sklearn.metrics import f1_score, make_scorer\n",
    "f1_scorer = make_scorer(f1_score, pos_label='positive')\n",
    "# Setup the hyperparameter grid\n",
    "depth_range = list(range(5,30))\n",
    "# Set the parameters by cross-validation\n",
    "tuned_parameters = {'n_estimators': [100, 200,500],\n",
    "                    'max_depth' : depth_range}\n",
    "\n",
    "# Instantiate a logistic regression classifier: logreg\n",
    "rfc=RandomForestClassifier(random_state=1, class_weight='balanced')\n",
    "\n",
    "\n",
    "# Instantiate the GridSearchCV object: logreg_cv\n",
    "rfc_cv = GridSearchCV(rfc, tuned_parameters, cv=3, n_jobs = -1, scoring=f1_scorer)\n",
    "\n",
    "# Fit it to the data\n",
    "rfc_cv.fit(X_train, y_train)\n",
    "\n",
    "# Print the tuned parameter and score\n",
    "print(\"Tuned Parameters: {}\".format(rfc_cv.best_params_))\n",
    "print(\"Best score is {}\".format(rfc_cv.best_score_))"
   ]
  },
  {
   "cell_type": "code",
   "execution_count": 39,
   "metadata": {
    "collapsed": true
   },
   "outputs": [],
   "source": [
    "# Predicting the Test set results\n",
    "y_pred = rfc_cv.predict(X_test)"
   ]
  },
  {
   "cell_type": "code",
   "execution_count": 40,
   "metadata": {},
   "outputs": [
    {
     "name": "stdout",
     "output_type": "stream",
     "text": [
      "\n",
      "****Test accuracy 90%\n"
     ]
    }
   ],
   "source": [
    "from sklearn.metrics import accuracy_score\n",
    "acc = accuracy_score(y_test, y_pred, normalize=True) * float(100)\n",
    "print('\\n****Test accuracy %d%%' % (acc))"
   ]
  },
  {
   "cell_type": "code",
   "execution_count": 41,
   "metadata": {
    "scrolled": true
   },
   "outputs": [
    {
     "data": {
      "image/png": "[encoded data removed]",
      "text/plain": [
       "<Figure size 432x288 with 1 Axes>"
      ]
     },
     "metadata": {},
     "output_type": "display_data"
    }
   ],
   "source": [
    "from sklearn.metrics import confusion_matrix\n",
    "%matplotlib inline  \n",
    "import seaborn as sns\n",
    "mat = confusion_matrix(y_test, y_pred)\n",
    "sns.heatmap(mat.T, square=True, annot=True, fmt='d', cbar=False)\n",
    "plt.xlabel('true label')\n",
    "plt.ylabel('predicted label');"
   ]
  },
  {
   "cell_type": "code",
   "execution_count": 15,
   "metadata": {},
   "outputs": [
    {
     "name": "stdout",
     "output_type": "stream",
     "text": [
      "Fitting 3 folds for each of 100 candidates, totalling 300 fits\n",
      "[CV] learning_rate=0.1, max_depth=5, n_estimators=100 ................\n",
      "[CV] learning_rate=0.1, max_depth=5, n_estimators=100 ................\n",
      "[CV] learning_rate=0.1, max_depth=5, n_estimators=100 ................\n",
      "[CV] learning_rate=0.1, max_depth=5, n_estimators=200 ................\n",
      "[CV] learning_rate=0.1, max_depth=5, n_estimators=200 ................\n",
      "[CV] learning_rate=0.1, max_depth=5, n_estimators=200 ................\n",
      "[CV] learning_rate=0.1, max_depth=6, n_estimators=100 ................\n",
      "[CV] learning_rate=0.1, max_depth=6, n_estimators=100 ................\n",
      "[CV] learning_rate=0.1, max_depth=6, n_estimators=100 ................\n",
      "[CV] learning_rate=0.1, max_depth=6, n_estimators=200 ................\n",
      "[CV]  learning_rate=0.1, max_depth=5, n_estimators=100, score=0.8864285714285715, total=  52.5s\n",
      "[CV] learning_rate=0.1, max_depth=6, n_estimators=200 ................\n",
      "[CV]  learning_rate=0.1, max_depth=5, n_estimators=100, score=0.8827940861367045, total=  52.6s\n",
      "[CV] learning_rate=0.1, max_depth=6, n_estimators=200 ................\n",
      "[CV]  learning_rate=0.1, max_depth=5, n_estimators=100, score=0.8827773412386599, total=  53.3s\n",
      "[CV] learning_rate=0.1, max_depth=7, n_estimators=100 ................\n",
      "[CV]  learning_rate=0.1, max_depth=6, n_estimators=100, score=0.8857775555396814, total= 1.1min\n",
      "[CV] learning_rate=0.1, max_depth=7, n_estimators=100 ................\n",
      "[CV]  learning_rate=0.1, max_depth=6, n_estimators=100, score=0.8905, total= 1.1min\n",
      "[CV] learning_rate=0.1, max_depth=7, n_estimators=100 ................\n",
      "[CV]  learning_rate=0.1, max_depth=6, n_estimators=100, score=0.889222198414399, total= 1.2min\n",
      "[CV] learning_rate=0.1, max_depth=7, n_estimators=200 ................\n",
      "[CV]  learning_rate=0.1, max_depth=5, n_estimators=200, score=0.8975714285714286, total= 1.6min\n",
      "[CV] learning_rate=0.1, max_depth=7, n_estimators=200 ................\n",
      "[CV]  learning_rate=0.1, max_depth=5, n_estimators=200, score=0.8943495963997429, total= 1.7min\n",
      "[CV] learning_rate=0.1, max_depth=7, n_estimators=200 ................\n",
      "[CV]  learning_rate=0.1, max_depth=5, n_estimators=200, score=0.8942932647668024, total= 1.7min\n",
      "[CV] learning_rate=0.1, max_depth=8, n_estimators=100 ................\n",
      "[CV]  learning_rate=0.1, max_depth=6, n_estimators=200, score=0.8973644739661453, total= 2.2min\n",
      "[CV] learning_rate=0.1, max_depth=8, n_estimators=100 ................\n",
      "[CV]  learning_rate=0.1, max_depth=7, n_estimators=100, score=0.8897221627026641, total= 1.5min\n",
      "[CV] learning_rate=0.1, max_depth=8, n_estimators=100 ................\n",
      "[CV]  learning_rate=0.1, max_depth=7, n_estimators=100, score=0.8906350453603828, total= 1.4min\n",
      "[CV] learning_rate=0.1, max_depth=8, n_estimators=200 ................\n",
      "[CV]  learning_rate=0.1, max_depth=7, n_estimators=100, score=0.8928571428571429, total= 1.5min\n",
      "[CV] learning_rate=0.1, max_depth=8, n_estimators=200 ................\n",
      "[CV]  learning_rate=0.1, max_depth=6, n_estimators=200, score=0.8997857142857143, total= 2.1min\n",
      "[CV] learning_rate=0.1, max_depth=8, n_estimators=200 ................\n",
      "[CV]  learning_rate=0.1, max_depth=6, n_estimators=200, score=0.8975641117222659, total= 2.1min\n",
      "[CV] learning_rate=0.1, max_depth=9, n_estimators=100 ................\n",
      "[CV]  learning_rate=0.1, max_depth=8, n_estimators=100, score=0.8901507035211771, total= 1.8min\n",
      "[CV] learning_rate=0.1, max_depth=9, n_estimators=100 ................\n",
      "[CV]  learning_rate=0.1, max_depth=7, n_estimators=200, score=0.8971502035568888, total= 2.7min\n",
      "[CV] learning_rate=0.1, max_depth=9, n_estimators=100 ................\n",
      "[CV]  learning_rate=0.1, max_depth=8, n_estimators=100, score=0.8930714285714285, total= 1.8min\n",
      "[CV] learning_rate=0.1, max_depth=9, n_estimators=200 ................\n",
      "[CV]  learning_rate=0.1, max_depth=8, n_estimators=100, score=0.8899207086220444, total= 1.7min\n",
      "[CV] learning_rate=0.1, max_depth=9, n_estimators=200 ................\n",
      "[CV]  learning_rate=0.1, max_depth=7, n_estimators=200, score=0.8997142857142857, total= 2.5min\n",
      "[CV] learning_rate=0.1, max_depth=9, n_estimators=200 ................\n",
      "[CV]  learning_rate=0.1, max_depth=7, n_estimators=200, score=0.8986356168297736, total= 2.5min\n",
      "[CV] learning_rate=0.1, max_depth=10, n_estimators=100 ...............\n",
      "[CV]  learning_rate=0.1, max_depth=9, n_estimators=100, score=0.8895793157631597, total= 2.3min\n",
      "[CV] learning_rate=0.1, max_depth=10, n_estimators=100 ...............\n",
      "[CV]  learning_rate=0.1, max_depth=9, n_estimators=100, score=0.8930714285714285, total= 2.2min\n",
      "[CV] learning_rate=0.1, max_depth=10, n_estimators=100 ...............\n",
      "[CV]  learning_rate=0.1, max_depth=8, n_estimators=200, score=0.8975787443754017, total= 3.1min\n",
      "[CV] learning_rate=0.1, max_depth=10, n_estimators=200 ...............\n",
      "[CV]  learning_rate=0.1, max_depth=8, n_estimators=200, score=0.9003571428571429, total= 3.2min\n",
      "[CV] learning_rate=0.1, max_depth=10, n_estimators=200 ...............\n",
      "[CV]  learning_rate=0.1, max_depth=9, n_estimators=100, score=0.8902064433173799, total= 2.3min\n",
      "[CV] learning_rate=0.1, max_depth=10, n_estimators=200 ...............\n",
      "[CV]  learning_rate=0.1, max_depth=8, n_estimators=200, score=0.8976355453960997, total= 3.1min\n",
      "[CV] learning_rate=0.1, max_depth=11, n_estimators=100 ...............\n",
      "[CV]  learning_rate=0.1, max_depth=10, n_estimators=100, score=0.8923648310834941, total= 2.5min\n",
      "[CV] learning_rate=0.1, max_depth=11, n_estimators=100 ...............\n",
      "[CV]  learning_rate=0.1, max_depth=9, n_estimators=200, score=0.896793086208128, total= 3.7min\n",
      "[CV] learning_rate=0.1, max_depth=11, n_estimators=100 ...............\n",
      "[CV]  learning_rate=0.1, max_depth=9, n_estimators=200, score=0.8968497749839274, total= 3.7min\n",
      "[CV] learning_rate=0.1, max_depth=11, n_estimators=200 ...............\n",
      "[CV]  learning_rate=0.1, max_depth=9, n_estimators=200, score=0.8987857142857143, total= 3.7min\n",
      "[CV] learning_rate=0.1, max_depth=11, n_estimators=200 ...............\n",
      "[CV]  learning_rate=0.1, max_depth=10, n_estimators=100, score=0.8929285714285714, total= 2.7min\n",
      "[CV] learning_rate=0.1, max_depth=11, n_estimators=200 ...............\n",
      "[CV]  learning_rate=0.1, max_depth=10, n_estimators=100, score=0.891063647403386, total= 2.6min\n",
      "[CV] learning_rate=0.1, max_depth=12, n_estimators=100 ...............\n",
      "[CV]  learning_rate=0.1, max_depth=11, n_estimators=100, score=0.8899364331119206, total= 3.1min\n",
      "[CV] learning_rate=0.1, max_depth=12, n_estimators=100 ...............\n",
      "[CV]  learning_rate=0.1, max_depth=11, n_estimators=100, score=0.8925, total= 3.0min\n",
      "[CV] learning_rate=0.1, max_depth=12, n_estimators=100 ...............\n",
      "[CV]  learning_rate=0.1, max_depth=10, n_estimators=200, score=0.8975073209056496, total= 4.3min\n",
      "[CV] learning_rate=0.1, max_depth=12, n_estimators=200 ...............\n",
      "[CV]  learning_rate=0.1, max_depth=10, n_estimators=200, score=0.8986428571428572, total= 4.4min\n",
      "[CV] learning_rate=0.1, max_depth=12, n_estimators=200 ...............\n",
      "[CV]  learning_rate=0.1, max_depth=10, n_estimators=200, score=0.897492678048432, total= 4.4min\n",
      "[CV] learning_rate=0.1, max_depth=12, n_estimators=200 ...............\n",
      "[CV]  learning_rate=0.1, max_depth=11, n_estimators=100, score=0.8919922851632259, total= 2.9min\n",
      "[CV] learning_rate=0.1, max_depth=13, n_estimators=100 ...............\n",
      "[CV]  learning_rate=0.1, max_depth=12, n_estimators=100, score=0.8904363974001857, total= 3.6min\n",
      "[CV] learning_rate=0.1, max_depth=13, n_estimators=100 ...............\n",
      "[CV]  learning_rate=0.1, max_depth=11, n_estimators=200, score=0.8952931933433326, total= 4.8min\n",
      "[CV] learning_rate=0.1, max_depth=13, n_estimators=100 ...............\n",
      "[CV]  learning_rate=0.1, max_depth=12, n_estimators=100, score=0.8915, total= 3.5min\n",
      "[CV] learning_rate=0.1, max_depth=13, n_estimators=200 ...............\n",
      "[CV]  learning_rate=0.1, max_depth=11, n_estimators=200, score=0.8972069433530967, total= 5.0min\n",
      "[CV] learning_rate=0.1, max_depth=13, n_estimators=200 ...............\n",
      "[CV]  learning_rate=0.1, max_depth=11, n_estimators=200, score=0.8987857142857143, total= 5.1min\n",
      "[CV] learning_rate=0.1, max_depth=13, n_estimators=200 ...............\n",
      "[CV]  learning_rate=0.1, max_depth=12, n_estimators=100, score=0.8904921780127152, total= 3.4min\n",
      "[CV] learning_rate=0.1, max_depth=14, n_estimators=100 ...............\n"
     ]
    },
    {
     "name": "stdout",
     "output_type": "stream",
     "text": [
      "[CV]  learning_rate=0.1, max_depth=13, n_estimators=100, score=0.8888650810656382, total= 3.9min\n",
      "[CV] learning_rate=0.1, max_depth=14, n_estimators=100 ...............\n",
      "[CV]  learning_rate=0.1, max_depth=12, n_estimators=200, score=0.8960074280408542, total= 5.9min\n",
      "[CV] learning_rate=0.1, max_depth=14, n_estimators=100 ...............\n",
      "[CV]  learning_rate=0.1, max_depth=13, n_estimators=100, score=0.8915, total= 4.2min\n",
      "[CV] learning_rate=0.1, max_depth=14, n_estimators=200 ...............\n",
      "[CV]  learning_rate=0.1, max_depth=12, n_estimators=200, score=0.8975, total= 5.8min\n",
      "[CV] learning_rate=0.1, max_depth=14, n_estimators=200 ...............\n",
      "[CV]  learning_rate=0.1, max_depth=12, n_estimators=200, score=0.8966354739624259, total= 5.7min\n",
      "[CV] learning_rate=0.1, max_depth=14, n_estimators=200 ...............\n",
      "[CV]  learning_rate=0.1, max_depth=13, n_estimators=100, score=0.8902778769912136, total= 3.9min\n",
      "[CV] learning_rate=0.1, max_depth=15, n_estimators=100 ...............\n",
      "[CV]  learning_rate=0.1, max_depth=14, n_estimators=100, score=0.8887222341261338, total= 4.4min\n",
      "[CV] learning_rate=0.1, max_depth=15, n_estimators=100 ...............\n"
     ]
    },
    {
     "name": "stderr",
     "output_type": "stream",
     "text": [
      "[Parallel(n_jobs=-1)]: Done  52 tasks      | elapsed: 17.5min\n"
     ]
    },
    {
     "name": "stdout",
     "output_type": "stream",
     "text": [
      "[CV]  learning_rate=0.1, max_depth=13, n_estimators=200, score=0.8937218770087851, total= 6.4min\n",
      "[CV] learning_rate=0.1, max_depth=15, n_estimators=100 ...............\n",
      "[CV]  learning_rate=0.1, max_depth=14, n_estimators=100, score=0.8926428571428572, total= 4.6min\n",
      "[CV] learning_rate=0.1, max_depth=15, n_estimators=200 ...............\n",
      "[CV]  learning_rate=0.1, max_depth=13, n_estimators=200, score=0.8955639688549182, total= 6.4min\n",
      "[CV] learning_rate=0.1, max_depth=15, n_estimators=200 ...............\n",
      "[CV]  learning_rate=0.1, max_depth=13, n_estimators=200, score=0.8968571428571429, total= 6.6min\n",
      "[CV] learning_rate=0.1, max_depth=15, n_estimators=200 ...............\n",
      "[CV]  learning_rate=0.1, max_depth=14, n_estimators=100, score=0.8888492035145368, total= 4.6min\n",
      "[CV] learning_rate=0.1, max_depth=16, n_estimators=100 ...............\n",
      "[CV]  learning_rate=0.1, max_depth=15, n_estimators=100, score=0.8885793871866295, total= 5.2min\n",
      "[CV] learning_rate=0.1, max_depth=16, n_estimators=100 ...............\n",
      "[CV]  learning_rate=0.1, max_depth=15, n_estimators=100, score=0.8904285714285715, total= 5.1min\n",
      "[CV] learning_rate=0.1, max_depth=16, n_estimators=100 ...............\n",
      "[CV]  learning_rate=0.1, max_depth=14, n_estimators=200, score=0.8937218770087851, total= 7.2min\n",
      "[CV] learning_rate=0.1, max_depth=16, n_estimators=200 ...............\n",
      "[CV]  learning_rate=0.1, max_depth=14, n_estimators=200, score=0.8934209586399029, total= 7.3min\n",
      "[CV] learning_rate=0.1, max_depth=16, n_estimators=200 ...............\n",
      "[CV]  learning_rate=0.1, max_depth=14, n_estimators=200, score=0.8982857142857142, total= 7.5min\n",
      "[CV] learning_rate=0.1, max_depth=16, n_estimators=200 ...............\n",
      "[CV]  learning_rate=0.1, max_depth=15, n_estimators=100, score=0.887777698407029, total= 5.0min\n",
      "[CV] learning_rate=0.1, max_depth=17, n_estimators=100 ...............\n",
      "[CV]  learning_rate=0.1, max_depth=16, n_estimators=100, score=0.8852939075780302, total= 5.9min\n",
      "[CV] learning_rate=0.1, max_depth=17, n_estimators=100 ...............\n",
      "[CV]  learning_rate=0.1, max_depth=15, n_estimators=200, score=0.8955788872223412, total= 8.0min\n",
      "[CV] learning_rate=0.1, max_depth=17, n_estimators=100 ...............\n",
      "[CV]  learning_rate=0.1, max_depth=15, n_estimators=200, score=0.8964285714285715, total= 8.1min\n",
      "[CV] learning_rate=0.1, max_depth=17, n_estimators=200 ...............\n",
      "[CV]  learning_rate=0.1, max_depth=15, n_estimators=200, score=0.8922780198585614, total= 8.0min\n",
      "[CV] learning_rate=0.1, max_depth=17, n_estimators=200 ...............\n",
      "[CV]  learning_rate=0.1, max_depth=16, n_estimators=100, score=0.8897857142857143, total= 5.9min\n",
      "[CV] learning_rate=0.1, max_depth=17, n_estimators=200 ...............\n",
      "[CV]  learning_rate=0.1, max_depth=16, n_estimators=100, score=0.8879205657546968, total= 5.4min\n",
      "[CV] learning_rate=0.1, max_depth=18, n_estimators=100 ...............\n",
      "[CV]  learning_rate=0.1, max_depth=17, n_estimators=100, score=0.8843654024712521, total= 6.3min\n",
      "[CV] learning_rate=0.1, max_depth=18, n_estimators=100 ...............\n",
      "[CV]  learning_rate=0.1, max_depth=16, n_estimators=200, score=0.8909207800557183, total= 8.9min\n",
      "[CV] learning_rate=0.1, max_depth=18, n_estimators=100 ...............\n",
      "[CV]  learning_rate=0.1, max_depth=16, n_estimators=200, score=0.8917220198557246, total= 9.2min\n",
      "[CV] learning_rate=0.1, max_depth=18, n_estimators=200 ...............\n",
      "[CV]  learning_rate=0.1, max_depth=16, n_estimators=200, score=0.8965, total= 9.4min\n",
      "[CV] learning_rate=0.1, max_depth=18, n_estimators=200 ...............\n",
      "[CV]  learning_rate=0.1, max_depth=17, n_estimators=100, score=0.8903571428571428, total= 6.5min\n",
      "[CV] learning_rate=0.1, max_depth=18, n_estimators=200 ...............\n",
      "[CV]  learning_rate=0.1, max_depth=17, n_estimators=100, score=0.8861347239088506, total= 6.2min\n",
      "[CV] learning_rate=0.1, max_depth=19, n_estimators=100 ...............\n",
      "[CV]  learning_rate=0.1, max_depth=18, n_estimators=100, score=0.8852939075780302, total= 6.7min\n",
      "[CV] learning_rate=0.1, max_depth=19, n_estimators=100 ...............\n",
      "[CV]  learning_rate=0.1, max_depth=17, n_estimators=200, score=0.890135009643546, total= 9.5min\n",
      "[CV] learning_rate=0.1, max_depth=19, n_estimators=100 ...............\n",
      "[CV]  learning_rate=0.1, max_depth=17, n_estimators=200, score=0.8916505963859724, total= 9.8min\n",
      "[CV] learning_rate=0.1, max_depth=19, n_estimators=200 ...............\n",
      "[CV]  learning_rate=0.1, max_depth=18, n_estimators=100, score=0.8893571428571428, total= 7.0min\n",
      "[CV] learning_rate=0.1, max_depth=19, n_estimators=200 ...............\n",
      "[CV]  learning_rate=0.1, max_depth=17, n_estimators=200, score=0.8939285714285714, total=10.0min\n",
      "[CV] learning_rate=0.1, max_depth=19, n_estimators=200 ...............\n",
      "[CV]  learning_rate=0.1, max_depth=18, n_estimators=100, score=0.884563183084506, total= 6.8min\n",
      "[CV] learning_rate=0.1, max_depth=20, n_estimators=100 ...............\n",
      "[CV]  learning_rate=0.1, max_depth=19, n_estimators=100, score=0.8850796371687737, total= 7.7min\n",
      "[CV] learning_rate=0.1, max_depth=20, n_estimators=100 ...............\n",
      "[CV]  learning_rate=0.1, max_depth=19, n_estimators=100, score=0.8892857142857142, total= 7.4min\n",
      "[CV] learning_rate=0.1, max_depth=20, n_estimators=100 ...............\n",
      "[CV]  learning_rate=0.1, max_depth=18, n_estimators=200, score=0.8899207086220444, total=10.6min\n",
      "[CV] learning_rate=0.1, max_depth=20, n_estimators=200 ...............\n",
      "[CV]  learning_rate=0.1, max_depth=18, n_estimators=200, score=0.8915791729162202, total=11.1min\n",
      "[CV] learning_rate=0.1, max_depth=20, n_estimators=200 ...............\n",
      "[CV]  learning_rate=0.1, max_depth=18, n_estimators=200, score=0.8936428571428572, total=11.2min\n",
      "[CV] learning_rate=0.1, max_depth=20, n_estimators=200 ...............\n",
      "[CV]  learning_rate=0.1, max_depth=19, n_estimators=100, score=0.8839202800200014, total= 7.4min\n",
      "[CV] learning_rate=0.1, max_depth=21, n_estimators=100 ...............\n",
      "[CV]  learning_rate=0.1, max_depth=20, n_estimators=100, score=0.8851510606385258, total= 8.2min\n",
      "[CV] learning_rate=0.1, max_depth=21, n_estimators=100 ...............\n",
      "[CV]  learning_rate=0.1, max_depth=19, n_estimators=200, score=0.8890635045360383, total=11.2min\n",
      "[CV] learning_rate=0.1, max_depth=21, n_estimators=100 ...............\n",
      "[CV]  learning_rate=0.1, max_depth=19, n_estimators=200, score=0.8903649739304336, total=11.9min\n",
      "[CV] learning_rate=0.1, max_depth=21, n_estimators=200 ...............\n",
      "[CV]  learning_rate=0.1, max_depth=20, n_estimators=100, score=0.8867142857142857, total= 8.3min\n",
      "[CV] learning_rate=0.1, max_depth=21, n_estimators=200 ...............\n",
      "[CV]  learning_rate=0.1, max_depth=19, n_estimators=200, score=0.8942142857142857, total=12.1min\n",
      "[CV] learning_rate=0.1, max_depth=21, n_estimators=200 ...............\n",
      "[CV]  learning_rate=0.1, max_depth=20, n_estimators=100, score=0.882277305521823, total= 7.9min\n",
      "[CV] learning_rate=0.1, max_depth=22, n_estimators=100 ...............\n",
      "[CV]  learning_rate=0.1, max_depth=21, n_estimators=100, score=0.8845796728805085, total= 8.8min\n",
      "[CV] learning_rate=0.1, max_depth=22, n_estimators=100 ...............\n",
      "[CV]  learning_rate=0.1, max_depth=21, n_estimators=100, score=0.8870714285714286, total= 8.8min\n",
      "[CV] learning_rate=0.1, max_depth=22, n_estimators=100 ...............\n",
      "[CV]  learning_rate=0.1, max_depth=20, n_estimators=200, score=0.8896507392329119, total=13.0min\n",
      "[CV] learning_rate=0.1, max_depth=22, n_estimators=200 ...............\n",
      "[CV]  learning_rate=0.1, max_depth=20, n_estimators=200, score=0.8874205300378598, total=12.6min\n",
      "[CV] learning_rate=0.1, max_depth=22, n_estimators=200 ...............\n",
      "[CV]  learning_rate=0.1, max_depth=20, n_estimators=200, score=0.8916428571428572, total=13.2min\n",
      "[CV] learning_rate=0.1, max_depth=22, n_estimators=200 ...............\n",
      "[CV]  learning_rate=0.1, max_depth=21, n_estimators=100, score=0.8811343667404815, total= 8.7min\n",
      "[CV] learning_rate=0.1, max_depth=23, n_estimators=100 ...............\n",
      "[CV]  learning_rate=0.1, max_depth=22, n_estimators=100, score=0.8850082136990215, total= 9.5min\n",
      "[CV] learning_rate=0.1, max_depth=23, n_estimators=100 ...............\n",
      "[CV]  learning_rate=0.1, max_depth=22, n_estimators=100, score=0.8862142857142857, total= 9.2min\n",
      "[CV] learning_rate=0.1, max_depth=23, n_estimators=100 ...............\n"
     ]
    },
    {
     "name": "stdout",
     "output_type": "stream",
     "text": [
      "[CV]  learning_rate=0.1, max_depth=21, n_estimators=200, score=0.8860632902350167, total=13.1min\n",
      "[CV] learning_rate=0.1, max_depth=23, n_estimators=200 ...............\n",
      "[CV]  learning_rate=0.1, max_depth=21, n_estimators=200, score=0.8881508463681166, total=14.2min\n",
      "[CV] learning_rate=0.1, max_depth=23, n_estimators=200 ...............\n",
      "[CV]  learning_rate=0.1, max_depth=21, n_estimators=200, score=0.8925, total=14.0min\n",
      "[CV] learning_rate=0.1, max_depth=23, n_estimators=200 ...............\n",
      "[CV]  learning_rate=0.1, max_depth=22, n_estimators=100, score=0.8818487034788199, total= 9.2min\n",
      "[CV] learning_rate=0.1, max_depth=24, n_estimators=100 ...............\n",
      "[CV]  learning_rate=0.1, max_depth=23, n_estimators=100, score=0.8842225555317478, total=10.1min\n",
      "[CV] learning_rate=0.1, max_depth=24, n_estimators=100 ...............\n",
      "[CV]  learning_rate=0.1, max_depth=23, n_estimators=100, score=0.8842142857142857, total=10.0min\n",
      "[CV] learning_rate=0.1, max_depth=24, n_estimators=100 ...............\n",
      "[CV]  learning_rate=0.1, max_depth=22, n_estimators=200, score=0.8859204228873491, total=14.4min\n",
      "[CV] learning_rate=0.1, max_depth=24, n_estimators=200 ...............\n",
      "[CV]  learning_rate=0.1, max_depth=22, n_estimators=200, score=0.8902935504606814, total=15.0min\n",
      "[CV] learning_rate=0.1, max_depth=24, n_estimators=200 ...............\n",
      "[CV]  learning_rate=0.1, max_depth=22, n_estimators=200, score=0.8902142857142857, total=15.4min\n",
      "[CV] learning_rate=0.1, max_depth=24, n_estimators=200 ...............\n",
      "[CV]  learning_rate=0.1, max_depth=23, n_estimators=100, score=0.8811343667404815, total= 9.8min\n",
      "[CV] learning_rate=0.1, max_depth=25, n_estimators=100 ...............\n",
      "[CV]  learning_rate=0.1, max_depth=24, n_estimators=100, score=0.8807228055138918, total=10.5min\n",
      "[CV] learning_rate=0.1, max_depth=25, n_estimators=100 ...............\n",
      "[CV]  learning_rate=0.1, max_depth=24, n_estimators=100, score=0.8856428571428572, total=10.5min\n",
      "[CV] learning_rate=0.1, max_depth=25, n_estimators=100 ...............\n",
      "[CV]  learning_rate=0.1, max_depth=23, n_estimators=200, score=0.8880794228983644, total=15.8min\n",
      "[CV] learning_rate=0.1, max_depth=25, n_estimators=200 ...............\n",
      "[CV]  learning_rate=0.1, max_depth=23, n_estimators=200, score=0.8856346881920137, total=15.6min\n",
      "[CV] learning_rate=0.1, max_depth=25, n_estimators=200 ...............\n",
      "[CV]  learning_rate=0.1, max_depth=23, n_estimators=200, score=0.8894285714285715, total=15.8min\n",
      "[CV] learning_rate=0.1, max_depth=25, n_estimators=200 ...............\n",
      "[CV]  learning_rate=0.1, max_depth=24, n_estimators=100, score=0.8808486320451461, total=10.4min\n",
      "[CV] learning_rate=0.1, max_depth=26, n_estimators=100 ...............\n",
      "[CV]  learning_rate=0.1, max_depth=25, n_estimators=100, score=0.8823655453181916, total=11.2min\n",
      "[CV] learning_rate=0.1, max_depth=26, n_estimators=100 ...............\n",
      "[CV]  learning_rate=0.1, max_depth=25, n_estimators=100, score=0.8833571428571428, total=11.0min\n",
      "[CV] learning_rate=0.1, max_depth=26, n_estimators=100 ...............\n",
      "[CV]  learning_rate=0.1, max_depth=24, n_estimators=200, score=0.8859367188057996, total=17.0min\n",
      "[CV] learning_rate=0.1, max_depth=26, n_estimators=200 ...............\n",
      "[CV]  learning_rate=0.1, max_depth=24, n_estimators=200, score=0.8891428571428571, total=17.1min\n",
      "[CV] learning_rate=0.1, max_depth=26, n_estimators=200 ...............\n",
      "[CV]  learning_rate=0.1, max_depth=24, n_estimators=200, score=0.8849203514536753, total=16.9min\n",
      "[CV] learning_rate=0.1, max_depth=26, n_estimators=200 ...............\n",
      "[CV]  learning_rate=0.1, max_depth=25, n_estimators=100, score=0.8795628259161369, total=11.0min\n",
      "[CV] learning_rate=0.1, max_depth=27, n_estimators=100 ...............\n",
      "[CV]  learning_rate=0.1, max_depth=26, n_estimators=100, score=0.8815084636811656, total=11.8min\n",
      "[CV] learning_rate=0.1, max_depth=27, n_estimators=100 ...............\n",
      "[CV]  learning_rate=0.1, max_depth=26, n_estimators=100, score=0.8857142857142857, total=11.9min\n",
      "[CV] learning_rate=0.1, max_depth=27, n_estimators=100 ...............\n",
      "[CV]  learning_rate=0.1, max_depth=25, n_estimators=200, score=0.8882222698378687, total=17.5min\n",
      "[CV] learning_rate=0.1, max_depth=27, n_estimators=200 ...............\n",
      "[CV]  learning_rate=0.1, max_depth=25, n_estimators=200, score=0.8839917136938352, total=17.6min\n",
      "[CV] learning_rate=0.1, max_depth=27, n_estimators=200 ...............\n",
      "[CV]  learning_rate=0.1, max_depth=25, n_estimators=200, score=0.8877142857142857, total=18.0min\n",
      "[CV] learning_rate=0.1, max_depth=27, n_estimators=200 ...............\n",
      "[CV]  learning_rate=0.1, max_depth=26, n_estimators=100, score=0.8784198871347954, total=11.7min\n",
      "[CV] learning_rate=0.1, max_depth=28, n_estimators=100 ...............\n",
      "[CV]  learning_rate=0.1, max_depth=27, n_estimators=100, score=0.882579815727448, total=12.7min\n",
      "[CV] learning_rate=0.1, max_depth=28, n_estimators=100 ...............\n",
      "[CV]  learning_rate=0.1, max_depth=27, n_estimators=100, score=0.8826428571428572, total=12.8min\n",
      "[CV] learning_rate=0.1, max_depth=28, n_estimators=100 ...............\n",
      "[CV]  learning_rate=0.1, max_depth=26, n_estimators=200, score=0.8859367188057996, total=19.4min\n",
      "[CV] learning_rate=0.1, max_depth=28, n_estimators=200 ...............\n",
      "[CV]  learning_rate=0.1, max_depth=27, n_estimators=100, score=0.878562754482463, total=12.4min\n",
      "[CV] learning_rate=0.1, max_depth=28, n_estimators=200 ...............\n",
      "[CV]  learning_rate=0.1, max_depth=26, n_estimators=200, score=0.8875714285714286, total=19.5min\n",
      "[CV] learning_rate=0.1, max_depth=28, n_estimators=200 ...............\n",
      "[CV]  learning_rate=0.1, max_depth=26, n_estimators=200, score=0.8835631116508322, total=19.4min\n",
      "[CV] learning_rate=0.1, max_depth=29, n_estimators=100 ...............\n",
      "[CV]  learning_rate=0.1, max_depth=28, n_estimators=100, score=0.8812941932719092, total=13.3min\n",
      "[CV] learning_rate=0.1, max_depth=29, n_estimators=100 ...............\n",
      "[CV]  learning_rate=0.1, max_depth=28, n_estimators=100, score=0.8847142857142857, total=13.7min\n",
      "[CV] learning_rate=0.1, max_depth=29, n_estimators=100 ...............\n",
      "[CV]  learning_rate=0.1, max_depth=27, n_estimators=200, score=0.8834202443031645, total=18.8min\n",
      "[CV] learning_rate=0.1, max_depth=29, n_estimators=200 ...............\n",
      "[CV]  learning_rate=0.1, max_depth=27, n_estimators=200, score=0.8859367188057996, total=20.1min\n",
      "[CV] learning_rate=0.1, max_depth=29, n_estimators=200 ...............\n",
      "[CV]  learning_rate=0.1, max_depth=27, n_estimators=200, score=0.8878571428571429, total=20.5min\n",
      "[CV] learning_rate=0.1, max_depth=29, n_estimators=200 ...............\n",
      "[CV]  learning_rate=0.1, max_depth=28, n_estimators=100, score=0.8790627901993, total=13.0min\n",
      "[CV] learning_rate=0.01, max_depth=5, n_estimators=100 ...............\n",
      "[CV]  learning_rate=0.01, max_depth=5, n_estimators=100, score=0.8387972287693736, total= 1.1min\n",
      "[CV] learning_rate=0.01, max_depth=5, n_estimators=100 ...............\n"
     ]
    },
    {
     "name": "stderr",
     "output_type": "stream",
     "text": [
      "[Parallel(n_jobs=-1)]: Done 142 tasks      | elapsed: 118.8min\n"
     ]
    },
    {
     "name": "stdout",
     "output_type": "stream",
     "text": [
      "[CV]  learning_rate=0.01, max_depth=5, n_estimators=100, score=0.838, total= 1.0min\n",
      "[CV] learning_rate=0.01, max_depth=5, n_estimators=100 ...............\n",
      "[CV]  learning_rate=0.01, max_depth=5, n_estimators=100, score=0.8372740910065004, total= 1.0min\n",
      "[CV] learning_rate=0.01, max_depth=5, n_estimators=200 ...............\n",
      "[CV]  learning_rate=0.1, max_depth=29, n_estimators=100, score=0.8806513820441397, total=14.1min\n",
      "[CV] learning_rate=0.01, max_depth=5, n_estimators=200 ...............\n",
      "[CV]  learning_rate=0.01, max_depth=5, n_estimators=200, score=0.8527248053710449, total= 1.9min\n",
      "[CV] learning_rate=0.01, max_depth=5, n_estimators=200 ...............\n",
      "[CV]  learning_rate=0.01, max_depth=5, n_estimators=200, score=0.8515714285714285, total= 2.0min\n",
      "[CV] learning_rate=0.01, max_depth=6, n_estimators=100 ...............\n",
      "[CV]  learning_rate=0.01, max_depth=5, n_estimators=200, score=0.8535609686406171, total= 2.0min\n",
      "[CV] learning_rate=0.01, max_depth=6, n_estimators=100 ...............\n",
      "[CV]  learning_rate=0.1, max_depth=29, n_estimators=100, score=0.8830714285714286, total=13.4min\n",
      "[CV] learning_rate=0.01, max_depth=6, n_estimators=100 ...............\n",
      "[CV]  learning_rate=0.01, max_depth=6, n_estimators=100, score=0.8422142857142857, total= 1.3min\n",
      "[CV] learning_rate=0.01, max_depth=6, n_estimators=200 ...............\n",
      "[CV]  learning_rate=0.01, max_depth=6, n_estimators=100, score=0.844725376758803, total= 1.4min\n",
      "[CV] learning_rate=0.01, max_depth=6, n_estimators=200 ...............\n",
      "[CV]  learning_rate=0.01, max_depth=6, n_estimators=100, score=0.8409886420458604, total= 1.3min\n",
      "[CV] learning_rate=0.01, max_depth=6, n_estimators=200 ...............\n",
      "[CV]  learning_rate=0.01, max_depth=6, n_estimators=200, score=0.8562245553889007, total= 2.6min\n",
      "[CV] learning_rate=0.01, max_depth=7, n_estimators=100 ...............\n",
      "[CV]  learning_rate=0.01, max_depth=6, n_estimators=200, score=0.8547142857142858, total= 2.7min\n",
      "[CV] learning_rate=0.01, max_depth=7, n_estimators=100 ...............\n",
      "[CV]  learning_rate=0.1, max_depth=28, n_estimators=200, score=0.8855796014570387, total=21.2min\n",
      "[CV] learning_rate=0.01, max_depth=7, n_estimators=100 ...............\n",
      "[CV]  learning_rate=0.1, max_depth=29, n_estimators=100, score=0.8787056218301307, total=13.7min\n",
      "[CV] learning_rate=0.01, max_depth=7, n_estimators=200 ...............\n",
      "[CV]  learning_rate=0.01, max_depth=6, n_estimators=200, score=0.8565611829416387, total= 2.6min\n",
      "[CV] learning_rate=0.01, max_depth=7, n_estimators=200 ...............\n",
      "[CV]  learning_rate=0.1, max_depth=28, n_estimators=200, score=0.8835631116508322, total=21.3min\n",
      "[CV] learning_rate=0.01, max_depth=7, n_estimators=200 ...............\n",
      "[CV]  learning_rate=0.1, max_depth=28, n_estimators=200, score=0.8877142857142857, total=22.1min\n",
      "[CV] learning_rate=0.01, max_depth=8, n_estimators=100 ...............\n",
      "[CV]  learning_rate=0.01, max_depth=7, n_estimators=100, score=0.8471537747303765, total= 1.9min\n",
      "[CV] learning_rate=0.01, max_depth=8, n_estimators=100 ...............\n",
      "[CV]  learning_rate=0.01, max_depth=7, n_estimators=100, score=0.8442142857142857, total= 1.9min\n",
      "[CV] learning_rate=0.01, max_depth=8, n_estimators=100 ...............\n",
      "[CV]  learning_rate=0.01, max_depth=7, n_estimators=100, score=0.8444888920637188, total= 1.8min\n",
      "[CV] learning_rate=0.01, max_depth=8, n_estimators=200 ...............\n",
      "[CV]  learning_rate=0.01, max_depth=8, n_estimators=100, score=0.8485822441254196, total= 2.4min\n",
      "[CV] learning_rate=0.01, max_depth=8, n_estimators=200 ...............\n",
      "[CV]  learning_rate=0.01, max_depth=8, n_estimators=100, score=0.8459285714285715, total= 2.4min\n",
      "[CV] learning_rate=0.01, max_depth=8, n_estimators=200 ...............\n",
      "[CV]  learning_rate=0.01, max_depth=7, n_estimators=200, score=0.8579387186629527, total= 3.7min\n",
      "[CV] learning_rate=0.01, max_depth=9, n_estimators=100 ...............\n",
      "[CV]  learning_rate=0.01, max_depth=7, n_estimators=200, score=0.858, total= 3.7min\n",
      "[CV] learning_rate=0.01, max_depth=9, n_estimators=100 ...............\n",
      "[CV]  learning_rate=0.01, max_depth=8, n_estimators=100, score=0.8476319737124081, total= 2.5min\n",
      "[CV] learning_rate=0.01, max_depth=9, n_estimators=100 ...............\n",
      "[CV]  learning_rate=0.01, max_depth=7, n_estimators=200, score=0.8597042645903279, total= 3.6min\n",
      "[CV] learning_rate=0.01, max_depth=9, n_estimators=200 ...............\n",
      "[CV]  learning_rate=0.01, max_depth=8, n_estimators=200, score=0.8631526319548604, total= 4.7min\n",
      "[CV] learning_rate=0.01, max_depth=9, n_estimators=200 ...............\n",
      "[CV]  learning_rate=0.01, max_depth=9, n_estimators=100, score=0.8489393614741804, total= 3.0min\n",
      "[CV] learning_rate=0.01, max_depth=9, n_estimators=200 ...............\n",
      "[CV]  learning_rate=0.01, max_depth=9, n_estimators=100, score=0.8482034431030788, total= 3.1min\n",
      "[CV] learning_rate=0.01, max_depth=10, n_estimators=100 ..............\n",
      "[CV]  learning_rate=0.01, max_depth=9, n_estimators=100, score=0.849, total= 3.3min\n",
      "[CV] learning_rate=0.01, max_depth=10, n_estimators=100 ..............\n",
      "[CV]  learning_rate=0.01, max_depth=8, n_estimators=200, score=0.8623571428571428, total= 4.6min\n",
      "[CV] learning_rate=0.01, max_depth=10, n_estimators=100 ..............\n",
      "[CV]  learning_rate=0.01, max_depth=8, n_estimators=200, score=0.8620615758268447, total= 4.4min\n",
      "[CV] learning_rate=0.01, max_depth=10, n_estimators=200 ..............\n",
      "[CV]  learning_rate=0.1, max_depth=29, n_estimators=200, score=0.8864285714285715, total=21.7min\n",
      "[CV] learning_rate=0.01, max_depth=10, n_estimators=200 ..............\n",
      "[CV]  learning_rate=0.1, max_depth=29, n_estimators=200, score=0.8852939075780302, total=22.1min\n",
      "[CV] learning_rate=0.01, max_depth=10, n_estimators=200 ..............\n",
      "[CV]  learning_rate=0.1, max_depth=29, n_estimators=200, score=0.8823487391956568, total=21.4min\n",
      "[CV] learning_rate=0.01, max_depth=11, n_estimators=100 ..............\n",
      "[CV]  learning_rate=0.01, max_depth=9, n_estimators=200, score=0.8652239125776731, total= 6.0min\n",
      "[CV] learning_rate=0.01, max_depth=11, n_estimators=100 ..............\n",
      "[CV]  learning_rate=0.01, max_depth=10, n_estimators=100, score=0.8490107849439326, total= 3.9min\n",
      "[CV] learning_rate=0.01, max_depth=11, n_estimators=100 ..............\n",
      "[CV]  learning_rate=0.01, max_depth=10, n_estimators=100, score=0.8508571428571429, total= 4.0min\n",
      "[CV] learning_rate=0.01, max_depth=11, n_estimators=200 ..............\n",
      "[CV]  learning_rate=0.01, max_depth=10, n_estimators=100, score=0.8502035859704264, total= 3.6min\n",
      "[CV] learning_rate=0.01, max_depth=11, n_estimators=200 ..............\n",
      "[CV]  learning_rate=0.01, max_depth=9, n_estimators=200, score=0.8653571428571428, total= 6.1min\n",
      "[CV] learning_rate=0.01, max_depth=11, n_estimators=200 ..............\n",
      "[CV]  learning_rate=0.01, max_depth=9, n_estimators=200, score=0.864276019715694, total= 5.8min\n",
      "[CV] learning_rate=0.01, max_depth=12, n_estimators=100 ..............\n",
      "[CV]  learning_rate=0.01, max_depth=11, n_estimators=100, score=0.8502964073994714, total= 4.7min\n",
      "[CV] learning_rate=0.01, max_depth=12, n_estimators=100 ..............\n",
      "[CV]  learning_rate=0.01, max_depth=11, n_estimators=100, score=0.8512142857142857, total= 4.7min\n",
      "[CV] learning_rate=0.01, max_depth=12, n_estimators=100 ..............\n",
      "[CV]  learning_rate=0.01, max_depth=10, n_estimators=200, score=0.8662238411542033, total= 7.1min\n",
      "[CV] learning_rate=0.01, max_depth=12, n_estimators=200 ..............\n",
      "[CV]  learning_rate=0.01, max_depth=11, n_estimators=100, score=0.8498464176012572, total= 4.5min\n",
      "[CV] learning_rate=0.01, max_depth=12, n_estimators=200 ..............\n",
      "[CV]  learning_rate=0.01, max_depth=10, n_estimators=200, score=0.8659189942138724, total= 7.3min\n",
      "[CV]  learning_rate=0.01, max_depth=10, n_estimators=200, score=0.8672857142857143, total= 7.3min\n",
      "[CV] learning_rate=0.01, max_depth=12, n_estimators=200 ..............\n",
      "[CV] learning_rate=0.01, max_depth=13, n_estimators=100 ..............\n",
      "[CV]  learning_rate=0.01, max_depth=12, n_estimators=100, score=0.8519391472037712, total= 5.3min\n",
      "[CV] learning_rate=0.01, max_depth=13, n_estimators=100 ..............\n",
      "[CV]  learning_rate=0.01, max_depth=12, n_estimators=100, score=0.8510714285714286, total= 5.4min\n",
      "[CV] learning_rate=0.01, max_depth=13, n_estimators=100 ..............\n"
     ]
    },
    {
     "name": "stdout",
     "output_type": "stream",
     "text": [
      "[CV]  learning_rate=0.01, max_depth=12, n_estimators=100, score=0.8508464890349311, total= 5.2min\n",
      "[CV] learning_rate=0.01, max_depth=13, n_estimators=200 ..............\n",
      "[CV]  learning_rate=0.01, max_depth=11, n_estimators=200, score=0.868, total= 8.5min\n",
      "[CV] learning_rate=0.01, max_depth=13, n_estimators=200 ..............\n",
      "[CV]  learning_rate=0.01, max_depth=11, n_estimators=200, score=0.8667238054424684, total= 9.5min\n",
      "[CV] learning_rate=0.01, max_depth=13, n_estimators=200 ..............\n",
      "[CV]  learning_rate=0.01, max_depth=11, n_estimators=200, score=0.8662047289092079, total= 8.7min\n",
      "[CV] learning_rate=0.01, max_depth=14, n_estimators=100 ..............\n",
      "[CV]  learning_rate=0.01, max_depth=13, n_estimators=100, score=0.8525105349617884, total= 6.0min\n",
      "[CV] learning_rate=0.01, max_depth=14, n_estimators=100 ..............\n",
      "[CV]  learning_rate=0.01, max_depth=13, n_estimators=100, score=0.8525714285714285, total= 6.3min\n",
      "[CV] learning_rate=0.01, max_depth=14, n_estimators=100 ..............\n",
      "[CV]  learning_rate=0.01, max_depth=13, n_estimators=100, score=0.8516322594471034, total= 5.9min\n",
      "[CV] learning_rate=0.01, max_depth=14, n_estimators=200 ..............\n",
      "[CV]  learning_rate=0.01, max_depth=12, n_estimators=200, score=0.8677237340189986, total=10.7min\n",
      "[CV] learning_rate=0.01, max_depth=14, n_estimators=200 ..............\n",
      "[CV]  learning_rate=0.01, max_depth=12, n_estimators=200, score=0.8663475962568755, total=10.2min\n",
      "[CV] learning_rate=0.01, max_depth=14, n_estimators=200 ..............\n",
      "[CV]  learning_rate=0.01, max_depth=12, n_estimators=200, score=0.8685714285714285, total=11.0min\n",
      "[CV] learning_rate=0.01, max_depth=15, n_estimators=100 ..............\n",
      "[CV]  learning_rate=0.01, max_depth=14, n_estimators=100, score=0.8535818870080708, total= 7.0min\n",
      "[CV] learning_rate=0.01, max_depth=15, n_estimators=100 ..............\n",
      "[CV]  learning_rate=0.01, max_depth=14, n_estimators=100, score=0.8525, total= 7.1min\n",
      "[CV] learning_rate=0.01, max_depth=15, n_estimators=100 ..............\n",
      "[CV]  learning_rate=0.01, max_depth=14, n_estimators=100, score=0.8524894635331095, total= 6.5min\n",
      "[CV] learning_rate=0.01, max_depth=15, n_estimators=200 ..............\n",
      "[CV]  learning_rate=0.01, max_depth=13, n_estimators=200, score=0.8687857142857143, total=12.4min\n",
      "[CV] learning_rate=0.01, max_depth=15, n_estimators=200 ..............\n",
      "[CV]  learning_rate=0.01, max_depth=13, n_estimators=200, score=0.86743804013999, total=12.6min\n",
      "[CV] learning_rate=0.01, max_depth=15, n_estimators=200 ..............\n",
      "[CV]  learning_rate=0.01, max_depth=13, n_estimators=200, score=0.8663475962568755, total=12.5min\n",
      "[CV] learning_rate=0.01, max_depth=16, n_estimators=100 ..............\n",
      "[CV]  learning_rate=0.01, max_depth=15, n_estimators=100, score=0.8556531676308835, total= 7.9min\n",
      "[CV] learning_rate=0.01, max_depth=16, n_estimators=100 ..............\n",
      "[CV]  learning_rate=0.01, max_depth=15, n_estimators=100, score=0.8541428571428571, total= 8.1min\n",
      "[CV] learning_rate=0.01, max_depth=16, n_estimators=100 ..............\n",
      "[CV]  learning_rate=0.01, max_depth=15, n_estimators=100, score=0.8533466676191157, total= 7.2min\n",
      "[CV] learning_rate=0.01, max_depth=16, n_estimators=200 ..............\n",
      "[CV]  learning_rate=0.01, max_depth=14, n_estimators=200, score=0.8677048360597186, total=13.5min\n",
      "[CV] learning_rate=0.01, max_depth=16, n_estimators=200 ..............\n",
      "[CV]  learning_rate=0.01, max_depth=14, n_estimators=200, score=0.8682236983072638, total=14.7min\n",
      "[CV] learning_rate=0.01, max_depth=16, n_estimators=200 ..............\n",
      "[CV]  learning_rate=0.01, max_depth=14, n_estimators=200, score=0.8694285714285714, total=14.6min\n",
      "[CV] learning_rate=0.01, max_depth=17, n_estimators=100 ..............\n",
      "[CV]  learning_rate=0.01, max_depth=16, n_estimators=100, score=0.8561531319191487, total= 8.9min\n",
      "[CV] learning_rate=0.01, max_depth=17, n_estimators=100 ..............\n",
      "[CV]  learning_rate=0.01, max_depth=16, n_estimators=100, score=0.8552142857142857, total= 9.4min\n",
      "[CV] learning_rate=0.01, max_depth=17, n_estimators=100 ..............\n",
      "[CV]  learning_rate=0.01, max_depth=16, n_estimators=100, score=0.8534181012929495, total= 8.2min\n",
      "[CV] learning_rate=0.01, max_depth=17, n_estimators=200 ..............\n",
      "[CV]  learning_rate=0.01, max_depth=15, n_estimators=200, score=0.8686522391257767, total=15.7min\n",
      "[CV] learning_rate=0.01, max_depth=17, n_estimators=200 ..............\n",
      "[CV]  learning_rate=0.01, max_depth=15, n_estimators=200, score=0.8677048360597186, total=15.6min\n",
      "[CV] learning_rate=0.01, max_depth=17, n_estimators=200 ..............\n",
      "[CV]  learning_rate=0.01, max_depth=15, n_estimators=200, score=0.87, total=15.8min\n",
      "[CV] learning_rate=0.01, max_depth=18, n_estimators=100 ..............\n",
      "[CV]  learning_rate=0.01, max_depth=17, n_estimators=100, score=0.857653024783944, total= 9.7min\n",
      "[CV] learning_rate=0.01, max_depth=18, n_estimators=100 ..............\n",
      "[CV]  learning_rate=0.01, max_depth=17, n_estimators=100, score=0.8561428571428571, total=10.2min\n",
      "[CV] learning_rate=0.01, max_depth=18, n_estimators=100 ..............\n",
      "[CV]  learning_rate=0.01, max_depth=17, n_estimators=100, score=0.8541324380312879, total= 9.2min\n",
      "[CV] learning_rate=0.01, max_depth=18, n_estimators=200 ..............\n",
      "[CV]  learning_rate=0.01, max_depth=16, n_estimators=200, score=0.8695093207628026, total=17.4min\n",
      "[CV] learning_rate=0.01, max_depth=18, n_estimators=200 ..............\n",
      "[CV]  learning_rate=0.01, max_depth=16, n_estimators=200, score=0.8667047646260447, total=16.8min\n",
      "[CV] learning_rate=0.01, max_depth=18, n_estimators=200 ..............\n",
      "[CV]  learning_rate=0.01, max_depth=18, n_estimators=100, score=0.8580101421327048, total= 9.8min\n",
      "[CV] learning_rate=0.01, max_depth=19, n_estimators=100 ..............\n",
      "[CV]  learning_rate=0.01, max_depth=16, n_estimators=200, score=0.8703571428571428, total=18.4min\n",
      "[CV] learning_rate=0.01, max_depth=19, n_estimators=100 ..............\n",
      "[CV]  learning_rate=0.01, max_depth=18, n_estimators=100, score=0.8570714285714286, total=10.9min\n",
      "[CV] learning_rate=0.01, max_depth=19, n_estimators=100 ..............\n",
      "[CV]  learning_rate=0.01, max_depth=18, n_estimators=100, score=0.8552753768126294, total= 9.7min\n",
      "[CV] learning_rate=0.01, max_depth=19, n_estimators=200 ..............\n",
      "[CV]  learning_rate=0.01, max_depth=17, n_estimators=200, score=0.870580672809085, total=20.1min\n",
      "[CV] learning_rate=0.01, max_depth=19, n_estimators=200 ..............\n",
      "[CV]  learning_rate=0.01, max_depth=17, n_estimators=200, score=0.8707142857142857, total=20.2min\n",
      "[CV] learning_rate=0.01, max_depth=19, n_estimators=200 ..............\n",
      "[CV]  learning_rate=0.01, max_depth=17, n_estimators=200, score=0.86791913708122, total=19.0min\n",
      "[CV] learning_rate=0.01, max_depth=20, n_estimators=100 ..............\n",
      "[CV]  learning_rate=0.01, max_depth=19, n_estimators=100, score=0.8577244482536962, total=10.8min\n",
      "[CV] learning_rate=0.01, max_depth=20, n_estimators=100 ..............\n",
      "[CV]  learning_rate=0.01, max_depth=19, n_estimators=100, score=0.8576428571428572, total=11.9min\n",
      "[CV] learning_rate=0.01, max_depth=20, n_estimators=100 ..............\n",
      "[CV]  learning_rate=0.01, max_depth=19, n_estimators=100, score=0.8564897492678049, total=10.8min\n",
      "[CV] learning_rate=0.01, max_depth=20, n_estimators=200 ..............\n",
      "[CV]  learning_rate=0.01, max_depth=18, n_estimators=200, score=0.8704378258695807, total=22.2min\n",
      "[CV] learning_rate=0.01, max_depth=20, n_estimators=200 ..............\n",
      "[CV]  learning_rate=0.01, max_depth=18, n_estimators=200, score=0.8717142857142857, total=21.7min\n",
      "[CV] learning_rate=0.01, max_depth=20, n_estimators=200 ..............\n",
      "[CV]  learning_rate=0.01, max_depth=18, n_estimators=200, score=0.8687049074933924, total=20.0min\n",
      "[CV] learning_rate=0.01, max_depth=21, n_estimators=100 ..............\n",
      "[CV]  learning_rate=0.01, max_depth=20, n_estimators=100, score=0.8584386829512177, total=12.7min\n",
      "[CV] learning_rate=0.01, max_depth=21, n_estimators=100 ..............\n",
      "[CV]  learning_rate=0.01, max_depth=20, n_estimators=100, score=0.8589285714285714, total=12.7min\n",
      "[CV] learning_rate=0.01, max_depth=21, n_estimators=100 ..............\n",
      "[CV]  learning_rate=0.01, max_depth=20, n_estimators=100, score=0.8572040860061433, total=11.4min\n",
      "[CV] learning_rate=0.01, max_depth=21, n_estimators=200 ..............\n"
     ]
    },
    {
     "name": "stdout",
     "output_type": "stream",
     "text": [
      "[CV]  learning_rate=0.01, max_depth=19, n_estimators=200, score=0.8697950146418113, total=23.5min\n",
      "[CV] learning_rate=0.01, max_depth=21, n_estimators=200 ..............\n",
      "[CV]  learning_rate=0.01, max_depth=19, n_estimators=200, score=0.8687763411672262, total=21.9min\n",
      "[CV] learning_rate=0.01, max_depth=21, n_estimators=200 ..............\n",
      "[CV]  learning_rate=0.01, max_depth=19, n_estimators=200, score=0.8722857142857143, total=24.2min\n",
      "[CV] learning_rate=0.01, max_depth=22, n_estimators=100 ..............\n",
      "[CV]  learning_rate=0.01, max_depth=21, n_estimators=100, score=0.8585815298907221, total=12.8min\n",
      "[CV] learning_rate=0.01, max_depth=22, n_estimators=100 ..............\n",
      "[CV]  learning_rate=0.01, max_depth=21, n_estimators=100, score=0.8584285714285714, total=13.9min\n",
      "[CV] learning_rate=0.01, max_depth=22, n_estimators=100 ..............\n",
      "[CV]  learning_rate=0.01, max_depth=21, n_estimators=100, score=0.8579898564183156, total=12.8min\n",
      "[CV] learning_rate=0.01, max_depth=22, n_estimators=200 ..............\n",
      "[CV]  learning_rate=0.01, max_depth=20, n_estimators=200, score=0.8707235197485894, total=25.8min\n",
      "[CV] learning_rate=0.01, max_depth=22, n_estimators=200 ..............\n",
      "[CV]  learning_rate=0.01, max_depth=20, n_estimators=200, score=0.8679905707550539, total=23.8min\n",
      "[CV] learning_rate=0.01, max_depth=22, n_estimators=200 ..............\n",
      "[CV]  learning_rate=0.01, max_depth=20, n_estimators=200, score=0.8725, total=26.8min\n",
      "[CV] learning_rate=0.01, max_depth=23, n_estimators=100 ..............\n",
      "[CV]  learning_rate=0.01, max_depth=22, n_estimators=100, score=0.859867152346261, total=14.1min\n",
      "[CV] learning_rate=0.01, max_depth=23, n_estimators=100 ..............\n",
      "[CV]  learning_rate=0.01, max_depth=22, n_estimators=100, score=0.8597142857142858, total=14.3min\n",
      "[CV] learning_rate=0.01, max_depth=23, n_estimators=100 ..............\n",
      "[CV]  learning_rate=0.01, max_depth=22, n_estimators=100, score=0.8585613258089864, total=13.5min\n",
      "[CV] learning_rate=0.01, max_depth=23, n_estimators=200 ..............\n",
      "[CV]  learning_rate=0.01, max_depth=21, n_estimators=200, score=0.871009213627598, total=27.7min\n",
      "[CV] learning_rate=0.01, max_depth=23, n_estimators=200 ..............\n",
      "[CV]  learning_rate=0.01, max_depth=21, n_estimators=200, score=0.8720714285714286, total=28.9min\n",
      "[CV] learning_rate=0.01, max_depth=23, n_estimators=200 ..............\n",
      "[CV]  learning_rate=0.01, max_depth=21, n_estimators=200, score=0.8692049432102293, total=26.4min\n",
      "[CV] learning_rate=0.01, max_depth=24, n_estimators=100 ..............\n",
      "[CV]  learning_rate=0.01, max_depth=23, n_estimators=100, score=0.8586529533604742, total=15.3min\n",
      "[CV] learning_rate=0.01, max_depth=24, n_estimators=100 ..............\n",
      "[CV]  learning_rate=0.01, max_depth=23, n_estimators=100, score=0.8589899278519895, total=13.8min\n",
      "[CV] learning_rate=0.01, max_depth=24, n_estimators=100 ..............\n",
      "[CV]  learning_rate=0.01, max_depth=23, n_estimators=100, score=0.8592857142857143, total=15.4min\n",
      "[CV] learning_rate=0.01, max_depth=24, n_estimators=200 ..............\n",
      "[CV]  learning_rate=0.01, max_depth=22, n_estimators=200, score=0.870580672809085, total=30.5min\n",
      "[CV] learning_rate=0.01, max_depth=24, n_estimators=200 ..............\n",
      "[CV]  learning_rate=0.01, max_depth=22, n_estimators=200, score=0.8725714285714286, total=29.2min\n",
      "[CV] learning_rate=0.01, max_depth=24, n_estimators=200 ..............\n",
      "[CV]  learning_rate=0.01, max_depth=22, n_estimators=200, score=0.8692763768840631, total=27.6min\n",
      "[CV] learning_rate=0.01, max_depth=25, n_estimators=100 ..............\n",
      "[CV]  learning_rate=0.01, max_depth=24, n_estimators=100, score=0.8588672237697307, total=15.5min\n",
      "[CV] learning_rate=0.01, max_depth=25, n_estimators=100 ..............\n",
      "[CV]  learning_rate=0.01, max_depth=24, n_estimators=100, score=0.860132866633331, total=14.6min\n",
      "[CV] learning_rate=0.01, max_depth=25, n_estimators=100 ..............\n",
      "[CV]  learning_rate=0.01, max_depth=24, n_estimators=100, score=0.8602857142857143, total=17.0min\n",
      "[CV] learning_rate=0.01, max_depth=25, n_estimators=200 ..............\n",
      "[CV]  learning_rate=0.01, max_depth=23, n_estimators=200, score=0.8704378258695807, total=31.5min\n",
      "[CV] learning_rate=0.01, max_depth=25, n_estimators=200 ..............\n",
      "[CV]  learning_rate=0.01, max_depth=23, n_estimators=200, score=0.8718571428571429, total=32.0min\n",
      "[CV] learning_rate=0.01, max_depth=25, n_estimators=200 ..............\n",
      "[CV]  learning_rate=0.01, max_depth=25, n_estimators=100, score=0.8582244125419612, total=16.6min\n",
      "[CV] learning_rate=0.01, max_depth=26, n_estimators=100 ..............\n",
      "[CV]  learning_rate=0.01, max_depth=23, n_estimators=200, score=0.8692049432102293, total=30.3min\n",
      "[CV] learning_rate=0.01, max_depth=26, n_estimators=100 ..............\n"
     ]
    },
    {
     "name": "stderr",
     "output_type": "stream",
     "text": [
      "[Parallel(n_jobs=-1)]: Done 268 tasks      | elapsed: 274.1min\n"
     ]
    },
    {
     "name": "stdout",
     "output_type": "stream",
     "text": [
      "[CV]  learning_rate=0.01, max_depth=25, n_estimators=100, score=0.8606428571428572, total=17.4min\n",
      "[CV] learning_rate=0.01, max_depth=26, n_estimators=100 ..............\n",
      "[CV]  learning_rate=0.01, max_depth=25, n_estimators=100, score=0.8600614329594971, total=15.7min\n",
      "[CV] learning_rate=0.01, max_depth=26, n_estimators=200 ..............\n",
      "[CV]  learning_rate=0.01, max_depth=24, n_estimators=200, score=0.8697950146418113, total=33.0min\n",
      "[CV] learning_rate=0.01, max_depth=26, n_estimators=200 ..............\n",
      "[CV]  learning_rate=0.01, max_depth=24, n_estimators=200, score=0.868419172798057, total=32.2min\n",
      "[CV] learning_rate=0.01, max_depth=26, n_estimators=200 ..............\n",
      "[CV]  learning_rate=0.01, max_depth=26, n_estimators=100, score=0.8605099635740304, total=17.8min\n",
      "[CV] learning_rate=0.01, max_depth=27, n_estimators=100 ..............\n",
      "[CV]  learning_rate=0.01, max_depth=24, n_estimators=200, score=0.8701428571428571, total=36.8min\n",
      "[CV] learning_rate=0.01, max_depth=27, n_estimators=100 ..............\n",
      "[CV]  learning_rate=0.01, max_depth=26, n_estimators=100, score=0.86, total=19.1min\n",
      "[CV] learning_rate=0.01, max_depth=27, n_estimators=100 ..............\n",
      "[CV]  learning_rate=0.01, max_depth=26, n_estimators=100, score=0.8612043717408386, total=16.6min\n",
      "[CV] learning_rate=0.01, max_depth=27, n_estimators=200 ..............\n",
      "[CV]  learning_rate=0.01, max_depth=25, n_estimators=200, score=0.8700092850510678, total=35.1min\n",
      "[CV] learning_rate=0.01, max_depth=27, n_estimators=200 ..............\n",
      "[CV]  learning_rate=0.01, max_depth=25, n_estimators=200, score=0.8684906064718908, total=34.4min\n",
      "[CV] learning_rate=0.01, max_depth=27, n_estimators=200 ..............\n",
      "[CV]  learning_rate=0.01, max_depth=25, n_estimators=200, score=0.8698571428571429, total=38.1min\n",
      "[CV] learning_rate=0.01, max_depth=28, n_estimators=100 ..............\n",
      "[CV]  learning_rate=0.01, max_depth=27, n_estimators=100, score=0.8593671880579958, total=18.7min\n",
      "[CV] learning_rate=0.01, max_depth=28, n_estimators=100 ..............\n",
      "[CV]  learning_rate=0.01, max_depth=27, n_estimators=100, score=0.8617044074576755, total=18.0min\n",
      "[CV] learning_rate=0.01, max_depth=28, n_estimators=100 ..............\n",
      "[CV]  learning_rate=0.01, max_depth=27, n_estimators=100, score=0.8610714285714286, total=20.2min\n",
      "[CV] learning_rate=0.01, max_depth=28, n_estimators=200 ..............\n",
      "[CV]  learning_rate=0.01, max_depth=26, n_estimators=200, score=0.8697950146418113, total=37.1min\n",
      "[CV] learning_rate=0.01, max_depth=28, n_estimators=200 ..............\n",
      "[CV]  learning_rate=0.01, max_depth=26, n_estimators=200, score=0.8699285714285714, total=38.7min\n",
      "[CV] learning_rate=0.01, max_depth=28, n_estimators=200 ..............\n",
      "[CV]  learning_rate=0.01, max_depth=26, n_estimators=200, score=0.86791913708122, total=35.6min\n",
      "[CV] learning_rate=0.01, max_depth=29, n_estimators=100 ..............\n",
      "[CV]  learning_rate=0.01, max_depth=28, n_estimators=100, score=0.8591529176487394, total=20.5min\n",
      "[CV] learning_rate=0.01, max_depth=29, n_estimators=100 ..............\n",
      "[CV]  learning_rate=0.01, max_depth=28, n_estimators=100, score=0.8617142857142858, total=20.5min\n",
      "[CV] learning_rate=0.01, max_depth=29, n_estimators=100 ..............\n",
      "[CV]  learning_rate=0.01, max_depth=28, n_estimators=100, score=0.8607043360240018, total=18.8min\n",
      "[CV] learning_rate=0.01, max_depth=29, n_estimators=200 ..............\n",
      "[CV]  learning_rate=0.01, max_depth=27, n_estimators=200, score=0.868366545246768, total=39.6min\n",
      "[CV] learning_rate=0.01, max_depth=29, n_estimators=200 ..............\n",
      "[CV]  learning_rate=0.01, max_depth=27, n_estimators=200, score=0.8687857142857143, total=42.1min\n",
      "[CV] learning_rate=0.01, max_depth=29, n_estimators=200 ..............\n",
      "[CV]  learning_rate=0.01, max_depth=27, n_estimators=200, score=0.8691335095363955, total=37.0min\n",
      "[CV]  learning_rate=0.01, max_depth=29, n_estimators=100, score=0.8586529533604742, total=19.4min\n",
      "[CV]  learning_rate=0.01, max_depth=29, n_estimators=100, score=0.8607043360240018, total=18.1min\n",
      "[CV]  learning_rate=0.01, max_depth=29, n_estimators=100, score=0.8620714285714286, total=21.7min\n",
      "[CV]  learning_rate=0.01, max_depth=28, n_estimators=200, score=0.8673666166702378, total=40.5min\n",
      "[CV]  learning_rate=0.01, max_depth=28, n_estimators=200, score=0.8694285714285714, total=39.2min\n",
      "[CV]  learning_rate=0.01, max_depth=28, n_estimators=200, score=0.8678477034073863, total=37.2min\n",
      "[CV]  learning_rate=0.01, max_depth=29, n_estimators=200, score=0.866080994214699, total=36.0min\n",
      "[CV]  learning_rate=0.01, max_depth=29, n_estimators=200, score=0.8694285714285714, total=34.6min\n",
      "[CV]  learning_rate=0.01, max_depth=29, n_estimators=200, score=0.8667761982998785, total=29.1min\n"
     ]
    },
    {
     "name": "stderr",
     "output_type": "stream",
     "text": [
      "[Parallel(n_jobs=-1)]: Done 300 out of 300 | elapsed: 370.3min finished\n"
     ]
    },
    {
     "name": "stdout",
     "output_type": "stream",
     "text": [
      "Tuned Logistic Regression Parameters: {'learning_rate': 0.1, 'max_depth': 8, 'n_estimators': 200}\n",
      "Best score is 0.8985238095238095\n"
     ]
    }
   ],
   "source": [
    "# Import necessary modules\n",
    "from sklearn.model_selection import GridSearchCV\n",
    "from sklearn.ensemble import GradientBoostingClassifier\n",
    "# Setup the hyperparameter grid\n",
    "depth_range = list(range(5,30))\n",
    "# Set the parameters by cross-validation\n",
    "tuned_parameters = {'learning_rate': [0.1, 0.01],\n",
    "'max_depth' : depth_range,\n",
    "'n_estimators': [100, 200]}\n",
    "# Instantiate a random forest classifier: gbdt\n",
    "gbdt=GradientBoostingClassifier(random_state=1)\n",
    "# Instantiate the GridSearchCV object: logreg_cv\n",
    "gbdt_cv = GridSearchCV(gbdt, tuned_parameters, cv=3, n_jobs=-1, verbose=5)\n",
    "# Fit it to the data\n",
    "gbdt_cv.fit(X_train, y_train)\n",
    "# Print the tuned parameter and score\n",
    "print(\"Tuned Parameters: {}\".format(gbdt_cv.best_params_))\n",
    "print(\"Best score is {}\".format(gbdt_cv.best_score_))"
   ]
  },
  {
   "cell_type": "code",
   "execution_count": 16,
   "metadata": {
    "collapsed": true
   },
   "outputs": [],
   "source": [
    "# Predicting the Test set results\n",
    "y_pred = gbdt_cv.predict(X_test)"
   ]
  },
  {
   "cell_type": "code",
   "execution_count": 17,
   "metadata": {},
   "outputs": [
    {
     "name": "stdout",
     "output_type": "stream",
     "text": [
      "\n",
      "****Test accuracy 90%\n"
     ]
    }
   ],
   "source": [
    "from sklearn.metrics import accuracy_score\n",
    "acc = accuracy_score(y_test, y_pred, normalize=True) * float(100)\n",
    "print('\\n****Test accuracy %d%%' % (acc))"
   ]
  },
  {
   "cell_type": "code",
   "execution_count": 18,
   "metadata": {},
   "outputs": [
    {
     "data": {
      "image/png": "[encoded data removed]",
      "text/plain": [
       "<Figure size 432x288 with 1 Axes>"
      ]
     },
     "metadata": {},
     "output_type": "display_data"
    }
   ],
   "source": [
    "from sklearn.metrics import confusion_matrix\n",
    "%matplotlib inline  \n",
    "import seaborn as sns\n",
    "mat = confusion_matrix(y_test, y_pred)\n",
    "sns.heatmap(mat.T, square=True, annot=True, fmt='d', cbar=False)\n",
    "plt.xlabel('true label')\n",
    "plt.ylabel('predicted label');"
   ]
  },
  {
   "cell_type": "markdown",
   "metadata": {},
   "source": [
    "# TF-IDF with RF and GBDT"
   ]
  },
  {
   "cell_type": "code",
   "execution_count": 32,
   "metadata": {
    "collapsed": true
   },
   "outputs": [],
   "source": [
    "from sklearn.model_selection import train_test_split\n",
    "# Split arrays or matrices into random train and test subsets\n",
    "# test_size=0.3 means out of 10k 3k will be test set and 7k train set\n",
    "X_train_tfidf, X_test_tfidf, y_train_tfidf, y_test_tfidf = train_test_split(X, y, test_size=0.3, random_state=0)"
   ]
  },
  {
   "cell_type": "code",
   "execution_count": 33,
   "metadata": {
    "collapsed": true
   },
   "outputs": [],
   "source": [
    "tf_idf_vect = TfidfVectorizer(ngram_range=(1,2), min_df=50)\n",
    "final_tf_idf_train = tf_idf_vect.fit_transform(X_train_tfidf)\n",
    "final_tf_idf_test = tf_idf_vect.transform(X_test_tfidf)"
   ]
  },
  {
   "cell_type": "code",
   "execution_count": 104,
   "metadata": {
    "collapsed": true
   },
   "outputs": [],
   "source": [
    "from sklearn.ensemble import RandomForestClassifier\n",
    "dtc = RandomForestClassifier(max_depth=50, n_estimators=500, random_state=1).fit(final_tf_idf_train, y_train_tfidf)"
   ]
  },
  {
   "cell_type": "code",
   "execution_count": 105,
   "metadata": {
    "collapsed": true
   },
   "outputs": [],
   "source": [
    "y_pred = dtc.predict(final_tf_idf_test)"
   ]
  },
  {
   "cell_type": "code",
   "execution_count": 106,
   "metadata": {},
   "outputs": [
    {
     "name": "stdout",
     "output_type": "stream",
     "text": [
      "\n",
      "****Test accuracy is 87%\n"
     ]
    }
   ],
   "source": [
    "from sklearn.metrics import accuracy_score\n",
    "acc = accuracy_score(y_test_tfidf, y_pred, normalize=True) * float(100)\n",
    "print('\\n****Test accuracy is %d%%' % (acc))"
   ]
  },
  {
   "cell_type": "code",
   "execution_count": null,
   "metadata": {},
   "outputs": [
    {
     "data": {
      "text/plain": [
       "Text(91.68,0.5,'predicted label')"
      ]
     },
     "execution_count": 107,
     "metadata": {},
     "output_type": "execute_result"
    },
    {
     "data": {
      "image/png": "[encoded data removed]",
      "text/plain": [
       "<Figure size 432x288 with 1 Axes>"
      ]
     },
     "metadata": {},
     "output_type": "display_data"
    }
   ],
   "source": [
    "from sklearn.metrics import confusion_matrix\n",
    "%matplotlib inline  \n",
    "import seaborn as sns\n",
    "mat = confusion_matrix(y_test_tfidf, y_pred)\n",
    "sns.heatmap(mat.T, square=True, annot=True, fmt='d', cbar=False)\n",
    "plt.xlabel('true label')\n",
    "plt.ylabel('predicted label')"
   ]
  },
  {
   "cell_type": "code",
   "execution_count": 34,
   "metadata": {
    "collapsed": true
   },
   "outputs": [],
   "source": [
    "from sklearn.ensemble import GradientBoostingClassifier\n",
    "gbdtc = GradientBoostingClassifier(max_depth=8, learning_rate=0.1, random_state=1, n_estimators=200).fit(final_tf_idf_train, y_train_tfidf)"
   ]
  },
  {
   "cell_type": "code",
   "execution_count": 36,
   "metadata": {
    "collapsed": true
   },
   "outputs": [],
   "source": [
    "y_pred = gbdtc.predict(final_tf_idf_test)"
   ]
  },
  {
   "cell_type": "code",
   "execution_count": 37,
   "metadata": {},
   "outputs": [
    {
     "name": "stdout",
     "output_type": "stream",
     "text": [
      "\n",
      "****Test accuracy is 90%\n"
     ]
    }
   ],
   "source": [
    "from sklearn.metrics import accuracy_score\n",
    "acc = accuracy_score(y_test_tfidf, y_pred, normalize=True) * float(100)\n",
    "print('\\n****Test accuracy is %d%%' % (acc))"
   ]
  },
  {
   "cell_type": "code",
   "execution_count": 38,
   "metadata": {},
   "outputs": [
    {
     "data": {
      "text/plain": [
       "Text(91.68,0.5,'predicted label')"
      ]
     },
     "execution_count": 38,
     "metadata": {},
     "output_type": "execute_result"
    },
    {
     "data": {
      "image/png": "[encoded data removed]",
      "text/plain": [
       "<Figure size 432x288 with 1 Axes>"
      ]
     },
     "metadata": {},
     "output_type": "display_data"
    }
   ],
   "source": [
    "from sklearn.metrics import confusion_matrix\n",
    "%matplotlib inline  \n",
    "import seaborn as sns\n",
    "mat = confusion_matrix(y_test_tfidf, y_pred)\n",
    "sns.heatmap(mat.T, square=True, annot=True, fmt='d', cbar=False)\n",
    "plt.xlabel('true label')\n",
    "plt.ylabel('predicted label')"
   ]
  },
  {
   "cell_type": "markdown",
   "metadata": {},
   "source": [
    "# AvgW2V with RF and GBDT"
   ]
  },
  {
   "cell_type": "code",
   "execution_count": 12,
   "metadata": {
    "collapsed": true
   },
   "outputs": [],
   "source": [
    "from sklearn.model_selection import train_test_split\n",
    "# Split arrays or matrices into random train and test subsets\n",
    "# test_size=0.3 means out of 10k 3k will be test set and 7k train set\n",
    "X_train_avgw2v, X_test_avgw2v, y_train_avgw2v, y_test_avgw2v = train_test_split(X, y, test_size=0.3, random_state=0)"
   ]
  },
  {
   "cell_type": "code",
   "execution_count": 13,
   "metadata": {
    "collapsed": true
   },
   "outputs": [],
   "source": [
    "# Train your own Word2Vec model using your own text corpus\n",
    "import gensim\n",
    "i=0\n",
    "list_of_sent=[]\n",
    "for sent in X_train_avgw2v.values:\n",
    "    filtered_sentence=[]\n",
    "    sent=cleanhtml(sent.decode('utf-8'))\n",
    "    for w in sent.split():\n",
    "        for cleaned_words in cleanpunc(w).split():\n",
    "            if(cleaned_words.isalpha()):    \n",
    "                filtered_sentence.append(cleaned_words.lower())\n",
    "            else:\n",
    "                continue \n",
    "    list_of_sent.append(filtered_sentence)"
   ]
  },
  {
   "cell_type": "code",
   "execution_count": 14,
   "metadata": {
    "collapsed": true
   },
   "outputs": [],
   "source": [
    "w2v_model=gensim.models.Word2Vec(list_of_sent,min_count=5,size=50, workers=4)"
   ]
  },
  {
   "cell_type": "code",
   "execution_count": 15,
   "metadata": {},
   "outputs": [
    {
     "name": "stderr",
     "output_type": "stream",
     "text": [
      "/home/abhisek1651990/anaconda3/lib/python3.6/site-packages/ipykernel_launcher.py:15: RuntimeWarning: invalid value encountered in true_divide\n",
      "  from ipykernel import kernelapp as app\n"
     ]
    },
    {
     "name": "stdout",
     "output_type": "stream",
     "text": [
      "42000\n",
      "50\n"
     ]
    }
   ],
   "source": [
    "# average Word2Vec\n",
    "# compute average word2vec for each review.\n",
    "sent_vectors = []; # the avg-w2v for each sentence/review is stored in this list\n",
    "for sent in list_of_sent: # for each review/sentence\n",
    "    sent_vec = np.zeros(50) # as word vectors are of zero length\n",
    "    cnt_words =0; # num of words with a valid vector in the sentence/review\n",
    "    \n",
    "    for word in sent: # for each word in a review/sentence\n",
    "        try:\n",
    "            vec = w2v_model.wv[word]\n",
    "            sent_vec += vec\n",
    "            cnt_words += 1\n",
    "        except:\n",
    "            pass\n",
    "    sent_vec /= cnt_words\n",
    "    sent_vectors.append(sent_vec)\n",
    "print(len(sent_vectors))\n",
    "print(len(sent_vectors[0]))"
   ]
  },
  {
   "cell_type": "code",
   "execution_count": 16,
   "metadata": {
    "collapsed": true
   },
   "outputs": [],
   "source": [
    "# Train your own Word2Vec model using your own text corpus\n",
    "import gensim\n",
    "i=0\n",
    "list_of_sent_test=[]\n",
    "for sent in X_test_avgw2v.values:\n",
    "    filtered_sentence=[]\n",
    "    sent=cleanhtml(sent.decode('utf-8'))\n",
    "    for w in sent.split():\n",
    "        for cleaned_words in cleanpunc(w).split():\n",
    "            if(cleaned_words.isalpha()):    \n",
    "                filtered_sentence.append(cleaned_words.lower())\n",
    "            else:\n",
    "                continue \n",
    "    list_of_sent_test.append(filtered_sentence)"
   ]
  },
  {
   "cell_type": "code",
   "execution_count": 17,
   "metadata": {},
   "outputs": [
    {
     "name": "stdout",
     "output_type": "stream",
     "text": [
      "18000\n",
      "50\n"
     ]
    }
   ],
   "source": [
    "# average Word2Vec\n",
    "# compute average word2vec for each review.\n",
    "sent_vectors_test = []; # the avg-w2v for each sentence/review is stored in this list\n",
    "for sent in list_of_sent_test: # for each review/sentence\n",
    "    sent_vec = np.zeros(50) # as word vectors are of zero length\n",
    "    cnt_words =0; # num of words with a valid vector in the sentence/review\n",
    "    \n",
    "    for word in sent: # for each word in a review/sentence\n",
    "        try:\n",
    "            vec = w2v_model.wv[word]\n",
    "            sent_vec += vec\n",
    "            cnt_words += 1\n",
    "        except:\n",
    "            pass\n",
    "    sent_vec /= cnt_words\n",
    "    sent_vectors_test.append(sent_vec)\n",
    "print(len(sent_vectors_test))\n",
    "print(len(sent_vectors_test[0]))"
   ]
  },
  {
   "cell_type": "code",
   "execution_count": 18,
   "metadata": {
    "collapsed": true
   },
   "outputs": [],
   "source": [
    "df_train = pd.DataFrame(sent_vectors)\n",
    "df_train = df_train.fillna(df_train.mean())\n",
    "df_test = pd.DataFrame(sent_vectors_test)\n",
    "df_test = df_test.fillna(df_test.mean())\n",
    "from sklearn.preprocessing import StandardScaler\n",
    "# prepare the scaler with train data\n",
    "scaler = StandardScaler(with_mean=False).fit(df_train)\n",
    "# transform both train and test data\n",
    "standardized_data_train_avgw2v = scaler.transform(df_train)\n",
    "standardized_data_test_avgw2v = scaler.transform(df_test)"
   ]
  },
  {
   "cell_type": "code",
   "execution_count": 28,
   "metadata": {
    "collapsed": true
   },
   "outputs": [],
   "source": [
    "from sklearn.ensemble import RandomForestClassifier\n",
    "rfc = RandomForestClassifier(max_depth=50, random_state=1, n_estimators=500).fit(standardized_data_train_avgw2v, y_train_avgw2v)"
   ]
  },
  {
   "cell_type": "code",
   "execution_count": 29,
   "metadata": {
    "collapsed": true
   },
   "outputs": [],
   "source": [
    "y_pred = rfc.predict(standardized_data_test_avgw2v)"
   ]
  },
  {
   "cell_type": "code",
   "execution_count": 30,
   "metadata": {},
   "outputs": [
    {
     "name": "stdout",
     "output_type": "stream",
     "text": [
      "\n",
      "****Test accuracy is 87%\n"
     ]
    }
   ],
   "source": [
    "from sklearn.metrics import accuracy_score\n",
    "acc = accuracy_score(y_test_avgw2v, y_pred, normalize=True) * float(100)\n",
    "print('\\n****Test accuracy is %d%%' % (acc))"
   ]
  },
  {
   "cell_type": "code",
   "execution_count": 31,
   "metadata": {},
   "outputs": [
    {
     "data": {
      "text/plain": [
       "Text(91.68,0.5,'predicted label')"
      ]
     },
     "execution_count": 31,
     "metadata": {},
     "output_type": "execute_result"
    },
    {
     "data": {
      "image/png": "[encoded data removed]",
      "text/plain": [
       "<Figure size 432x288 with 1 Axes>"
      ]
     },
     "metadata": {},
     "output_type": "display_data"
    }
   ],
   "source": [
    "from sklearn.metrics import confusion_matrix\n",
    "%matplotlib inline  \n",
    "import seaborn as sns\n",
    "mat = confusion_matrix(y_test_avgw2v, y_pred)\n",
    "sns.heatmap(mat.T, square=True, annot=True, fmt='d', cbar=False)\n",
    "plt.xlabel('true label')\n",
    "plt.ylabel('predicted label')"
   ]
  },
  {
   "cell_type": "code",
   "execution_count": 24,
   "metadata": {
    "collapsed": true
   },
   "outputs": [],
   "source": [
    "from sklearn.ensemble import GradientBoostingClassifier\n",
    "gbdtc = GradientBoostingClassifier(max_depth=8, learning_rate=0.1, random_state=1, n_estimators=200).fit(standardized_data_train_avgw2v, y_train_avgw2v)"
   ]
  },
  {
   "cell_type": "code",
   "execution_count": 25,
   "metadata": {
    "collapsed": true
   },
   "outputs": [],
   "source": [
    "y_pred = gbdtc.predict(standardized_data_test_avgw2v)"
   ]
  },
  {
   "cell_type": "code",
   "execution_count": 26,
   "metadata": {},
   "outputs": [
    {
     "name": "stdout",
     "output_type": "stream",
     "text": [
      "\n",
      "****Test accuracy is 88%\n"
     ]
    }
   ],
   "source": [
    "from sklearn.metrics import accuracy_score\n",
    "acc = accuracy_score(y_test_avgw2v, y_pred, normalize=True) * float(100)\n",
    "print('\\n****Test accuracy is %d%%' % (acc))"
   ]
  },
  {
   "cell_type": "code",
   "execution_count": 27,
   "metadata": {
    "scrolled": true
   },
   "outputs": [
    {
     "data": {
      "text/plain": [
       "Text(91.68,0.5,'predicted label')"
      ]
     },
     "execution_count": 27,
     "metadata": {},
     "output_type": "execute_result"
    },
    {
     "data": {
      "image/png": "[encoded data removed]",
      "text/plain": [
       "<Figure size 432x288 with 1 Axes>"
      ]
     },
     "metadata": {},
     "output_type": "display_data"
    }
   ],
   "source": [
    "from sklearn.metrics import confusion_matrix\n",
    "%matplotlib inline  \n",
    "import seaborn as sns\n",
    "mat = confusion_matrix(y_test_avgw2v, y_pred)\n",
    "sns.heatmap(mat.T, square=True, annot=True, fmt='d', cbar=False)\n",
    "plt.xlabel('true label')\n",
    "plt.ylabel('predicted label')"
   ]
  },
  {
   "cell_type": "markdown",
   "metadata": {},
   "source": [
    "# TFIDF-W2V RF and GBDT"
   ]
  },
  {
   "cell_type": "code",
   "execution_count": 55,
   "metadata": {
    "collapsed": true
   },
   "outputs": [],
   "source": [
    "from sklearn.model_selection import train_test_split\n",
    "# Split arrays or matrices into random train and test subsets\n",
    "# test_size=0.3 means out of 10k 3k will be test set and 7k train set\n",
    "X_train_avgw2vtfidf, X_test_avgw2vtfidf, y_train_avgw2vtfidf, y_test_avgw2vtfidf = train_test_split(X, y, test_size=0.3, random_state=0)"
   ]
  },
  {
   "cell_type": "code",
   "execution_count": 56,
   "metadata": {
    "collapsed": true
   },
   "outputs": [],
   "source": [
    "# Train your own Word2Vec model using your own text corpus\n",
    "import gensim\n",
    "i=0\n",
    "list_of_sent=[]\n",
    "for sent in X_train_avgw2vtfidf.values:\n",
    "    filtered_sentence=[]\n",
    "    sent=cleanhtml(sent.decode('utf-8'))\n",
    "    for w in sent.split():\n",
    "        for cleaned_words in cleanpunc(w).split():\n",
    "            if(cleaned_words.isalpha()):    \n",
    "                filtered_sentence.append(cleaned_words.lower())\n",
    "            else:\n",
    "                continue \n",
    "    list_of_sent.append(filtered_sentence)"
   ]
  },
  {
   "cell_type": "code",
   "execution_count": 57,
   "metadata": {
    "collapsed": true
   },
   "outputs": [],
   "source": [
    "w2v_model=gensim.models.Word2Vec(list_of_sent,min_count=5,size=50, workers=4)"
   ]
  },
  {
   "cell_type": "code",
   "execution_count": 58,
   "metadata": {
    "collapsed": true
   },
   "outputs": [],
   "source": [
    "# Train your own Word2Vec model using your own text corpus\n",
    "import gensim\n",
    "i=0\n",
    "list_of_sent_test=[]\n",
    "for sent in X_test_avgw2vtfidf.values:\n",
    "    filtered_sentence=[]\n",
    "    sent=cleanhtml(sent.decode('utf-8'))\n",
    "    for w in sent.split():\n",
    "        for cleaned_words in cleanpunc(w).split():\n",
    "            if(cleaned_words.isalpha()):    \n",
    "                filtered_sentence.append(cleaned_words.lower())\n",
    "            else:\n",
    "                continue \n",
    "    list_of_sent_test.append(filtered_sentence)"
   ]
  },
  {
   "cell_type": "code",
   "execution_count": 59,
   "metadata": {
    "collapsed": true
   },
   "outputs": [],
   "source": [
    "tf_idf_vect = TfidfVectorizer(ngram_range=(1,2), stop_words='english', min_df=2)\n",
    "final_tf_idf_train = tf_idf_vect.fit_transform(X_train_avgw2vtfidf)\n",
    "final_tf_idf_test = tf_idf_vect.transform(X_test_avgw2vtfidf)"
   ]
  },
  {
   "cell_type": "markdown",
   "metadata": {},
   "source": [
    "##### calculate TF-IDF weighted Word2Vec for train data"
   ]
  },
  {
   "cell_type": "code",
   "execution_count": 60,
   "metadata": {
    "collapsed": true
   },
   "outputs": [],
   "source": [
    "# TF-IDF weighted Word2Vec\n",
    "# we are converting a dictionary with word as a key, and the idf as a value\n",
    "dictionary = dict(zip(tf_idf_vect.get_feature_names(), list(tf_idf_vect.idf_)))\n",
    "# final_tf_idf is the sparse matrix with row= sentence, col=word and cell_val = tfidf\n",
    "w2v_words = list(w2v_model.wv.vocab)\n",
    "tfidf_sent_vectors = []; # the tfidf-w2v for each sentence/review is stored in this list\n",
    "row=0;\n",
    "for sent in list_of_sent: # for each review/sentence \n",
    "    sent_vec = np.zeros(50) # as word vectors are of zero length\n",
    "    weight_sum =0; # num of words with a valid vector in the sentence/review\n",
    "    for word in sent: # for each word in a review/sentence\n",
    "        if word in w2v_words:\n",
    "            try:\n",
    "                vec = w2v_model.wv[word]\n",
    "    #             tf_idf = tf_idf_matrix[row, tfidf_feat.index(word)]\n",
    "                # to reduce the computation we are \n",
    "                # dictionary[word] = idf value of word in whole courpus\n",
    "                # sent.count(word) = tf valeus of word in this review\n",
    "                tf_idf = dictionary[word]*sent.count(word)\n",
    "                sent_vec += (vec * tf_idf)\n",
    "                weight_sum += tf_idf\n",
    "            except:\n",
    "                pass\n",
    "    if weight_sum != 0:\n",
    "        sent_vec /= weight_sum\n",
    "    tfidf_sent_vectors.append(sent_vec)\n",
    "    row += 1"
   ]
  },
  {
   "cell_type": "markdown",
   "metadata": {},
   "source": [
    "##### calculate TF-IDF weighted Word2Vec for test data"
   ]
  },
  {
   "cell_type": "code",
   "execution_count": 61,
   "metadata": {
    "collapsed": true
   },
   "outputs": [],
   "source": [
    "# TF-IDF weighted Word2Vec\n",
    "# we are converting a dictionary with word as a key, and the idf as a value\n",
    "dictionary = dict(zip(tf_idf_vect.get_feature_names(), list(tf_idf_vect.idf_)))\n",
    "# final_tf_idf is the sparse matrix with row= sentence, col=word and cell_val = tfidf\n",
    "w2v_words = list(w2v_model.wv.vocab)\n",
    "tfidf_sent_vectors_test = []; # the tfidf-w2v for each sentence/review is stored in this list\n",
    "row=0;\n",
    "for sent in list_of_sent_test: # for each review/sentence \n",
    "    sent_vec = np.zeros(50) # as word vectors are of zero length\n",
    "    weight_sum =0; # num of words with a valid vector in the sentence/review\n",
    "    for word in sent: # for each word in a review/sentence\n",
    "        if word in w2v_words:\n",
    "            try:\n",
    "                vec = w2v_model.wv[word]\n",
    "    #             tf_idf = tf_idf_matrix[row, tfidf_feat.index(word)]\n",
    "                # to reduce the computation we are \n",
    "                # dictionary[word] = idf value of word in whole courpus\n",
    "                # sent.count(word) = tf valeus of word in this review\n",
    "                tf_idf = dictionary[word]*sent.count(word)\n",
    "                sent_vec += (vec * tf_idf)\n",
    "                weight_sum += tf_idf\n",
    "            except:\n",
    "                pass\n",
    "    if weight_sum != 0:\n",
    "        sent_vec /= weight_sum\n",
    "    tfidf_sent_vectors_test.append(sent_vec)\n",
    "    row += 1"
   ]
  },
  {
   "cell_type": "markdown",
   "metadata": {},
   "source": [
    "##### Do standadization for train and test vectors"
   ]
  },
  {
   "cell_type": "code",
   "execution_count": 62,
   "metadata": {
    "collapsed": true
   },
   "outputs": [],
   "source": [
    "df_train = pd.DataFrame(tfidf_sent_vectors)\n",
    "df_train = df_train.fillna(df_train.mean())\n",
    "df_test = pd.DataFrame(tfidf_sent_vectors_test)\n",
    "df_test = df_test.fillna(df_test.mean())\n",
    "\n",
    "from sklearn.preprocessing import StandardScaler\n",
    "# prepare the scaler with train data\n",
    "scaler = StandardScaler(with_mean=False).fit(df_train)\n",
    "# transform both train and test data\n",
    "standardized_data_tf_idfw2v_train = scaler.transform(df_train)\n",
    "standardized_data_tf_idfw2v_test = scaler.transform(df_test)"
   ]
  },
  {
   "cell_type": "code",
   "execution_count": 67,
   "metadata": {
    "collapsed": true
   },
   "outputs": [],
   "source": [
    "rfc = RandomForestClassifier(max_depth=50, random_state=1, n_estimators=500).fit(standardized_data_tf_idfw2v_train, y_train_avgw2vtfidf)"
   ]
  },
  {
   "cell_type": "code",
   "execution_count": 68,
   "metadata": {
    "collapsed": true
   },
   "outputs": [],
   "source": [
    "y_pred = rfc.predict(standardized_data_tf_idfw2v_test)"
   ]
  },
  {
   "cell_type": "code",
   "execution_count": 69,
   "metadata": {},
   "outputs": [
    {
     "name": "stdout",
     "output_type": "stream",
     "text": [
      "\n",
      "****Test accuracy is 86%\n"
     ]
    }
   ],
   "source": [
    "from sklearn.metrics import accuracy_score\n",
    "acc = accuracy_score(y_test_avgw2vtfidf, y_pred, normalize=True) * float(100)\n",
    "print('\\n****Test accuracy is %d%%' % (acc))"
   ]
  },
  {
   "cell_type": "code",
   "execution_count": 70,
   "metadata": {},
   "outputs": [
    {
     "data": {
      "text/plain": [
       "Text(91.68,0.5,'predicted label')"
      ]
     },
     "execution_count": 70,
     "metadata": {},
     "output_type": "execute_result"
    },
    {
     "data": {
      "image/png": "[encoded data removed]",
      "text/plain": [
       "<Figure size 432x288 with 1 Axes>"
      ]
     },
     "metadata": {},
     "output_type": "display_data"
    }
   ],
   "source": [
    "from sklearn.metrics import confusion_matrix\n",
    "%matplotlib inline  \n",
    "import seaborn as sns\n",
    "mat = confusion_matrix(y_test_avgw2vtfidf, y_pred)\n",
    "sns.heatmap(mat.T, square=True, annot=True, fmt='d', cbar=False)\n",
    "plt.xlabel('true label')\n",
    "plt.ylabel('predicted label')"
   ]
  },
  {
   "cell_type": "code",
   "execution_count": 75,
   "metadata": {
    "collapsed": true
   },
   "outputs": [],
   "source": [
    "gbdtc = GradientBoostingClassifier(max_depth=8, learning_rate=0.1, random_state=1, n_estimators=200).fit(standardized_data_tf_idfw2v_train, y_train_avgw2vtfidf)"
   ]
  },
  {
   "cell_type": "code",
   "execution_count": 76,
   "metadata": {
    "collapsed": true
   },
   "outputs": [],
   "source": [
    "y_pred = gbdtc.predict(standardized_data_tf_idfw2v_test)"
   ]
  },
  {
   "cell_type": "code",
   "execution_count": 77,
   "metadata": {},
   "outputs": [
    {
     "name": "stdout",
     "output_type": "stream",
     "text": [
      "\n",
      "****Test accuracy is 87%\n"
     ]
    }
   ],
   "source": [
    "from sklearn.metrics import accuracy_score\n",
    "acc = accuracy_score(y_test_avgw2vtfidf, y_pred, normalize=True) * float(100)\n",
    "print('\\n****Test accuracy is %d%%' % (acc))"
   ]
  },
  {
   "cell_type": "code",
   "execution_count": 78,
   "metadata": {
    "scrolled": true
   },
   "outputs": [
    {
     "data": {
      "text/plain": [
       "Text(91.68,0.5,'predicted label')"
      ]
     },
     "execution_count": 78,
     "metadata": {},
     "output_type": "execute_result"
    },
    {
     "data": {
      "image/png": "[encoded data removed]",
      "text/plain": [
       "<Figure size 432x288 with 1 Axes>"
      ]
     },
     "metadata": {},
     "output_type": "display_data"
    }
   ],
   "source": [
    "from sklearn.metrics import confusion_matrix\n",
    "%matplotlib inline  \n",
    "import seaborn as sns\n",
    "mat = confusion_matrix(y_test_avgw2vtfidf, y_pred)\n",
    "sns.heatmap(mat.T, square=True, annot=True, fmt='d', cbar=False)\n",
    "plt.xlabel('true label')\n",
    "plt.ylabel('predicted label')"
   ]
  },
  {
   "cell_type": "markdown",
   "metadata": {},
   "source": [
    "# Conclusion:"
   ]
  },
  {
   "cell_type": "code",
   "execution_count": 82,
   "metadata": {},
   "outputs": [
    {
     "name": "stdout",
     "output_type": "stream",
     "text": [
      "Featurization With Random Forest:\n",
      "+----------------+------------+\n",
      "|     Model      | test error |\n",
      "+----------------+------------+\n",
      "|     BOW-RF     |    10%     |\n",
      "|    TFIDF-RF    |    13%     |\n",
      "|   AVGW2V-RF    |    13%     |\n",
      "| TFIDFAVGW2V-RF |    14%     |\n",
      "+----------------+------------+\n"
     ]
    }
   ],
   "source": [
    "from prettytable import PrettyTable\n",
    "x = PrettyTable()\n",
    "\n",
    "x.field_names = [\"Model\", \"test error\"]\n",
    "x.add_row([\"BOW-RF\", \"10%\"])\n",
    "x.add_row([\"TFIDF-RF\",  \"13%\"])\n",
    "x.add_row([\"AVGW2V-RF\",  \"13%\"])\n",
    "x.add_row([\"TFIDFAVGW2V-RF\", \"14%\"])\n",
    "print(\"Featurization With Random Forest:\")\n",
    "print(x)"
   ]
  },
  {
   "cell_type": "code",
   "execution_count": 83,
   "metadata": {},
   "outputs": [
    {
     "name": "stdout",
     "output_type": "stream",
     "text": [
      "Featurization With Gradient Boosting DT:\n",
      "+------------------+------------+\n",
      "|      Model       | test error |\n",
      "+------------------+------------+\n",
      "|     BOW-GBDT     |    10%     |\n",
      "|    TFIDF-GBDT    |    10%     |\n",
      "|   AVGW2V-GBDT    |    12%     |\n",
      "| TFIDFAVGW2V-GBDT |    13%     |\n",
      "+------------------+------------+\n"
     ]
    }
   ],
   "source": [
    "from prettytable import PrettyTable\n",
    "x = PrettyTable()\n",
    "\n",
    "x.field_names = [\"Model\", \"test error\"]\n",
    "x.add_row([\"BOW-GBDT\", \"10%\"])\n",
    "x.add_row([\"TFIDF-GBDT\",  \"10%\"])\n",
    "x.add_row([\"AVGW2V-GBDT\",  \"12%\"])\n",
    "x.add_row([\"TFIDFAVGW2V-GBDT\", \"13%\"])\n",
    "print(\"Featurization With Gradient Boosting DT:\")\n",
    "print(x)"
   ]
  },
  {
   "cell_type": "code",
   "execution_count": null,
   "metadata": {
    "collapsed": true
   },
   "outputs": [],
   "source": []
  }
 ],
 "metadata": {
  "kernelspec": {
   "display_name": "Python 3",
   "language": "python",
   "name": "python3"
  },
  "language_info": {
   "codemirror_mode": {
    "name": "ipython",
    "version": 3
   },
   "file_extension": ".py",
   "mimetype": "text/x-python",
   "name": "python",
   "nbconvert_exporter": "python",
   "pygments_lexer": "ipython3",
   "version": "3.6.4"
  }
 },
 "nbformat": 4,
 "nbformat_minor": 2
}
