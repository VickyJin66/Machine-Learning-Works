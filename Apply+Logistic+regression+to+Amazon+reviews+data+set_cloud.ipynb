{
 "cells": [
  {
   "cell_type": "markdown",
   "metadata": {},
   "source": [
    "# Objectives:\n",
    "1. For each Featurization(BOWs, TF-IDF, W2V, AVGW2V-TFIDF) we need to split the data based on Time Based Slicing and apply and Logistic Regression and find test accurcy.\n",
    "\n",
    "2. apply GridSearchCV and RandomSearchCV to find optimal lambda.\n",
    "3. Apply L1 and L2 regularization while using algorithm.\n",
    "4. Try L1 regularization and keep increasing lambda to check sparsity.\n",
    "5. check multicolliniarity among features and remove features if necessary.\n",
    "6. Find feature importance and represent using wordcloud."
   ]
  },
  {
   "cell_type": "code",
   "execution_count": 1,
   "metadata": {
    "collapsed": true
   },
   "outputs": [],
   "source": [
    "import sqlite3\n",
    "import pandas as pd\n",
    "import numpy as np\n",
    "import nltk\n",
    "import string\n",
    "import matplotlib.pyplot as plt\n",
    "import seaborn as sn\n",
    "from sklearn.feature_extraction.text import TfidfTransformer\n",
    "from sklearn.feature_extraction.text import TfidfVectorizer\n",
    "from sklearn.feature_extraction.text import CountVectorizer\n",
    "from sklearn.metrics import confusion_matrix\n",
    "from sklearn import metrics\n",
    "from sklearn.metrics import roc_curve, auc\n",
    "from nltk.stem.porter import PorterStemmer\n",
    "import re\n",
    "import gensim\n",
    "import string\n",
    "from nltk.corpus import stopwords\n",
    "from nltk.stem import PorterStemmer\n",
    "from nltk.stem.wordnet import WordNetLemmatizer"
   ]
  },
  {
   "cell_type": "code",
   "execution_count": 2,
   "metadata": {
    "collapsed": true
   },
   "outputs": [],
   "source": [
    "#stop = set(stopwords.words('english')) #set of stopwords\n",
    "sno = nltk.stem.SnowballStemmer('english') #initialising the snowball stemmer\n",
    "\n",
    "def cleanhtml(sentence): #function to clean the word of any html-tags\n",
    "    cleanr = re.compile('<.*?>')\n",
    "    cleantext = re.sub(cleanr, ' ', sentence)\n",
    "    return cleantext\n",
    "def cleanpunc(sentence): #function to clean the word of any punctuation or special characters\n",
    "    cleaned = re.sub(r'[?|!|\\'|\"|#]',r'',sentence)\n",
    "    cleaned = re.sub(r'[.|,|)|(|\\|/]',r' ',cleaned)\n",
    "    return  cleaned"
   ]
  },
  {
   "cell_type": "code",
   "execution_count": 3,
   "metadata": {
    "collapsed": true
   },
   "outputs": [],
   "source": [
    "# using the SQLite Table to read data.\n",
    "con = sqlite3.connect('database.sqlite') \n",
    "\n",
    "#filtering only positive and negative reviews i.e. \n",
    "# not taking into consideration those reviews with Score=3\n",
    "filtered_data = pd.read_sql_query(\"\"\"\n",
    "SELECT *\n",
    "FROM Reviews\n",
    "WHERE Score != 3\n",
    "\"\"\", con) \n",
    "# Give reviews with Score>3 a positive rating, and reviews with a score<3 a negative rating.\n",
    "def partition(x):\n",
    "    if x < 3:\n",
    "        return 'negative'\n",
    "    return 'positive'\n",
    "#changing reviews with score less than 3 to be positive and vice-versa\n",
    "actualScore = filtered_data['Score']\n",
    "positiveNegative = actualScore.map(partition) \n",
    "filtered_data['Score'] = positiveNegative"
   ]
  },
  {
   "cell_type": "code",
   "execution_count": 4,
   "metadata": {
    "collapsed": true
   },
   "outputs": [],
   "source": [
    "sorted_data=filtered_data.sort_values('ProductId', axis=0, ascending=True, inplace=False, kind='quicksort', na_position='last')\n",
    "# sort reviews based on ProductId"
   ]
  },
  {
   "cell_type": "code",
   "execution_count": 5,
   "metadata": {},
   "outputs": [
    {
     "data": {
      "text/plain": [
       "(364173, 10)"
      ]
     },
     "execution_count": 5,
     "metadata": {},
     "output_type": "execute_result"
    }
   ],
   "source": [
    "final=sorted_data.drop_duplicates(subset={\"UserId\",\"ProfileName\",\"Time\",\"Text\"}, keep='first', inplace=False)\n",
    "final.shape\n",
    "# Remove duplicate reviews"
   ]
  },
  {
   "cell_type": "code",
   "execution_count": 6,
   "metadata": {},
   "outputs": [
    {
     "name": "stdout",
     "output_type": "stream",
     "text": [
      "(364171, 10)\n"
     ]
    },
    {
     "data": {
      "text/plain": [
       "positive    307061\n",
       "negative     57110\n",
       "Name: Score, dtype: int64"
      ]
     },
     "execution_count": 6,
     "metadata": {},
     "output_type": "execute_result"
    }
   ],
   "source": [
    "final=final[final.HelpfulnessNumerator<=final.HelpfulnessDenominator]\n",
    "#Before starting the next phase of preprocessing lets see the number of entries left\n",
    "print(final.shape)\n",
    "\n",
    "#How many positive and negative reviews are present in our dataset?\n",
    "final['Score'].value_counts()"
   ]
  },
  {
   "cell_type": "code",
   "execution_count": 7,
   "metadata": {},
   "outputs": [
    {
     "name": "stdout",
     "output_type": "stream",
     "text": [
      "6\n",
      "I set aside at least an hour each day to read to my son (3 y/o). At this point, I consider myself a connoisseur of children's books and this is one of the best. Santa Clause put this under the tree. Since then, we've read it perpetually and he loves it.<br /><br />First, this book taught him the months of the year.<br /><br />Second, it's a pleasure to read. Well suited to 1.5 y/o old to 4+.<br /><br />Very few children's books are worth owning. Most should be borrowed from the library. This book, however, deserves a permanent spot on your shelf. Sendak's best.\n"
     ]
    }
   ],
   "source": [
    "# find sentences containing HTML tags\n",
    "i=0;\n",
    "for sent in final['Text'].values:\n",
    "    if (len(re.findall('<.*?>', sent))):\n",
    "        print(i)\n",
    "        print(sent)\n",
    "        break;\n",
    "    i += 1;   "
   ]
  },
  {
   "cell_type": "code",
   "execution_count": 8,
   "metadata": {
    "collapsed": true
   },
   "outputs": [],
   "source": [
    "#stop = set(stopwords.words('english')) #set of stopwords\n",
    "sno = nltk.stem.SnowballStemmer('english') #initialising the snowball stemmer\n",
    "\n",
    "def cleanhtml(sentence): #function to clean the word of any html-tags\n",
    "    cleanr = re.compile('<.*?>')\n",
    "    cleantext = re.sub(cleanr, ' ', sentence)\n",
    "    return cleantext\n",
    "def cleanpunc(sentence): #function to clean the word of any punctuation or special characters\n",
    "    cleaned = re.sub(r'[?|!|\\'|\"|#]',r'',sentence)\n",
    "    cleaned = re.sub(r'[.|,|)|(|\\|/]',r' ',cleaned)\n",
    "    return  cleaned"
   ]
  },
  {
   "cell_type": "code",
   "execution_count": 9,
   "metadata": {
    "collapsed": true
   },
   "outputs": [],
   "source": [
    "#Code for implementing step-by-step the checks mentioned in the pre-processing phase\n",
    "# this code takes a while to run as it needs to run on 500k sentences.\n",
    "i=0\n",
    "str1=' '\n",
    "final_string=[]\n",
    "all_positive_words=[] # store words from +ve reviews here\n",
    "all_negative_words=[] # store words from -ve reviews here.\n",
    "s=''\n",
    "for sent in final['Text'].values:\n",
    "    filtered_sentence=[]\n",
    "    sent=cleanhtml(sent) # remove HTMl tags\n",
    "    for w in sent.split():\n",
    "        for cleaned_words in cleanpunc(w).split():\n",
    "            if((cleaned_words.isalpha()) & (len(cleaned_words)>2)):\n",
    "                s=(sno.stem(cleaned_words.lower())).encode('utf8')\n",
    "                filtered_sentence.append(s)\n",
    "                if (final['Score'].values)[i] == 'positive': \n",
    "                    all_positive_words.append(s) #list of all words used to describe positive reviews\n",
    "                if(final['Score'].values)[i] == 'negative':\n",
    "                    all_negative_words.append(s) #list of all words used to describe negative reviews reviews\n",
    "            else:\n",
    "                continue \n",
    "    str1 = b\" \".join(filtered_sentence) #final string of cleaned words    \n",
    "    final_string.append(str1)\n",
    "    i+=1"
   ]
  },
  {
   "cell_type": "code",
   "execution_count": 81,
   "metadata": {
    "collapsed": true
   },
   "outputs": [],
   "source": [
    "# import pickle\n",
    "# pickle_out = open(\"final_string.pickle\",\"wb\")\n",
    "# pickle.dump(final_string, pickle_out)\n",
    "# pickle_out.close()"
   ]
  },
  {
   "cell_type": "code",
   "execution_count": 10,
   "metadata": {
    "collapsed": true
   },
   "outputs": [],
   "source": [
    "import pickle\n",
    "pickle_in = open(\"final_string.pickle\",\"rb\")\n",
    "final_string = pickle.load(pickle_in)"
   ]
  },
  {
   "cell_type": "code",
   "execution_count": 10,
   "metadata": {
    "collapsed": true
   },
   "outputs": [],
   "source": [
    "final['CleanedText']=final_string"
   ]
  },
  {
   "cell_type": "code",
   "execution_count": 11,
   "metadata": {},
   "outputs": [
    {
     "data": {
      "text/html": [
       "<div>\n",
       "<style>\n",
       "    .dataframe thead tr:only-child th {\n",
       "        text-align: right;\n",
       "    }\n",
       "\n",
       "    .dataframe thead th {\n",
       "        text-align: left;\n",
       "    }\n",
       "\n",
       "    .dataframe tbody tr th {\n",
       "        vertical-align: top;\n",
       "    }\n",
       "</style>\n",
       "<table border=\"1\" class=\"dataframe\">\n",
       "  <thead>\n",
       "    <tr style=\"text-align: right;\">\n",
       "      <th></th>\n",
       "      <th>Id</th>\n",
       "      <th>ProductId</th>\n",
       "      <th>UserId</th>\n",
       "      <th>ProfileName</th>\n",
       "      <th>HelpfulnessNumerator</th>\n",
       "      <th>HelpfulnessDenominator</th>\n",
       "      <th>Score</th>\n",
       "      <th>Time</th>\n",
       "      <th>Summary</th>\n",
       "      <th>Text</th>\n",
       "      <th>CleanedText</th>\n",
       "    </tr>\n",
       "  </thead>\n",
       "  <tbody>\n",
       "    <tr>\n",
       "      <th>138706</th>\n",
       "      <td>150524</td>\n",
       "      <td>0006641040</td>\n",
       "      <td>ACITT7DI6IDDL</td>\n",
       "      <td>shari zychinski</td>\n",
       "      <td>0</td>\n",
       "      <td>0</td>\n",
       "      <td>positive</td>\n",
       "      <td>939340800</td>\n",
       "      <td>EVERY book is educational</td>\n",
       "      <td>this witty little book makes my son laugh at l...</td>\n",
       "      <td>b'this witti littl book make son laugh loud re...</td>\n",
       "    </tr>\n",
       "    <tr>\n",
       "      <th>138683</th>\n",
       "      <td>150501</td>\n",
       "      <td>0006641040</td>\n",
       "      <td>AJ46FKXOVC7NR</td>\n",
       "      <td>Nicholas A Mesiano</td>\n",
       "      <td>2</td>\n",
       "      <td>2</td>\n",
       "      <td>positive</td>\n",
       "      <td>940809600</td>\n",
       "      <td>This whole series is great way to spend time w...</td>\n",
       "      <td>I can remember seeing the show when it aired o...</td>\n",
       "      <td>b'can rememb see the show when air televis yea...</td>\n",
       "    </tr>\n",
       "    <tr>\n",
       "      <th>417839</th>\n",
       "      <td>451856</td>\n",
       "      <td>B00004CXX9</td>\n",
       "      <td>AIUWLEQ1ADEG5</td>\n",
       "      <td>Elizabeth Medina</td>\n",
       "      <td>0</td>\n",
       "      <td>0</td>\n",
       "      <td>positive</td>\n",
       "      <td>944092800</td>\n",
       "      <td>Entertainingl Funny!</td>\n",
       "      <td>Beetlejuice is a well written movie ..... ever...</td>\n",
       "      <td>b'beetlejuic well written movi everyth about e...</td>\n",
       "    </tr>\n",
       "    <tr>\n",
       "      <th>346055</th>\n",
       "      <td>374359</td>\n",
       "      <td>B00004CI84</td>\n",
       "      <td>A344SMIA5JECGM</td>\n",
       "      <td>Vincent P. Ross</td>\n",
       "      <td>1</td>\n",
       "      <td>2</td>\n",
       "      <td>positive</td>\n",
       "      <td>944438400</td>\n",
       "      <td>A modern day fairy tale</td>\n",
       "      <td>A twist of rumplestiskin captured on film, sta...</td>\n",
       "      <td>b'twist rumplestiskin captur film star michael...</td>\n",
       "    </tr>\n",
       "    <tr>\n",
       "      <th>417838</th>\n",
       "      <td>451855</td>\n",
       "      <td>B00004CXX9</td>\n",
       "      <td>AJH6LUC1UT1ON</td>\n",
       "      <td>The Phantom of the Opera</td>\n",
       "      <td>0</td>\n",
       "      <td>0</td>\n",
       "      <td>positive</td>\n",
       "      <td>946857600</td>\n",
       "      <td>FANTASTIC!</td>\n",
       "      <td>Beetlejuice is an excellent and funny movie. K...</td>\n",
       "      <td>b'beetlejuic excel and funni movi keaton hilar...</td>\n",
       "    </tr>\n",
       "  </tbody>\n",
       "</table>\n",
       "</div>"
      ],
      "text/plain": [
       "            Id   ProductId          UserId               ProfileName  \\\n",
       "138706  150524  0006641040   ACITT7DI6IDDL           shari zychinski   \n",
       "138683  150501  0006641040   AJ46FKXOVC7NR        Nicholas A Mesiano   \n",
       "417839  451856  B00004CXX9   AIUWLEQ1ADEG5          Elizabeth Medina   \n",
       "346055  374359  B00004CI84  A344SMIA5JECGM           Vincent P. Ross   \n",
       "417838  451855  B00004CXX9   AJH6LUC1UT1ON  The Phantom of the Opera   \n",
       "\n",
       "        HelpfulnessNumerator  HelpfulnessDenominator     Score       Time  \\\n",
       "138706                     0                       0  positive  939340800   \n",
       "138683                     2                       2  positive  940809600   \n",
       "417839                     0                       0  positive  944092800   \n",
       "346055                     1                       2  positive  944438400   \n",
       "417838                     0                       0  positive  946857600   \n",
       "\n",
       "                                                  Summary  \\\n",
       "138706                          EVERY book is educational   \n",
       "138683  This whole series is great way to spend time w...   \n",
       "417839                               Entertainingl Funny!   \n",
       "346055                            A modern day fairy tale   \n",
       "417838                                         FANTASTIC!   \n",
       "\n",
       "                                                     Text  \\\n",
       "138706  this witty little book makes my son laugh at l...   \n",
       "138683  I can remember seeing the show when it aired o...   \n",
       "417839  Beetlejuice is a well written movie ..... ever...   \n",
       "346055  A twist of rumplestiskin captured on film, sta...   \n",
       "417838  Beetlejuice is an excellent and funny movie. K...   \n",
       "\n",
       "                                              CleanedText  \n",
       "138706  b'this witti littl book make son laugh loud re...  \n",
       "138683  b'can rememb see the show when air televis yea...  \n",
       "417839  b'beetlejuic well written movi everyth about e...  \n",
       "346055  b'twist rumplestiskin captur film star michael...  \n",
       "417838  b'beetlejuic excel and funni movi keaton hilar...  "
      ]
     },
     "execution_count": 11,
     "metadata": {},
     "output_type": "execute_result"
    }
   ],
   "source": [
    "final = final.sort_values(['Time'], ascending=[True])\n",
    "final.head()"
   ]
  },
  {
   "cell_type": "code",
   "execution_count": 12,
   "metadata": {
    "collapsed": true
   },
   "outputs": [],
   "source": [
    "positive_50000=final.loc[final['Score'] == \"positive\"].sample(50000)\n",
    "negative_50000=final.loc[final['Score'] == \"negative\"].sample(50000)\n",
    "pos_neg_1l = pd.concat([positive_50000, negative_50000], axis=0)\n",
    "labels = pos_neg_1l['Score']"
   ]
  },
  {
   "cell_type": "code",
   "execution_count": 13,
   "metadata": {},
   "outputs": [
    {
     "data": {
      "text/html": [
       "<div>\n",
       "<style>\n",
       "    .dataframe thead tr:only-child th {\n",
       "        text-align: right;\n",
       "    }\n",
       "\n",
       "    .dataframe thead th {\n",
       "        text-align: left;\n",
       "    }\n",
       "\n",
       "    .dataframe tbody tr th {\n",
       "        vertical-align: top;\n",
       "    }\n",
       "</style>\n",
       "<table border=\"1\" class=\"dataframe\">\n",
       "  <thead>\n",
       "    <tr style=\"text-align: right;\">\n",
       "      <th></th>\n",
       "      <th>Id</th>\n",
       "      <th>ProductId</th>\n",
       "      <th>UserId</th>\n",
       "      <th>ProfileName</th>\n",
       "      <th>HelpfulnessNumerator</th>\n",
       "      <th>HelpfulnessDenominator</th>\n",
       "      <th>Score</th>\n",
       "      <th>Time</th>\n",
       "      <th>Summary</th>\n",
       "      <th>Text</th>\n",
       "      <th>CleanedText</th>\n",
       "    </tr>\n",
       "  </thead>\n",
       "  <tbody>\n",
       "    <tr>\n",
       "      <th>138683</th>\n",
       "      <td>150501</td>\n",
       "      <td>0006641040</td>\n",
       "      <td>AJ46FKXOVC7NR</td>\n",
       "      <td>Nicholas A Mesiano</td>\n",
       "      <td>2</td>\n",
       "      <td>2</td>\n",
       "      <td>positive</td>\n",
       "      <td>940809600</td>\n",
       "      <td>This whole series is great way to spend time w...</td>\n",
       "      <td>I can remember seeing the show when it aired o...</td>\n",
       "      <td>b'can rememb see the show when air televis yea...</td>\n",
       "    </tr>\n",
       "    <tr>\n",
       "      <th>346055</th>\n",
       "      <td>374359</td>\n",
       "      <td>B00004CI84</td>\n",
       "      <td>A344SMIA5JECGM</td>\n",
       "      <td>Vincent P. Ross</td>\n",
       "      <td>1</td>\n",
       "      <td>2</td>\n",
       "      <td>positive</td>\n",
       "      <td>944438400</td>\n",
       "      <td>A modern day fairy tale</td>\n",
       "      <td>A twist of rumplestiskin captured on film, sta...</td>\n",
       "      <td>b'twist rumplestiskin captur film star michael...</td>\n",
       "    </tr>\n",
       "    <tr>\n",
       "      <th>346041</th>\n",
       "      <td>374343</td>\n",
       "      <td>B00004CI84</td>\n",
       "      <td>A1B2IZU1JLZA6</td>\n",
       "      <td>Wes</td>\n",
       "      <td>19</td>\n",
       "      <td>23</td>\n",
       "      <td>negative</td>\n",
       "      <td>948240000</td>\n",
       "      <td>WARNING: CLAMSHELL EDITION IS EDITED TV VERSION</td>\n",
       "      <td>I, myself always enjoyed this movie, it's very...</td>\n",
       "      <td>b'myself alway enjoy this movi it veri funni a...</td>\n",
       "    </tr>\n",
       "    <tr>\n",
       "      <th>346102</th>\n",
       "      <td>374408</td>\n",
       "      <td>B00004CI84</td>\n",
       "      <td>A1GB1Q193DNFGR</td>\n",
       "      <td>Bruce Lee Pullen</td>\n",
       "      <td>5</td>\n",
       "      <td>5</td>\n",
       "      <td>positive</td>\n",
       "      <td>970531200</td>\n",
       "      <td>Fabulous Comedic Fanasy Directed by a Master</td>\n",
       "      <td>Beetlejuice is an awe-inspiring wonderfully am...</td>\n",
       "      <td>b'beetlejuic wonder amus comed romp that explo...</td>\n",
       "    </tr>\n",
       "    <tr>\n",
       "      <th>417901</th>\n",
       "      <td>451923</td>\n",
       "      <td>B00004CXX9</td>\n",
       "      <td>ANIMV3SPDD8SH</td>\n",
       "      <td>Guy De Federicis</td>\n",
       "      <td>1</td>\n",
       "      <td>12</td>\n",
       "      <td>negative</td>\n",
       "      <td>992217600</td>\n",
       "      <td>CASPER IS THE GHOST WITH THE MOST</td>\n",
       "      <td>Michael Keaton brings no distinguishing charac...</td>\n",
       "      <td>b'michael keaton bring distinguish characteris...</td>\n",
       "    </tr>\n",
       "  </tbody>\n",
       "</table>\n",
       "</div>"
      ],
      "text/plain": [
       "            Id   ProductId          UserId         ProfileName  \\\n",
       "138683  150501  0006641040   AJ46FKXOVC7NR  Nicholas A Mesiano   \n",
       "346055  374359  B00004CI84  A344SMIA5JECGM     Vincent P. Ross   \n",
       "346041  374343  B00004CI84   A1B2IZU1JLZA6                 Wes   \n",
       "346102  374408  B00004CI84  A1GB1Q193DNFGR    Bruce Lee Pullen   \n",
       "417901  451923  B00004CXX9   ANIMV3SPDD8SH    Guy De Federicis   \n",
       "\n",
       "        HelpfulnessNumerator  HelpfulnessDenominator     Score       Time  \\\n",
       "138683                     2                       2  positive  940809600   \n",
       "346055                     1                       2  positive  944438400   \n",
       "346041                    19                      23  negative  948240000   \n",
       "346102                     5                       5  positive  970531200   \n",
       "417901                     1                      12  negative  992217600   \n",
       "\n",
       "                                                  Summary  \\\n",
       "138683  This whole series is great way to spend time w...   \n",
       "346055                            A modern day fairy tale   \n",
       "346041    WARNING: CLAMSHELL EDITION IS EDITED TV VERSION   \n",
       "346102       Fabulous Comedic Fanasy Directed by a Master   \n",
       "417901                  CASPER IS THE GHOST WITH THE MOST   \n",
       "\n",
       "                                                     Text  \\\n",
       "138683  I can remember seeing the show when it aired o...   \n",
       "346055  A twist of rumplestiskin captured on film, sta...   \n",
       "346041  I, myself always enjoyed this movie, it's very...   \n",
       "346102  Beetlejuice is an awe-inspiring wonderfully am...   \n",
       "417901  Michael Keaton brings no distinguishing charac...   \n",
       "\n",
       "                                              CleanedText  \n",
       "138683  b'can rememb see the show when air televis yea...  \n",
       "346055  b'twist rumplestiskin captur film star michael...  \n",
       "346041  b'myself alway enjoy this movi it veri funni a...  \n",
       "346102  b'beetlejuic wonder amus comed romp that explo...  \n",
       "417901  b'michael keaton bring distinguish characteris...  "
      ]
     },
     "execution_count": 13,
     "metadata": {},
     "output_type": "execute_result"
    }
   ],
   "source": [
    "pos_neg_1l = pos_neg_1l.sort_values(['Time'], ascending=[True])\n",
    "pos_neg_1l.head()"
   ]
  },
  {
   "cell_type": "code",
   "execution_count": 113,
   "metadata": {
    "collapsed": true
   },
   "outputs": [],
   "source": [
    "X = pos_neg_1l['CleanedText']\n",
    "y = pos_neg_1l['Score']"
   ]
  },
  {
   "cell_type": "markdown",
   "metadata": {},
   "source": [
    "# BOW with Logistic Regression"
   ]
  },
  {
   "cell_type": "code",
   "execution_count": 114,
   "metadata": {
    "collapsed": true
   },
   "outputs": [],
   "source": [
    "from sklearn.model_selection import train_test_split\n",
    "# Split arrays or matrices into random train and test subsets\n",
    "# test_size=0.3 means out of 10k 3k will be test set and 7k train set\n",
    "X_train, X_test, y_train, y_test = train_test_split(X, y, test_size=0.3, random_state=0)"
   ]
  },
  {
   "cell_type": "code",
   "execution_count": 115,
   "metadata": {
    "collapsed": true
   },
   "outputs": [],
   "source": [
    "# code for Bag Of Words calculation\n",
    "count_vect = CountVectorizer()\n",
    "# calculate BOW of trainning data\n",
    "X_train = count_vect.fit_transform(X_train)\n",
    "# transform test data\n",
    "X_test = count_vect.transform(X_test)"
   ]
  },
  {
   "cell_type": "code",
   "execution_count": 116,
   "metadata": {},
   "outputs": [
    {
     "name": "stderr",
     "output_type": "stream",
     "text": [
      "/home/abhisek1651990/anaconda3/lib/python3.6/site-packages/sklearn/utils/validation.py:475: DataConversionWarning: Data with input dtype int64 was converted to float64 by StandardScaler.\n",
      "  warnings.warn(msg, DataConversionWarning)\n"
     ]
    }
   ],
   "source": [
    "from sklearn.preprocessing import StandardScaler\n",
    "# prepare the scaler with train data\n",
    "scaler = StandardScaler(with_mean=False).fit(X_train)\n",
    "# transform both train and test data\n",
    "X_train = scaler.transform(X_train)\n",
    "X_test = scaler.transform(X_test)"
   ]
  },
  {
   "cell_type": "markdown",
   "metadata": {},
   "source": [
    "# Find Optimal Hyperparameter lambda(1/C) using GridSearchCV"
   ]
  },
  {
   "cell_type": "code",
   "execution_count": 18,
   "metadata": {},
   "outputs": [
    {
     "name": "stdout",
     "output_type": "stream",
     "text": [
      "Tuned Logistic Regression Parameters: {'C': 100}\n",
      "Best score is 0.5005857142857143\n"
     ]
    }
   ],
   "source": [
    "# GridSearchCV: Exhaustive search over specified parameter values for an estimator.\n",
    "# param_grid: it is a dict objects which takes parameter for an estimator\n",
    "# best_estimator_ : estimator or dict\n",
    "# best_score_: float ==> Mean cross-validated score of the best_estimator\n",
    "# best_params_ : dict ==> Parameter setting that gave the best results on the hold out data\n",
    "# Import necessary modules\n",
    "from sklearn.linear_model import LogisticRegression\n",
    "from sklearn.model_selection import GridSearchCV\n",
    "from scipy.stats import uniform\n",
    "\n",
    "# Setup the hyperparameter grid\n",
    "#10**-4, 10**-2, 10**0, 10**2, 10**4\n",
    "tuned_parameters = [{'C': [10**-4, 10**-2, 10**0, 10**2, 10**4]}]\n",
    "\n",
    "# Instantiate a logistic regression classifier: logreg\n",
    "logreg = LogisticRegression()\n",
    "\n",
    "# Instantiate the GridSearchCV object: logreg_cv\n",
    "logreg_cv = GridSearchCV(logreg, tuned_parameters, cv=3)\n",
    "\n",
    "# Fit it to the data\n",
    "logreg_cv.fit(X_train, y_train)\n",
    "\n",
    "# Print the tuned parameter and score\n",
    "print(\"Tuned Logistic Regression Parameters: {}\".format(logreg_cv.best_params_))\n",
    "print(\"Best score is {}\".format(logreg_cv.best_score_))\n"
   ]
  },
  {
   "cell_type": "code",
   "execution_count": 19,
   "metadata": {
    "collapsed": true
   },
   "outputs": [],
   "source": [
    "# Predicting the Test set results\n",
    "y_pred = logreg_cv.predict(X_test)"
   ]
  },
  {
   "cell_type": "code",
   "execution_count": 20,
   "metadata": {},
   "outputs": [
    {
     "name": "stdout",
     "output_type": "stream",
     "text": [
      "\n",
      "****Test accuracy 50%\n"
     ]
    }
   ],
   "source": [
    "from sklearn.metrics import accuracy_score\n",
    "acc = accuracy_score(y_test, y_pred, normalize=True) * float(100)\n",
    "print('\\n****Test accuracy %d%%' % (acc))"
   ]
  },
  {
   "cell_type": "code",
   "execution_count": 21,
   "metadata": {
    "collapsed": true
   },
   "outputs": [],
   "source": [
    "dict = {\"positive\" : '1', \"negative\" : '-1'}\n",
    "y_train =  y_train.map(dict)\n",
    "y_test = y_test.map(dict)"
   ]
  },
  {
   "cell_type": "markdown",
   "metadata": {},
   "source": [
    "# Find Optimal Hyperparameter lambda(1/C) using RandomizedSearchCV"
   ]
  },
  {
   "cell_type": "code",
   "execution_count": 20,
   "metadata": {
    "scrolled": true
   },
   "outputs": [
    {
     "name": "stdout",
     "output_type": "stream",
     "text": [
      "Best Penalty: l1\n",
      "Best C: 0.236972805206\n",
      "Best Score: 0.5017\n"
     ]
    }
   ],
   "source": [
    "# Randomized search on hyper parameters.\n",
    "# get_params([deep]) ==> Get parameters for this estimator.\n",
    "# best_estimator_ : estimator or dict\n",
    "# best_score_ : float ==> Mean cross-validated score of the best_estimator.\n",
    "# best_params_ : dict ==> Parameter setting that gave the best results on the hold out data.\n",
    "from sklearn.model_selection import RandomizedSearchCV\n",
    "from sklearn import linear_model\n",
    "from scipy.stats import uniform\n",
    "# Create logistic regression\n",
    "logistic = linear_model.LogisticRegression()\n",
    "# Create regularization penalty space\n",
    "penalty = ['l1', 'l2']\n",
    "\n",
    "# Create regularization hyperparameter distribution using uniform distribution\n",
    "C = uniform(loc=0, scale=4)\n",
    "\n",
    "# Create hyperparameter options\n",
    "hyperparameters = {'C':C, 'penalty':penalty}\n",
    "# Create randomized search 5-fold cross validation and 100 iterations\n",
    "rand_cv = RandomizedSearchCV(logistic, hyperparameters, random_state=1, n_iter=100, cv=3, verbose=0, n_jobs=-1)\n",
    "# Fit randomized search\n",
    "best_model = rand_cv.fit(X_train, y_train)\n",
    "# View best hyperparameters\n",
    "print('Best Penalty:', best_model.best_estimator_.get_params()['penalty'])\n",
    "print('Best C:', best_model.best_estimator_.get_params()['C'])\n",
    "print('Best Score:', best_model.best_score_)"
   ]
  },
  {
   "cell_type": "code",
   "execution_count": 22,
   "metadata": {
    "collapsed": true
   },
   "outputs": [],
   "source": [
    "# Predicting the Test set results\n",
    "y_pred = best_model.predict(X_test)"
   ]
  },
  {
   "cell_type": "code",
   "execution_count": 23,
   "metadata": {},
   "outputs": [
    {
     "name": "stdout",
     "output_type": "stream",
     "text": [
      "\n",
      "****Test accuracy 49%\n"
     ]
    }
   ],
   "source": [
    "from sklearn.metrics import accuracy_score\n",
    "acc = accuracy_score(y_test, y_pred, normalize=True) * float(100)\n",
    "print('\\n****Test accuracy %d%%' % (acc))"
   ]
  },
  {
   "cell_type": "markdown",
   "metadata": {},
   "source": [
    "# With L1 regularization Sparsity decreases with increasing C(inverse of lambda)"
   ]
  },
  {
   "cell_type": "code",
   "execution_count": 20,
   "metadata": {},
   "outputs": [
    {
     "name": "stdout",
     "output_type": "stream",
     "text": [
      "Sparsity with L1 penalty: 83.76%\n",
      "Sparsity with L1 penalty: 73.31%\n",
      "Sparsity with L1 penalty: 67.25%\n",
      "Sparsity with L1 penalty: 63.46%\n",
      "Sparsity with L1 penalty: 60.59%\n",
      "Sparsity with L1 penalty: 60.36%\n",
      "Sparsity with L1 penalty: 58.83%\n",
      "Sparsity with L1 penalty: 57.76%\n",
      "Sparsity with L1 penalty: 56.68%\n",
      "Sparsity with L1 penalty: 55.74%\n",
      "Sparsity with L1 penalty: 54.79%\n",
      "Sparsity with L1 penalty: 53.99%\n",
      "Sparsity with L1 penalty: 52.98%\n",
      "Sparsity with L1 penalty: 52.53%\n",
      "Sparsity with L1 penalty: 47.60%\n",
      "Sparsity with L1 penalty: 51.74%\n",
      "Sparsity with L1 penalty: 51.22%\n",
      "Sparsity with L1 penalty: 50.84%\n",
      "Sparsity with L1 penalty: 49.75%\n",
      "Sparsity with L1 penalty: 50.07%\n",
      "Sparsity with L1 penalty: 49.58%\n",
      "Sparsity with L1 penalty: 49.19%\n",
      "Sparsity with L1 penalty: 48.04%\n",
      "Sparsity with L1 penalty: 48.43%\n",
      "Sparsity with L1 penalty: 48.20%\n",
      "Sparsity with L1 penalty: 47.92%\n",
      "Sparsity with L1 penalty: 45.56%\n",
      "Sparsity with L1 penalty: 47.22%\n",
      "Sparsity with L1 penalty: 46.90%\n",
      "Sparsity with L1 penalty: 46.01%\n",
      "Sparsity with L1 penalty: 46.50%\n",
      "Sparsity with L1 penalty: 46.20%\n",
      "Sparsity with L1 penalty: 45.92%\n",
      "Sparsity with L1 penalty: 45.88%\n",
      "Sparsity with L1 penalty: 45.22%\n",
      "Sparsity with L1 penalty: 45.42%\n",
      "Sparsity with L1 penalty: 44.96%\n",
      "Sparsity with L1 penalty: 43.52%\n",
      "Sparsity with L1 penalty: 45.11%\n",
      "Sparsity with L1 penalty: 45.13%\n",
      "Sparsity with L1 penalty: 45.01%\n",
      "Sparsity with L1 penalty: 44.17%\n",
      "Sparsity with L1 penalty: 44.46%\n",
      "Sparsity with L1 penalty: 43.26%\n",
      "Sparsity with L1 penalty: 44.22%\n",
      "Sparsity with L1 penalty: 43.91%\n",
      "Sparsity with L1 penalty: 43.90%\n",
      "Sparsity with L1 penalty: 43.80%\n",
      "Sparsity with L1 penalty: 43.78%\n",
      "Sparsity with L1 penalty: 44.09%\n",
      "Sparsity with L1 penalty: 43.48%\n",
      "Sparsity with L1 penalty: 41.78%\n",
      "Sparsity with L1 penalty: 41.64%\n",
      "Sparsity with L1 penalty: 42.93%\n",
      "Sparsity with L1 penalty: 42.83%\n",
      "Sparsity with L1 penalty: 42.25%\n",
      "Sparsity with L1 penalty: 42.69%\n",
      "Sparsity with L1 penalty: 42.46%\n",
      "Sparsity with L1 penalty: 42.14%\n",
      "Sparsity with L1 penalty: 42.24%\n",
      "Sparsity with L1 penalty: 42.32%\n",
      "Sparsity with L1 penalty: 41.93%\n",
      "Sparsity with L1 penalty: 40.25%\n",
      "Sparsity with L1 penalty: 42.99%\n",
      "Sparsity with L1 penalty: 42.90%\n",
      "Sparsity with L1 penalty: 39.47%\n",
      "Sparsity with L1 penalty: 41.61%\n",
      "Sparsity with L1 penalty: 40.30%\n",
      "Sparsity with L1 penalty: 41.55%\n",
      "Sparsity with L1 penalty: 40.96%\n",
      "Sparsity with L1 penalty: 41.24%\n",
      "Sparsity with L1 penalty: 41.55%\n",
      "Sparsity with L1 penalty: 41.01%\n",
      "Sparsity with L1 penalty: 40.91%\n",
      "Sparsity with L1 penalty: 41.09%\n",
      "Sparsity with L1 penalty: 41.11%\n",
      "Sparsity with L1 penalty: 42.22%\n",
      "Sparsity with L1 penalty: 41.05%\n",
      "Sparsity with L1 penalty: 42.39%\n",
      "Sparsity with L1 penalty: 40.60%\n",
      "Sparsity with L1 penalty: 39.58%\n",
      "Sparsity with L1 penalty: 40.55%\n",
      "Sparsity with L1 penalty: 40.25%\n",
      "Sparsity with L1 penalty: 40.26%\n",
      "Sparsity with L1 penalty: 40.16%\n",
      "Sparsity with L1 penalty: 35.82%\n",
      "Sparsity with L1 penalty: 38.94%\n",
      "Sparsity with L1 penalty: 24.69%\n",
      "Sparsity with L1 penalty: 39.95%\n",
      "Sparsity with L1 penalty: 39.73%\n",
      "Sparsity with L1 penalty: 39.72%\n",
      "Sparsity with L1 penalty: 39.77%\n",
      "Sparsity with L1 penalty: 39.72%\n",
      "Sparsity with L1 penalty: 41.12%\n",
      "Sparsity with L1 penalty: 39.46%\n",
      "Sparsity with L1 penalty: 39.27%\n",
      "Sparsity with L1 penalty: 39.32%\n",
      "Sparsity with L1 penalty: 39.48%\n",
      "Sparsity with L1 penalty: 39.35%\n",
      "Sparsity with L1 penalty: 39.25%\n"
     ]
    }
   ],
   "source": [
    "from scipy.stats import uniform\n",
    "from sklearn.linear_model import LogisticRegression\n",
    "# ppf(q, loc=0, scale=1) Percent point function (inverse of cdf — percentiles).\n",
    "x = np.linspace(uniform.ppf(0.01),uniform.ppf(0.99), 100)\n",
    "\n",
    "for i in x:\n",
    "    clf_l1_LR = LogisticRegression(C=i, penalty='l1', tol=0.01)\n",
    "    clf_l1_LR.fit(X_train, y_train)\n",
    "    coef_l1_LR = clf_l1_LR.coef_.ravel()\n",
    "    sparsity_l1_LR = np.mean(coef_l1_LR == 0) * 100\n",
    "    print(\"Sparsity with L1 penalty: %.2f%%\" % sparsity_l1_LR)"
   ]
  },
  {
   "cell_type": "markdown",
   "metadata": {
    "collapsed": true
   },
   "source": [
    "# Multicolliniarity Test using VIF"
   ]
  },
  {
   "cell_type": "code",
   "execution_count": 21,
   "metadata": {
    "collapsed": true
   },
   "outputs": [],
   "source": [
    "# If my Xi’s are highly correlated then |X’X| will be close to 0 and hence inverse of (X’X) will not exist\n",
    "# or will be indefinitely large. Mathematically, which will be indefinitely large in presence of multicollinearity.\n",
    "# Multicollinearity increases the estimate of standard error of regression coefficients which makes some variables\n",
    "# statistically insignificant when they should be significant.\n",
    "# VIF (Variance Inflation Factor) Method:\n",
    "# VIF calculations are straightforward and easily comprehensible: the higher the value, the higher the collinearity.\n",
    "# A VIF is calculated for each explanatory variable and those with high values are removed. \n",
    "# The definition of ‘high’ is somewhat arbitrary but values in the range of 5-10 are commonly used.\n",
    "# It takes the following formule:\n",
    "   \n",
    "#VIF=1/(1−R2)"
   ]
  },
  {
   "cell_type": "code",
   "execution_count": 120,
   "metadata": {
    "collapsed": true
   },
   "outputs": [],
   "source": [
    "dict = {\"positive\" : '1', \"negative\" : '-1'}\n",
    "y_train =  y_train.map(dict)\n",
    "y_test = y_test.map(dict)"
   ]
  },
  {
   "cell_type": "code",
   "execution_count": 121,
   "metadata": {
    "collapsed": true
   },
   "outputs": [],
   "source": [
    "from sklearn.linear_model import LogisticRegression"
   ]
  },
  {
   "cell_type": "code",
   "execution_count": 122,
   "metadata": {},
   "outputs": [
    {
     "name": "stderr",
     "output_type": "stream",
     "text": [
      "/home/abhisek1651990/anaconda3/lib/python3.6/site-packages/sklearn/linear_model/sag.py:326: ConvergenceWarning: The max_iter was reached which means the coef_ did not converge\n",
      "  \"the coef_ did not converge\", ConvergenceWarning)\n"
     ]
    }
   ],
   "source": [
    "clf = LogisticRegression(random_state=0, C = 0.01, solver='saga').fit(X_train, y_train)"
   ]
  },
  {
   "cell_type": "code",
   "execution_count": 123,
   "metadata": {
    "collapsed": true
   },
   "outputs": [],
   "source": [
    "# Predicting the Test set results\n",
    "y_pred = clf.predict(X_test)"
   ]
  },
  {
   "cell_type": "code",
   "execution_count": 124,
   "metadata": {},
   "outputs": [],
   "source": [
    "from sklearn.metrics import r2_score\n",
    "VIF = 1/(1 - r2_score(y_test, y_pred))"
   ]
  },
  {
   "cell_type": "code",
   "execution_count": 125,
   "metadata": {},
   "outputs": [
    {
     "data": {
      "text/plain": [
       "2.0519828454172369"
      ]
     },
     "execution_count": 125,
     "metadata": {},
     "output_type": "execute_result"
    }
   ],
   "source": [
    "VIF"
   ]
  },
  {
   "cell_type": "markdown",
   "metadata": {},
   "source": [
    "# Observation:\n",
    "\n",
    "VIF = 2.05 which is less than 5 so we can ignore multicollinirity problem."
   ]
  },
  {
   "cell_type": "markdown",
   "metadata": {
    "collapsed": true
   },
   "source": [
    "# Get Important Features and Represent with WordCloud"
   ]
  },
  {
   "cell_type": "code",
   "execution_count": 34,
   "metadata": {
    "collapsed": true
   },
   "outputs": [],
   "source": [
    "def find_imp_features_bow(classifier):\n",
    "    list_negative = []\n",
    "    list_positive = []\n",
    "    global impwords_bow\n",
    "    impwords_bow = []\n",
    "    feature_names = count_vect.get_feature_names()\n",
    "    for i,j in sorted(zip(feature_names, classifier.coef_[0]), key=lambda x: x[1]):\n",
    "        if j < 0:\n",
    "            list_negative.append(i)\n",
    "        else:\n",
    "            list_positive.append(i)\n",
    "    impwords_bow.append(list_negative[:10] + sorted(list_positive[-10:]))\n",
    "    return list_negative[:10], sorted(list_positive[-10:])"
   ]
  },
  {
   "cell_type": "code",
   "execution_count": 35,
   "metadata": {},
   "outputs": [
    {
     "data": {
      "text/plain": [
       "(['not',\n",
       "  'disappoint',\n",
       "  'worst',\n",
       "  'aw',\n",
       "  'horribl',\n",
       "  'terribl',\n",
       "  'threw',\n",
       "  'unfortun',\n",
       "  'disgust',\n",
       "  'return'],\n",
       " ['amaz',\n",
       "  'best',\n",
       "  'delici',\n",
       "  'excel',\n",
       "  'favorit',\n",
       "  'good',\n",
       "  'great',\n",
       "  'love',\n",
       "  'nice',\n",
       "  'perfect'])"
      ]
     },
     "execution_count": 35,
     "metadata": {},
     "output_type": "execute_result"
    }
   ],
   "source": [
    "find_imp_features_bow(clf)"
   ]
  },
  {
   "cell_type": "code",
   "execution_count": 37,
   "metadata": {},
   "outputs": [],
   "source": [
    "from wordcloud import WordCloud, STOPWORDS\n",
    "stopwords = set(STOPWORDS)"
   ]
  },
  {
   "cell_type": "code",
   "execution_count": 38,
   "metadata": {
    "collapsed": true
   },
   "outputs": [],
   "source": [
    "important_words_bow = ' '\n",
    "for words in impwords_bow[0]: \n",
    "    important_words_bow = important_words_bow + words + ' '"
   ]
  },
  {
   "cell_type": "code",
   "execution_count": 39,
   "metadata": {
    "collapsed": true
   },
   "outputs": [],
   "source": [
    "wordcloud_bow = WordCloud(width = 800, height = 800, \n",
    "                background_color ='white', \n",
    "                stopwords = stopwords, \n",
    "                min_font_size = 10).generate(important_words_bow) "
   ]
  },
  {
   "cell_type": "code",
   "execution_count": 41,
   "metadata": {},
   "outputs": [
    {
     "data": {
      "text/plain": [
       "<matplotlib.figure.Figure at 0x7f2cc2e91fd0>"
      ]
     },
     "metadata": {},
     "output_type": "display_data"
    },
    {
     "data": {
      "image/png": "[encoded data removed]",
      "text/plain": [
       "<matplotlib.figure.Figure at 0x7f2cc2aee550>"
      ]
     },
     "metadata": {},
     "output_type": "display_data"
    }
   ],
   "source": [
    "# plot the WordCloud image                        \n",
    "plt.figure(figsize = (8, 8), facecolor = None) \n",
    "plt.imshow(wordcloud_bow) \n",
    "plt.axis(\"off\") \n",
    "plt.tight_layout(pad = 0) \n",
    "  \n",
    "plt.show() "
   ]
  },
  {
   "cell_type": "markdown",
   "metadata": {},
   "source": [
    "# TF-IDF with Logistic Regression\n"
   ]
  },
  {
   "cell_type": "code",
   "execution_count": 42,
   "metadata": {
    "collapsed": true
   },
   "outputs": [],
   "source": [
    "from sklearn.model_selection import train_test_split\n",
    "# Split arrays or matrices into random train and test subsets\n",
    "# test_size=0.3 means out of 10k 3k will be test set and 7k train set\n",
    "X_train_tfidf, X_test_tfidf, y_train_tfidf, y_test_tfidf = train_test_split(X, y, test_size=0.3, random_state=0)"
   ]
  },
  {
   "cell_type": "code",
   "execution_count": 43,
   "metadata": {
    "collapsed": true
   },
   "outputs": [],
   "source": [
    "dict = {\"positive\" : '1', \"negative\" : '-1'}\n",
    "y_train_tfidf =  y_train_tfidf.map(dict)\n",
    "y_test_tfidf = y_test_tfidf.map(dict)"
   ]
  },
  {
   "cell_type": "code",
   "execution_count": 44,
   "metadata": {
    "collapsed": true
   },
   "outputs": [],
   "source": [
    "tf_idf_vect = TfidfVectorizer(ngram_range=(1,2))\n",
    "final_tf_idf_train = tf_idf_vect.fit_transform(X_train_tfidf)\n",
    "final_tf_idf_test = tf_idf_vect.transform(X_test_tfidf)"
   ]
  },
  {
   "cell_type": "code",
   "execution_count": 45,
   "metadata": {
    "collapsed": true
   },
   "outputs": [],
   "source": [
    "from sklearn.preprocessing import StandardScaler\n",
    "# prepare the scaler with train data\n",
    "scaler = StandardScaler(with_mean=False).fit(final_tf_idf_train)\n",
    "# transform both train and test data\n",
    "final_tf_idf_train = scaler.transform(final_tf_idf_train)\n",
    "final_tf_idf_test = scaler.transform(final_tf_idf_test)"
   ]
  },
  {
   "cell_type": "code",
   "execution_count": 47,
   "metadata": {},
   "outputs": [
    {
     "name": "stderr",
     "output_type": "stream",
     "text": [
      "/home/abhisek1651990/anaconda3/lib/python3.6/site-packages/sklearn/linear_model/sag.py:326: ConvergenceWarning: The max_iter was reached which means the coef_ did not converge\n",
      "  \"the coef_ did not converge\", ConvergenceWarning)\n"
     ]
    }
   ],
   "source": [
    "clf = LogisticRegression(random_state=0, C = 0.01, solver='saga').fit(final_tf_idf_train, y_train_tfidf)"
   ]
  },
  {
   "cell_type": "code",
   "execution_count": 48,
   "metadata": {
    "collapsed": true
   },
   "outputs": [],
   "source": [
    "# Predicting the Test set results\n",
    "y_pred = clf.predict(final_tf_idf_test)"
   ]
  },
  {
   "cell_type": "code",
   "execution_count": 49,
   "metadata": {},
   "outputs": [
    {
     "name": "stdout",
     "output_type": "stream",
     "text": [
      "\n",
      "****Test accuracy is 89%\n"
     ]
    }
   ],
   "source": [
    "from sklearn.metrics import accuracy_score\n",
    "acc = accuracy_score(y_test_tfidf, y_pred, normalize=True) * float(100)\n",
    "print('\\n****Test accuracy is %d%%' % (acc))"
   ]
  },
  {
   "cell_type": "code",
   "execution_count": 50,
   "metadata": {
    "collapsed": true
   },
   "outputs": [],
   "source": [
    "from sklearn.metrics import r2_score\n",
    "VIF = 1/(1 - r2_score(y_test_tfidf, y_pred))"
   ]
  },
  {
   "cell_type": "code",
   "execution_count": 51,
   "metadata": {},
   "outputs": [
    {
     "data": {
      "text/plain": [
       "2.4303296500324043"
      ]
     },
     "execution_count": 51,
     "metadata": {},
     "output_type": "execute_result"
    }
   ],
   "source": [
    "VIF"
   ]
  },
  {
   "cell_type": "code",
   "execution_count": 52,
   "metadata": {
    "collapsed": true
   },
   "outputs": [],
   "source": [
    "def find_imp_features_tfidf(classifier):\n",
    "    list_negative = []\n",
    "    list_positive = []\n",
    "    global impwords_tfidf\n",
    "    impwords_tfidf = []\n",
    "    feature_names = tf_idf_vect.get_feature_names()\n",
    "    for i,j in sorted(zip(feature_names, classifier.coef_[0]), key=lambda x: x[1]):\n",
    "        if j < 0:\n",
    "            list_negative.append(i)\n",
    "        else:\n",
    "            list_positive.append(i)\n",
    "    impwords_tfidf.append(list_negative[:10] + sorted(list_positive[-10:]))\n",
    "    return list_negative[:10], sorted(list_positive[-10:])"
   ]
  },
  {
   "cell_type": "code",
   "execution_count": 53,
   "metadata": {},
   "outputs": [
    {
     "data": {
      "text/plain": [
       "(['not',\n",
       "  'disappoint',\n",
       "  'was',\n",
       "  'veri disappoint',\n",
       "  'wast',\n",
       "  'money',\n",
       "  'not buy',\n",
       "  'would not',\n",
       "  'return',\n",
       "  'bad'],\n",
       " ['best',\n",
       "  'delici',\n",
       "  'favorit',\n",
       "  'good',\n",
       "  'great',\n",
       "  'high recommend',\n",
       "  'love',\n",
       "  'love this',\n",
       "  'perfect',\n",
       "  'the best'])"
      ]
     },
     "execution_count": 53,
     "metadata": {},
     "output_type": "execute_result"
    }
   ],
   "source": [
    "find_imp_features_tfidf(clf)"
   ]
  },
  {
   "cell_type": "code",
   "execution_count": 54,
   "metadata": {
    "collapsed": true
   },
   "outputs": [],
   "source": [
    "important_words_tfidf = ' '\n",
    "for words in impwords_tfidf[0]: \n",
    "    important_words_tfidf = important_words_tfidf + words + ' '"
   ]
  },
  {
   "cell_type": "code",
   "execution_count": 55,
   "metadata": {
    "collapsed": true
   },
   "outputs": [],
   "source": [
    "wordcloud_tfidf = WordCloud(width = 800, height = 800, \n",
    "                background_color ='white', \n",
    "                stopwords = stopwords, \n",
    "                min_font_size = 10).generate(important_words_tfidf) "
   ]
  },
  {
   "cell_type": "code",
   "execution_count": 57,
   "metadata": {},
   "outputs": [
    {
     "data": {
      "text/plain": [
       "<matplotlib.figure.Figure at 0x7f2cb1d626a0>"
      ]
     },
     "metadata": {},
     "output_type": "display_data"
    },
    {
     "data": {
      "image/png": "[encoded data removed]",
      "text/plain": [
       "<matplotlib.figure.Figure at 0x7f2cb1d62cf8>"
      ]
     },
     "metadata": {},
     "output_type": "display_data"
    }
   ],
   "source": [
    "# plot the WordCloud image                        \n",
    "plt.figure(figsize = (8, 8), facecolor = None) \n",
    "plt.imshow(wordcloud_tfidf) \n",
    "plt.axis(\"off\") \n",
    "plt.tight_layout(pad = 0) \n",
    "  \n",
    "plt.show() "
   ]
  },
  {
   "cell_type": "markdown",
   "metadata": {},
   "source": [
    "# AvgW2V with Logistic Regression"
   ]
  },
  {
   "cell_type": "code",
   "execution_count": 58,
   "metadata": {
    "collapsed": true
   },
   "outputs": [],
   "source": [
    "from sklearn.model_selection import train_test_split\n",
    "# Split arrays or matrices into random train and test subsets\n",
    "# test_size=0.3 means out of 10k 3k will be test set and 7k train set\n",
    "X_train_avgw2v, X_test_avgw2v, y_train_avgw2v, y_test_avgw2v = train_test_split(X, y, test_size=0.3, random_state=0)"
   ]
  },
  {
   "cell_type": "code",
   "execution_count": 59,
   "metadata": {
    "collapsed": true
   },
   "outputs": [],
   "source": [
    "# Train your own Word2Vec model using your own text corpus\n",
    "import gensim\n",
    "i=0\n",
    "list_of_sent=[]\n",
    "for sent in X_train_avgw2v.values:\n",
    "    filtered_sentence=[]\n",
    "    sent=cleanhtml(sent.decode('utf-8'))\n",
    "    for w in sent.split():\n",
    "        for cleaned_words in cleanpunc(w).split():\n",
    "            if(cleaned_words.isalpha()):    \n",
    "                filtered_sentence.append(cleaned_words.lower())\n",
    "            else:\n",
    "                continue \n",
    "    list_of_sent.append(filtered_sentence)"
   ]
  },
  {
   "cell_type": "code",
   "execution_count": 60,
   "metadata": {
    "collapsed": true
   },
   "outputs": [],
   "source": [
    "w2v_model=gensim.models.Word2Vec(list_of_sent,min_count=5,size=50, workers=4)"
   ]
  },
  {
   "cell_type": "code",
   "execution_count": 61,
   "metadata": {},
   "outputs": [
    {
     "name": "stdout",
     "output_type": "stream",
     "text": [
      "70000\n",
      "50\n"
     ]
    }
   ],
   "source": [
    "# average Word2Vec\n",
    "# compute average word2vec for each review.\n",
    "sent_vectors = []; # the avg-w2v for each sentence/review is stored in this list\n",
    "for sent in list_of_sent: # for each review/sentence\n",
    "    sent_vec = np.zeros(50) # as word vectors are of zero length\n",
    "    cnt_words =0; # num of words with a valid vector in the sentence/review\n",
    "    \n",
    "    for word in sent: # for each word in a review/sentence\n",
    "        try:\n",
    "            vec = w2v_model.wv[word]\n",
    "            sent_vec += vec\n",
    "            cnt_words += 1\n",
    "        except:\n",
    "            pass\n",
    "    sent_vec /= cnt_words\n",
    "    sent_vectors.append(sent_vec)\n",
    "print(len(sent_vectors))\n",
    "print(len(sent_vectors[0]))"
   ]
  },
  {
   "cell_type": "code",
   "execution_count": 62,
   "metadata": {
    "collapsed": true
   },
   "outputs": [],
   "source": [
    "# Train your own Word2Vec model using your own text corpus\n",
    "import gensim\n",
    "i=0\n",
    "list_of_sent_test=[]\n",
    "for sent in X_test_avgw2v.values:\n",
    "    filtered_sentence=[]\n",
    "    sent=cleanhtml(sent.decode('utf-8'))\n",
    "    for w in sent.split():\n",
    "        for cleaned_words in cleanpunc(w).split():\n",
    "            if(cleaned_words.isalpha()):    \n",
    "                filtered_sentence.append(cleaned_words.lower())\n",
    "            else:\n",
    "                continue \n",
    "    list_of_sent_test.append(filtered_sentence)"
   ]
  },
  {
   "cell_type": "code",
   "execution_count": 63,
   "metadata": {},
   "outputs": [
    {
     "name": "stdout",
     "output_type": "stream",
     "text": [
      "30000\n",
      "50\n"
     ]
    }
   ],
   "source": [
    "# average Word2Vec\n",
    "# compute average word2vec for each review.\n",
    "sent_vectors_test = []; # the avg-w2v for each sentence/review is stored in this list\n",
    "for sent in list_of_sent_test: # for each review/sentence\n",
    "    sent_vec = np.zeros(50) # as word vectors are of zero length\n",
    "    cnt_words =0; # num of words with a valid vector in the sentence/review\n",
    "    \n",
    "    for word in sent: # for each word in a review/sentence\n",
    "        try:\n",
    "            vec = w2v_model.wv[word]\n",
    "            sent_vec += vec\n",
    "            cnt_words += 1\n",
    "        except:\n",
    "            pass\n",
    "    sent_vec /= cnt_words\n",
    "    sent_vectors_test.append(sent_vec)\n",
    "print(len(sent_vectors_test))\n",
    "print(len(sent_vectors_test[0]))"
   ]
  },
  {
   "cell_type": "code",
   "execution_count": 64,
   "metadata": {
    "collapsed": true
   },
   "outputs": [],
   "source": [
    "df_train = pd.DataFrame(sent_vectors)\n",
    "df_train = df_train.fillna(df_train.mean())\n",
    "df_test = pd.DataFrame(sent_vectors_test)\n",
    "df_test = df_test.fillna(df_test.mean())\n",
    "from sklearn.preprocessing import StandardScaler\n",
    "# prepare the scaler with train data\n",
    "scaler = StandardScaler(with_mean=False).fit(df_train)\n",
    "# transform both train and test data\n",
    "standardized_data_train_avgw2v = scaler.transform(df_train)\n",
    "standardized_data_test_avgw2v = scaler.transform(df_test)"
   ]
  },
  {
   "cell_type": "code",
   "execution_count": 65,
   "metadata": {
    "collapsed": true
   },
   "outputs": [],
   "source": [
    "dict = {\"positive\" : '1', \"negative\" : '-1'}\n",
    "y_train_avgw2v =  y_train_avgw2v.map(dict)\n",
    "y_test_avgw2v = y_test_avgw2v.map(dict)"
   ]
  },
  {
   "cell_type": "code",
   "execution_count": 66,
   "metadata": {
    "collapsed": true
   },
   "outputs": [],
   "source": [
    "clf = LogisticRegression(random_state=0, C = 0.01, solver='saga').fit(standardized_data_train_avgw2v, y_train_avgw2v)"
   ]
  },
  {
   "cell_type": "code",
   "execution_count": 67,
   "metadata": {
    "collapsed": true
   },
   "outputs": [],
   "source": [
    "# Predicting the Test set results\n",
    "y_pred = clf.predict(standardized_data_test_avgw2v)"
   ]
  },
  {
   "cell_type": "code",
   "execution_count": 68,
   "metadata": {},
   "outputs": [
    {
     "name": "stdout",
     "output_type": "stream",
     "text": [
      "\n",
      "****Test accuracy is 83%\n"
     ]
    }
   ],
   "source": [
    "from sklearn.metrics import accuracy_score\n",
    "acc = accuracy_score(y_test_avgw2v, y_pred, normalize=True) * float(100)\n",
    "print('\\n****Test accuracy is %d%%' % (acc))"
   ]
  },
  {
   "cell_type": "code",
   "execution_count": 69,
   "metadata": {
    "collapsed": true
   },
   "outputs": [],
   "source": [
    "from sklearn.metrics import r2_score\n",
    "VIF = 1/(1 - r2_score(y_test_avgw2v, y_pred))"
   ]
  },
  {
   "cell_type": "code",
   "execution_count": 70,
   "metadata": {},
   "outputs": [
    {
     "data": {
      "text/plain": [
       "1.4895724528301888"
      ]
     },
     "execution_count": 70,
     "metadata": {},
     "output_type": "execute_result"
    }
   ],
   "source": [
    "VIF"
   ]
  },
  {
   "cell_type": "code",
   "execution_count": 71,
   "metadata": {
    "collapsed": true
   },
   "outputs": [],
   "source": [
    "def find_imp_features_w2v(classifier):\n",
    "    stop_words = set(stopwords) \n",
    "    list_negative = []\n",
    "    list_positive = []\n",
    "    global impwords_w2v\n",
    "    impwords_w2v = []\n",
    "    for i,j in sorted(zip(w2v_model.wv.vocab.keys(), clf.coef_[0]), key=lambda x: x[1]):\n",
    "        if i not in stop_words:\n",
    "            if j < 0:\n",
    "                list_negative.append(i)\n",
    "            else:\n",
    "                list_positive.append(i)\n",
    "    impwords_w2v.append(list_negative[:10] + sorted(list_positive[-10:]))\n",
    "    return list_negative[:10], sorted(list_positive[-10:])"
   ]
  },
  {
   "cell_type": "code",
   "execution_count": 72,
   "metadata": {},
   "outputs": [
    {
     "data": {
      "text/plain": [
       "(['faux',\n",
       "  'unfortun',\n",
       "  'brand',\n",
       "  'result',\n",
       "  'delici',\n",
       "  'enfamil',\n",
       "  'coupl',\n",
       "  'substitut',\n",
       "  'cherri',\n",
       "  'spit'],\n",
       " ['befor',\n",
       "  'better',\n",
       "  'consider',\n",
       "  'half',\n",
       "  'ill',\n",
       "  'lot',\n",
       "  'lower',\n",
       "  'now',\n",
       "  'provid',\n",
       "  'tast'])"
      ]
     },
     "execution_count": 72,
     "metadata": {},
     "output_type": "execute_result"
    }
   ],
   "source": [
    "find_imp_features_w2v(clf)"
   ]
  },
  {
   "cell_type": "code",
   "execution_count": 73,
   "metadata": {
    "collapsed": true
   },
   "outputs": [],
   "source": [
    "important_words_w2v = ' '\n",
    "for words in impwords_w2v[0]: \n",
    "    important_words_w2v = important_words_w2v + words + ' '"
   ]
  },
  {
   "cell_type": "code",
   "execution_count": 74,
   "metadata": {
    "collapsed": true
   },
   "outputs": [],
   "source": [
    "wordcloud_w2v = WordCloud(width = 800, height = 800, \n",
    "                background_color ='white', \n",
    "                stopwords = stopwords, \n",
    "                min_font_size = 10).generate(important_words_w2v) "
   ]
  },
  {
   "cell_type": "code",
   "execution_count": 75,
   "metadata": {},
   "outputs": [
    {
     "data": {
      "image/png": "[encoded data removed]",
      "text/plain": [
       "<matplotlib.figure.Figure at 0x7f2c6aa06c18>"
      ]
     },
     "metadata": {},
     "output_type": "display_data"
    }
   ],
   "source": [
    "# plot the WordCloud image                        \n",
    "plt.figure(figsize = (8, 8), facecolor = None) \n",
    "plt.imshow(wordcloud_w2v) \n",
    "plt.axis(\"off\") \n",
    "plt.tight_layout(pad = 0) \n",
    "  \n",
    "plt.show() "
   ]
  },
  {
   "cell_type": "markdown",
   "metadata": {},
   "source": [
    "# TFIDF-W2V with Logistic Regression"
   ]
  },
  {
   "cell_type": "markdown",
   "metadata": {},
   "source": [
    "# calculating W2V for 40K"
   ]
  },
  {
   "cell_type": "code",
   "execution_count": 78,
   "metadata": {
    "collapsed": true
   },
   "outputs": [],
   "source": [
    "positive_20000=final.loc[final['Score'] == \"positive\"].tail(20000)\n",
    "negative_20000=final.loc[final['Score'] == \"negative\"].tail(20000)\n",
    "pos_neg_40k = pd.concat([positive_20000, negative_20000], axis=0)\n",
    "labels = pos_neg_40k['Score']"
   ]
  },
  {
   "cell_type": "code",
   "execution_count": 79,
   "metadata": {
    "scrolled": true
   },
   "outputs": [
    {
     "data": {
      "text/html": [
       "<div>\n",
       "<style>\n",
       "    .dataframe thead tr:only-child th {\n",
       "        text-align: right;\n",
       "    }\n",
       "\n",
       "    .dataframe thead th {\n",
       "        text-align: left;\n",
       "    }\n",
       "\n",
       "    .dataframe tbody tr th {\n",
       "        vertical-align: top;\n",
       "    }\n",
       "</style>\n",
       "<table border=\"1\" class=\"dataframe\">\n",
       "  <thead>\n",
       "    <tr style=\"text-align: right;\">\n",
       "      <th></th>\n",
       "      <th>Id</th>\n",
       "      <th>ProductId</th>\n",
       "      <th>UserId</th>\n",
       "      <th>ProfileName</th>\n",
       "      <th>HelpfulnessNumerator</th>\n",
       "      <th>HelpfulnessDenominator</th>\n",
       "      <th>Score</th>\n",
       "      <th>Time</th>\n",
       "      <th>Summary</th>\n",
       "      <th>Text</th>\n",
       "      <th>CleanedText</th>\n",
       "    </tr>\n",
       "  </thead>\n",
       "  <tbody>\n",
       "    <tr>\n",
       "      <th>261899</th>\n",
       "      <td>283904</td>\n",
       "      <td>B00455GM9E</td>\n",
       "      <td>A1FBLR62DJ46L3</td>\n",
       "      <td>MaryAnne</td>\n",
       "      <td>0</td>\n",
       "      <td>1</td>\n",
       "      <td>negative</td>\n",
       "      <td>1327968000</td>\n",
       "      <td>Too Sweet</td>\n",
       "      <td>It is ok as long as you only use half as much ...</td>\n",
       "      <td>b'long you onli use half much syrup call for a...</td>\n",
       "    </tr>\n",
       "    <tr>\n",
       "      <th>454702</th>\n",
       "      <td>491596</td>\n",
       "      <td>B001M1Z1EQ</td>\n",
       "      <td>A6KCWLEG41R4J</td>\n",
       "      <td>Ms Sensitive</td>\n",
       "      <td>0</td>\n",
       "      <td>0</td>\n",
       "      <td>negative</td>\n",
       "      <td>1327968000</td>\n",
       "      <td>Unpleasant product</td>\n",
       "      <td>The bread pudding I received was in different ...</td>\n",
       "      <td>b'the bread pud receiv was differ packag than ...</td>\n",
       "    </tr>\n",
       "    <tr>\n",
       "      <th>205284</th>\n",
       "      <td>222415</td>\n",
       "      <td>B004E4CCSQ</td>\n",
       "      <td>A2SZLNSI5KOQJT</td>\n",
       "      <td>Carrie, \"Formerly &amp;#34;Sister Carrie&amp;#34;\"</td>\n",
       "      <td>0</td>\n",
       "      <td>1</td>\n",
       "      <td>negative</td>\n",
       "      <td>1327968000</td>\n",
       "      <td>OK Taste.  Fuzzy-Peachy Flavor.  But Also a Ch...</td>\n",
       "      <td>The MIO Peach Tea flavor is definitely a fuzzy...</td>\n",
       "      <td>b'the mio peach tea flavor definit fuzzi peach...</td>\n",
       "    </tr>\n",
       "    <tr>\n",
       "      <th>326016</th>\n",
       "      <td>352840</td>\n",
       "      <td>B001SAY7BO</td>\n",
       "      <td>A6L0WHWTB31OC</td>\n",
       "      <td>A. M. Smith \"morg999\"</td>\n",
       "      <td>2</td>\n",
       "      <td>2</td>\n",
       "      <td>negative</td>\n",
       "      <td>1327968000</td>\n",
       "      <td>Amazingly BAD....</td>\n",
       "      <td>I would like to start by saying that I have ne...</td>\n",
       "      <td>b'would like start say that have never written...</td>\n",
       "    </tr>\n",
       "    <tr>\n",
       "      <th>86027</th>\n",
       "      <td>93669</td>\n",
       "      <td>B004IJMVQA</td>\n",
       "      <td>A4OD6YMH5FLV5</td>\n",
       "      <td>S. Montane</td>\n",
       "      <td>1</td>\n",
       "      <td>1</td>\n",
       "      <td>negative</td>\n",
       "      <td>1327968000</td>\n",
       "      <td>Yuck.</td>\n",
       "      <td>I love Peanut Butter Puffins, but this is not ...</td>\n",
       "      <td>b'love peanut butter puffin but this not nor d...</td>\n",
       "    </tr>\n",
       "  </tbody>\n",
       "</table>\n",
       "</div>"
      ],
      "text/plain": [
       "            Id   ProductId          UserId  \\\n",
       "261899  283904  B00455GM9E  A1FBLR62DJ46L3   \n",
       "454702  491596  B001M1Z1EQ   A6KCWLEG41R4J   \n",
       "205284  222415  B004E4CCSQ  A2SZLNSI5KOQJT   \n",
       "326016  352840  B001SAY7BO   A6L0WHWTB31OC   \n",
       "86027    93669  B004IJMVQA   A4OD6YMH5FLV5   \n",
       "\n",
       "                                       ProfileName  HelpfulnessNumerator  \\\n",
       "261899                                    MaryAnne                     0   \n",
       "454702                                Ms Sensitive                     0   \n",
       "205284  Carrie, \"Formerly &#34;Sister Carrie&#34;\"                     0   \n",
       "326016                       A. M. Smith \"morg999\"                     2   \n",
       "86027                                   S. Montane                     1   \n",
       "\n",
       "        HelpfulnessDenominator     Score        Time  \\\n",
       "261899                       1  negative  1327968000   \n",
       "454702                       0  negative  1327968000   \n",
       "205284                       1  negative  1327968000   \n",
       "326016                       2  negative  1327968000   \n",
       "86027                        1  negative  1327968000   \n",
       "\n",
       "                                                  Summary  \\\n",
       "261899                                          Too Sweet   \n",
       "454702                                 Unpleasant product   \n",
       "205284  OK Taste.  Fuzzy-Peachy Flavor.  But Also a Ch...   \n",
       "326016                                  Amazingly BAD....   \n",
       "86027                                               Yuck.   \n",
       "\n",
       "                                                     Text  \\\n",
       "261899  It is ok as long as you only use half as much ...   \n",
       "454702  The bread pudding I received was in different ...   \n",
       "205284  The MIO Peach Tea flavor is definitely a fuzzy...   \n",
       "326016  I would like to start by saying that I have ne...   \n",
       "86027   I love Peanut Butter Puffins, but this is not ...   \n",
       "\n",
       "                                              CleanedText  \n",
       "261899  b'long you onli use half much syrup call for a...  \n",
       "454702  b'the bread pud receiv was differ packag than ...  \n",
       "205284  b'the mio peach tea flavor definit fuzzi peach...  \n",
       "326016  b'would like start say that have never written...  \n",
       "86027   b'love peanut butter puffin but this not nor d...  "
      ]
     },
     "execution_count": 79,
     "metadata": {},
     "output_type": "execute_result"
    }
   ],
   "source": [
    "pos_neg_40k = pos_neg_40k.sort_values(['Time'], ascending=[True])\n",
    "pos_neg_40k.head()"
   ]
  },
  {
   "cell_type": "code",
   "execution_count": 140,
   "metadata": {
    "collapsed": true
   },
   "outputs": [],
   "source": [
    "X = pos_neg_40k['CleanedText']\n",
    "y = pos_neg_40k['Score']"
   ]
  },
  {
   "cell_type": "code",
   "execution_count": 141,
   "metadata": {
    "collapsed": true
   },
   "outputs": [],
   "source": [
    "from sklearn.model_selection import train_test_split\n",
    "# Split arrays or matrices into random train and test subsets\n",
    "# test_size=0.3 means out of 10k 3k will be test set and 7k train set\n",
    "X_train_avgw2v, X_test_avgw2v, y_train_avgw2v, y_test_avgw2v = train_test_split(X, y, test_size=0.3, random_state=0)"
   ]
  },
  {
   "cell_type": "code",
   "execution_count": 142,
   "metadata": {
    "collapsed": true
   },
   "outputs": [],
   "source": [
    "# Train your own Word2Vec model using your own text corpus\n",
    "import gensim\n",
    "i=0\n",
    "list_of_sent=[]\n",
    "for sent in X_train_avgw2v.values:\n",
    "    filtered_sentence=[]\n",
    "    sent=cleanhtml(sent.decode('utf-8'))\n",
    "    for w in sent.split():\n",
    "        for cleaned_words in cleanpunc(w).split():\n",
    "            if(cleaned_words.isalpha()):    \n",
    "                filtered_sentence.append(cleaned_words.lower())\n",
    "            else:\n",
    "                continue \n",
    "    list_of_sent.append(filtered_sentence)"
   ]
  },
  {
   "cell_type": "code",
   "execution_count": 143,
   "metadata": {
    "collapsed": true
   },
   "outputs": [],
   "source": [
    "w2v_model=gensim.models.Word2Vec(list_of_sent,min_count=5,size=50, workers=4)"
   ]
  },
  {
   "cell_type": "code",
   "execution_count": 144,
   "metadata": {
    "collapsed": true
   },
   "outputs": [],
   "source": [
    "# Train your own Word2Vec model using your own text corpus\n",
    "import gensim\n",
    "i=0\n",
    "list_of_sent_test=[]\n",
    "for sent in X_test_avgw2v.values:\n",
    "    filtered_sentence=[]\n",
    "    sent=cleanhtml(sent.decode('utf-8'))\n",
    "    for w in sent.split():\n",
    "        for cleaned_words in cleanpunc(w).split():\n",
    "            if(cleaned_words.isalpha()):    \n",
    "                filtered_sentence.append(cleaned_words.lower())\n",
    "            else:\n",
    "                continue \n",
    "    list_of_sent_test.append(filtered_sentence)"
   ]
  },
  {
   "cell_type": "code",
   "execution_count": 145,
   "metadata": {
    "collapsed": true
   },
   "outputs": [],
   "source": [
    "from sklearn.model_selection import train_test_split\n",
    "# Split arrays or matrices into random train and test subsets\n",
    "# test_size=0.3 means out of 10k 3k will be test set and 7k train set\n",
    "X_train_tfidfw2v, X_test_tfidfw2v, y_train_tfidfw2v, y_test_tfidfw2v = train_test_split(X, y, test_size=0.3, random_state=0)"
   ]
  },
  {
   "cell_type": "code",
   "execution_count": 146,
   "metadata": {
    "collapsed": true
   },
   "outputs": [],
   "source": [
    "tf_idf_vect = TfidfVectorizer(ngram_range=(1,2))\n",
    "final_tf_idf = tf_idf_vect.fit_transform(X_train_tfidfw2v)\n",
    "final_tf_idf_test = tf_idf_vect.transform(X_test_tfidfw2v)"
   ]
  },
  {
   "cell_type": "markdown",
   "metadata": {},
   "source": [
    "##### calculate TF-IDF weighted Word2Vec for train data"
   ]
  },
  {
   "cell_type": "code",
   "execution_count": null,
   "metadata": {
    "collapsed": true
   },
   "outputs": [],
   "source": [
    "# TF-IDF weighted Word2Vec\n",
    "tfidf_feat = tf_idf_vect.get_feature_names() # tfidf words/col-names\n",
    "# final_tf_idf is the sparse matrix with row= sentence, col=word and cell_val = tfidf\n",
    "\n",
    "tfidf_sent_vectors = []; # the tfidf-w2v for each sentence/review is stored in this list\n",
    "row=0;\n",
    "for sent in list_of_sent: # for each review/sentence\n",
    "    sent_vec = np.zeros(50) # as word vectors are of zero length\n",
    "    weight_sum =0; # num of words with a valid vector in the sentence/review\n",
    "    for word in sent: # for each word in a review/sentence\n",
    "        try:\n",
    "            vec = w2v_model.wv[word]\n",
    "                                     #obtain the tf_idfidf of a word in a sentence/review\n",
    "            tf_idf = final_tf_idf[row, tfidf_feat.index(word)]\n",
    "            sent_vec += (vec * tf_idf)\n",
    "            weight_sum += tf_idf\n",
    "        except:\n",
    "            pass\n",
    "    sent_vec /= weight_sum\n",
    "    tfidf_sent_vectors.append(sent_vec)\n",
    "    row += 1"
   ]
  },
  {
   "cell_type": "code",
   "execution_count": 147,
   "metadata": {
    "collapsed": true
   },
   "outputs": [],
   "source": [
    "import pickle\n",
    "pickle_in = open(\"train_w2vtfidf.pickle\",\"rb\")\n",
    "tfidf_sent_vectors = pickle.load(pickle_in)"
   ]
  },
  {
   "cell_type": "markdown",
   "metadata": {},
   "source": [
    "##### calculate TF-IDF weighted Word2Vec for test data"
   ]
  },
  {
   "cell_type": "code",
   "execution_count": 128,
   "metadata": {
    "collapsed": true
   },
   "outputs": [],
   "source": [
    "# TF-IDF weighted Word2Vec\n",
    "tfidf_feat = tf_idf_vect.get_feature_names() # tfidf words/col-names\n",
    "# final_tf_idf is the sparse matrix with row= sentence, col=word and cell_val = tfidf\n",
    "\n",
    "tfidf_sent_vectors_test = []; # the tfidf-w2v for each sentence/review is stored in this list\n",
    "row=0;\n",
    "for sent in list_of_sent_test: # for each review/sentence\n",
    "    sent_vec = np.zeros(50) # as word vectors are of zero length\n",
    "    weight_sum =0; # num of words with a valid vector in the sentence/review\n",
    "    for word in sent: # for each word in a review/sentence\n",
    "        try:\n",
    "            vec = w2v_model.wv[word]\n",
    "                                     #obtain the tf_idfidf of a word in a sentence/review\n",
    "            tf_idf = final_tf_idf_test[row, tfidf_feat.index(word)]\n",
    "            sent_vec += (vec * tf_idf)\n",
    "            weight_sum += tf_idf\n",
    "        except:\n",
    "            pass\n",
    "    sent_vec /= weight_sum\n",
    "    tfidf_sent_vectors_test.append(sent_vec)\n",
    "    row += 1"
   ]
  },
  {
   "cell_type": "code",
   "execution_count": 129,
   "metadata": {
    "collapsed": true
   },
   "outputs": [],
   "source": [
    "# pickle_out = open(\"test_w2vtfidf1.pickle\",\"wb\")\n",
    "# pickle.dump(tfidf_sent_vectors_test, pickle_out)\n",
    "# pickle_out.close()"
   ]
  },
  {
   "cell_type": "code",
   "execution_count": 148,
   "metadata": {
    "collapsed": true
   },
   "outputs": [],
   "source": [
    "pickle_in = open(\"test_w2vtfidf1.pickle\",\"rb\")\n",
    "tfidf_sent_vectors_test = pickle.load(pickle_in)"
   ]
  },
  {
   "cell_type": "markdown",
   "metadata": {},
   "source": [
    "##### Do standadization for train and test vectors"
   ]
  },
  {
   "cell_type": "code",
   "execution_count": 149,
   "metadata": {
    "collapsed": true
   },
   "outputs": [],
   "source": [
    "df_train = pd.DataFrame(tfidf_sent_vectors)\n",
    "df_train = df_train.fillna(df_train.mean())\n",
    "df_test = pd.DataFrame(tfidf_sent_vectors_test)\n",
    "df_test = df_test.fillna(df_test.mean())\n",
    "from sklearn.preprocessing import StandardScaler\n",
    "standardized_data_tf_idfw2v_train = StandardScaler(with_mean=False).fit_transform(df_train)\n",
    "standardized_data_tf_idfw2v_test = StandardScaler(with_mean=False).fit_transform(df_test)"
   ]
  },
  {
   "cell_type": "code",
   "execution_count": 150,
   "metadata": {
    "collapsed": true
   },
   "outputs": [],
   "source": [
    "dict = {\"positive\" : '1', \"negative\" : '-1'}\n",
    "y_train_tfidfw2v =  y_train_tfidfw2v.map(dict)\n",
    "y_test_tfidfw2v = y_test_tfidfw2v.map(dict)"
   ]
  },
  {
   "cell_type": "code",
   "execution_count": 151,
   "metadata": {},
   "outputs": [],
   "source": [
    "clf = LogisticRegression(random_state=0, C = 0.01, solver='saga').fit(standardized_data_tf_idfw2v_train, y_train_tfidfw2v)"
   ]
  },
  {
   "cell_type": "code",
   "execution_count": 152,
   "metadata": {
    "collapsed": true
   },
   "outputs": [],
   "source": [
    "# Predicting the Test set results\n",
    "y_pred = clf.predict(standardized_data_tf_idfw2v_test)"
   ]
  },
  {
   "cell_type": "code",
   "execution_count": 153,
   "metadata": {},
   "outputs": [
    {
     "name": "stdout",
     "output_type": "stream",
     "text": [
      "\n",
      "****Test accuracy is 59%\n"
     ]
    }
   ],
   "source": [
    "from sklearn.metrics import accuracy_score\n",
    "acc = accuracy_score(y_test_tfidfw2v, y_pred, normalize=True) * float(100)\n",
    "print('\\n****Test accuracy is %d%%' % (acc))"
   ]
  },
  {
   "cell_type": "code",
   "execution_count": 154,
   "metadata": {
    "collapsed": true
   },
   "outputs": [],
   "source": [
    "from sklearn.metrics import r2_score\n",
    "VIF = 1/(1 - r2_score(y_test_tfidfw2v, y_pred))"
   ]
  },
  {
   "cell_type": "code",
   "execution_count": 155,
   "metadata": {},
   "outputs": [
    {
     "data": {
      "text/plain": [
       "0.61199075207398324"
      ]
     },
     "execution_count": 155,
     "metadata": {},
     "output_type": "execute_result"
    }
   ],
   "source": [
    "VIF"
   ]
  },
  {
   "cell_type": "code",
   "execution_count": 156,
   "metadata": {
    "collapsed": true
   },
   "outputs": [],
   "source": [
    "def find_imp_features_tfidf_avgw2v(classifier):\n",
    "    stop_words = set(stopwords) \n",
    "    list_negative = []\n",
    "    list_positive = []\n",
    "    global impwords_tfidf_avgw2v\n",
    "    impwords_tfidf_avgw2v = []\n",
    "    feature_names = w2v_model.wv.vocab.keys()\n",
    "    for i,j in sorted(zip(feature_names, classifier.coef_[0]), key=lambda x: x[1]):\n",
    "        if i not in stop_words:\n",
    "            if j < 0:\n",
    "                list_negative.append(i)\n",
    "            else:\n",
    "                list_positive.append(i)\n",
    "    impwords_tfidf_avgw2v.append(list_negative[:10] + sorted(list_positive[-10:]))\n",
    "    return list_negative[:10], sorted(list_positive[-10:])"
   ]
  },
  {
   "cell_type": "code",
   "execution_count": 157,
   "metadata": {},
   "outputs": [
    {
     "data": {
      "text/plain": [
       "(['nice',\n",
       "  'coat',\n",
       "  'favorit',\n",
       "  'deform',\n",
       "  'mix',\n",
       "  'drawer',\n",
       "  'found',\n",
       "  'open',\n",
       "  'one',\n",
       "  'seem'],\n",
       " ['candi',\n",
       "  'correct',\n",
       "  'doesnt',\n",
       "  'doorstep',\n",
       "  'good',\n",
       "  'melt',\n",
       "  'much',\n",
       "  'pound',\n",
       "  'storag',\n",
       "  'sturdi'])"
      ]
     },
     "execution_count": 157,
     "metadata": {},
     "output_type": "execute_result"
    }
   ],
   "source": [
    "find_imp_features_tfidf_avgw2v(clf)"
   ]
  },
  {
   "cell_type": "code",
   "execution_count": 158,
   "metadata": {},
   "outputs": [],
   "source": [
    "important_words_tfidf_w2v = ' '\n",
    "for words in impwords_tfidf_avgw2v[0]: \n",
    "    important_words_tfidf_w2v = important_words_tfidf_w2v + words + ' '"
   ]
  },
  {
   "cell_type": "code",
   "execution_count": 159,
   "metadata": {},
   "outputs": [],
   "source": [
    "wordcloud_tfidf_w2v = WordCloud(width = 800, height = 800, \n",
    "                background_color ='white', \n",
    "                stopwords = stopwords, \n",
    "                min_font_size = 10).generate(important_words_tfidf_w2v) "
   ]
  },
  {
   "cell_type": "code",
   "execution_count": 160,
   "metadata": {},
   "outputs": [
    {
     "data": {
      "image/png": "[encoded data removed]",
      "text/plain": [
       "<matplotlib.figure.Figure at 0x7f2c88454978>"
      ]
     },
     "metadata": {},
     "output_type": "display_data"
    }
   ],
   "source": [
    "# plot the WordCloud image                        \n",
    "plt.figure(figsize = (8, 8), facecolor = None) \n",
    "plt.imshow(wordcloud_tfidf_w2v) \n",
    "plt.axis(\"off\") \n",
    "plt.tight_layout(pad = 0) \n",
    "  \n",
    "plt.show() "
   ]
  },
  {
   "cell_type": "markdown",
   "metadata": {},
   "source": [
    "# Conclusion:"
   ]
  },
  {
   "cell_type": "code",
   "execution_count": 161,
   "metadata": {},
   "outputs": [
    {
     "name": "stdout",
     "output_type": "stream",
     "text": [
      "Featurization With Logistic Regression:\n",
      "+----------------+--------------------+-------------+------------+\n",
      "|     Model      | hyper parameter- C | train error | test error |\n",
      "+----------------+--------------------+-------------+------------+\n",
      "|     LR-BOW     |        0.01        |             |    50%     |\n",
      "|    LR-TFIDF    |        0.01        |             |    11%     |\n",
      "|   LR-AVGW2V    |        0.01        |             |    13%     |\n",
      "| LR-TFIDFAVGW2V |        0.01        |             |    41%     |\n",
      "+----------------+--------------------+-------------+------------+\n"
     ]
    }
   ],
   "source": [
    "from prettytable import PrettyTable\n",
    "x = PrettyTable()\n",
    "\n",
    "x.field_names = [\"Model\", \"hyper parameter- C\", \"train error\", \"test error\"]\n",
    "x.add_row([\"LR-BOW\", .01, \"\", \"50%\"])\n",
    "x.add_row([\"LR-TFIDF\", .01, \"\", \"11%\"])\n",
    "x.add_row([\"LR-AVGW2V\", .01, \"\", \"13%\"])\n",
    "x.add_row([\"LR-TFIDFAVGW2V\", .01, \"\", \"41%\"])\n",
    "print(\"Featurization With Logistic Regression:\")\n",
    "print(x)"
   ]
  },
  {
   "cell_type": "code",
   "execution_count": null,
   "metadata": {
    "collapsed": true
   },
   "outputs": [],
   "source": []
  }
 ],
 "metadata": {
  "kernelspec": {
   "display_name": "Python 3",
   "language": "python",
   "name": "python3"
  },
  "language_info": {
   "codemirror_mode": {
    "name": "ipython",
    "version": 3
   },
   "file_extension": ".py",
   "mimetype": "text/x-python",
   "name": "python",
   "nbconvert_exporter": "python",
   "pygments_lexer": "ipython3",
   "version": "3.6.4"
  }
 },
 "nbformat": 4,
 "nbformat_minor": 2
}
