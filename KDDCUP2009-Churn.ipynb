{
 "cells": [
  {
   "cell_type": "markdown",
   "metadata": {},
   "source": [
    "We organized the KDD cup 2009 around a marketing problem with the goal of identifying data mining techniques capable of rapidly building predictive models and scoring new\n",
    "entries on a large database. Customer Relationship Management (CRM) is a key element of modern marketing strategies. The KDD Cup 2009 offered to participants an opportunity to work on a large marketing database from the\n",
    "French Telecom company Orange. The tasks were to predict\n",
    "the propensity of customers to switch provider (churn), buy\n",
    "new products or services (appetency), or buy upgrades/addons proposed to them to make the sale more profitable (upselling). The challenge, which lasted from March 10 to\n",
    "May 11, 2009, attracted over 450 participants from 46 countries. We attribute its popularity to several factors: (1)\n",
    "A generic problem relevant to the Industry (a classification problem), but presenting a number of scientific and\n",
    "technical challenges, including many missing values (about\n",
    "60%), a large number of features (15000) and a large number of training examples (50000), unbalanced class proportions (fewer than 10% of the examples of the positive class),\n",
    "noisy data, and the presence of categorical variables with\n",
    "many different values. (2) Prizes (Orange offers 10000 Euros in prizes). (3) A well designed protocol and web site\n",
    "(we benefitted from past experience). (4) An effective advertising campaign using mailings and a teleconference to\n",
    "answer potential participants questions. The results of the\n",
    "challenge were discussed at the KDD conference (June 28,\n",
    "2009). The principal conclusions are that ensemble methods are very effective and that ensemble of decision trees\n",
    "offer off-the-shelf solutions to problems with large numbers\n",
    "of samples and attributes, mixed types of variables, and lots\n",
    "of missing values. The data and the platform of the challenge remain available for research and educational purposes\n",
    "at http://www.kddcup-orange.com/.\n",
    "\n",
    "## https://www.kdd.org/exploration_files/v11-2-12-KDDCUP09_analysis.pdf"
   ]
  },
  {
   "cell_type": "code",
   "execution_count": 317,
   "metadata": {},
   "outputs": [],
   "source": [
    "import pandas as pd\n",
    "import numpy as np\n",
    "from sklearn.model_selection import train_test_split\n",
    "from sklearn.utils import resample\n",
    "from sklearn.model_selection import StratifiedKFold\n",
    "from sklearn.ensemble import RandomForestClassifier\n",
    "from sklearn import preprocessing\n",
    "from sklearn.metrics import (confusion_matrix, precision_recall_curve, auc,\n",
    "                             roc_curve, recall_score, classification_report, f1_score,\n",
    "                             precision_recall_fscore_support,roc_auc_score)\n",
    "from sklearn.neural_network import MLPClassifier\n",
    "from sklearn.preprocessing import StandardScaler\n",
    "from imblearn.over_sampling import SMOTE\n",
    "from sklearn.metrics import roc_auc_score,auc\n",
    "from sklearn.model_selection import RandomizedSearchCV\n",
    "import math\n",
    "import xgboost as xgb"
   ]
  },
  {
   "cell_type": "code",
   "execution_count": 401,
   "metadata": {},
   "outputs": [
    {
     "data": {
      "text/html": [
       "<div>\n",
       "<style scoped>\n",
       "    .dataframe tbody tr th:only-of-type {\n",
       "        vertical-align: middle;\n",
       "    }\n",
       "\n",
       "    .dataframe tbody tr th {\n",
       "        vertical-align: top;\n",
       "    }\n",
       "\n",
       "    .dataframe thead th {\n",
       "        text-align: right;\n",
       "    }\n",
       "</style>\n",
       "<table border=\"1\" class=\"dataframe\">\n",
       "  <thead>\n",
       "    <tr style=\"text-align: right;\">\n",
       "      <th></th>\n",
       "      <th>Var1</th>\n",
       "      <th>Var2</th>\n",
       "      <th>Var3</th>\n",
       "      <th>Var4</th>\n",
       "      <th>Var5</th>\n",
       "      <th>Var6</th>\n",
       "      <th>Var7</th>\n",
       "      <th>Var8</th>\n",
       "      <th>Var9</th>\n",
       "      <th>Var10</th>\n",
       "      <th>...</th>\n",
       "      <th>Var221</th>\n",
       "      <th>Var222</th>\n",
       "      <th>Var223</th>\n",
       "      <th>Var224</th>\n",
       "      <th>Var225</th>\n",
       "      <th>Var226</th>\n",
       "      <th>Var227</th>\n",
       "      <th>Var228</th>\n",
       "      <th>Var229</th>\n",
       "      <th>Var230</th>\n",
       "    </tr>\n",
       "  </thead>\n",
       "  <tbody>\n",
       "    <tr>\n",
       "      <th>0</th>\n",
       "      <td>NaN</td>\n",
       "      <td>NaN</td>\n",
       "      <td>NaN</td>\n",
       "      <td>NaN</td>\n",
       "      <td>NaN</td>\n",
       "      <td>1526.0</td>\n",
       "      <td>7.0</td>\n",
       "      <td>NaN</td>\n",
       "      <td>NaN</td>\n",
       "      <td>NaN</td>\n",
       "      <td>...</td>\n",
       "      <td>oslk</td>\n",
       "      <td>fXVEsaq</td>\n",
       "      <td>jySVZNlOJy</td>\n",
       "      <td>NaN</td>\n",
       "      <td>NaN</td>\n",
       "      <td>xb3V</td>\n",
       "      <td>RAYp</td>\n",
       "      <td>F2FyR07IdsN7I</td>\n",
       "      <td>NaN</td>\n",
       "      <td>NaN</td>\n",
       "    </tr>\n",
       "    <tr>\n",
       "      <th>1</th>\n",
       "      <td>NaN</td>\n",
       "      <td>NaN</td>\n",
       "      <td>NaN</td>\n",
       "      <td>NaN</td>\n",
       "      <td>NaN</td>\n",
       "      <td>525.0</td>\n",
       "      <td>0.0</td>\n",
       "      <td>NaN</td>\n",
       "      <td>NaN</td>\n",
       "      <td>NaN</td>\n",
       "      <td>...</td>\n",
       "      <td>oslk</td>\n",
       "      <td>2Kb5FSF</td>\n",
       "      <td>LM8l689qOp</td>\n",
       "      <td>NaN</td>\n",
       "      <td>NaN</td>\n",
       "      <td>fKCe</td>\n",
       "      <td>RAYp</td>\n",
       "      <td>F2FyR07IdsN7I</td>\n",
       "      <td>NaN</td>\n",
       "      <td>NaN</td>\n",
       "    </tr>\n",
       "    <tr>\n",
       "      <th>2</th>\n",
       "      <td>NaN</td>\n",
       "      <td>NaN</td>\n",
       "      <td>NaN</td>\n",
       "      <td>NaN</td>\n",
       "      <td>NaN</td>\n",
       "      <td>5236.0</td>\n",
       "      <td>7.0</td>\n",
       "      <td>NaN</td>\n",
       "      <td>NaN</td>\n",
       "      <td>NaN</td>\n",
       "      <td>...</td>\n",
       "      <td>Al6ZaUT</td>\n",
       "      <td>NKv4yOc</td>\n",
       "      <td>jySVZNlOJy</td>\n",
       "      <td>NaN</td>\n",
       "      <td>kG3k</td>\n",
       "      <td>Qu4f</td>\n",
       "      <td>02N6s8f</td>\n",
       "      <td>ib5G6X1eUxUn6</td>\n",
       "      <td>am7c</td>\n",
       "      <td>NaN</td>\n",
       "    </tr>\n",
       "    <tr>\n",
       "      <th>3</th>\n",
       "      <td>NaN</td>\n",
       "      <td>NaN</td>\n",
       "      <td>NaN</td>\n",
       "      <td>NaN</td>\n",
       "      <td>NaN</td>\n",
       "      <td>NaN</td>\n",
       "      <td>0.0</td>\n",
       "      <td>NaN</td>\n",
       "      <td>NaN</td>\n",
       "      <td>NaN</td>\n",
       "      <td>...</td>\n",
       "      <td>oslk</td>\n",
       "      <td>CE7uk3u</td>\n",
       "      <td>LM8l689qOp</td>\n",
       "      <td>NaN</td>\n",
       "      <td>NaN</td>\n",
       "      <td>FSa2</td>\n",
       "      <td>RAYp</td>\n",
       "      <td>F2FyR07IdsN7I</td>\n",
       "      <td>NaN</td>\n",
       "      <td>NaN</td>\n",
       "    </tr>\n",
       "    <tr>\n",
       "      <th>4</th>\n",
       "      <td>NaN</td>\n",
       "      <td>NaN</td>\n",
       "      <td>NaN</td>\n",
       "      <td>NaN</td>\n",
       "      <td>NaN</td>\n",
       "      <td>1029.0</td>\n",
       "      <td>7.0</td>\n",
       "      <td>NaN</td>\n",
       "      <td>NaN</td>\n",
       "      <td>NaN</td>\n",
       "      <td>...</td>\n",
       "      <td>oslk</td>\n",
       "      <td>1J2cvxe</td>\n",
       "      <td>LM8l689qOp</td>\n",
       "      <td>NaN</td>\n",
       "      <td>kG3k</td>\n",
       "      <td>FSa2</td>\n",
       "      <td>RAYp</td>\n",
       "      <td>F2FyR07IdsN7I</td>\n",
       "      <td>mj86</td>\n",
       "      <td>NaN</td>\n",
       "    </tr>\n",
       "  </tbody>\n",
       "</table>\n",
       "<p>5 rows × 230 columns</p>\n",
       "</div>"
      ],
      "text/plain": [
       "   Var1  Var2  Var3  Var4  Var5    Var6  Var7  Var8  Var9  Var10   ...    \\\n",
       "0   NaN   NaN   NaN   NaN   NaN  1526.0   7.0   NaN   NaN    NaN   ...     \n",
       "1   NaN   NaN   NaN   NaN   NaN   525.0   0.0   NaN   NaN    NaN   ...     \n",
       "2   NaN   NaN   NaN   NaN   NaN  5236.0   7.0   NaN   NaN    NaN   ...     \n",
       "3   NaN   NaN   NaN   NaN   NaN     NaN   0.0   NaN   NaN    NaN   ...     \n",
       "4   NaN   NaN   NaN   NaN   NaN  1029.0   7.0   NaN   NaN    NaN   ...     \n",
       "\n",
       "    Var221   Var222      Var223  Var224  Var225  Var226   Var227  \\\n",
       "0     oslk  fXVEsaq  jySVZNlOJy     NaN     NaN    xb3V     RAYp   \n",
       "1     oslk  2Kb5FSF  LM8l689qOp     NaN     NaN    fKCe     RAYp   \n",
       "2  Al6ZaUT  NKv4yOc  jySVZNlOJy     NaN    kG3k    Qu4f  02N6s8f   \n",
       "3     oslk  CE7uk3u  LM8l689qOp     NaN     NaN    FSa2     RAYp   \n",
       "4     oslk  1J2cvxe  LM8l689qOp     NaN    kG3k    FSa2     RAYp   \n",
       "\n",
       "          Var228  Var229  Var230  \n",
       "0  F2FyR07IdsN7I     NaN     NaN  \n",
       "1  F2FyR07IdsN7I     NaN     NaN  \n",
       "2  ib5G6X1eUxUn6    am7c     NaN  \n",
       "3  F2FyR07IdsN7I     NaN     NaN  \n",
       "4  F2FyR07IdsN7I    mj86     NaN  \n",
       "\n",
       "[5 rows x 230 columns]"
      ]
     },
     "execution_count": 401,
     "metadata": {},
     "output_type": "execute_result"
    }
   ],
   "source": [
    "train = pd.read_table('orange_small_train.data/orange_small_train.data')\n",
    "train.head()"
   ]
  },
  {
   "cell_type": "code",
   "execution_count": 402,
   "metadata": {},
   "outputs": [],
   "source": [
    "target_churn = pd.read_table('orange_small_train_churn.labels', header=None)\n",
    "target_churn.columns = [\"labels\"]\n",
    "target_churn = (target_churn + 1)/2"
   ]
  },
  {
   "cell_type": "code",
   "execution_count": 403,
   "metadata": {},
   "outputs": [
    {
     "data": {
      "text/plain": [
       "0    46328\n",
       "1     3672\n",
       "Name: labels, dtype: int64"
      ]
     },
     "execution_count": 403,
     "metadata": {},
     "output_type": "execute_result"
    }
   ],
   "source": [
    "target_churn['labels'].value_counts()"
   ]
  },
  {
   "cell_type": "markdown",
   "metadata": {},
   "source": [
    "# Missing Values"
   ]
  },
  {
   "cell_type": "code",
   "execution_count": 404,
   "metadata": {},
   "outputs": [
    {
     "data": {
      "text/plain": [
       "Var1      0.98596\n",
       "Var2      0.97518\n",
       "Var3      0.97520\n",
       "Var4      0.96842\n",
       "Var5      0.97026\n",
       "Var6      0.11058\n",
       "Var7      0.11078\n",
       "Var8      1.00000\n",
       "Var9      0.98596\n",
       "Var10     0.97026\n",
       "Var11     0.97520\n",
       "Var12     0.98884\n",
       "Var13     0.11078\n",
       "Var14     0.97520\n",
       "Var15     1.00000\n",
       "Var16     0.97026\n",
       "Var17     0.96842\n",
       "Var18     0.96842\n",
       "Var19     0.96842\n",
       "Var20     1.00000\n",
       "Var21     0.11058\n",
       "Var22     0.10018\n",
       "Var23     0.97026\n",
       "Var24     0.14460\n",
       "Var25     0.10018\n",
       "Var26     0.97026\n",
       "Var27     0.97026\n",
       "Var28     0.10022\n",
       "Var29     0.98596\n",
       "Var30     0.98596\n",
       "           ...   \n",
       "Var201    0.74434\n",
       "Var202    0.00002\n",
       "Var203    0.00286\n",
       "Var204    0.00000\n",
       "Var205    0.03868\n",
       "Var206    0.11058\n",
       "Var207    0.00000\n",
       "Var208    0.00286\n",
       "Var209    1.00000\n",
       "Var210    0.00000\n",
       "Var211    0.00000\n",
       "Var212    0.00000\n",
       "Var213    0.97742\n",
       "Var214    0.50816\n",
       "Var215    0.98612\n",
       "Var216    0.00000\n",
       "Var217    0.01406\n",
       "Var218    0.01406\n",
       "Var219    0.10422\n",
       "Var220    0.00000\n",
       "Var221    0.00000\n",
       "Var222    0.00000\n",
       "Var223    0.10422\n",
       "Var224    0.98360\n",
       "Var225    0.52288\n",
       "Var226    0.00000\n",
       "Var227    0.00000\n",
       "Var228    0.00000\n",
       "Var229    0.56864\n",
       "Var230    1.00000\n",
       "Length: 230, dtype: float64"
      ]
     },
     "execution_count": 404,
     "metadata": {},
     "output_type": "execute_result"
    }
   ],
   "source": [
    "train.isnull().sum(axis = 0)/len(train)"
   ]
  },
  {
   "cell_type": "code",
   "execution_count": 405,
   "metadata": {},
   "outputs": [],
   "source": [
    "for i,j in enumerate(train.isnull().sum(axis = 0)/len(train)):\n",
    "    if j>=1:\n",
    "        train = train.drop([\"Var\" + str(i+1)], axis = 1)"
   ]
  },
  {
   "cell_type": "code",
   "execution_count": 406,
   "metadata": {},
   "outputs": [],
   "source": [
    "# https://stackoverflow.com/questions/25239958/impute-categorical-missing-values-in-scikit-learn\n",
    "from sklearn.base import TransformerMixin\n",
    "\n",
    "class DataFrameImputer(TransformerMixin):\n",
    "\n",
    "    def __init__(self):\n",
    "        \"\"\"Impute missing values.\n",
    "\n",
    "        Columns of dtype object are imputed with the most frequent value \n",
    "        in column.\n",
    "\n",
    "        Columns of other types are imputed with mean of column.\n",
    "\n",
    "        \"\"\"\n",
    "    def fit(self, X, y=None):\n",
    "\n",
    "        self.fill = pd.Series([\"missing\"\n",
    "            if X[c].dtype == np.dtype('O') else X[c].mean() for c in X],\n",
    "            index=X.columns)\n",
    "\n",
    "        return self\n",
    "\n",
    "    def transform(self, X, y=None):\n",
    "        return X.fillna(self.fill)"
   ]
  },
  {
   "cell_type": "code",
   "execution_count": 407,
   "metadata": {},
   "outputs": [],
   "source": [
    "imp = DataFrameImputer().fit(train)\n",
    "train = imp.transform(train)"
   ]
  },
  {
   "cell_type": "code",
   "execution_count": 408,
   "metadata": {},
   "outputs": [],
   "source": [
    "from sklearn import preprocessing\n",
    "le = preprocessing.LabelEncoder()\n",
    "\n",
    "for i in range(0,train.shape[1]):\n",
    "    if train.dtypes[i]=='object':\n",
    "        train[train.columns[i]] = le.fit_transform(train[train.columns[i]])"
   ]
  },
  {
   "cell_type": "code",
   "execution_count": 339,
   "metadata": {},
   "outputs": [
    {
     "data": {
      "text/plain": [
       "(50000, 212)"
      ]
     },
     "execution_count": 339,
     "metadata": {},
     "output_type": "execute_result"
    }
   ],
   "source": [
    "train.shape"
   ]
  },
  {
   "cell_type": "code",
   "execution_count": 340,
   "metadata": {},
   "outputs": [
    {
     "data": {
      "text/plain": [
       "(50000, 1)"
      ]
     },
     "execution_count": 340,
     "metadata": {},
     "output_type": "execute_result"
    }
   ],
   "source": [
    "target_churn.shape"
   ]
  },
  {
   "cell_type": "code",
   "execution_count": 341,
   "metadata": {},
   "outputs": [
    {
     "data": {
      "text/html": [
       "<div>\n",
       "<style scoped>\n",
       "    .dataframe tbody tr th:only-of-type {\n",
       "        vertical-align: middle;\n",
       "    }\n",
       "\n",
       "    .dataframe tbody tr th {\n",
       "        vertical-align: top;\n",
       "    }\n",
       "\n",
       "    .dataframe thead th {\n",
       "        text-align: right;\n",
       "    }\n",
       "</style>\n",
       "<table border=\"1\" class=\"dataframe\">\n",
       "  <thead>\n",
       "    <tr style=\"text-align: right;\">\n",
       "      <th></th>\n",
       "      <th>Var1</th>\n",
       "      <th>Var2</th>\n",
       "      <th>Var3</th>\n",
       "      <th>Var4</th>\n",
       "      <th>Var5</th>\n",
       "      <th>Var6</th>\n",
       "      <th>Var7</th>\n",
       "      <th>Var9</th>\n",
       "      <th>Var10</th>\n",
       "      <th>Var11</th>\n",
       "      <th>...</th>\n",
       "      <th>Var220</th>\n",
       "      <th>Var221</th>\n",
       "      <th>Var222</th>\n",
       "      <th>Var223</th>\n",
       "      <th>Var224</th>\n",
       "      <th>Var225</th>\n",
       "      <th>Var226</th>\n",
       "      <th>Var227</th>\n",
       "      <th>Var228</th>\n",
       "      <th>Var229</th>\n",
       "    </tr>\n",
       "  </thead>\n",
       "  <tbody>\n",
       "    <tr>\n",
       "      <th>0</th>\n",
       "      <td>11.487179</td>\n",
       "      <td>0.004029</td>\n",
       "      <td>425.298387</td>\n",
       "      <td>0.125396</td>\n",
       "      <td>238793.32885</td>\n",
       "      <td>1526.000000</td>\n",
       "      <td>7.0</td>\n",
       "      <td>48.145299</td>\n",
       "      <td>392605.656355</td>\n",
       "      <td>8.625806</td>\n",
       "      <td>...</td>\n",
       "      <td>94</td>\n",
       "      <td>4</td>\n",
       "      <td>2964</td>\n",
       "      <td>3</td>\n",
       "      <td>1</td>\n",
       "      <td>2</td>\n",
       "      <td>22</td>\n",
       "      <td>2</td>\n",
       "      <td>8</td>\n",
       "      <td>1</td>\n",
       "    </tr>\n",
       "    <tr>\n",
       "      <th>1</th>\n",
       "      <td>11.487179</td>\n",
       "      <td>0.004029</td>\n",
       "      <td>425.298387</td>\n",
       "      <td>0.125396</td>\n",
       "      <td>238793.32885</td>\n",
       "      <td>525.000000</td>\n",
       "      <td>0.0</td>\n",
       "      <td>48.145299</td>\n",
       "      <td>392605.656355</td>\n",
       "      <td>8.625806</td>\n",
       "      <td>...</td>\n",
       "      <td>10</td>\n",
       "      <td>4</td>\n",
       "      <td>125</td>\n",
       "      <td>0</td>\n",
       "      <td>1</td>\n",
       "      <td>2</td>\n",
       "      <td>14</td>\n",
       "      <td>2</td>\n",
       "      <td>8</td>\n",
       "      <td>1</td>\n",
       "    </tr>\n",
       "    <tr>\n",
       "      <th>2</th>\n",
       "      <td>11.487179</td>\n",
       "      <td>0.004029</td>\n",
       "      <td>425.298387</td>\n",
       "      <td>0.125396</td>\n",
       "      <td>238793.32885</td>\n",
       "      <td>5236.000000</td>\n",
       "      <td>7.0</td>\n",
       "      <td>48.145299</td>\n",
       "      <td>392605.656355</td>\n",
       "      <td>8.625806</td>\n",
       "      <td>...</td>\n",
       "      <td>1293</td>\n",
       "      <td>0</td>\n",
       "      <td>1610</td>\n",
       "      <td>3</td>\n",
       "      <td>1</td>\n",
       "      <td>1</td>\n",
       "      <td>10</td>\n",
       "      <td>0</td>\n",
       "      <td>25</td>\n",
       "      <td>0</td>\n",
       "    </tr>\n",
       "    <tr>\n",
       "      <th>3</th>\n",
       "      <td>11.487179</td>\n",
       "      <td>0.004029</td>\n",
       "      <td>425.298387</td>\n",
       "      <td>0.125396</td>\n",
       "      <td>238793.32885</td>\n",
       "      <td>1326.437116</td>\n",
       "      <td>0.0</td>\n",
       "      <td>48.145299</td>\n",
       "      <td>392605.656355</td>\n",
       "      <td>8.625806</td>\n",
       "      <td>...</td>\n",
       "      <td>1444</td>\n",
       "      <td>4</td>\n",
       "      <td>817</td>\n",
       "      <td>0</td>\n",
       "      <td>1</td>\n",
       "      <td>2</td>\n",
       "      <td>7</td>\n",
       "      <td>2</td>\n",
       "      <td>8</td>\n",
       "      <td>1</td>\n",
       "    </tr>\n",
       "    <tr>\n",
       "      <th>4</th>\n",
       "      <td>11.487179</td>\n",
       "      <td>0.004029</td>\n",
       "      <td>425.298387</td>\n",
       "      <td>0.125396</td>\n",
       "      <td>238793.32885</td>\n",
       "      <td>1029.000000</td>\n",
       "      <td>7.0</td>\n",
       "      <td>48.145299</td>\n",
       "      <td>392605.656355</td>\n",
       "      <td>8.625806</td>\n",
       "      <td>...</td>\n",
       "      <td>1731</td>\n",
       "      <td>4</td>\n",
       "      <td>65</td>\n",
       "      <td>0</td>\n",
       "      <td>1</td>\n",
       "      <td>1</td>\n",
       "      <td>7</td>\n",
       "      <td>2</td>\n",
       "      <td>8</td>\n",
       "      <td>2</td>\n",
       "    </tr>\n",
       "  </tbody>\n",
       "</table>\n",
       "<p>5 rows × 212 columns</p>\n",
       "</div>"
      ],
      "text/plain": [
       "        Var1      Var2        Var3      Var4          Var5         Var6  Var7  \\\n",
       "0  11.487179  0.004029  425.298387  0.125396  238793.32885  1526.000000   7.0   \n",
       "1  11.487179  0.004029  425.298387  0.125396  238793.32885   525.000000   0.0   \n",
       "2  11.487179  0.004029  425.298387  0.125396  238793.32885  5236.000000   7.0   \n",
       "3  11.487179  0.004029  425.298387  0.125396  238793.32885  1326.437116   0.0   \n",
       "4  11.487179  0.004029  425.298387  0.125396  238793.32885  1029.000000   7.0   \n",
       "\n",
       "        Var9          Var10     Var11   ...    Var220  Var221  Var222  Var223  \\\n",
       "0  48.145299  392605.656355  8.625806   ...        94       4    2964       3   \n",
       "1  48.145299  392605.656355  8.625806   ...        10       4     125       0   \n",
       "2  48.145299  392605.656355  8.625806   ...      1293       0    1610       3   \n",
       "3  48.145299  392605.656355  8.625806   ...      1444       4     817       0   \n",
       "4  48.145299  392605.656355  8.625806   ...      1731       4      65       0   \n",
       "\n",
       "   Var224  Var225  Var226  Var227  Var228  Var229  \n",
       "0       1       2      22       2       8       1  \n",
       "1       1       2      14       2       8       1  \n",
       "2       1       1      10       0      25       0  \n",
       "3       1       2       7       2       8       1  \n",
       "4       1       1       7       2       8       2  \n",
       "\n",
       "[5 rows x 212 columns]"
      ]
     },
     "execution_count": 341,
     "metadata": {},
     "output_type": "execute_result"
    }
   ],
   "source": [
    "train.head()"
   ]
  },
  {
   "cell_type": "code",
   "execution_count": 409,
   "metadata": {},
   "outputs": [],
   "source": [
    "X_train, X_test, y_train, y_test = train_test_split(train,target_churn ,test_size=0.2, random_state=42)"
   ]
  },
  {
   "cell_type": "code",
   "execution_count": 396,
   "metadata": {},
   "outputs": [
    {
     "name": "stderr",
     "output_type": "stream",
     "text": [
      "C:\\Users\\ABHISEK\\Anaconda3\\lib\\site-packages\\sklearn\\preprocessing\\data.py:645: DataConversionWarning: Data with input dtype int32, int64, float64 were all converted to float64 by StandardScaler.\n",
      "  return self.partial_fit(X, y)\n",
      "C:\\Users\\ABHISEK\\Anaconda3\\lib\\site-packages\\ipykernel_launcher.py:4: DataConversionWarning: Data with input dtype int32, int64, float64 were all converted to float64 by StandardScaler.\n",
      "  after removing the cwd from sys.path.\n",
      "C:\\Users\\ABHISEK\\Anaconda3\\lib\\site-packages\\ipykernel_launcher.py:5: DataConversionWarning: Data with input dtype int32, int64, float64 were all converted to float64 by StandardScaler.\n",
      "  \"\"\"\n"
     ]
    }
   ],
   "source": [
    "# prepare the scaler with train data\n",
    "scaler = StandardScaler(with_mean=False).fit(X_train)\n",
    "# transform both train and test data\n",
    "X_train = scaler.transform(X_train)\n",
    "X_test = scaler.transform(X_test)"
   ]
  },
  {
   "cell_type": "code",
   "execution_count": 410,
   "metadata": {},
   "outputs": [
    {
     "name": "stderr",
     "output_type": "stream",
     "text": [
      "C:\\Users\\ABHISEK\\Anaconda3\\lib\\site-packages\\ipykernel_launcher.py:1: DataConversionWarning: Data with input dtype int32, int64, float64 were all converted to float64 by the scale function.\n",
      "  \"\"\"Entry point for launching an IPython kernel.\n",
      "C:\\Users\\ABHISEK\\Anaconda3\\lib\\site-packages\\ipykernel_launcher.py:2: DataConversionWarning: Data with input dtype int32, int64, float64 were all converted to float64 by the scale function.\n",
      "  \n"
     ]
    }
   ],
   "source": [
    "X_train = preprocessing.scale(X_train)\n",
    "X_test = preprocessing.scale(X_test)"
   ]
  },
  {
   "cell_type": "markdown",
   "metadata": {},
   "source": [
    "# Random Forest"
   ]
  },
  {
   "cell_type": "code",
   "execution_count": 372,
   "metadata": {},
   "outputs": [
    {
     "name": "stdout",
     "output_type": "stream",
     "text": [
      "Fitting 3 folds for each of 10 candidates, totalling 30 fits\n"
     ]
    },
    {
     "name": "stderr",
     "output_type": "stream",
     "text": [
      "[Parallel(n_jobs=-1)]: Using backend LokyBackend with 4 concurrent workers.\n",
      "[Parallel(n_jobs=-1)]: Done   5 tasks      | elapsed:  2.0min\n",
      "[Parallel(n_jobs=-1)]: Done  10 tasks      | elapsed:  3.4min\n",
      "[Parallel(n_jobs=-1)]: Done  17 tasks      | elapsed:  4.1min\n",
      "[Parallel(n_jobs=-1)]: Done  27 out of  30 | elapsed:  6.3min remaining:   41.8s\n",
      "[Parallel(n_jobs=-1)]: Done  30 out of  30 | elapsed:  6.8min finished\n"
     ]
    },
    {
     "name": "stdout",
     "output_type": "stream",
     "text": [
      "Tuned Parameters: {'n_estimators': 500, 'min_samples_split': 10, 'min_samples_leaf': 1, 'max_depth': 8}\n",
      "Best score is 0.7976021848413907\n"
     ]
    }
   ],
   "source": [
    "tuned_parameters = {\n",
    "'max_depth' : [3,5,8],\n",
    "'n_estimators': [300, 500],\n",
    "'min_samples_split' :[10,15],\n",
    "'min_samples_leaf' : [1, 2, 5, 10]}\n",
    "# Instantiate a logistic regression classifier: logreg\n",
    "rfc=RandomForestClassifier(random_state=1, class_weight=\"balanced\")\n",
    "\n",
    "\n",
    "# Instantiate the GridSearchCV object: logreg_cv\n",
    "\n",
    "param_comb = 10\n",
    "rfc_cv = RandomizedSearchCV(rfc, param_distributions=tuned_parameters, n_iter=param_comb, scoring=\"roc_auc\", n_jobs=-1, cv=3, verbose=10, random_state=1 )\n",
    "\n",
    "\n",
    "# Fit it to the data\n",
    "rfc_cv.fit(X_train, y_train)\n",
    "\n",
    "# Print the tuned parameter and score\n",
    "print(\"Tuned Parameters: {}\".format(rfc_cv.best_params_))\n",
    "print(\"Best score is {}\".format(rfc_cv.best_score_))"
   ]
  },
  {
   "cell_type": "code",
   "execution_count": 373,
   "metadata": {},
   "outputs": [],
   "source": [
    "#clf.fit(X_train, y_train)\n",
    "predictions = rfc_cv.predict(X_test)"
   ]
  },
  {
   "cell_type": "code",
   "execution_count": 374,
   "metadata": {},
   "outputs": [
    {
     "data": {
      "image/png": "[encoded data removed]",
      "text/plain": [
       "<matplotlib.figure.Figure at 0x19ff3cd37f0>"
      ]
     },
     "metadata": {},
     "output_type": "display_data"
    }
   ],
   "source": [
    "import matplotlib.pyplot as plt\n",
    "import seaborn as sns\n",
    "%matplotlib inline\n",
    "%matplotlib inline\n",
    "#Gerando Matriz de Confusão\n",
    "conf_matrix = confusion_matrix(y_test, predictions)\n",
    "plt.figure(figsize=(4, 4))\n",
    "sns.heatmap(conf_matrix,  annot=True,xticklabels=['Neg','pos'], yticklabels=['Neg','Pos'],fmt=\"d\")\n",
    "plt.title(\"Confusion matrix\")\n",
    "plt.ylabel('True class')\n",
    "plt.xlabel('Predicted class')\n",
    "plt.show()"
   ]
  },
  {
   "cell_type": "code",
   "execution_count": 375,
   "metadata": {},
   "outputs": [
    {
     "data": {
      "text/plain": [
       "0.7233402748229846"
      ]
     },
     "execution_count": 375,
     "metadata": {},
     "output_type": "execute_result"
    }
   ],
   "source": [
    "roc_auc_score(y_test, predictions)"
   ]
  },
  {
   "cell_type": "markdown",
   "metadata": {},
   "source": [
    "# XGB"
   ]
  },
  {
   "cell_type": "code",
   "execution_count": 414,
   "metadata": {},
   "outputs": [
    {
     "name": "stdout",
     "output_type": "stream",
     "text": [
      "Fitting 3 folds for each of 5 candidates, totalling 15 fits\n"
     ]
    },
    {
     "name": "stderr",
     "output_type": "stream",
     "text": [
      "[Parallel(n_jobs=-1)]: Using backend LokyBackend with 4 concurrent workers.\n",
      "[Parallel(n_jobs=-1)]: Done  12 out of  15 | elapsed:  2.7min remaining:   40.7s\n",
      "[Parallel(n_jobs=-1)]: Done  15 out of  15 | elapsed:  4.9min finished\n",
      "C:\\Users\\ABHISEK\\Anaconda3\\lib\\site-packages\\sklearn\\preprocessing\\label.py:219: DataConversionWarning: A column-vector y was passed when a 1d array was expected. Please change the shape of y to (n_samples, ), for example using ravel().\n",
      "  y = column_or_1d(y, warn=True)\n",
      "C:\\Users\\ABHISEK\\Anaconda3\\lib\\site-packages\\sklearn\\preprocessing\\label.py:252: DataConversionWarning: A column-vector y was passed when a 1d array was expected. Please change the shape of y to (n_samples, ), for example using ravel().\n",
      "  y = column_or_1d(y, warn=True)\n"
     ]
    },
    {
     "data": {
      "text/plain": [
       "RandomizedSearchCV(cv=3, error_score='raise-deprecating',\n",
       "          estimator=XGBClassifier(base_score=0.5, booster='gbtree', colsample_bylevel=1,\n",
       "       colsample_bytree=1, gamma=0, learning_rate=0.02, max_delta_step=0,\n",
       "       max_depth=3, min_child_weight=1, missing=None, n_estimators=100,\n",
       "       n_jobs=1, nthread=None, objective='binary:logistic', random_state=0,\n",
       "       reg_alpha=0, reg_lambda=1, scale_pos_weight=12.6, seed=None,\n",
       "       silent=True, subsample=1),\n",
       "          fit_params=None, iid='warn', n_iter=5, n_jobs=-1,\n",
       "          param_distributions={'n_estimators': [100, 300, 500], 'min_child_weight': [1, 5, 10], 'gamma': [0.5, 1, 1.5, 2, 5], 'subsample': [0.6, 0.8, 1.0], 'colsample_bytree': [0.6, 0.8, 1.0], 'max_depth': [3, 5]},\n",
       "          pre_dispatch='2*n_jobs', random_state=1, refit=True,\n",
       "          return_train_score='warn', scoring='roc_auc', verbose=5)"
      ]
     },
     "execution_count": 414,
     "metadata": {},
     "output_type": "execute_result"
    }
   ],
   "source": [
    "from sklearn.model_selection import RandomizedSearchCV\n",
    "#import timer\n",
    "import math\n",
    "import xgboost as xgb\n",
    "\n",
    "\n",
    "# A parameter grid for XGBoost\n",
    "params = {\n",
    "        'n_estimators': [100,300,500],\n",
    "        'min_child_weight': [1, 5, 10],\n",
    "        'gamma': [0.5, 1, 1.5, 2, 5],\n",
    "        'subsample': [0.6, 0.8, 1.0],\n",
    "        'colsample_bytree': [0.6, 0.8, 1.0],\n",
    "        'max_depth': [3,5]\n",
    "        }\n",
    "\n",
    "# scale_pos_weight = np.sum(y == 1)/ float(np.sum(y == 0))\n",
    "# sum(negative instances) / sum(positive instances)\n",
    "xgb_random = xgb.XGBClassifier(learning_rate=0.02, scale_pos_weight=12.6)\n",
    "\n",
    "\n",
    "param_comb = 5\n",
    "random_search = RandomizedSearchCV(xgb_random, param_distributions=params, n_iter=param_comb, scoring='roc_auc', n_jobs=-1, cv=3, verbose=5, random_state=1 )\n",
    "\n",
    "random_search.fit(X_train, y_train)"
   ]
  },
  {
   "cell_type": "code",
   "execution_count": 415,
   "metadata": {},
   "outputs": [],
   "source": [
    "predictions = random_search.predict(X_test)"
   ]
  },
  {
   "cell_type": "code",
   "execution_count": 416,
   "metadata": {},
   "outputs": [
    {
     "data": {
      "image/png": "[encoded data removed]",
      "text/plain": [
       "<matplotlib.figure.Figure at 0x19ff3d2db38>"
      ]
     },
     "metadata": {},
     "output_type": "display_data"
    }
   ],
   "source": [
    "import matplotlib.pyplot as plt\n",
    "import seaborn as sns\n",
    "%matplotlib inline\n",
    "%matplotlib inline\n",
    "#Gerando Matriz de Confusão\n",
    "conf_matrix = confusion_matrix(y_test, predictions)\n",
    "plt.figure(figsize=(4, 4))\n",
    "sns.heatmap(conf_matrix,  annot=True,xticklabels=['Neg','pos'], yticklabels=['Neg','Pos'],fmt=\"d\")\n",
    "plt.title(\"Confusion matrix\")\n",
    "plt.ylabel('True class')\n",
    "plt.xlabel('Predicted class')\n",
    "plt.show()"
   ]
  },
  {
   "cell_type": "code",
   "execution_count": 417,
   "metadata": {},
   "outputs": [
    {
     "data": {
      "text/plain": [
       "0.6697636839480592"
      ]
     },
     "execution_count": 417,
     "metadata": {},
     "output_type": "execute_result"
    }
   ],
   "source": [
    "roc_auc_score(y_test, predictions)"
   ]
  },
  {
   "cell_type": "markdown",
   "metadata": {},
   "source": [
    "# Neural Network with Imbalanced Dataset"
   ]
  },
  {
   "cell_type": "markdown",
   "metadata": {},
   "source": [
    "## Applying SMOTE"
   ]
  },
  {
   "cell_type": "code",
   "execution_count": 273,
   "metadata": {},
   "outputs": [
    {
     "name": "stderr",
     "output_type": "stream",
     "text": [
      "C:\\Users\\ABHISEK\\Anaconda3\\lib\\site-packages\\sklearn\\utils\\validation.py:761: DataConversionWarning: A column-vector y was passed when a 1d array was expected. Please change the shape of y to (n_samples, ), for example using ravel().\n",
      "  y = column_or_1d(y, warn=True)\n"
     ]
    }
   ],
   "source": [
    "sm = SMOTE(sampling_strategy='auto')\n",
    "X_train_res, y_train_res = sm.fit_sample(X_train, y_train)"
   ]
  },
  {
   "cell_type": "code",
   "execution_count": 274,
   "metadata": {},
   "outputs": [
    {
     "name": "stdout",
     "output_type": "stream",
     "text": [
      "After OverSampling, the shape of X_train: (74046, 212)\n",
      "After OverSampling, the shape of y_train: (74046,) \n",
      "\n",
      "After OverSampling, counts of label '1': 37023\n",
      "After OverSampling, counts of label '0': 37023\n"
     ]
    }
   ],
   "source": [
    "print('After OverSampling, the shape of X_train: {}'.format(X_train_res.shape))\n",
    "print('After OverSampling, the shape of y_train: {} \\n'.format(y_train_res.shape))\n",
    "\n",
    "print(\"After OverSampling, counts of label '1': {}\".format(sum(y_train_res==1)))\n",
    "print(\"After OverSampling, counts of label '0': {}\".format(sum(y_train_res==0)))"
   ]
  },
  {
   "cell_type": "code",
   "execution_count": 283,
   "metadata": {},
   "outputs": [],
   "source": [
    "X_train = preprocessing.scale(X_train)\n",
    "X_test = preprocessing.scale(X_test)"
   ]
  },
  {
   "cell_type": "code",
   "execution_count": 284,
   "metadata": {},
   "outputs": [],
   "source": [
    "from keras.models import Sequential\n",
    "from keras.layers import Dense, Activation"
   ]
  },
  {
   "cell_type": "code",
   "execution_count": 285,
   "metadata": {},
   "outputs": [],
   "source": [
    "import tensorflow as tf\n",
    "# define roc_callback, inspired by https://github.com/keras-team/keras/issues/6050#issuecomment-329996505\n",
    "def auc_roc(y_true, y_pred):\n",
    "    # any tensorflow metric\n",
    "    value, update_op = tf.contrib.metrics.streaming_auc(y_pred, y_true)\n",
    "\n",
    "    # find all variables created for this metric\n",
    "    metric_vars = [i for i in tf.local_variables() if 'auc_roc' in i.name.split('/')[1]]\n",
    "\n",
    "    # Add metric variables to GLOBAL_VARIABLES collection.\n",
    "    # They will be initialized for new session.\n",
    "    for v in metric_vars:\n",
    "        tf.add_to_collection(tf.GraphKeys.GLOBAL_VARIABLES, v)\n",
    "\n",
    "    # force to update metric values\n",
    "    with tf.control_dependencies([update_op]):\n",
    "        value = tf.identity(value)\n",
    "        return value"
   ]
  },
  {
   "cell_type": "code",
   "execution_count": 286,
   "metadata": {},
   "outputs": [],
   "source": [
    "# some model parameters\n",
    "output_dim = 1\n",
    "input_dim = X_train_res.shape[1]\n",
    "batch_size = 128\n",
    "nb_epoch = 20"
   ]
  },
  {
   "cell_type": "code",
   "execution_count": 287,
   "metadata": {},
   "outputs": [
    {
     "name": "stdout",
     "output_type": "stream",
     "text": [
      "_________________________________________________________________\n",
      "Layer (type)                 Output Shape              Param #   \n",
      "=================================================================\n",
      "dense_97 (Dense)             (None, 128)               27264     \n",
      "_________________________________________________________________\n",
      "batch_normalization_81 (Batc (None, 128)               512       \n",
      "_________________________________________________________________\n",
      "dense_98 (Dense)             (None, 64)                8256      \n",
      "_________________________________________________________________\n",
      "batch_normalization_82 (Batc (None, 64)                256       \n",
      "_________________________________________________________________\n",
      "dense_99 (Dense)             (None, 32)                2080      \n",
      "_________________________________________________________________\n",
      "batch_normalization_83 (Batc (None, 32)                128       \n",
      "_________________________________________________________________\n",
      "dense_100 (Dense)            (None, 16)                528       \n",
      "_________________________________________________________________\n",
      "batch_normalization_84 (Batc (None, 16)                64        \n",
      "_________________________________________________________________\n",
      "dense_101 (Dense)            (None, 8)                 136       \n",
      "_________________________________________________________________\n",
      "batch_normalization_85 (Batc (None, 8)                 32        \n",
      "_________________________________________________________________\n",
      "dense_102 (Dense)            (None, 1)                 9         \n",
      "=================================================================\n",
      "Total params: 39,265\n",
      "Trainable params: 38,769\n",
      "Non-trainable params: 496\n",
      "_________________________________________________________________\n"
     ]
    }
   ],
   "source": [
    "# input-256-120-output\n",
    "from keras.layers import Dropout\n",
    "from keras.layers.normalization import BatchNormalization\n",
    "# Multilayer perceptron\n",
    "from keras import regularizers\n",
    "model_relu = Sequential()\n",
    "model_relu.add(Dense(128, activation='relu', kernel_initializer='he_normal', kernel_regularizer=regularizers.l2(0.01), input_shape=(input_dim,)))\n",
    "model_relu.add(BatchNormalization())\n",
    "#model_relu.add(Dropout(0.3))\n",
    "model_relu.add(Dense(64, activation='relu', kernel_initializer='he_normal', kernel_regularizer=regularizers.l2(0.01), input_shape=(input_dim,)))\n",
    "model_relu.add(BatchNormalization())\n",
    "#model_relu.add(Dropout(0.3))\n",
    "model_relu.add(Dense(32, activation='relu', kernel_initializer='he_normal', kernel_regularizer=regularizers.l2(0.01)))\n",
    "model_relu.add(BatchNormalization())\n",
    "#model_relu.add(Dropout(0.3))\n",
    "model_relu.add(Dense(16, activation='relu', kernel_initializer='he_normal', kernel_regularizer=regularizers.l2(0.01), input_shape=(input_dim,)))\n",
    "model_relu.add(BatchNormalization())\n",
    "#model_relu.add(Dropout(0.3))\n",
    "model_relu.add(Dense(8, activation='relu', kernel_initializer='he_normal', kernel_regularizer=regularizers.l2(0.01), input_shape=(input_dim,)))\n",
    "model_relu.add(BatchNormalization())\n",
    "#model_relu.add(Dropout(0.3))\n",
    "model_relu.add(Dense(output_dim, activation='sigmoid'))\n",
    "\n",
    "model_relu.summary()"
   ]
  },
  {
   "cell_type": "code",
   "execution_count": 288,
   "metadata": {},
   "outputs": [
    {
     "name": "stdout",
     "output_type": "stream",
     "text": [
      "Train on 74046 samples, validate on 10000 samples\n",
      "Epoch 1/20\n",
      "74046/74046 [==============================] - 13s 179us/step - loss: 2.1258 - auc_roc: 0.6748 - val_loss: 0.7501 - val_auc_roc: 0.7708\n",
      "Epoch 2/20\n",
      "74046/74046 [==============================] - 8s 104us/step - loss: 0.7435 - auc_roc: 0.7973 - val_loss: 0.5294 - val_auc_roc: 0.8074\n",
      "Epoch 3/20\n",
      "74046/74046 [==============================] - 7s 101us/step - loss: 0.6232 - auc_roc: 0.8143 - val_loss: 0.8542 - val_auc_roc: 0.8212\n",
      "Epoch 4/20\n",
      "74046/74046 [==============================] - 8s 101us/step - loss: 0.5851 - auc_roc: 0.8270 - val_loss: 0.3470 - val_auc_roc: 0.8312\n",
      "Epoch 5/20\n",
      "74046/74046 [==============================] - 8s 102us/step - loss: 0.5700 - auc_roc: 0.8351 - val_loss: 0.6929 - val_auc_roc: 0.8382\n",
      "Epoch 6/20\n",
      "74046/74046 [==============================] - 8s 102us/step - loss: 0.5575 - auc_roc: 0.8408 - val_loss: 0.6402 - val_auc_roc: 0.8431\n",
      "Epoch 7/20\n",
      "74046/74046 [==============================] - 8s 103us/step - loss: 0.5501 - auc_roc: 0.8451 - val_loss: 0.3969 - val_auc_roc: 0.8464\n",
      "Epoch 8/20\n",
      "74046/74046 [==============================] - 8s 103us/step - loss: 0.5364 - auc_roc: 0.8481 - val_loss: 0.3595 - val_auc_roc: 0.8498\n",
      "Epoch 9/20\n",
      "74046/74046 [==============================] - 8s 102us/step - loss: 0.5284 - auc_roc: 0.8516 - val_loss: 0.5582 - val_auc_roc: 0.8528\n",
      "Epoch 10/20\n",
      "74046/74046 [==============================] - 8s 104us/step - loss: 0.5378 - auc_roc: 0.8537 - val_loss: 1.1764 - val_auc_roc: 0.8547\n",
      "Epoch 11/20\n",
      "74046/74046 [==============================] - 8s 105us/step - loss: 0.5343 - auc_roc: 0.8555 - val_loss: 0.5465 - val_auc_roc: 0.8564\n",
      "Epoch 12/20\n",
      "74046/74046 [==============================] - 8s 106us/step - loss: 0.5262 - auc_roc: 0.8574 - val_loss: 0.5600 - val_auc_roc: 0.8581\n",
      "Epoch 13/20\n",
      "74046/74046 [==============================] - 8s 103us/step - loss: 0.5480 - auc_roc: 0.8584 - val_loss: 0.3528 - val_auc_roc: 0.8585\n",
      "Epoch 14/20\n",
      "74046/74046 [==============================] - 8s 103us/step - loss: 0.5271 - auc_roc: 0.8592 - val_loss: 0.7173 - val_auc_roc: 0.8598\n",
      "Epoch 15/20\n",
      "74046/74046 [==============================] - 8s 103us/step - loss: 0.5319 - auc_roc: 0.8603 - val_loss: 0.7215 - val_auc_roc: 0.8608\n",
      "Epoch 16/20\n",
      "74046/74046 [==============================] - 8s 104us/step - loss: 0.5181 - auc_roc: 0.8613 - val_loss: 0.7625 - val_auc_roc: 0.8619\n",
      "Epoch 17/20\n",
      "74046/74046 [==============================] - 8s 105us/step - loss: 0.5203 - auc_roc: 0.8624 - val_loss: 0.3772 - val_auc_roc: 0.8628\n",
      "Epoch 18/20\n",
      "74046/74046 [==============================] - 8s 103us/step - loss: 0.5350 - auc_roc: 0.8629 - val_loss: 0.6794 - val_auc_roc: 0.8630\n",
      "Epoch 19/20\n",
      "74046/74046 [==============================] - 8s 106us/step - loss: 0.5292 - auc_roc: 0.8631 - val_loss: 0.4748 - val_auc_roc: 0.8630\n",
      "Epoch 20/20\n",
      "74046/74046 [==============================] - 8s 105us/step - loss: 0.5237 - auc_roc: 0.8630 - val_loss: 0.7752 - val_auc_roc: 0.8624\n"
     ]
    }
   ],
   "source": [
    "model_relu.compile(optimizer='adam', loss='binary_crossentropy', metrics=[auc_roc])\n",
    "history = model_relu.fit(X_train_res, y_train_res, batch_size=batch_size, epochs=nb_epoch, verbose=1,validation_data=(X_test, y_test))"
   ]
  },
  {
   "cell_type": "code",
   "execution_count": 289,
   "metadata": {},
   "outputs": [],
   "source": [
    "predictions = model_relu.predict_classes(X_test)"
   ]
  },
  {
   "cell_type": "code",
   "execution_count": 290,
   "metadata": {},
   "outputs": [
    {
     "data": {
      "image/png": "[encoded data removed]",
      "text/plain": [
       "<matplotlib.figure.Figure at 0x19fee81de10>"
      ]
     },
     "metadata": {},
     "output_type": "display_data"
    }
   ],
   "source": [
    "import matplotlib.pyplot as plt\n",
    "import seaborn as sns\n",
    "%matplotlib inline\n",
    "%matplotlib inline\n",
    "#Gerando Matriz de Confusão\n",
    "conf_matrix = confusion_matrix(y_test, predictions)\n",
    "plt.figure(figsize=(4, 4))\n",
    "sns.heatmap(conf_matrix,  annot=True,xticklabels=['Neg','pos'], yticklabels=['Neg','Pos'],fmt=\"d\")\n",
    "plt.title(\"Confusion matrix\")\n",
    "plt.ylabel('True class')\n",
    "plt.xlabel('Predicted class')\n",
    "plt.show()"
   ]
  },
  {
   "cell_type": "code",
   "execution_count": 291,
   "metadata": {},
   "outputs": [
    {
     "data": {
      "text/plain": [
       "0.5481681930114157"
      ]
     },
     "execution_count": 291,
     "metadata": {},
     "output_type": "execute_result"
    }
   ],
   "source": [
    "roc_auc_score(y_test, predictions)"
   ]
  },
  {
   "cell_type": "markdown",
   "metadata": {},
   "source": [
    "# Upsampling of minority class"
   ]
  },
  {
   "cell_type": "code",
   "execution_count": 344,
   "metadata": {},
   "outputs": [
    {
     "data": {
      "text/plain": [
       "1    46328\n",
       "0    46328\n",
       "Name: labels, dtype: int64"
      ]
     },
     "execution_count": 344,
     "metadata": {},
     "output_type": "execute_result"
    }
   ],
   "source": [
    "# https://elitedatascience.com/imbalanced-classes\n",
    "train_comb = pd.concat([train,target_churn], axis=1)\n",
    "\n",
    "# Separate majority and minority classes\n",
    "df_majority = train_comb[train_comb['labels']==0]\n",
    "df_minority = train_comb[train_comb['labels']==1]\n",
    " \n",
    "# Upsample minority class\n",
    "df_minority_upsampled = resample(df_minority, \n",
    "                                 replace=True,     # sample with replacement\n",
    "                                 n_samples=df_majority.shape[0],    # to match majority class\n",
    "                                 random_state=123) # reproducible results\n",
    " \n",
    "# Combine majority class with upsampled minority class\n",
    "df_upsampled = pd.concat([df_majority, df_minority_upsampled])\n",
    " \n",
    "# Display new class counts\n",
    "df_upsampled['labels'].value_counts()"
   ]
  },
  {
   "cell_type": "code",
   "execution_count": 345,
   "metadata": {},
   "outputs": [],
   "source": [
    "target = df_upsampled['labels']\n",
    "df_upsampled = df_upsampled.drop('labels', axis=1)"
   ]
  },
  {
   "cell_type": "code",
   "execution_count": 346,
   "metadata": {},
   "outputs": [],
   "source": [
    "for i,j in enumerate(df_upsampled.isnull().sum(axis = 0)/len(df_upsampled)):\n",
    "    if j>=1:\n",
    "        df_upsampled = df_upsampled.drop([\"Var\" + str(i+1)], axis = 1)"
   ]
  },
  {
   "cell_type": "code",
   "execution_count": 347,
   "metadata": {},
   "outputs": [],
   "source": [
    "imp = DataFrameImputer().fit(df_upsampled)\n",
    "df_upsampled = imp.transform(df_upsampled)"
   ]
  },
  {
   "cell_type": "code",
   "execution_count": 348,
   "metadata": {},
   "outputs": [],
   "source": [
    "from sklearn import preprocessing\n",
    "le = preprocessing.LabelEncoder()\n",
    "\n",
    "for i in range(0,df_upsampled.shape[1]):\n",
    "    if df_upsampled.dtypes[i]=='object':\n",
    "        df_upsampled[df_upsampled.columns[i]] = le.fit_transform(df_upsampled[df_upsampled.columns[i]])"
   ]
  },
  {
   "cell_type": "code",
   "execution_count": 349,
   "metadata": {},
   "outputs": [],
   "source": [
    "X_train, X_test, y_train, y_test = train_test_split(df_upsampled,target,test_size=0.2, random_state=42)"
   ]
  },
  {
   "cell_type": "markdown",
   "metadata": {},
   "source": [
    "# Neural Network"
   ]
  },
  {
   "cell_type": "code",
   "execution_count": 308,
   "metadata": {},
   "outputs": [],
   "source": [
    "# some model parameters\n",
    "output_dim = 1\n",
    "input_dim = X_train.shape[1]\n",
    "batch_size = 128\n",
    "nb_epoch = 50"
   ]
  },
  {
   "cell_type": "code",
   "execution_count": 309,
   "metadata": {},
   "outputs": [],
   "source": [
    "X_train = preprocessing.scale(X_train)\n",
    "X_test = preprocessing.scale(X_test)"
   ]
  },
  {
   "cell_type": "code",
   "execution_count": 310,
   "metadata": {},
   "outputs": [
    {
     "name": "stdout",
     "output_type": "stream",
     "text": [
      "_________________________________________________________________\n",
      "Layer (type)                 Output Shape              Param #   \n",
      "=================================================================\n",
      "dense_109 (Dense)            (None, 128)               27264     \n",
      "_________________________________________________________________\n",
      "batch_normalization_91 (Batc (None, 128)               512       \n",
      "_________________________________________________________________\n",
      "dropout_46 (Dropout)         (None, 128)               0         \n",
      "_________________________________________________________________\n",
      "dense_110 (Dense)            (None, 64)                8256      \n",
      "_________________________________________________________________\n",
      "batch_normalization_92 (Batc (None, 64)                256       \n",
      "_________________________________________________________________\n",
      "dropout_47 (Dropout)         (None, 64)                0         \n",
      "_________________________________________________________________\n",
      "dense_111 (Dense)            (None, 32)                2080      \n",
      "_________________________________________________________________\n",
      "batch_normalization_93 (Batc (None, 32)                128       \n",
      "_________________________________________________________________\n",
      "dropout_48 (Dropout)         (None, 32)                0         \n",
      "_________________________________________________________________\n",
      "dense_112 (Dense)            (None, 16)                528       \n",
      "_________________________________________________________________\n",
      "batch_normalization_94 (Batc (None, 16)                64        \n",
      "_________________________________________________________________\n",
      "dropout_49 (Dropout)         (None, 16)                0         \n",
      "_________________________________________________________________\n",
      "dense_113 (Dense)            (None, 8)                 136       \n",
      "_________________________________________________________________\n",
      "batch_normalization_95 (Batc (None, 8)                 32        \n",
      "_________________________________________________________________\n",
      "dropout_50 (Dropout)         (None, 8)                 0         \n",
      "_________________________________________________________________\n",
      "dense_114 (Dense)            (None, 1)                 9         \n",
      "=================================================================\n",
      "Total params: 39,265\n",
      "Trainable params: 38,769\n",
      "Non-trainable params: 496\n",
      "_________________________________________________________________\n"
     ]
    }
   ],
   "source": [
    "# input-256-120-output\n",
    "from keras.layers import Dropout\n",
    "from keras.layers.normalization import BatchNormalization\n",
    "# Multilayer perceptron\n",
    "from keras import regularizers\n",
    "model_relu = Sequential()\n",
    "model_relu.add(Dense(128, activation='relu', kernel_initializer='he_normal', kernel_regularizer=regularizers.l2(0.01), input_shape=(input_dim,)))\n",
    "model_relu.add(BatchNormalization())\n",
    "model_relu.add(Dropout(0.2))\n",
    "model_relu.add(Dense(64, activation='relu', kernel_initializer='he_normal', kernel_regularizer=regularizers.l2(0.01), input_shape=(input_dim,)))\n",
    "model_relu.add(BatchNormalization())\n",
    "model_relu.add(Dropout(0.2))\n",
    "model_relu.add(Dense(32, activation='relu', kernel_initializer='he_normal', kernel_regularizer=regularizers.l2(0.01)))\n",
    "model_relu.add(BatchNormalization())\n",
    "model_relu.add(Dropout(0.2))\n",
    "model_relu.add(Dense(16, activation='relu', kernel_initializer='he_normal', kernel_regularizer=regularizers.l2(0.01), input_shape=(input_dim,)))\n",
    "model_relu.add(BatchNormalization())\n",
    "model_relu.add(Dropout(0.2))\n",
    "model_relu.add(Dense(8, activation='relu', kernel_initializer='he_normal', kernel_regularizer=regularizers.l2(0.01), input_shape=(input_dim,)))\n",
    "model_relu.add(BatchNormalization())\n",
    "model_relu.add(Dropout(0.2))\n",
    "model_relu.add(Dense(output_dim, activation='sigmoid'))\n",
    "\n",
    "model_relu.summary()"
   ]
  },
  {
   "cell_type": "code",
   "execution_count": 311,
   "metadata": {},
   "outputs": [
    {
     "name": "stdout",
     "output_type": "stream",
     "text": [
      "Train on 74124 samples, validate on 18532 samples\n",
      "Epoch 1/50\n",
      "74124/74124 [==============================] - 16s 219us/step - loss: 3.0217 - auc_roc: 0.5501 - val_loss: 1.4228 - val_auc_roc: 0.5798\n",
      "Epoch 2/50\n",
      "74124/74124 [==============================] - 9s 122us/step - loss: 0.9938 - auc_roc: 0.6013 - val_loss: 0.7616 - val_auc_roc: 0.6234\n",
      "Epoch 3/50\n",
      "74124/74124 [==============================] - 10s 129us/step - loss: 0.7079 - auc_roc: 0.6403 - val_loss: 0.6721 - val_auc_roc: 0.6547\n",
      "Epoch 4/50\n",
      "74124/74124 [==============================] - 10s 135us/step - loss: 0.6762 - auc_roc: 0.6651 - val_loss: 0.6685 - val_auc_roc: 0.6738\n",
      "Epoch 5/50\n",
      "74124/74124 [==============================] - 10s 136us/step - loss: 0.6678 - auc_roc: 0.6809 - val_loss: 0.6655 - val_auc_roc: 0.6874\n",
      "Epoch 6/50\n",
      "74124/74124 [==============================] - 10s 131us/step - loss: 0.6692 - auc_roc: 0.6928 - val_loss: 0.6656 - val_auc_roc: 0.6978\n",
      "Epoch 7/50\n",
      "74124/74124 [==============================] - 9s 128us/step - loss: 0.6669 - auc_roc: 0.7024 - val_loss: 0.6633 - val_auc_roc: 0.7062\n",
      "Epoch 8/50\n",
      "74124/74124 [==============================] - 9s 123us/step - loss: 0.6644 - auc_roc: 0.7100 - val_loss: 0.6525 - val_auc_roc: 0.7134\n",
      "Epoch 9/50\n",
      "74124/74124 [==============================] - 9s 123us/step - loss: 0.6621 - auc_roc: 0.7168 - val_loss: 0.6600 - val_auc_roc: 0.7198\n",
      "Epoch 10/50\n",
      "74124/74124 [==============================] - 9s 126us/step - loss: 0.6577 - auc_roc: 0.7228 - val_loss: 0.6501 - val_auc_roc: 0.7256\n",
      "Epoch 11/50\n",
      "74124/74124 [==============================] - 9s 123us/step - loss: 0.6547 - auc_roc: 0.7283 - val_loss: 0.6368 - val_auc_roc: 0.7307\n",
      "Epoch 12/50\n",
      "74124/74124 [==============================] - 9s 123us/step - loss: 0.6541 - auc_roc: 0.7331 - val_loss: 0.6365 - val_auc_roc: 0.7352\n",
      "Epoch 13/50\n",
      "74124/74124 [==============================] - 9s 123us/step - loss: 0.6502 - auc_roc: 0.7373 - val_loss: 0.6533 - val_auc_roc: 0.7392\n",
      "Epoch 14/50\n",
      "74124/74124 [==============================] - 9s 123us/step - loss: 0.6467 - auc_roc: 0.7411 - val_loss: 0.6501 - val_auc_roc: 0.7427\n",
      "Epoch 15/50\n",
      "74124/74124 [==============================] - 9s 124us/step - loss: 0.6418 - auc_roc: 0.7446 - val_loss: 0.6366 - val_auc_roc: 0.7462\n",
      "Epoch 16/50\n",
      "74124/74124 [==============================] - 9s 124us/step - loss: 0.6422 - auc_roc: 0.7478 - val_loss: 0.6422 - val_auc_roc: 0.7492\n",
      "Epoch 17/50\n",
      "74124/74124 [==============================] - 19s 260us/step - loss: 0.6377 - auc_roc: 0.7507 - val_loss: 0.6326 - val_auc_roc: 0.7521\n",
      "Epoch 18/50\n",
      "74124/74124 [==============================] - 33s 444us/step - loss: 0.6394 - auc_roc: 0.7533 - val_loss: 0.6294 - val_auc_roc: 0.7546\n",
      "Epoch 19/50\n",
      "74124/74124 [==============================] - 46s 620us/step - loss: 0.6375 - auc_roc: 0.7558 - val_loss: 0.6442 - val_auc_roc: 0.7569\n",
      "Epoch 20/50\n",
      "74124/74124 [==============================] - 49s 660us/step - loss: 0.6363 - auc_roc: 0.7581 - val_loss: 0.6234 - val_auc_roc: 0.7591\n",
      "Epoch 21/50\n",
      "74124/74124 [==============================] - 52s 702us/step - loss: 0.6288 - auc_roc: 0.7604 - val_loss: 0.6160 - val_auc_roc: 0.7615\n",
      "Epoch 22/50\n",
      "74124/74124 [==============================] - 52s 707us/step - loss: 0.6282 - auc_roc: 0.7626 - val_loss: 0.6101 - val_auc_roc: 0.7636\n",
      "Epoch 23/50\n",
      "74124/74124 [==============================] - 51s 685us/step - loss: 0.6275 - auc_roc: 0.7647 - val_loss: 0.6311 - val_auc_roc: 0.7657\n",
      "Epoch 24/50\n",
      "74124/74124 [==============================] - 56s 761us/step - loss: 0.6248 - auc_roc: 0.7666 - val_loss: 0.6260 - val_auc_roc: 0.7675\n",
      "Epoch 25/50\n",
      "74124/74124 [==============================] - 50s 675us/step - loss: 0.6255 - auc_roc: 0.7685 - val_loss: 0.6306 - val_auc_roc: 0.7692\n",
      "Epoch 26/50\n",
      "74124/74124 [==============================] - 49s 655us/step - loss: 0.6254 - auc_roc: 0.7700 - val_loss: 0.6075 - val_auc_roc: 0.7708\n",
      "Epoch 27/50\n",
      "74124/74124 [==============================] - 48s 652us/step - loss: 0.6224 - auc_roc: 0.7716 - val_loss: 0.6178 - val_auc_roc: 0.7724\n",
      "Epoch 28/50\n",
      "74124/74124 [==============================] - 48s 652us/step - loss: 0.6235 - auc_roc: 0.7731 - val_loss: 0.6107 - val_auc_roc: 0.7739\n",
      "Epoch 29/50\n",
      "74124/74124 [==============================] - 51s 683us/step - loss: 0.6196 - auc_roc: 0.7747 - val_loss: 0.6039 - val_auc_roc: 0.7754\n",
      "Epoch 30/50\n",
      "74124/74124 [==============================] - 54s 727us/step - loss: 0.6200 - auc_roc: 0.7762 - val_loss: 0.6266 - val_auc_roc: 0.7768\n",
      "Epoch 31/50\n",
      "74124/74124 [==============================] - 54s 727us/step - loss: 0.6211 - auc_roc: 0.7774 - val_loss: 0.6043 - val_auc_roc: 0.7780\n",
      "Epoch 32/50\n",
      "74124/74124 [==============================] - 54s 727us/step - loss: 0.6185 - auc_roc: 0.7787 - val_loss: 0.6136 - val_auc_roc: 0.7793\n",
      "Epoch 33/50\n",
      "74124/74124 [==============================] - 54s 722us/step - loss: 0.6192 - auc_roc: 0.7799 - val_loss: 0.6269 - val_auc_roc: 0.7805\n",
      "Epoch 34/50\n",
      "74124/74124 [==============================] - 53s 721us/step - loss: 0.6155 - auc_roc: 0.7810 - val_loss: 0.6284 - val_auc_roc: 0.7815\n",
      "Epoch 35/50\n",
      "74124/74124 [==============================] - 54s 727us/step - loss: 0.6194 - auc_roc: 0.7820 - val_loss: 0.6051 - val_auc_roc: 0.7825\n",
      "Epoch 36/50\n",
      "74124/74124 [==============================] - 53s 719us/step - loss: 0.6216 - auc_roc: 0.7830 - val_loss: 0.6237 - val_auc_roc: 0.7833\n",
      "Epoch 37/50\n",
      "74124/74124 [==============================] - 53s 709us/step - loss: 0.6139 - auc_roc: 0.7838 - val_loss: 0.6096 - val_auc_roc: 0.7843\n",
      "Epoch 38/50\n",
      "74124/74124 [==============================] - 53s 710us/step - loss: 0.6138 - auc_roc: 0.7847 - val_loss: 0.6039 - val_auc_roc: 0.7852\n",
      "Epoch 39/50\n",
      "74124/74124 [==============================] - 53s 713us/step - loss: 0.6148 - auc_roc: 0.7856 - val_loss: 0.6094 - val_auc_roc: 0.7860\n",
      "Epoch 40/50\n",
      "74124/74124 [==============================] - 57s 764us/step - loss: 0.6142 - auc_roc: 0.7864 - val_loss: 0.6040 - val_auc_roc: 0.7868\n",
      "Epoch 41/50\n",
      "74124/74124 [==============================] - 55s 739us/step - loss: 0.6165 - auc_roc: 0.7872 - val_loss: 0.6222 - val_auc_roc: 0.7875\n",
      "Epoch 42/50\n",
      "74124/74124 [==============================] - 55s 742us/step - loss: 0.6139 - auc_roc: 0.7878 - val_loss: 0.6102 - val_auc_roc: 0.7882\n",
      "Epoch 43/50\n",
      "74124/74124 [==============================] - 54s 726us/step - loss: 0.6168 - auc_roc: 0.7886 - val_loss: 0.6297 - val_auc_roc: 0.7888\n",
      "Epoch 44/50\n",
      "74124/74124 [==============================] - 54s 733us/step - loss: 0.6158 - auc_roc: 0.7891 - val_loss: 0.5963 - val_auc_roc: 0.7895\n",
      "Epoch 45/50\n",
      "74124/74124 [==============================] - 54s 723us/step - loss: 0.6139 - auc_roc: 0.7899 - val_loss: 0.6274 - val_auc_roc: 0.7901\n",
      "Epoch 46/50\n",
      "74124/74124 [==============================] - 54s 722us/step - loss: 0.6104 - auc_roc: 0.7904 - val_loss: 0.6078 - val_auc_roc: 0.7908\n",
      "Epoch 47/50\n",
      "74124/74124 [==============================] - 53s 712us/step - loss: 0.6131 - auc_roc: 0.7911 - val_loss: 0.5977 - val_auc_roc: 0.7914\n",
      "Epoch 48/50\n",
      "74124/74124 [==============================] - 53s 715us/step - loss: 0.6133 - auc_roc: 0.7917 - val_loss: 0.6044 - val_auc_roc: 0.7919\n",
      "Epoch 49/50\n",
      "74124/74124 [==============================] - 54s 728us/step - loss: 0.6136 - auc_roc: 0.7922 - val_loss: 0.6127 - val_auc_roc: 0.7924\n",
      "Epoch 50/50\n",
      "74124/74124 [==============================] - 53s 710us/step - loss: 0.6149 - auc_roc: 0.7927 - val_loss: 0.6082 - val_auc_roc: 0.7929\n"
     ]
    }
   ],
   "source": [
    "model_relu.compile(optimizer='adam', loss='binary_crossentropy', metrics=[auc_roc])\n",
    "history = model_relu.fit(X_train, y_train, batch_size=batch_size, epochs=nb_epoch, verbose=1,validation_data=(X_test, y_test))"
   ]
  },
  {
   "cell_type": "code",
   "execution_count": 312,
   "metadata": {},
   "outputs": [],
   "source": [
    "predictions = model_relu.predict_classes(X_test)"
   ]
  },
  {
   "cell_type": "code",
   "execution_count": 313,
   "metadata": {},
   "outputs": [
    {
     "data": {
      "image/png": "[encoded data removed]",
      "text/plain": [
       "<matplotlib.figure.Figure at 0x1a00005b978>"
      ]
     },
     "metadata": {},
     "output_type": "display_data"
    }
   ],
   "source": [
    "import matplotlib.pyplot as plt\n",
    "import seaborn as sns\n",
    "%matplotlib inline\n",
    "%matplotlib inline\n",
    "#Gerando Matriz de Confusão\n",
    "conf_matrix = confusion_matrix(y_test, predictions)\n",
    "plt.figure(figsize=(4, 4))\n",
    "sns.heatmap(conf_matrix,  annot=True,xticklabels=['Neg','pos'], yticklabels=['Neg','Pos'],fmt=\"d\")\n",
    "plt.title(\"Confusion matrix\")\n",
    "plt.ylabel('True class')\n",
    "plt.xlabel('Predicted class')\n",
    "plt.show()"
   ]
  },
  {
   "cell_type": "code",
   "execution_count": 314,
   "metadata": {},
   "outputs": [
    {
     "data": {
      "text/plain": [
       "0.7369907167844735"
      ]
     },
     "execution_count": 314,
     "metadata": {},
     "output_type": "execute_result"
    }
   ],
   "source": [
    "roc_auc_score(y_test, predictions)"
   ]
  },
  {
   "cell_type": "markdown",
   "metadata": {},
   "source": [
    "# Conclusion"
   ]
  },
  {
   "cell_type": "code",
   "execution_count": 418,
   "metadata": {},
   "outputs": [
    {
     "name": "stdout",
     "output_type": "stream",
     "text": [
      "+--------------------------------+--------------------+\n",
      "|             Model              |     Test Score     |\n",
      "+--------------------------------+--------------------+\n",
      "| RF with class weight balanced  | 0.7233402748229846 |\n",
      "|              xgb               | 0.6697636839480592 |\n",
      "|   SMOTE with Neural Network    | 0.5481681930114157 |\n",
      "| upsampling with Neural Network | 0.7369907167844735 |\n",
      "+--------------------------------+--------------------+\n"
     ]
    }
   ],
   "source": [
    "from prettytable import PrettyTable\n",
    "x = PrettyTable()\n",
    "\n",
    "x.field_names = [\"Model\", \"Test Score\"]\n",
    "x.add_row([\"RF with class weight balanced\", 0.7233402748229846])\n",
    "x.add_row([\"xgb\", 0.6697636839480592])\n",
    "x.add_row([\"SMOTE with Neural Network\", 0.5481681930114157])\n",
    "x.add_row([\"upsampling with Neural Network\", 0.7369907167844735])\n",
    "print(x)"
   ]
  },
  {
   "cell_type": "raw",
   "metadata": {},
   "source": [
    "KDDcup 2009 is a prediction problem is a classification problem with imbalance class labels. predicted labels for churn/Appetency/Up-selling but we will work on only churn prediction in this ML problem.\n",
    "we have taken small dataset where 50000 datapoints and 230 variables presents. \n",
    "\n",
    "Preprocessing:\n",
    "there are some columns which are 100% null so we have removed those columns and filled other missing values with trm \"missing\" for categorical variables and with mean for numerical variables. we have used labelencoder to convert categorical variables to numerical variables. After pre processing we have got 212 variables.\n",
    "\n",
    "This is imbalance classification problem with 0 label count is 46328 and 1 label count is 3672. \n",
    "\n",
    "\n",
    "Model:\n",
    "      we will go for tree based Ensemble models for this binary classification. we have tried Random Forest/xgboost and Neural net to predict Customer churn prediction.\n",
    "\n",
    "\n",
    "we have taken train and text split as 80:20. for Neural Net we have used SMOTE and Upsampling technique to tackle imbalance datset.we also could have used startified cross validation to tackle imbalance class label problem instead of normal k-fold cross validation. "
   ]
  },
  {
   "cell_type": "code",
   "execution_count": null,
   "metadata": {},
   "outputs": [],
   "source": []
  }
 ],
 "metadata": {
  "kernelspec": {
   "display_name": "Python 3",
   "language": "python",
   "name": "python3"
  },
  "language_info": {
   "codemirror_mode": {
    "name": "ipython",
    "version": 3
   },
   "file_extension": ".py",
   "mimetype": "text/x-python",
   "name": "python",
   "nbconvert_exporter": "python",
   "pygments_lexer": "ipython3",
   "version": "3.6.4"
  }
 },
 "nbformat": 4,
 "nbformat_minor": 2
}
