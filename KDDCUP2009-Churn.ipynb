{
 "cells": [
  {
   "cell_type": "markdown",
   "metadata": {},
   "source": [
    "We organized the KDD cup 2009 around a marketing problem with the goal of identifying data mining techniques capable of rapidly building predictive models and scoring new\n",
    "entries on a large database. Customer Relationship Management (CRM) is a key element of modern marketing strategies. The KDD Cup 2009 offered to participants an opportunity to work on a large marketing database from the\n",
    "French Telecom company Orange. The tasks were to predict\n",
    "the propensity of customers to switch provider (churn), buy\n",
    "new products or services (appetency), or buy upgrades/addons proposed to them to make the sale more profitable (upselling). The challenge, which lasted from March 10 to\n",
    "May 11, 2009, attracted over 450 participants from 46 countries. We attribute its popularity to several factors: (1)\n",
    "A generic problem relevant to the Industry (a classification problem), but presenting a number of scientific and\n",
    "technical challenges, including many missing values (about\n",
    "60%), a large number of features (15000) and a large number of training examples (50000), unbalanced class proportions (fewer than 10% of the examples of the positive class),\n",
    "noisy data, and the presence of categorical variables with\n",
    "many different values. (2) Prizes (Orange offers 10000 Euros in prizes). (3) A well designed protocol and web site\n",
    "(we benefitted from past experience). (4) An effective advertising campaign using mailings and a teleconference to\n",
    "answer potential participants questions. The results of the\n",
    "challenge were discussed at the KDD conference (June 28,\n",
    "2009). The principal conclusions are that ensemble methods are very effective and that ensemble of decision trees\n",
    "offer off-the-shelf solutions to problems with large numbers\n",
    "of samples and attributes, mixed types of variables, and lots\n",
    "of missing values. The data and the platform of the challenge remain available for research and educational purposes\n",
    "at http://www.kddcup-orange.com/.\n",
    "\n",
    "## https://www.kdd.org/exploration_files/v11-2-12-KDDCUP09_analysis.pdf"
   ]
  },
  {
   "cell_type": "code",
   "execution_count": 1,
   "metadata": {},
   "outputs": [],
   "source": [
    "import pandas as pd\n",
    "import numpy as np\n",
    "from sklearn.model_selection import train_test_split\n",
    "from sklearn.utils import resample\n",
    "from sklearn.model_selection import StratifiedKFold\n",
    "from sklearn.ensemble import RandomForestClassifier\n",
    "from sklearn import preprocessing\n",
    "from sklearn.metrics import (confusion_matrix, precision_recall_curve, auc,\n",
    "                             roc_curve, recall_score, classification_report, f1_score,\n",
    "                             precision_recall_fscore_support,roc_auc_score)\n",
    "from sklearn.neural_network import MLPClassifier\n",
    "from sklearn.preprocessing import StandardScaler\n",
    "from imblearn.over_sampling import SMOTE\n",
    "from sklearn.metrics import roc_auc_score,auc\n",
    "from sklearn.model_selection import RandomizedSearchCV\n",
    "import math\n",
    "import xgboost as xgb"
   ]
  },
  {
   "cell_type": "code",
   "execution_count": 2,
   "metadata": {},
   "outputs": [
    {
     "data": {
      "text/html": [
       "<div>\n",
       "<style scoped>\n",
       "    .dataframe tbody tr th:only-of-type {\n",
       "        vertical-align: middle;\n",
       "    }\n",
       "\n",
       "    .dataframe tbody tr th {\n",
       "        vertical-align: top;\n",
       "    }\n",
       "\n",
       "    .dataframe thead th {\n",
       "        text-align: right;\n",
       "    }\n",
       "</style>\n",
       "<table border=\"1\" class=\"dataframe\">\n",
       "  <thead>\n",
       "    <tr style=\"text-align: right;\">\n",
       "      <th></th>\n",
       "      <th>Var1</th>\n",
       "      <th>Var2</th>\n",
       "      <th>Var3</th>\n",
       "      <th>Var4</th>\n",
       "      <th>Var5</th>\n",
       "      <th>Var6</th>\n",
       "      <th>Var7</th>\n",
       "      <th>Var8</th>\n",
       "      <th>Var9</th>\n",
       "      <th>Var10</th>\n",
       "      <th>...</th>\n",
       "      <th>Var221</th>\n",
       "      <th>Var222</th>\n",
       "      <th>Var223</th>\n",
       "      <th>Var224</th>\n",
       "      <th>Var225</th>\n",
       "      <th>Var226</th>\n",
       "      <th>Var227</th>\n",
       "      <th>Var228</th>\n",
       "      <th>Var229</th>\n",
       "      <th>Var230</th>\n",
       "    </tr>\n",
       "  </thead>\n",
       "  <tbody>\n",
       "    <tr>\n",
       "      <th>0</th>\n",
       "      <td>NaN</td>\n",
       "      <td>NaN</td>\n",
       "      <td>NaN</td>\n",
       "      <td>NaN</td>\n",
       "      <td>NaN</td>\n",
       "      <td>1526.0</td>\n",
       "      <td>7.0</td>\n",
       "      <td>NaN</td>\n",
       "      <td>NaN</td>\n",
       "      <td>NaN</td>\n",
       "      <td>...</td>\n",
       "      <td>oslk</td>\n",
       "      <td>fXVEsaq</td>\n",
       "      <td>jySVZNlOJy</td>\n",
       "      <td>NaN</td>\n",
       "      <td>NaN</td>\n",
       "      <td>xb3V</td>\n",
       "      <td>RAYp</td>\n",
       "      <td>F2FyR07IdsN7I</td>\n",
       "      <td>NaN</td>\n",
       "      <td>NaN</td>\n",
       "    </tr>\n",
       "    <tr>\n",
       "      <th>1</th>\n",
       "      <td>NaN</td>\n",
       "      <td>NaN</td>\n",
       "      <td>NaN</td>\n",
       "      <td>NaN</td>\n",
       "      <td>NaN</td>\n",
       "      <td>525.0</td>\n",
       "      <td>0.0</td>\n",
       "      <td>NaN</td>\n",
       "      <td>NaN</td>\n",
       "      <td>NaN</td>\n",
       "      <td>...</td>\n",
       "      <td>oslk</td>\n",
       "      <td>2Kb5FSF</td>\n",
       "      <td>LM8l689qOp</td>\n",
       "      <td>NaN</td>\n",
       "      <td>NaN</td>\n",
       "      <td>fKCe</td>\n",
       "      <td>RAYp</td>\n",
       "      <td>F2FyR07IdsN7I</td>\n",
       "      <td>NaN</td>\n",
       "      <td>NaN</td>\n",
       "    </tr>\n",
       "    <tr>\n",
       "      <th>2</th>\n",
       "      <td>NaN</td>\n",
       "      <td>NaN</td>\n",
       "      <td>NaN</td>\n",
       "      <td>NaN</td>\n",
       "      <td>NaN</td>\n",
       "      <td>5236.0</td>\n",
       "      <td>7.0</td>\n",
       "      <td>NaN</td>\n",
       "      <td>NaN</td>\n",
       "      <td>NaN</td>\n",
       "      <td>...</td>\n",
       "      <td>Al6ZaUT</td>\n",
       "      <td>NKv4yOc</td>\n",
       "      <td>jySVZNlOJy</td>\n",
       "      <td>NaN</td>\n",
       "      <td>kG3k</td>\n",
       "      <td>Qu4f</td>\n",
       "      <td>02N6s8f</td>\n",
       "      <td>ib5G6X1eUxUn6</td>\n",
       "      <td>am7c</td>\n",
       "      <td>NaN</td>\n",
       "    </tr>\n",
       "    <tr>\n",
       "      <th>3</th>\n",
       "      <td>NaN</td>\n",
       "      <td>NaN</td>\n",
       "      <td>NaN</td>\n",
       "      <td>NaN</td>\n",
       "      <td>NaN</td>\n",
       "      <td>NaN</td>\n",
       "      <td>0.0</td>\n",
       "      <td>NaN</td>\n",
       "      <td>NaN</td>\n",
       "      <td>NaN</td>\n",
       "      <td>...</td>\n",
       "      <td>oslk</td>\n",
       "      <td>CE7uk3u</td>\n",
       "      <td>LM8l689qOp</td>\n",
       "      <td>NaN</td>\n",
       "      <td>NaN</td>\n",
       "      <td>FSa2</td>\n",
       "      <td>RAYp</td>\n",
       "      <td>F2FyR07IdsN7I</td>\n",
       "      <td>NaN</td>\n",
       "      <td>NaN</td>\n",
       "    </tr>\n",
       "    <tr>\n",
       "      <th>4</th>\n",
       "      <td>NaN</td>\n",
       "      <td>NaN</td>\n",
       "      <td>NaN</td>\n",
       "      <td>NaN</td>\n",
       "      <td>NaN</td>\n",
       "      <td>1029.0</td>\n",
       "      <td>7.0</td>\n",
       "      <td>NaN</td>\n",
       "      <td>NaN</td>\n",
       "      <td>NaN</td>\n",
       "      <td>...</td>\n",
       "      <td>oslk</td>\n",
       "      <td>1J2cvxe</td>\n",
       "      <td>LM8l689qOp</td>\n",
       "      <td>NaN</td>\n",
       "      <td>kG3k</td>\n",
       "      <td>FSa2</td>\n",
       "      <td>RAYp</td>\n",
       "      <td>F2FyR07IdsN7I</td>\n",
       "      <td>mj86</td>\n",
       "      <td>NaN</td>\n",
       "    </tr>\n",
       "  </tbody>\n",
       "</table>\n",
       "<p>5 rows × 230 columns</p>\n",
       "</div>"
      ],
      "text/plain": [
       "   Var1  Var2  Var3  Var4  Var5    Var6  Var7  Var8  Var9  Var10   ...    \\\n",
       "0   NaN   NaN   NaN   NaN   NaN  1526.0   7.0   NaN   NaN    NaN   ...     \n",
       "1   NaN   NaN   NaN   NaN   NaN   525.0   0.0   NaN   NaN    NaN   ...     \n",
       "2   NaN   NaN   NaN   NaN   NaN  5236.0   7.0   NaN   NaN    NaN   ...     \n",
       "3   NaN   NaN   NaN   NaN   NaN     NaN   0.0   NaN   NaN    NaN   ...     \n",
       "4   NaN   NaN   NaN   NaN   NaN  1029.0   7.0   NaN   NaN    NaN   ...     \n",
       "\n",
       "    Var221   Var222      Var223  Var224  Var225  Var226   Var227  \\\n",
       "0     oslk  fXVEsaq  jySVZNlOJy     NaN     NaN    xb3V     RAYp   \n",
       "1     oslk  2Kb5FSF  LM8l689qOp     NaN     NaN    fKCe     RAYp   \n",
       "2  Al6ZaUT  NKv4yOc  jySVZNlOJy     NaN    kG3k    Qu4f  02N6s8f   \n",
       "3     oslk  CE7uk3u  LM8l689qOp     NaN     NaN    FSa2     RAYp   \n",
       "4     oslk  1J2cvxe  LM8l689qOp     NaN    kG3k    FSa2     RAYp   \n",
       "\n",
       "          Var228  Var229  Var230  \n",
       "0  F2FyR07IdsN7I     NaN     NaN  \n",
       "1  F2FyR07IdsN7I     NaN     NaN  \n",
       "2  ib5G6X1eUxUn6    am7c     NaN  \n",
       "3  F2FyR07IdsN7I     NaN     NaN  \n",
       "4  F2FyR07IdsN7I    mj86     NaN  \n",
       "\n",
       "[5 rows x 230 columns]"
      ]
     },
     "execution_count": 2,
     "metadata": {},
     "output_type": "execute_result"
    }
   ],
   "source": [
    "train = pd.read_table('orange_small_train.data/orange_small_train.data')\n",
    "train.head()"
   ]
  },
  {
   "cell_type": "code",
   "execution_count": 3,
   "metadata": {},
   "outputs": [],
   "source": [
    "target_churn = pd.read_table('orange_small_train_churn.labels', header=None)\n",
    "target_churn.columns = [\"labels\"]\n",
    "target_churn = (target_churn + 1)/2"
   ]
  },
  {
   "cell_type": "code",
   "execution_count": 4,
   "metadata": {},
   "outputs": [
    {
     "data": {
      "text/plain": [
       "0    46328\n",
       "1     3672\n",
       "Name: labels, dtype: int64"
      ]
     },
     "execution_count": 4,
     "metadata": {},
     "output_type": "execute_result"
    }
   ],
   "source": [
    "target_churn['labels'].value_counts()"
   ]
  },
  {
   "cell_type": "markdown",
   "metadata": {},
   "source": [
    "# Missing Values"
   ]
  },
  {
   "cell_type": "code",
   "execution_count": 5,
   "metadata": {},
   "outputs": [
    {
     "data": {
      "text/plain": [
       "Var1      0.98596\n",
       "Var2      0.97518\n",
       "Var3      0.97520\n",
       "Var4      0.96842\n",
       "Var5      0.97026\n",
       "Var6      0.11058\n",
       "Var7      0.11078\n",
       "Var8      1.00000\n",
       "Var9      0.98596\n",
       "Var10     0.97026\n",
       "Var11     0.97520\n",
       "Var12     0.98884\n",
       "Var13     0.11078\n",
       "Var14     0.97520\n",
       "Var15     1.00000\n",
       "Var16     0.97026\n",
       "Var17     0.96842\n",
       "Var18     0.96842\n",
       "Var19     0.96842\n",
       "Var20     1.00000\n",
       "Var21     0.11058\n",
       "Var22     0.10018\n",
       "Var23     0.97026\n",
       "Var24     0.14460\n",
       "Var25     0.10018\n",
       "Var26     0.97026\n",
       "Var27     0.97026\n",
       "Var28     0.10022\n",
       "Var29     0.98596\n",
       "Var30     0.98596\n",
       "           ...   \n",
       "Var201    0.74434\n",
       "Var202    0.00002\n",
       "Var203    0.00286\n",
       "Var204    0.00000\n",
       "Var205    0.03868\n",
       "Var206    0.11058\n",
       "Var207    0.00000\n",
       "Var208    0.00286\n",
       "Var209    1.00000\n",
       "Var210    0.00000\n",
       "Var211    0.00000\n",
       "Var212    0.00000\n",
       "Var213    0.97742\n",
       "Var214    0.50816\n",
       "Var215    0.98612\n",
       "Var216    0.00000\n",
       "Var217    0.01406\n",
       "Var218    0.01406\n",
       "Var219    0.10422\n",
       "Var220    0.00000\n",
       "Var221    0.00000\n",
       "Var222    0.00000\n",
       "Var223    0.10422\n",
       "Var224    0.98360\n",
       "Var225    0.52288\n",
       "Var226    0.00000\n",
       "Var227    0.00000\n",
       "Var228    0.00000\n",
       "Var229    0.56864\n",
       "Var230    1.00000\n",
       "Length: 230, dtype: float64"
      ]
     },
     "execution_count": 5,
     "metadata": {},
     "output_type": "execute_result"
    }
   ],
   "source": [
    "train.isnull().sum(axis = 0)/len(train)"
   ]
  },
  {
   "cell_type": "code",
   "execution_count": 6,
   "metadata": {},
   "outputs": [],
   "source": [
    "for i,j in enumerate(train.isnull().sum(axis = 0)/len(train)):\n",
    "    if j>=1:\n",
    "        train = train.drop([\"Var\" + str(i+1)], axis = 1)"
   ]
  },
  {
   "cell_type": "code",
   "execution_count": 7,
   "metadata": {},
   "outputs": [],
   "source": [
    "X_train, X_test, y_train, y_test = train_test_split(train,target_churn ,test_size=0.2, random_state=42)"
   ]
  },
  {
   "cell_type": "code",
   "execution_count": 8,
   "metadata": {},
   "outputs": [],
   "source": [
    "# https://stackoverflow.com/questions/25239958/impute-categorical-missing-values-in-scikit-learn\n",
    "from sklearn.base import TransformerMixin\n",
    "\n",
    "class DataFrameImputer(TransformerMixin):\n",
    "\n",
    "    def __init__(self):\n",
    "        \"\"\"Impute missing values.\n",
    "\n",
    "        Columns of dtype object are imputed with the most frequent value \n",
    "        in column.\n",
    "\n",
    "        Columns of other types are imputed with mean of column.\n",
    "\n",
    "        \"\"\"\n",
    "    def fit(self, X, y=None):\n",
    "\n",
    "        self.fill = pd.Series([\"missing\"\n",
    "            if X[c].dtype == np.dtype('O') else X[c].mean() for c in X],\n",
    "            index=X.columns)\n",
    "\n",
    "        return self\n",
    "\n",
    "    def transform(self, X, y=None):\n",
    "        return X.fillna(self.fill)"
   ]
  },
  {
   "cell_type": "code",
   "execution_count": 9,
   "metadata": {},
   "outputs": [],
   "source": [
    "imp = DataFrameImputer().fit(X_train)\n",
    "X_train = imp.transform(X_train)\n",
    "X_test = imp.transform(X_test)"
   ]
  },
  {
   "cell_type": "code",
   "execution_count": 10,
   "metadata": {},
   "outputs": [],
   "source": [
    "# https://stackoverflow.com/questions/21057621/sklearn-labelencoder-with-never-seen-before-values\n",
    "class LabelEncoderExt(object):\n",
    "    def __init__(self):\n",
    "        \"\"\"\n",
    "        It differs from LabelEncoder by handling new classes and providing a value for it [Unknown]\n",
    "        Unknown will be added in fit and transform will take care of new item. It gives unknown class id\n",
    "        \"\"\"\n",
    "        self.label_encoder = LabelEncoder()\n",
    "        # self.classes_ = self.label_encoder.classes_\n",
    "\n",
    "    def fit(self, data_list):\n",
    "        \"\"\"\n",
    "        This will fit the encoder for all the unique values and introduce unknown value\n",
    "        :param data_list: A list of string\n",
    "        :return: self\n",
    "        \"\"\"\n",
    "        self.label_encoder = self.label_encoder.fit(list(data_list) + ['Unknown'])\n",
    "        self.classes_ = self.label_encoder.classes_\n",
    "\n",
    "        return self\n",
    "\n",
    "    def transform(self, data_list):\n",
    "        \"\"\"\n",
    "        This will transform the data_list to id list where the new values get assigned to Unknown class\n",
    "        :param data_list:\n",
    "        :return:\n",
    "        \"\"\"\n",
    "        new_data_list = list(data_list)\n",
    "        \n",
    "        for unique_item in np.unique(data_list):\n",
    "            if unique_item not in self.label_encoder.classes_:\n",
    "                new_data_list = ['Unknown' if x==unique_item else x for x in new_data_list]\n",
    "\n",
    "        return self.label_encoder.transform(new_data_list)"
   ]
  },
  {
   "cell_type": "code",
   "execution_count": 11,
   "metadata": {},
   "outputs": [],
   "source": [
    "#from sklearn import preprocessing\n",
    "from sklearn.preprocessing import LabelEncoder\n",
    "#le = preprocessing.LabelEncoder\n",
    "le = LabelEncoderExt()\n",
    "for i in range(0,X_test.shape[1]):\n",
    "    if X_train.dtypes[i]=='object':\n",
    "        le.fit(X_train[X_train.columns[i]])\n",
    "        X_train[X_train.columns[i]] = le.transform(X_train[X_train.columns[i]])\n",
    "        X_test[X_test.columns[i]] = le.transform(X_test[X_test.columns[i]])"
   ]
  },
  {
   "cell_type": "code",
   "execution_count": 12,
   "metadata": {},
   "outputs": [
    {
     "name": "stderr",
     "output_type": "stream",
     "text": [
      "C:\\Users\\ABHISEK\\Anaconda3\\lib\\site-packages\\ipykernel_launcher.py:1: DataConversionWarning: Data with input dtype int64, float64 were all converted to float64 by the scale function.\n",
      "  \"\"\"Entry point for launching an IPython kernel.\n",
      "C:\\Users\\ABHISEK\\Anaconda3\\lib\\site-packages\\ipykernel_launcher.py:2: DataConversionWarning: Data with input dtype int64, float64 were all converted to float64 by the scale function.\n",
      "  \n"
     ]
    }
   ],
   "source": [
    "X_train = preprocessing.scale(X_train)\n",
    "X_test = preprocessing.scale(X_test)"
   ]
  },
  {
   "cell_type": "markdown",
   "metadata": {},
   "source": [
    "# Random Forest"
   ]
  },
  {
   "cell_type": "code",
   "execution_count": 13,
   "metadata": {},
   "outputs": [
    {
     "name": "stdout",
     "output_type": "stream",
     "text": [
      "Fitting 3 folds for each of 10 candidates, totalling 30 fits\n"
     ]
    },
    {
     "name": "stderr",
     "output_type": "stream",
     "text": [
      "[Parallel(n_jobs=-1)]: Using backend LokyBackend with 4 concurrent workers.\n",
      "[Parallel(n_jobs=-1)]: Done   5 tasks      | elapsed:  1.9min\n",
      "[Parallel(n_jobs=-1)]: Done  10 tasks      | elapsed:  2.9min\n",
      "[Parallel(n_jobs=-1)]: Done  17 tasks      | elapsed:  3.6min\n",
      "[Parallel(n_jobs=-1)]: Done  27 out of  30 | elapsed:  5.5min remaining:   36.3s\n",
      "[Parallel(n_jobs=-1)]: Done  30 out of  30 | elapsed:  6.0min finished\n",
      "C:\\Users\\ABHISEK\\Anaconda3\\lib\\site-packages\\sklearn\\model_selection\\_search.py:740: DataConversionWarning: A column-vector y was passed when a 1d array was expected. Please change the shape of y to (n_samples,), for example using ravel().\n",
      "  self.best_estimator_.fit(X, y, **fit_params)\n"
     ]
    },
    {
     "name": "stdout",
     "output_type": "stream",
     "text": [
      "Tuned Parameters: {'n_estimators': 300, 'min_samples_split': 10, 'min_samples_leaf': 10, 'max_depth': 8}\n",
      "Best score is 0.6953926805881281\n"
     ]
    }
   ],
   "source": [
    "tuned_parameters = {\n",
    "'max_depth' : [3,5,8],\n",
    "'n_estimators': [300, 500],\n",
    "'min_samples_split' :[10,15],\n",
    "'min_samples_leaf' : [1, 2, 5, 10]}\n",
    "# Instantiate a logistic regression classifier: logreg\n",
    "rfc=RandomForestClassifier(random_state=1, class_weight=\"balanced\")\n",
    "\n",
    "\n",
    "# Instantiate the GridSearchCV object: logreg_cv\n",
    "\n",
    "param_comb = 10\n",
    "rfc_cv = RandomizedSearchCV(rfc, param_distributions=tuned_parameters, n_iter=param_comb, scoring=\"roc_auc\", n_jobs=-1, cv=3, verbose=10, random_state=1 )\n",
    "\n",
    "\n",
    "# Fit it to the data\n",
    "rfc_cv.fit(X_train, y_train)\n",
    "\n",
    "# Print the tuned parameter and score\n",
    "print(\"Tuned Parameters: {}\".format(rfc_cv.best_params_))\n",
    "print(\"Best score is {}\".format(rfc_cv.best_score_))"
   ]
  },
  {
   "cell_type": "code",
   "execution_count": 14,
   "metadata": {},
   "outputs": [],
   "source": [
    "#clf.fit(X_train, y_train)\n",
    "predictions = rfc_cv.predict(X_test)"
   ]
  },
  {
   "cell_type": "code",
   "execution_count": 15,
   "metadata": {},
   "outputs": [
    {
     "data": {
      "image/png": "[encoded data removed]",
      "text/plain": [
       "<matplotlib.figure.Figure at 0x18cc21bb9b0>"
      ]
     },
     "metadata": {},
     "output_type": "display_data"
    }
   ],
   "source": [
    "import matplotlib.pyplot as plt\n",
    "import seaborn as sns\n",
    "%matplotlib inline\n",
    "%matplotlib inline\n",
    "#Gerando Matriz de Confusão\n",
    "conf_matrix = confusion_matrix(y_test, predictions)\n",
    "plt.figure(figsize=(4, 4))\n",
    "sns.heatmap(conf_matrix,  annot=True,xticklabels=['Neg','pos'], yticklabels=['Neg','Pos'],fmt=\"d\")\n",
    "plt.title(\"Confusion matrix\")\n",
    "plt.ylabel('True class')\n",
    "plt.xlabel('Predicted class')\n",
    "plt.show()"
   ]
  },
  {
   "cell_type": "code",
   "execution_count": 16,
   "metadata": {},
   "outputs": [
    {
     "data": {
      "text/plain": [
       "0.6365282840895472"
      ]
     },
     "execution_count": 16,
     "metadata": {},
     "output_type": "execute_result"
    }
   ],
   "source": [
    "roc_auc_score(y_test, predictions)"
   ]
  },
  {
   "cell_type": "markdown",
   "metadata": {},
   "source": [
    "# XGB"
   ]
  },
  {
   "cell_type": "code",
   "execution_count": 17,
   "metadata": {},
   "outputs": [
    {
     "name": "stdout",
     "output_type": "stream",
     "text": [
      "Fitting 3 folds for each of 5 candidates, totalling 15 fits\n"
     ]
    },
    {
     "name": "stderr",
     "output_type": "stream",
     "text": [
      "[Parallel(n_jobs=-1)]: Using backend LokyBackend with 4 concurrent workers.\n",
      "[Parallel(n_jobs=-1)]: Done  12 out of  15 | elapsed:  3.2min remaining:   48.3s\n",
      "[Parallel(n_jobs=-1)]: Done  15 out of  15 | elapsed:  6.1min finished\n",
      "C:\\Users\\ABHISEK\\Anaconda3\\lib\\site-packages\\sklearn\\preprocessing\\label.py:219: DataConversionWarning: A column-vector y was passed when a 1d array was expected. Please change the shape of y to (n_samples, ), for example using ravel().\n",
      "  y = column_or_1d(y, warn=True)\n",
      "C:\\Users\\ABHISEK\\Anaconda3\\lib\\site-packages\\sklearn\\preprocessing\\label.py:252: DataConversionWarning: A column-vector y was passed when a 1d array was expected. Please change the shape of y to (n_samples, ), for example using ravel().\n",
      "  y = column_or_1d(y, warn=True)\n"
     ]
    },
    {
     "data": {
      "text/plain": [
       "RandomizedSearchCV(cv=3, error_score='raise-deprecating',\n",
       "          estimator=XGBClassifier(base_score=0.5, booster='gbtree', colsample_bylevel=1,\n",
       "       colsample_bytree=1, gamma=0, learning_rate=0.02, max_delta_step=0,\n",
       "       max_depth=3, min_child_weight=1, missing=None, n_estimators=100,\n",
       "       n_jobs=1, nthread=None, objective='binary:logistic', random_state=0,\n",
       "       reg_alpha=0, reg_lambda=1, scale_pos_weight=12.6, seed=None,\n",
       "       silent=True, subsample=1),\n",
       "          fit_params=None, iid='warn', n_iter=5, n_jobs=-1,\n",
       "          param_distributions={'n_estimators': [100, 300, 500], 'min_child_weight': [1, 5, 10], 'gamma': [0.5, 1, 1.5, 2, 5], 'subsample': [0.6, 0.8, 1.0], 'colsample_bytree': [0.6, 0.8, 1.0], 'max_depth': [3, 5]},\n",
       "          pre_dispatch='2*n_jobs', random_state=1, refit=True,\n",
       "          return_train_score='warn', scoring='roc_auc', verbose=5)"
      ]
     },
     "execution_count": 17,
     "metadata": {},
     "output_type": "execute_result"
    }
   ],
   "source": [
    "from sklearn.model_selection import RandomizedSearchCV\n",
    "#import timer\n",
    "import math\n",
    "import xgboost as xgb\n",
    "\n",
    "\n",
    "# A parameter grid for XGBoost\n",
    "params = {\n",
    "        'n_estimators': [100,300,500],\n",
    "        'min_child_weight': [1, 5, 10],\n",
    "        'gamma': [0.5, 1, 1.5, 2, 5],\n",
    "        'subsample': [0.6, 0.8, 1.0],\n",
    "        'colsample_bytree': [0.6, 0.8, 1.0],\n",
    "        'max_depth': [3,5]\n",
    "        }\n",
    "\n",
    "# scale_pos_weight = np.sum(y == 1)/ float(np.sum(y == 0))\n",
    "# sum(negative instances) / sum(positive instances)\n",
    "xgb_random = xgb.XGBClassifier(learning_rate=0.02, scale_pos_weight=12.6)\n",
    "\n",
    "\n",
    "param_comb = 5\n",
    "random_search = RandomizedSearchCV(xgb_random, param_distributions=params, n_iter=param_comb, scoring='roc_auc', n_jobs=-1, cv=3, verbose=5, random_state=1 )\n",
    "\n",
    "random_search.fit(X_train, y_train)"
   ]
  },
  {
   "cell_type": "code",
   "execution_count": 18,
   "metadata": {},
   "outputs": [],
   "source": [
    "predictions = random_search.predict(X_test)"
   ]
  },
  {
   "cell_type": "code",
   "execution_count": 19,
   "metadata": {},
   "outputs": [
    {
     "data": {
      "image/png": "[encoded data removed]",
      "text/plain": [
       "<matplotlib.figure.Figure at 0x18cc1f25438>"
      ]
     },
     "metadata": {},
     "output_type": "display_data"
    }
   ],
   "source": [
    "import matplotlib.pyplot as plt\n",
    "import seaborn as sns\n",
    "%matplotlib inline\n",
    "%matplotlib inline\n",
    "#Gerando Matriz de Confusão\n",
    "conf_matrix = confusion_matrix(y_test, predictions)\n",
    "plt.figure(figsize=(4, 4))\n",
    "sns.heatmap(conf_matrix,  annot=True,xticklabels=['Neg','pos'], yticklabels=['Neg','Pos'],fmt=\"d\")\n",
    "plt.title(\"Confusion matrix\")\n",
    "plt.ylabel('True class')\n",
    "plt.xlabel('Predicted class')\n",
    "plt.show()"
   ]
  },
  {
   "cell_type": "code",
   "execution_count": 20,
   "metadata": {},
   "outputs": [
    {
     "data": {
      "text/plain": [
       "0.6713011106429204"
      ]
     },
     "execution_count": 20,
     "metadata": {},
     "output_type": "execute_result"
    }
   ],
   "source": [
    "roc_auc_score(y_test, predictions)"
   ]
  },
  {
   "cell_type": "markdown",
   "metadata": {},
   "source": [
    "# Neural Network with Imbalanced Dataset"
   ]
  },
  {
   "cell_type": "markdown",
   "metadata": {},
   "source": [
    "## Applying SMOTE"
   ]
  },
  {
   "cell_type": "code",
   "execution_count": 21,
   "metadata": {},
   "outputs": [
    {
     "name": "stderr",
     "output_type": "stream",
     "text": [
      "C:\\Users\\ABHISEK\\Anaconda3\\lib\\site-packages\\sklearn\\utils\\validation.py:761: DataConversionWarning: A column-vector y was passed when a 1d array was expected. Please change the shape of y to (n_samples, ), for example using ravel().\n",
      "  y = column_or_1d(y, warn=True)\n"
     ]
    }
   ],
   "source": [
    "sm = SMOTE(sampling_strategy='auto')\n",
    "X_train_res, y_train_res = sm.fit_sample(X_train, y_train)"
   ]
  },
  {
   "cell_type": "code",
   "execution_count": 22,
   "metadata": {},
   "outputs": [
    {
     "name": "stdout",
     "output_type": "stream",
     "text": [
      "After OverSampling, the shape of X_train: (74046, 212)\n",
      "After OverSampling, the shape of y_train: (74046,) \n",
      "\n",
      "After OverSampling, counts of label '1': 37023\n",
      "After OverSampling, counts of label '0': 37023\n"
     ]
    }
   ],
   "source": [
    "print('After OverSampling, the shape of X_train: {}'.format(X_train_res.shape))\n",
    "print('After OverSampling, the shape of y_train: {} \\n'.format(y_train_res.shape))\n",
    "\n",
    "print(\"After OverSampling, counts of label '1': {}\".format(sum(y_train_res==1)))\n",
    "print(\"After OverSampling, counts of label '0': {}\".format(sum(y_train_res==0)))"
   ]
  },
  {
   "cell_type": "code",
   "execution_count": 23,
   "metadata": {},
   "outputs": [],
   "source": [
    "X_train = preprocessing.scale(X_train)\n",
    "X_test = preprocessing.scale(X_test)"
   ]
  },
  {
   "cell_type": "code",
   "execution_count": 24,
   "metadata": {},
   "outputs": [
    {
     "name": "stderr",
     "output_type": "stream",
     "text": [
      "C:\\Users\\ABHISEK\\Anaconda3\\lib\\site-packages\\h5py\\__init__.py:36: FutureWarning: Conversion of the second argument of issubdtype from `float` to `np.floating` is deprecated. In future, it will be treated as `np.float64 == np.dtype(float).type`.\n",
      "  from ._conv import register_converters as _register_converters\n",
      "Using TensorFlow backend.\n"
     ]
    }
   ],
   "source": [
    "from keras.models import Sequential\n",
    "from keras.layers import Dense, Activation"
   ]
  },
  {
   "cell_type": "code",
   "execution_count": 25,
   "metadata": {},
   "outputs": [],
   "source": [
    "import tensorflow as tf\n",
    "# define roc_callback, inspired by https://github.com/keras-team/keras/issues/6050#issuecomment-329996505\n",
    "def auc_roc(y_true, y_pred):\n",
    "    # any tensorflow metric\n",
    "    value, update_op = tf.contrib.metrics.streaming_auc(y_pred, y_true)\n",
    "\n",
    "    # find all variables created for this metric\n",
    "    metric_vars = [i for i in tf.local_variables() if 'auc_roc' in i.name.split('/')[1]]\n",
    "\n",
    "    # Add metric variables to GLOBAL_VARIABLES collection.\n",
    "    # They will be initialized for new session.\n",
    "    for v in metric_vars:\n",
    "        tf.add_to_collection(tf.GraphKeys.GLOBAL_VARIABLES, v)\n",
    "\n",
    "    # force to update metric values\n",
    "    with tf.control_dependencies([update_op]):\n",
    "        value = tf.identity(value)\n",
    "        return value"
   ]
  },
  {
   "cell_type": "code",
   "execution_count": 26,
   "metadata": {},
   "outputs": [],
   "source": [
    "# some model parameters\n",
    "output_dim = 1\n",
    "input_dim = X_train_res.shape[1]\n",
    "batch_size = 128\n",
    "nb_epoch = 20"
   ]
  },
  {
   "cell_type": "code",
   "execution_count": 27,
   "metadata": {},
   "outputs": [
    {
     "name": "stdout",
     "output_type": "stream",
     "text": [
      "_________________________________________________________________\n",
      "Layer (type)                 Output Shape              Param #   \n",
      "=================================================================\n",
      "dense_1 (Dense)              (None, 128)               27264     \n",
      "_________________________________________________________________\n",
      "batch_normalization_1 (Batch (None, 128)               512       \n",
      "_________________________________________________________________\n",
      "dense_2 (Dense)              (None, 64)                8256      \n",
      "_________________________________________________________________\n",
      "batch_normalization_2 (Batch (None, 64)                256       \n",
      "_________________________________________________________________\n",
      "dense_3 (Dense)              (None, 32)                2080      \n",
      "_________________________________________________________________\n",
      "batch_normalization_3 (Batch (None, 32)                128       \n",
      "_________________________________________________________________\n",
      "dense_4 (Dense)              (None, 16)                528       \n",
      "_________________________________________________________________\n",
      "batch_normalization_4 (Batch (None, 16)                64        \n",
      "_________________________________________________________________\n",
      "dense_5 (Dense)              (None, 8)                 136       \n",
      "_________________________________________________________________\n",
      "batch_normalization_5 (Batch (None, 8)                 32        \n",
      "_________________________________________________________________\n",
      "dense_6 (Dense)              (None, 1)                 9         \n",
      "=================================================================\n",
      "Total params: 39,265\n",
      "Trainable params: 38,769\n",
      "Non-trainable params: 496\n",
      "_________________________________________________________________\n"
     ]
    }
   ],
   "source": [
    "# input-256-120-output\n",
    "from keras.layers import Dropout\n",
    "from keras.layers.normalization import BatchNormalization\n",
    "# Multilayer perceptron\n",
    "from keras import regularizers\n",
    "model_relu = Sequential()\n",
    "model_relu.add(Dense(128, activation='relu', kernel_initializer='he_normal', kernel_regularizer=regularizers.l2(0.01), input_shape=(input_dim,)))\n",
    "model_relu.add(BatchNormalization())\n",
    "#model_relu.add(Dropout(0.3))\n",
    "model_relu.add(Dense(64, activation='relu', kernel_initializer='he_normal', kernel_regularizer=regularizers.l2(0.01), input_shape=(input_dim,)))\n",
    "model_relu.add(BatchNormalization())\n",
    "#model_relu.add(Dropout(0.3))\n",
    "model_relu.add(Dense(32, activation='relu', kernel_initializer='he_normal', kernel_regularizer=regularizers.l2(0.01)))\n",
    "model_relu.add(BatchNormalization())\n",
    "#model_relu.add(Dropout(0.3))\n",
    "model_relu.add(Dense(16, activation='relu', kernel_initializer='he_normal', kernel_regularizer=regularizers.l2(0.01), input_shape=(input_dim,)))\n",
    "model_relu.add(BatchNormalization())\n",
    "#model_relu.add(Dropout(0.3))\n",
    "model_relu.add(Dense(8, activation='relu', kernel_initializer='he_normal', kernel_regularizer=regularizers.l2(0.01), input_shape=(input_dim,)))\n",
    "model_relu.add(BatchNormalization())\n",
    "#model_relu.add(Dropout(0.3))\n",
    "model_relu.add(Dense(output_dim, activation='sigmoid'))\n",
    "\n",
    "model_relu.summary()"
   ]
  },
  {
   "cell_type": "code",
   "execution_count": 28,
   "metadata": {},
   "outputs": [
    {
     "name": "stdout",
     "output_type": "stream",
     "text": [
      "WARNING:tensorflow:From <ipython-input-25-801357ae9d7e>:5: streaming_auc (from tensorflow.contrib.metrics.python.ops.metric_ops) is deprecated and will be removed in a future version.\n",
      "Instructions for updating:\n",
      "Please switch to tf.metrics.auc. Note that the order of the labels and predictions arguments has been switched.\n",
      "Train on 74046 samples, validate on 10000 samples\n",
      "Epoch 1/20\n",
      "74046/74046 [==============================] - 11s 144us/step - loss: 2.4092 - auc_roc: 0.6923 - val_loss: 1.2490 - val_auc_roc: 0.7610\n",
      "Epoch 2/20\n",
      "74046/74046 [==============================] - 4s 53us/step - loss: 0.7888 - auc_roc: 0.7877 - val_loss: 0.8204 - val_auc_roc: 0.8094\n",
      "Epoch 3/20\n",
      "74046/74046 [==============================] - 4s 55us/step - loss: 0.6021 - auc_roc: 0.8234 - val_loss: 0.6316 - val_auc_roc: 0.8360\n",
      "Epoch 4/20\n",
      "74046/74046 [==============================] - 4s 54us/step - loss: 0.5454 - auc_roc: 0.8460 - val_loss: 0.5455 - val_auc_roc: 0.8547\n",
      "Epoch 5/20\n",
      "74046/74046 [==============================] - 4s 52us/step - loss: 0.5174 - auc_roc: 0.8621 - val_loss: 0.5785 - val_auc_roc: 0.8682\n",
      "Epoch 6/20\n",
      "74046/74046 [==============================] - 4s 54us/step - loss: 0.5027 - auc_roc: 0.8734 - val_loss: 0.5436 - val_auc_roc: 0.8783\n",
      "Epoch 7/20\n",
      "74046/74046 [==============================] - 4s 53us/step - loss: 0.4894 - auc_roc: 0.8826 - val_loss: 0.4650 - val_auc_roc: 0.8867\n",
      "Epoch 8/20\n",
      "74046/74046 [==============================] - 4s 52us/step - loss: 0.4835 - auc_roc: 0.8903 - val_loss: 0.5009 - val_auc_roc: 0.8934\n",
      "Epoch 9/20\n",
      "74046/74046 [==============================] - 4s 58us/step - loss: 0.4729 - auc_roc: 0.8963 - val_loss: 0.4684 - val_auc_roc: 0.8990\n",
      "Epoch 10/20\n",
      "74046/74046 [==============================] - 4s 57us/step - loss: 0.4677 - auc_roc: 0.9015 - val_loss: 0.4995 - val_auc_roc: 0.9036\n",
      "Epoch 11/20\n",
      "74046/74046 [==============================] - 4s 56us/step - loss: 0.4621 - auc_roc: 0.9057 - val_loss: 0.4585 - val_auc_roc: 0.9076\n",
      "Epoch 12/20\n",
      "74046/74046 [==============================] - 4s 54us/step - loss: 0.4552 - auc_roc: 0.9095 - val_loss: 0.4456 - val_auc_roc: 0.9112\n",
      "Epoch 13/20\n",
      "74046/74046 [==============================] - 4s 55us/step - loss: 0.4471 - auc_roc: 0.9129 - val_loss: 0.4751 - val_auc_roc: 0.9145\n",
      "Epoch 14/20\n",
      "74046/74046 [==============================] - 4s 54us/step - loss: 0.4485 - auc_roc: 0.9159 - val_loss: 0.4854 - val_auc_roc: 0.9171\n",
      "Epoch 15/20\n",
      "74046/74046 [==============================] - 4s 55us/step - loss: 0.4411 - auc_roc: 0.9184 - val_loss: 0.4573 - val_auc_roc: 0.9195\n",
      "Epoch 16/20\n",
      "74046/74046 [==============================] - 4s 56us/step - loss: 0.4410 - auc_roc: 0.9206 - val_loss: 0.4792 - val_auc_roc: 0.9216\n",
      "Epoch 17/20\n",
      "74046/74046 [==============================] - 4s 58us/step - loss: 0.4374 - auc_roc: 0.9226 - val_loss: 0.5175 - val_auc_roc: 0.9235\n",
      "Epoch 18/20\n",
      "74046/74046 [==============================] - 4s 56us/step - loss: 0.4347 - auc_roc: 0.9243 - val_loss: 0.4616 - val_auc_roc: 0.9252\n",
      "Epoch 19/20\n",
      "74046/74046 [==============================] - 5s 66us/step - loss: 0.4342 - auc_roc: 0.9260 - val_loss: 0.4573 - val_auc_roc: 0.9268\n",
      "Epoch 20/20\n",
      "74046/74046 [==============================] - 5s 66us/step - loss: 0.4305 - auc_roc: 0.9276 - val_loss: 0.4723 - val_auc_roc: 0.9283\n"
     ]
    }
   ],
   "source": [
    "model_relu.compile(optimizer='adam', loss='binary_crossentropy', metrics=[auc_roc])\n",
    "history = model_relu.fit(X_train_res, y_train_res, batch_size=batch_size, epochs=nb_epoch, verbose=1,validation_data=(X_test, y_test))"
   ]
  },
  {
   "cell_type": "code",
   "execution_count": 29,
   "metadata": {},
   "outputs": [],
   "source": [
    "predictions = model_relu.predict_classes(X_test)"
   ]
  },
  {
   "cell_type": "code",
   "execution_count": 30,
   "metadata": {},
   "outputs": [
    {
     "data": {
      "image/png": "[encoded data removed]",
      "text/plain": [
       "<matplotlib.figure.Figure at 0x18cdc883978>"
      ]
     },
     "metadata": {},
     "output_type": "display_data"
    }
   ],
   "source": [
    "import matplotlib.pyplot as plt\n",
    "import seaborn as sns\n",
    "%matplotlib inline\n",
    "%matplotlib inline\n",
    "#Gerando Matriz de Confusão\n",
    "conf_matrix = confusion_matrix(y_test, predictions)\n",
    "plt.figure(figsize=(4, 4))\n",
    "sns.heatmap(conf_matrix,  annot=True,xticklabels=['Neg','pos'], yticklabels=['Neg','Pos'],fmt=\"d\")\n",
    "plt.title(\"Confusion matrix\")\n",
    "plt.ylabel('True class')\n",
    "plt.xlabel('Predicted class')\n",
    "plt.show()"
   ]
  },
  {
   "cell_type": "code",
   "execution_count": 31,
   "metadata": {},
   "outputs": [
    {
     "data": {
      "text/plain": [
       "0.5265970565836423"
      ]
     },
     "execution_count": 31,
     "metadata": {},
     "output_type": "execute_result"
    }
   ],
   "source": [
    "roc_auc_score(y_test, predictions)"
   ]
  },
  {
   "cell_type": "markdown",
   "metadata": {},
   "source": [
    "# Upsampling of minority class"
   ]
  },
  {
   "cell_type": "code",
   "execution_count": 32,
   "metadata": {},
   "outputs": [
    {
     "data": {
      "text/plain": [
       "1    46328\n",
       "0    46328\n",
       "Name: labels, dtype: int64"
      ]
     },
     "execution_count": 32,
     "metadata": {},
     "output_type": "execute_result"
    }
   ],
   "source": [
    "# https://elitedatascience.com/imbalanced-classes\n",
    "train_comb = pd.concat([train,target_churn], axis=1)\n",
    "\n",
    "# Separate majority and minority classes\n",
    "df_majority = train_comb[train_comb['labels']==0]\n",
    "df_minority = train_comb[train_comb['labels']==1]\n",
    " \n",
    "# Upsample minority class\n",
    "df_minority_upsampled = resample(df_minority, \n",
    "                                 replace=True,     # sample with replacement\n",
    "                                 n_samples=df_majority.shape[0],    # to match majority class\n",
    "                                 random_state=123) # reproducible results\n",
    " \n",
    "# Combine majority class with upsampled minority class\n",
    "df_upsampled = pd.concat([df_majority, df_minority_upsampled])\n",
    " \n",
    "# Display new class counts\n",
    "df_upsampled['labels'].value_counts()"
   ]
  },
  {
   "cell_type": "code",
   "execution_count": 33,
   "metadata": {},
   "outputs": [],
   "source": [
    "target = df_upsampled['labels']\n",
    "df_upsampled = df_upsampled.drop('labels', axis=1)"
   ]
  },
  {
   "cell_type": "code",
   "execution_count": 34,
   "metadata": {},
   "outputs": [],
   "source": [
    "for i,j in enumerate(df_upsampled.isnull().sum(axis = 0)/len(df_upsampled)):\n",
    "    if j>=1:\n",
    "        df_upsampled = df_upsampled.drop([\"Var\" + str(i+1)], axis = 1)"
   ]
  },
  {
   "cell_type": "code",
   "execution_count": 35,
   "metadata": {},
   "outputs": [],
   "source": [
    "X_train, X_test, y_train, y_test = train_test_split(df_upsampled,target,test_size=0.2, random_state=42)"
   ]
  },
  {
   "cell_type": "code",
   "execution_count": 36,
   "metadata": {},
   "outputs": [],
   "source": [
    "imp = DataFrameImputer().fit(X_train)\n",
    "X_train = imp.transform(X_train)\n",
    "X_test = imp.transform(X_test)"
   ]
  },
  {
   "cell_type": "code",
   "execution_count": 37,
   "metadata": {},
   "outputs": [],
   "source": [
    "#from sklearn import preprocessing\n",
    "from sklearn.preprocessing import LabelEncoder\n",
    "#le = preprocessing.LabelEncoder\n",
    "le = LabelEncoderExt()\n",
    "for i in range(0,X_test.shape[1]):\n",
    "    if X_train.dtypes[i]=='object':\n",
    "        le.fit(X_train[X_train.columns[i]])\n",
    "        X_train[X_train.columns[i]] = le.transform(X_train[X_train.columns[i]])\n",
    "        X_test[X_test.columns[i]] = le.transform(X_test[X_test.columns[i]])"
   ]
  },
  {
   "cell_type": "markdown",
   "metadata": {},
   "source": [
    "# Neural Network"
   ]
  },
  {
   "cell_type": "code",
   "execution_count": 38,
   "metadata": {},
   "outputs": [],
   "source": [
    "# some model parameters\n",
    "output_dim = 1\n",
    "input_dim = X_train.shape[1]\n",
    "batch_size = 128\n",
    "nb_epoch = 30"
   ]
  },
  {
   "cell_type": "code",
   "execution_count": 39,
   "metadata": {},
   "outputs": [
    {
     "name": "stderr",
     "output_type": "stream",
     "text": [
      "C:\\Users\\ABHISEK\\Anaconda3\\lib\\site-packages\\ipykernel_launcher.py:1: DataConversionWarning: Data with input dtype int64, float64 were all converted to float64 by the scale function.\n",
      "  \"\"\"Entry point for launching an IPython kernel.\n",
      "C:\\Users\\ABHISEK\\Anaconda3\\lib\\site-packages\\ipykernel_launcher.py:2: DataConversionWarning: Data with input dtype int64, float64 were all converted to float64 by the scale function.\n",
      "  \n"
     ]
    }
   ],
   "source": [
    "X_train = preprocessing.scale(X_train)\n",
    "X_test = preprocessing.scale(X_test)"
   ]
  },
  {
   "cell_type": "code",
   "execution_count": 40,
   "metadata": {},
   "outputs": [
    {
     "name": "stdout",
     "output_type": "stream",
     "text": [
      "_________________________________________________________________\n",
      "Layer (type)                 Output Shape              Param #   \n",
      "=================================================================\n",
      "dense_7 (Dense)              (None, 128)               27264     \n",
      "_________________________________________________________________\n",
      "batch_normalization_6 (Batch (None, 128)               512       \n",
      "_________________________________________________________________\n",
      "dropout_1 (Dropout)          (None, 128)               0         \n",
      "_________________________________________________________________\n",
      "dense_8 (Dense)              (None, 64)                8256      \n",
      "_________________________________________________________________\n",
      "batch_normalization_7 (Batch (None, 64)                256       \n",
      "_________________________________________________________________\n",
      "dropout_2 (Dropout)          (None, 64)                0         \n",
      "_________________________________________________________________\n",
      "dense_9 (Dense)              (None, 32)                2080      \n",
      "_________________________________________________________________\n",
      "batch_normalization_8 (Batch (None, 32)                128       \n",
      "_________________________________________________________________\n",
      "dropout_3 (Dropout)          (None, 32)                0         \n",
      "_________________________________________________________________\n",
      "dense_10 (Dense)             (None, 16)                528       \n",
      "_________________________________________________________________\n",
      "batch_normalization_9 (Batch (None, 16)                64        \n",
      "_________________________________________________________________\n",
      "dropout_4 (Dropout)          (None, 16)                0         \n",
      "_________________________________________________________________\n",
      "dense_11 (Dense)             (None, 8)                 136       \n",
      "_________________________________________________________________\n",
      "batch_normalization_10 (Batc (None, 8)                 32        \n",
      "_________________________________________________________________\n",
      "dropout_5 (Dropout)          (None, 8)                 0         \n",
      "_________________________________________________________________\n",
      "dense_12 (Dense)             (None, 1)                 9         \n",
      "=================================================================\n",
      "Total params: 39,265\n",
      "Trainable params: 38,769\n",
      "Non-trainable params: 496\n",
      "_________________________________________________________________\n"
     ]
    }
   ],
   "source": [
    "# input-256-120-output\n",
    "from keras.layers import Dropout\n",
    "from keras.layers.normalization import BatchNormalization\n",
    "# Multilayer perceptron\n",
    "from keras import regularizers\n",
    "model_relu = Sequential()\n",
    "model_relu.add(Dense(128, activation='relu', kernel_initializer='he_normal', kernel_regularizer=regularizers.l2(0.01), input_shape=(input_dim,)))\n",
    "model_relu.add(BatchNormalization())\n",
    "model_relu.add(Dropout(0.2))\n",
    "model_relu.add(Dense(64, activation='relu', kernel_initializer='he_normal', kernel_regularizer=regularizers.l2(0.01), input_shape=(input_dim,)))\n",
    "model_relu.add(BatchNormalization())\n",
    "model_relu.add(Dropout(0.2))\n",
    "model_relu.add(Dense(32, activation='relu', kernel_initializer='he_normal', kernel_regularizer=regularizers.l2(0.01)))\n",
    "model_relu.add(BatchNormalization())\n",
    "model_relu.add(Dropout(0.2))\n",
    "model_relu.add(Dense(16, activation='relu', kernel_initializer='he_normal', kernel_regularizer=regularizers.l2(0.01), input_shape=(input_dim,)))\n",
    "model_relu.add(BatchNormalization())\n",
    "model_relu.add(Dropout(0.2))\n",
    "model_relu.add(Dense(8, activation='relu', kernel_initializer='he_normal', kernel_regularizer=regularizers.l2(0.01), input_shape=(input_dim,)))\n",
    "model_relu.add(BatchNormalization())\n",
    "model_relu.add(Dropout(0.2))\n",
    "model_relu.add(Dense(output_dim, activation='sigmoid'))\n",
    "\n",
    "model_relu.summary()"
   ]
  },
  {
   "cell_type": "code",
   "execution_count": 41,
   "metadata": {},
   "outputs": [
    {
     "name": "stdout",
     "output_type": "stream",
     "text": [
      "Train on 74124 samples, validate on 18532 samples\n",
      "Epoch 1/30\n",
      "74124/74124 [==============================] - 10s 133us/step - loss: 2.6196 - auc_roc: 0.5329 - val_loss: 1.1622 - val_auc_roc: 0.5753\n",
      "Epoch 2/30\n",
      "74124/74124 [==============================] - 6s 84us/step - loss: 0.8642 - auc_roc: 0.6068 - val_loss: 0.7256 - val_auc_roc: 0.6318\n",
      "Epoch 3/30\n",
      "74124/74124 [==============================] - 6s 82us/step - loss: 0.6955 - auc_roc: 0.6470 - val_loss: 0.6831 - val_auc_roc: 0.6597\n",
      "Epoch 4/30\n",
      "74124/74124 [==============================] - 6s 81us/step - loss: 0.6730 - auc_roc: 0.6687 - val_loss: 0.6668 - val_auc_roc: 0.6765\n",
      "Epoch 5/30\n",
      "74124/74124 [==============================] - 6s 81us/step - loss: 0.6774 - auc_roc: 0.6824 - val_loss: 0.6686 - val_auc_roc: 0.6880\n",
      "Epoch 6/30\n",
      "74124/74124 [==============================] - 6s 82us/step - loss: 0.6705 - auc_roc: 0.6932 - val_loss: 0.6590 - val_auc_roc: 0.6978\n",
      "Epoch 7/30\n",
      "74124/74124 [==============================] - 6s 78us/step - loss: 0.6681 - auc_roc: 0.7018 - val_loss: 0.6522 - val_auc_roc: 0.7059\n",
      "Epoch 8/30\n",
      "74124/74124 [==============================] - 6s 81us/step - loss: 0.6657 - auc_roc: 0.7098 - val_loss: 0.6619 - val_auc_roc: 0.7132\n",
      "Epoch 9/30\n",
      "74124/74124 [==============================] - 6s 82us/step - loss: 0.6631 - auc_roc: 0.7166 - val_loss: 0.6528 - val_auc_roc: 0.7196\n",
      "Epoch 10/30\n",
      "74124/74124 [==============================] - 7s 89us/step - loss: 0.6605 - auc_roc: 0.7226 - val_loss: 0.6578 - val_auc_roc: 0.7250\n",
      "Epoch 11/30\n",
      "74124/74124 [==============================] - 6s 79us/step - loss: 0.6548 - auc_roc: 0.7276 - val_loss: 0.6495 - val_auc_roc: 0.7300\n",
      "Epoch 12/30\n",
      "74124/74124 [==============================] - 6s 77us/step - loss: 0.6513 - auc_roc: 0.7325 - val_loss: 0.6490 - val_auc_roc: 0.7347\n",
      "Epoch 13/30\n",
      "74124/74124 [==============================] - 6s 79us/step - loss: 0.6453 - auc_roc: 0.7369 - val_loss: 0.6391 - val_auc_roc: 0.7391\n",
      "Epoch 14/30\n",
      "74124/74124 [==============================] - 6s 83us/step - loss: 0.6469 - auc_roc: 0.7412 - val_loss: 0.6375 - val_auc_roc: 0.7431\n",
      "Epoch 15/30\n",
      "74124/74124 [==============================] - 6s 82us/step - loss: 0.6390 - auc_roc: 0.7451 - val_loss: 0.6501 - val_auc_roc: 0.7469\n",
      "Epoch 16/30\n",
      "74124/74124 [==============================] - 6s 79us/step - loss: 0.6400 - auc_roc: 0.7486 - val_loss: 0.6355 - val_auc_roc: 0.7502\n",
      "Epoch 17/30\n",
      "74124/74124 [==============================] - 5s 74us/step - loss: 0.6331 - auc_roc: 0.7519 - val_loss: 0.6225 - val_auc_roc: 0.7535\n",
      "Epoch 18/30\n",
      "74124/74124 [==============================] - 5s 74us/step - loss: 0.6337 - auc_roc: 0.7551 - val_loss: 0.6272 - val_auc_roc: 0.7565\n",
      "Epoch 19/30\n",
      "74124/74124 [==============================] - 6s 74us/step - loss: 0.6355 - auc_roc: 0.7578 - val_loss: 0.6267 - val_auc_roc: 0.7590\n",
      "Epoch 20/30\n",
      "74124/74124 [==============================] - 6s 76us/step - loss: 0.6280 - auc_roc: 0.7603 - val_loss: 0.6271 - val_auc_roc: 0.7616\n",
      "Epoch 21/30\n",
      "74124/74124 [==============================] - 6s 74us/step - loss: 0.6303 - auc_roc: 0.7628 - val_loss: 0.6158 - val_auc_roc: 0.7639\n",
      "Epoch 22/30\n",
      "74124/74124 [==============================] - 6s 77us/step - loss: 0.6233 - auc_roc: 0.7652 - val_loss: 0.6280 - val_auc_roc: 0.7662\n",
      "Epoch 23/30\n",
      "74124/74124 [==============================] - 6s 78us/step - loss: 0.6212 - auc_roc: 0.7673 - val_loss: 0.6182 - val_auc_roc: 0.7683\n",
      "Epoch 24/30\n",
      "74124/74124 [==============================] - 6s 77us/step - loss: 0.6223 - auc_roc: 0.7693 - val_loss: 0.6031 - val_auc_roc: 0.7703\n",
      "Epoch 25/30\n",
      "74124/74124 [==============================] - 6s 82us/step - loss: 0.6192 - auc_roc: 0.7713 - val_loss: 0.6138 - val_auc_roc: 0.7722\n",
      "Epoch 26/30\n",
      "74124/74124 [==============================] - 6s 86us/step - loss: 0.6217 - auc_roc: 0.7730 - val_loss: 0.6080 - val_auc_roc: 0.7738\n",
      "Epoch 27/30\n",
      "74124/74124 [==============================] - 6s 86us/step - loss: 0.6192 - auc_roc: 0.7746 - val_loss: 0.6312 - val_auc_roc: 0.7753\n",
      "Epoch 28/30\n",
      "74124/74124 [==============================] - 6s 78us/step - loss: 0.6194 - auc_roc: 0.7760 - val_loss: 0.6017 - val_auc_roc: 0.7767\n",
      "Epoch 29/30\n",
      "74124/74124 [==============================] - 6s 84us/step - loss: 0.6186 - auc_roc: 0.7774 - val_loss: 0.6134 - val_auc_roc: 0.7781\n",
      "Epoch 30/30\n",
      "74124/74124 [==============================] - 6s 84us/step - loss: 0.6175 - auc_roc: 0.7788 - val_loss: 0.6226 - val_auc_roc: 0.7793\n"
     ]
    }
   ],
   "source": [
    "model_relu.compile(optimizer='adam', loss='binary_crossentropy', metrics=[auc_roc])\n",
    "history = model_relu.fit(X_train, y_train, batch_size=batch_size, epochs=nb_epoch, verbose=1,validation_data=(X_test, y_test))"
   ]
  },
  {
   "cell_type": "code",
   "execution_count": 42,
   "metadata": {},
   "outputs": [],
   "source": [
    "predictions = model_relu.predict_classes(X_test)"
   ]
  },
  {
   "cell_type": "code",
   "execution_count": 43,
   "metadata": {},
   "outputs": [
    {
     "data": {
      "image/png": "[encoded data removed]",
      "text/plain": [
       "<matplotlib.figure.Figure at 0x18cd9a40dd8>"
      ]
     },
     "metadata": {},
     "output_type": "display_data"
    }
   ],
   "source": [
    "import matplotlib.pyplot as plt\n",
    "import seaborn as sns\n",
    "%matplotlib inline\n",
    "%matplotlib inline\n",
    "#Gerando Matriz de Confusão\n",
    "conf_matrix = confusion_matrix(y_test, predictions)\n",
    "plt.figure(figsize=(4, 4))\n",
    "sns.heatmap(conf_matrix,  annot=True,xticklabels=['Neg','pos'], yticklabels=['Neg','Pos'],fmt=\"d\")\n",
    "plt.title(\"Confusion matrix\")\n",
    "plt.ylabel('True class')\n",
    "plt.xlabel('Predicted class')\n",
    "plt.show()"
   ]
  },
  {
   "cell_type": "code",
   "execution_count": 44,
   "metadata": {},
   "outputs": [
    {
     "data": {
      "text/plain": [
       "0.756746917828115"
      ]
     },
     "execution_count": 44,
     "metadata": {},
     "output_type": "execute_result"
    }
   ],
   "source": [
    "roc_auc_score(y_test, predictions)"
   ]
  },
  {
   "cell_type": "markdown",
   "metadata": {},
   "source": [
    "# Conclusion"
   ]
  },
  {
   "cell_type": "code",
   "execution_count": 45,
   "metadata": {},
   "outputs": [
    {
     "name": "stdout",
     "output_type": "stream",
     "text": [
      "+--------------------------------+--------------------+\n",
      "|             Model              |     Test Score     |\n",
      "+--------------------------------+--------------------+\n",
      "| RF with class weight balanced  | 0.6365282840895472 |\n",
      "|              xgb               | 0.6713011106429204 |\n",
      "|   SMOTE with Neural Network    | 0.5265970565836423 |\n",
      "| upsampling with Neural Network | 0.756746917828115  |\n",
      "+--------------------------------+--------------------+\n"
     ]
    }
   ],
   "source": [
    "from prettytable import PrettyTable\n",
    "x = PrettyTable()\n",
    "\n",
    "x.field_names = [\"Model\", \"Test Score\"]\n",
    "x.add_row([\"RF with class weight balanced\", 0.6365282840895472])\n",
    "x.add_row([\"xgb\", 0.6713011106429204])\n",
    "x.add_row([\"SMOTE with Neural Network\", 0.5265970565836423])\n",
    "x.add_row([\"upsampling with Neural Network\", 0.756746917828115])\n",
    "print(x)"
   ]
  },
  {
   "cell_type": "raw",
   "metadata": {},
   "source": [
    "KDDcup 2009 is a prediction problem is a classification problem with imbalance class labels. predicted labels for churn/Appetency/Up-selling but we will work on only churn prediction in this ML problem.\n",
    "we have taken small dataset where 50000 datapoints and 230 variables presents. \n",
    "\n",
    "Preprocessing:\n",
    "there are some columns which are 100% null so we have removed those columns and filled other missing values with trm \"missing\" for categorical variables and with mean for numerical variables. we have used labelencoder to convert categorical variables to numerical variables. After pre processing we have got 212 variables.\n",
    "\n",
    "This is imbalance classification problem with 0 label count is 46328 and 1 label count is 3672. \n",
    "\n",
    "\n",
    "Model:\n",
    "      we will go for tree based Ensemble models for this binary classification. we have tried Random Forest/xgboost and Neural net to predict Customer churn prediction.\n",
    "\n",
    "\n",
    "we have taken train and text split as 80:20. for Neural Net we have used SMOTE and Upsampling technique to tackle imbalance datset.we also could have used startified cross validation to tackle imbalance class label problem instead of normal k-fold cross validation. "
   ]
  },
  {
   "cell_type": "code",
   "execution_count": null,
   "metadata": {},
   "outputs": [],
   "source": []
  }
 ],
 "metadata": {
  "kernelspec": {
   "display_name": "Python 3",
   "language": "python",
   "name": "python3"
  },
  "language_info": {
   "codemirror_mode": {
    "name": "ipython",
    "version": 3
   },
   "file_extension": ".py",
   "mimetype": "text/x-python",
   "name": "python",
   "nbconvert_exporter": "python",
   "pygments_lexer": "ipython3",
   "version": "3.6.4"
  }
 },
 "nbformat": 4,
 "nbformat_minor": 2
}
