{
 "cells": [
  {
   "cell_type": "code",
   "execution_count": 1,
   "metadata": {},
   "outputs": [
    {
     "name": "stderr",
     "output_type": "stream",
     "text": [
      "C:\\Users\\ABHISEK\\Anaconda3\\lib\\site-packages\\h5py\\__init__.py:36: FutureWarning: Conversion of the second argument of issubdtype from `float` to `np.floating` is deprecated. In future, it will be treated as `np.float64 == np.dtype(float).type`.\n",
      "  from ._conv import register_converters as _register_converters\n",
      "Using TensorFlow backend.\n"
     ]
    }
   ],
   "source": [
    "import os, sys\n",
    "\n",
    "from keras.models import Model\n",
    "from keras.layers import Input, LSTM, GRU, Dense, Embedding\n",
    "from keras.preprocessing.text import Tokenizer\n",
    "from keras.preprocessing.sequence import pad_sequences\n",
    "from keras.utils import to_categorical\n",
    "import numpy as np\n",
    "import matplotlib.pyplot as plt"
   ]
  },
  {
   "cell_type": "code",
   "execution_count": 2,
   "metadata": {},
   "outputs": [],
   "source": [
    "# some config\n",
    "BATCH_SIZE = 64  # Batch size for training.\n",
    "EPOCHS = 100  # Number of epochs to train for.\n",
    "LATENT_DIM = 256  # Latent dimensionality of the encoding space.\n",
    "NUM_SAMPLES = 10000  # Number of samples to train on.\n",
    "MAX_SEQUENCE_LENGTH = 100\n",
    "MAX_NUM_WORDS = 20000\n",
    "EMBEDDING_DIM = 100"
   ]
  },
  {
   "cell_type": "code",
   "execution_count": 3,
   "metadata": {},
   "outputs": [],
   "source": [
    "# Where we will store the data\n",
    "input_texts = [] # sentence in original language\n",
    "target_texts = [] # sentence in target language\n",
    "target_texts_inputs = [] # sentence in target language offset by 1"
   ]
  },
  {
   "cell_type": "code",
   "execution_count": 4,
   "metadata": {},
   "outputs": [
    {
     "name": "stdout",
     "output_type": "stream",
     "text": [
      "num samples: 4394\n"
     ]
    }
   ],
   "source": [
    "# load in the data\n",
    "# download the data at: http://www.manythings.org/anki/\n",
    "t = 0\n",
    "for line in open('ben-eng/ben.txt', encoding=\"utf-8\"):\n",
    "  # only keep a limited number of samples\n",
    "  t += 1\n",
    "  if t > NUM_SAMPLES:\n",
    "    break\n",
    "\n",
    "  # input and target are separated by tab\n",
    "  if '\\t' not in line:\n",
    "    continue\n",
    "\n",
    "  # split up the input and translation\n",
    "  input_text, translation = line.rstrip().split('\\t')\n",
    "\n",
    "  # make the target input and output\n",
    "  # recall we'll be using teacher forcing\n",
    "  target_text = translation + ' <eos>'\n",
    "  target_text_input = '<sos> ' + translation\n",
    "\n",
    "  input_texts.append(input_text)\n",
    "  target_texts.append(target_text)\n",
    "  target_texts_inputs.append(target_text_input)\n",
    "print(\"num samples:\", len(input_texts))"
   ]
  },
  {
   "cell_type": "code",
   "execution_count": 5,
   "metadata": {},
   "outputs": [],
   "source": [
    "# tokenize the inputs\n",
    "tokenizer_inputs = Tokenizer(num_words=MAX_NUM_WORDS)\n",
    "tokenizer_inputs.fit_on_texts(input_texts)\n",
    "input_sequences = tokenizer_inputs.texts_to_sequences(input_texts)"
   ]
  },
  {
   "cell_type": "code",
   "execution_count": 7,
   "metadata": {},
   "outputs": [
    {
     "name": "stdout",
     "output_type": "stream",
     "text": [
      "Found 1884 unique input tokens.\n"
     ]
    }
   ],
   "source": [
    "# get the word to index mapping for input language\n",
    "word2idx_inputs = tokenizer_inputs.word_index\n",
    "print('Found %s unique input tokens.' % len(word2idx_inputs))"
   ]
  },
  {
   "cell_type": "code",
   "execution_count": 8,
   "metadata": {},
   "outputs": [
    {
     "data": {
      "text/plain": [
       "19"
      ]
     },
     "execution_count": 8,
     "metadata": {},
     "output_type": "execute_result"
    }
   ],
   "source": [
    "# determine maximum length input sequence\n",
    "max_len_input = max(len(s) for s in input_sequences)\n",
    "max_len_input"
   ]
  },
  {
   "cell_type": "code",
   "execution_count": 9,
   "metadata": {},
   "outputs": [],
   "source": [
    "tokenizer_outputs = Tokenizer(num_words=MAX_NUM_WORDS, filters='')\n",
    "tokenizer_outputs.fit_on_texts(target_texts + target_texts_inputs) # inefficient, oh well\n",
    "target_sequences = tokenizer_outputs.texts_to_sequences(target_texts)\n",
    "target_sequences_inputs = tokenizer_outputs.texts_to_sequences(target_texts_inputs)"
   ]
  },
  {
   "cell_type": "code",
   "execution_count": 10,
   "metadata": {},
   "outputs": [
    {
     "name": "stdout",
     "output_type": "stream",
     "text": [
      "Found 3568 unique output tokens.\n"
     ]
    }
   ],
   "source": [
    "# get the word to index mapping for output language\n",
    "word2idx_outputs = tokenizer_outputs.word_index\n",
    "print('Found %s unique output tokens.' % len(word2idx_outputs))"
   ]
  },
  {
   "cell_type": "code",
   "execution_count": 11,
   "metadata": {},
   "outputs": [],
   "source": [
    "# store number of output words for later\n",
    "# remember to add 1 since indexing starts at 1\n",
    "num_words_output = len(word2idx_outputs) + 1"
   ]
  },
  {
   "cell_type": "code",
   "execution_count": 12,
   "metadata": {},
   "outputs": [],
   "source": [
    "# determine maximum length output sequence\n",
    "max_len_target = max(len(s) for s in target_sequences)"
   ]
  },
  {
   "cell_type": "code",
   "execution_count": 15,
   "metadata": {},
   "outputs": [
    {
     "name": "stdout",
     "output_type": "stream",
     "text": [
      "encoder_inputs.shape: (4394, 19)\n",
      "encoder_inputs[0]: [ 0  0  0  0  0  0  0  0  0  0  0  0  0  0  0  0  0  0 28]\n",
      "decoder_inputs[0]: [  2 168   0   0   0   0   0   0   0   0   0   0   0   0   0   0   0   0\n",
      "   0]\n",
      "decoder_inputs.shape: (4394, 19)\n"
     ]
    }
   ],
   "source": [
    "# pad the sequences\n",
    "encoder_inputs = pad_sequences(input_sequences, maxlen=max_len_input)\n",
    "print(\"encoder_inputs.shape:\", encoder_inputs.shape)\n",
    "print(\"encoder_inputs[0]:\", encoder_inputs[0])\n",
    "\n",
    "decoder_inputs = pad_sequences(target_sequences_inputs, maxlen=max_len_target, padding='post')\n",
    "print(\"decoder_inputs[0]:\", decoder_inputs[0])\n",
    "print(\"decoder_inputs.shape:\", decoder_inputs.shape)\n",
    "\n",
    "decoder_targets = pad_sequences(target_sequences, maxlen=max_len_target, padding='post')"
   ]
  },
  {
   "cell_type": "code",
   "execution_count": 16,
   "metadata": {},
   "outputs": [],
   "source": [
    "import nltk\n",
    "#stop = set(stopwords.words('english')) #set of stopwords\n",
    "sno = nltk.stem.SnowballStemmer('english') #initialising the snowball stemmer\n",
    "\n",
    "def cleanhtml(sentence): #function to clean the word of any html-tags\n",
    "    cleanr = re.compile('<.*?>')\n",
    "    cleantext = re.sub(cleanr, ' ', sentence)\n",
    "    return cleantext\n",
    "def cleanpunc(sentence): #function to clean the word of any punctuation or special characters\n",
    "    cleaned = re.sub(r'[?|!|\\'|\"|#]',r'',sentence)\n",
    "    cleaned = re.sub(r'[.|,|)|(|\\|/]',r' ',cleaned)\n",
    "    return  cleaned"
   ]
  },
  {
   "cell_type": "code",
   "execution_count": 17,
   "metadata": {},
   "outputs": [],
   "source": [
    "import re\n",
    "i=0\n",
    "list_of_sent=[]\n",
    "for sent in input_texts:\n",
    "    filtered_sentence=[]\n",
    "    for w in sent.split():\n",
    "        for cleaned_words in cleanpunc(w).split():\n",
    "            if(cleaned_words.isalpha()):    \n",
    "                filtered_sentence.append(cleaned_words.lower())\n",
    "            else:\n",
    "                continue \n",
    "    list_of_sent.append(filtered_sentence)"
   ]
  },
  {
   "cell_type": "code",
   "execution_count": 18,
   "metadata": {},
   "outputs": [
    {
     "name": "stderr",
     "output_type": "stream",
     "text": [
      "C:\\Users\\ABHISEK\\Anaconda3\\lib\\site-packages\\gensim\\utils.py:1197: UserWarning: detected Windows; aliasing chunkize to chunkize_serial\n",
      "  warnings.warn(\"detected Windows; aliasing chunkize to chunkize_serial\")\n"
     ]
    }
   ],
   "source": [
    "import gensim\n",
    "w2v_model=gensim.models.Word2Vec(list_of_sent,size=100, workers=4)"
   ]
  },
  {
   "cell_type": "code",
   "execution_count": 19,
   "metadata": {},
   "outputs": [
    {
     "name": "stdout",
     "output_type": "stream",
     "text": [
      "Filling pre-trained embeddings...\n"
     ]
    }
   ],
   "source": [
    "# prepare embedding matrix\n",
    "print('Filling pre-trained embeddings...')\n",
    "num_words = min(MAX_NUM_WORDS, len(word2idx_inputs) + 1)\n",
    "embedding_matrix = np.zeros((num_words, EMBEDDING_DIM))\n",
    "for word, i in word2idx_inputs.items():\n",
    "    try:\n",
    "        if i < MAX_NUM_WORDS:\n",
    "            embedding_vector = w2v_model.wv[re.sub(r'[?|!|\\'|\"|#]',r'',word)]\n",
    "            if embedding_vector is not None:\n",
    "                # words not found in embedding index will be all zeros.\n",
    "                embedding_matrix[i] = embedding_vector\n",
    "    except:\n",
    "        pass"
   ]
  },
  {
   "cell_type": "code",
   "execution_count": 20,
   "metadata": {},
   "outputs": [],
   "source": [
    "# create embedding layer\n",
    "embedding_layer = Embedding(\n",
    "  num_words,\n",
    "  EMBEDDING_DIM,\n",
    "  weights=[embedding_matrix],\n",
    "  input_length=max_len_input,\n",
    "  # trainable=True\n",
    ")"
   ]
  },
  {
   "cell_type": "code",
   "execution_count": 21,
   "metadata": {},
   "outputs": [],
   "source": [
    "# create targets, since we cannot use sparse\n",
    "# categorical cross entropy when we have sequences\n",
    "decoder_targets_one_hot = np.zeros(\n",
    "  (\n",
    "    len(input_texts),\n",
    "    max_len_target,\n",
    "    num_words_output\n",
    "  ),\n",
    "  dtype='float32'\n",
    ")"
   ]
  },
  {
   "cell_type": "code",
   "execution_count": 22,
   "metadata": {},
   "outputs": [],
   "source": [
    "# assign the values\n",
    "for i, d in enumerate(decoder_targets):\n",
    "    for t, word in enumerate(d):\n",
    "        decoder_targets_one_hot[i, t, word] = 1"
   ]
  },
  {
   "cell_type": "code",
   "execution_count": 23,
   "metadata": {},
   "outputs": [],
   "source": [
    "##### build the model #####\n",
    "encoder_inputs_placeholder = Input(shape=(max_len_input,))\n",
    "x = embedding_layer(encoder_inputs_placeholder)\n",
    "encoder = LSTM(\n",
    "  LATENT_DIM,\n",
    "  return_state=True,\n",
    "  # dropout=0.5 # dropout not available on gpu\n",
    ")\n",
    "encoder_outputs, h, c = encoder(x)\n",
    "# encoder_outputs, h = encoder(x) #gru\n",
    "\n",
    "# keep only the states to pass into decoder\n",
    "encoder_states = [h, c]\n",
    "# encoder_states = [state_h] # gru"
   ]
  },
  {
   "cell_type": "code",
   "execution_count": 27,
   "metadata": {},
   "outputs": [
    {
     "data": {
      "text/plain": [
       "(4394, 19, 3569)"
      ]
     },
     "execution_count": 27,
     "metadata": {},
     "output_type": "execute_result"
    }
   ],
   "source": [
    "decoder_targets_one_hot.shape"
   ]
  },
  {
   "cell_type": "code",
   "execution_count": 29,
   "metadata": {},
   "outputs": [
    {
     "data": {
      "text/plain": [
       "(4394, 19)"
      ]
     },
     "execution_count": 29,
     "metadata": {},
     "output_type": "execute_result"
    }
   ],
   "source": [
    "decoder_targets.shape"
   ]
  },
  {
   "cell_type": "code",
   "execution_count": 30,
   "metadata": {},
   "outputs": [],
   "source": [
    "#Set up the decoder, using [h, c] as initial state.\n",
    "decoder_inputs_placeholder = Input(shape=(max_len_target,))\n",
    "\n",
    "# this word embedding will not use pre-trained vectors\n",
    "# although you could\n",
    "decoder_embedding = Embedding(num_words_output, LATENT_DIM)\n",
    "decoder_inputs_x = decoder_embedding(decoder_inputs_placeholder)"
   ]
  },
  {
   "cell_type": "code",
   "execution_count": 31,
   "metadata": {},
   "outputs": [
    {
     "data": {
      "text/plain": [
       "<tf.Tensor 'embedding_2/embedding_lookup/Identity:0' shape=(?, 19, 256) dtype=float32>"
      ]
     },
     "execution_count": 31,
     "metadata": {},
     "output_type": "execute_result"
    }
   ],
   "source": [
    "decoder_inputs_x"
   ]
  },
  {
   "cell_type": "code",
   "execution_count": 32,
   "metadata": {},
   "outputs": [
    {
     "data": {
      "text/plain": [
       "3569"
      ]
     },
     "execution_count": 32,
     "metadata": {},
     "output_type": "execute_result"
    }
   ],
   "source": [
    "num_words_output"
   ]
  },
  {
   "cell_type": "code",
   "execution_count": 45,
   "metadata": {},
   "outputs": [],
   "source": [
    "# since the decoder is a \"to-many\" model we want to have\n",
    "# return_sequences=True\n",
    "decoder_lstm = LSTM(\n",
    "  LATENT_DIM,\n",
    "  return_sequences=True,\n",
    "  return_state=True,\n",
    "  # dropout=0.5 # dropout not available on gpu\n",
    ")\n",
    "decoder_outputs, _, _ = decoder_lstm(\n",
    "  decoder_inputs_x,\n",
    "  initial_state=encoder_states\n",
    ")"
   ]
  },
  {
   "cell_type": "code",
   "execution_count": 46,
   "metadata": {},
   "outputs": [],
   "source": [
    "# final dense layer for predictions\n",
    "decoder_dense = Dense(num_words_output, activation='softmax')\n",
    "decoder_outputs = decoder_dense(decoder_outputs)"
   ]
  },
  {
   "cell_type": "code",
   "execution_count": 47,
   "metadata": {},
   "outputs": [
    {
     "name": "stdout",
     "output_type": "stream",
     "text": [
      "Train on 3515 samples, validate on 879 samples\n",
      "Epoch 1/100\n",
      "3515/3515 [==============================] - 62s 18ms/step - loss: 1.8196 - acc: 0.7768 - val_loss: 2.5894 - val_acc: 0.6548\n",
      "Epoch 2/100\n",
      "3515/3515 [==============================] - 58s 16ms/step - loss: 1.1894 - acc: 0.8200 - val_loss: 2.5634 - val_acc: 0.6709\n",
      "Epoch 3/100\n",
      "3515/3515 [==============================] - 58s 16ms/step - loss: 1.0568 - acc: 0.8290 - val_loss: 2.6102 - val_acc: 0.6716\n",
      "Epoch 4/100\n",
      "3515/3515 [==============================] - 57s 16ms/step - loss: 0.9622 - acc: 0.8388 - val_loss: 2.5879 - val_acc: 0.6696\n",
      "Epoch 5/100\n",
      "3515/3515 [==============================] - 83s 24ms/step - loss: 0.8849 - acc: 0.8480 - val_loss: 2.6094 - val_acc: 0.6722\n",
      "Epoch 6/100\n",
      "3515/3515 [==============================] - 69s 20ms/step - loss: 0.8173 - acc: 0.8557 - val_loss: 2.6122 - val_acc: 0.6737\n",
      "Epoch 7/100\n",
      "3515/3515 [==============================] - 67s 19ms/step - loss: 0.7542 - acc: 0.8626 - val_loss: 2.6385 - val_acc: 0.6758\n",
      "Epoch 8/100\n",
      "3515/3515 [==============================] - 69s 20ms/step - loss: 0.6970 - acc: 0.8688 - val_loss: 2.6256 - val_acc: 0.6795\n",
      "Epoch 9/100\n",
      "3515/3515 [==============================] - 72s 20ms/step - loss: 0.6434 - acc: 0.8768 - val_loss: 2.6311 - val_acc: 0.6811\n",
      "Epoch 10/100\n",
      "3515/3515 [==============================] - 66s 19ms/step - loss: 0.5945 - acc: 0.8842 - val_loss: 2.6418 - val_acc: 0.6814\n",
      "Epoch 11/100\n",
      "3515/3515 [==============================] - 72s 20ms/step - loss: 0.5490 - acc: 0.8911 - val_loss: 2.6647 - val_acc: 0.6831\n",
      "Epoch 12/100\n",
      "3515/3515 [==============================] - 69s 20ms/step - loss: 0.5085 - acc: 0.8968 - val_loss: 2.6402 - val_acc: 0.6835\n",
      "Epoch 13/100\n",
      "3515/3515 [==============================] - 66s 19ms/step - loss: 0.4709 - acc: 0.9020 - val_loss: 2.7051 - val_acc: 0.6854\n",
      "Epoch 14/100\n",
      "3515/3515 [==============================] - 65s 18ms/step - loss: 0.4360 - acc: 0.9075 - val_loss: 2.6907 - val_acc: 0.6857\n",
      "Epoch 15/100\n",
      "3515/3515 [==============================] - 67s 19ms/step - loss: 0.4037 - acc: 0.9123 - val_loss: 2.6952 - val_acc: 0.6873\n",
      "Epoch 16/100\n",
      "3515/3515 [==============================] - 66s 19ms/step - loss: 0.3736 - acc: 0.9184 - val_loss: 2.7016 - val_acc: 0.6882\n",
      "Epoch 17/100\n",
      "3515/3515 [==============================] - 65s 19ms/step - loss: 0.3464 - acc: 0.9237 - val_loss: 2.7114 - val_acc: 0.6875\n",
      "Epoch 18/100\n",
      "3515/3515 [==============================] - 65s 19ms/step - loss: 0.3208 - acc: 0.9286 - val_loss: 2.7329 - val_acc: 0.6886\n",
      "Epoch 19/100\n",
      "3515/3515 [==============================] - 68s 19ms/step - loss: 0.2969 - acc: 0.9333 - val_loss: 2.7781 - val_acc: 0.6869\n",
      "Epoch 20/100\n",
      "3515/3515 [==============================] - 72s 20ms/step - loss: 0.2750 - acc: 0.9377 - val_loss: 2.7582 - val_acc: 0.6885\n",
      "Epoch 21/100\n",
      "3515/3515 [==============================] - 57s 16ms/step - loss: 0.2543 - acc: 0.9408 - val_loss: 2.7983 - val_acc: 0.6889\n",
      "Epoch 22/100\n",
      "3515/3515 [==============================] - 72s 20ms/step - loss: 0.2358 - acc: 0.9448 - val_loss: 2.7839 - val_acc: 0.6893\n",
      "Epoch 23/100\n",
      "3515/3515 [==============================] - 62s 18ms/step - loss: 0.2194 - acc: 0.9485 - val_loss: 2.8101 - val_acc: 0.6885\n",
      "Epoch 24/100\n",
      "3515/3515 [==============================] - 57s 16ms/step - loss: 0.2030 - acc: 0.9515 - val_loss: 2.8230 - val_acc: 0.6885\n",
      "Epoch 25/100\n",
      "3515/3515 [==============================] - 57s 16ms/step - loss: 0.1892 - acc: 0.9538 - val_loss: 2.8267 - val_acc: 0.6895\n",
      "Epoch 26/100\n",
      "3515/3515 [==============================] - 57s 16ms/step - loss: 0.1764 - acc: 0.9556 - val_loss: 2.8560 - val_acc: 0.6892\n",
      "Epoch 27/100\n",
      "3515/3515 [==============================] - 57s 16ms/step - loss: 0.1645 - acc: 0.9580 - val_loss: 2.8725 - val_acc: 0.6883\n",
      "Epoch 28/100\n",
      "3515/3515 [==============================] - 57s 16ms/step - loss: 0.1532 - acc: 0.9600 - val_loss: 2.8663 - val_acc: 0.6898\n",
      "Epoch 29/100\n",
      "3515/3515 [==============================] - 58s 16ms/step - loss: 0.1434 - acc: 0.9621 - val_loss: 2.8741 - val_acc: 0.6886\n",
      "Epoch 30/100\n",
      "3515/3515 [==============================] - 57s 16ms/step - loss: 0.1342 - acc: 0.9633 - val_loss: 2.8971 - val_acc: 0.6884\n",
      "Epoch 31/100\n",
      "3515/3515 [==============================] - 57s 16ms/step - loss: 0.1259 - acc: 0.9653 - val_loss: 2.9064 - val_acc: 0.6884\n",
      "Epoch 32/100\n",
      "3515/3515 [==============================] - 56s 16ms/step - loss: 0.1185 - acc: 0.9656 - val_loss: 2.9312 - val_acc: 0.6879\n",
      "Epoch 33/100\n",
      "3515/3515 [==============================] - 56s 16ms/step - loss: 0.1118 - acc: 0.9668 - val_loss: 2.9391 - val_acc: 0.6888\n",
      "Epoch 34/100\n",
      "3515/3515 [==============================] - 57s 16ms/step - loss: 0.1056 - acc: 0.9681 - val_loss: 2.9589 - val_acc: 0.6875\n",
      "Epoch 35/100\n",
      "3515/3515 [==============================] - 56s 16ms/step - loss: 0.0997 - acc: 0.9688 - val_loss: 2.9580 - val_acc: 0.6878\n",
      "Epoch 36/100\n",
      "3515/3515 [==============================] - 58s 16ms/step - loss: 0.0945 - acc: 0.9696 - val_loss: 2.9709 - val_acc: 0.6870\n",
      "Epoch 37/100\n",
      "3515/3515 [==============================] - 57s 16ms/step - loss: 0.0902 - acc: 0.9710 - val_loss: 2.9947 - val_acc: 0.6877\n",
      "Epoch 38/100\n",
      "3515/3515 [==============================] - 56s 16ms/step - loss: 0.0855 - acc: 0.9717 - val_loss: 2.9837 - val_acc: 0.6870\n",
      "Epoch 39/100\n",
      "3515/3515 [==============================] - 57s 16ms/step - loss: 0.0812 - acc: 0.9720 - val_loss: 2.9982 - val_acc: 0.6879\n",
      "Epoch 40/100\n",
      "3515/3515 [==============================] - 57s 16ms/step - loss: 0.0776 - acc: 0.9733 - val_loss: 3.0197 - val_acc: 0.6879\n",
      "Epoch 41/100\n",
      "3515/3515 [==============================] - 57s 16ms/step - loss: 0.0744 - acc: 0.9736 - val_loss: 3.0253 - val_acc: 0.6881\n",
      "Epoch 42/100\n",
      "3515/3515 [==============================] - 57s 16ms/step - loss: 0.0713 - acc: 0.9738 - val_loss: 3.0483 - val_acc: 0.6871\n",
      "Epoch 43/100\n",
      "3515/3515 [==============================] - 57s 16ms/step - loss: 0.0688 - acc: 0.9738 - val_loss: 3.0379 - val_acc: 0.6886\n",
      "Epoch 44/100\n",
      "3515/3515 [==============================] - 57s 16ms/step - loss: 0.0662 - acc: 0.9742 - val_loss: 3.0618 - val_acc: 0.6888\n",
      "Epoch 45/100\n",
      "3515/3515 [==============================] - 57s 16ms/step - loss: 0.0639 - acc: 0.9748 - val_loss: 3.0804 - val_acc: 0.6886\n",
      "Epoch 46/100\n",
      "3515/3515 [==============================] - 58s 16ms/step - loss: 0.0618 - acc: 0.9752 - val_loss: 3.0963 - val_acc: 0.6890\n",
      "Epoch 47/100\n",
      "3515/3515 [==============================] - 57s 16ms/step - loss: 0.0599 - acc: 0.9749 - val_loss: 3.0820 - val_acc: 0.6883\n",
      "Epoch 48/100\n",
      "3515/3515 [==============================] - 57s 16ms/step - loss: 0.0581 - acc: 0.9754 - val_loss: 3.1052 - val_acc: 0.6869\n",
      "Epoch 49/100\n",
      "3515/3515 [==============================] - 58s 17ms/step - loss: 0.0570 - acc: 0.9757 - val_loss: 3.1140 - val_acc: 0.6878\n",
      "Epoch 50/100\n",
      "3515/3515 [==============================] - 57s 16ms/step - loss: 0.0551 - acc: 0.9758 - val_loss: 3.1249 - val_acc: 0.6876\n",
      "Epoch 51/100\n",
      "3515/3515 [==============================] - 58s 16ms/step - loss: 0.0540 - acc: 0.9766 - val_loss: 3.1421 - val_acc: 0.6870\n",
      "Epoch 52/100\n",
      "3515/3515 [==============================] - 58s 16ms/step - loss: 0.0529 - acc: 0.9757 - val_loss: 3.1690 - val_acc: 0.6872\n",
      "Epoch 53/100\n",
      "3515/3515 [==============================] - 57s 16ms/step - loss: 0.0520 - acc: 0.9753 - val_loss: 3.1651 - val_acc: 0.6873\n",
      "Epoch 54/100\n",
      "3515/3515 [==============================] - 57s 16ms/step - loss: 0.0509 - acc: 0.9760 - val_loss: 3.1868 - val_acc: 0.6872\n",
      "Epoch 55/100\n",
      "3515/3515 [==============================] - 56s 16ms/step - loss: 0.0500 - acc: 0.9763 - val_loss: 3.1811 - val_acc: 0.6878\n",
      "Epoch 56/100\n",
      "3515/3515 [==============================] - 56s 16ms/step - loss: 0.0493 - acc: 0.9760 - val_loss: 3.1931 - val_acc: 0.6876\n",
      "Epoch 57/100\n",
      "3515/3515 [==============================] - 57s 16ms/step - loss: 0.0486 - acc: 0.9761 - val_loss: 3.2053 - val_acc: 0.6875\n",
      "Epoch 58/100\n",
      "3515/3515 [==============================] - 57s 16ms/step - loss: 0.0477 - acc: 0.9762 - val_loss: 3.2229 - val_acc: 0.6881\n",
      "Epoch 59/100\n",
      "3515/3515 [==============================] - 57s 16ms/step - loss: 0.0474 - acc: 0.9762 - val_loss: 3.2257 - val_acc: 0.6867\n",
      "Epoch 60/100\n"
     ]
    },
    {
     "name": "stdout",
     "output_type": "stream",
     "text": [
      "3515/3515 [==============================] - 57s 16ms/step - loss: 0.0467 - acc: 0.9763 - val_loss: 3.2416 - val_acc: 0.6880\n",
      "Epoch 61/100\n",
      "3515/3515 [==============================] - 57s 16ms/step - loss: 0.0462 - acc: 0.9760 - val_loss: 3.2265 - val_acc: 0.6881\n",
      "Epoch 62/100\n",
      "3515/3515 [==============================] - 58s 16ms/step - loss: 0.0458 - acc: 0.9764 - val_loss: 3.2331 - val_acc: 0.6867\n",
      "Epoch 63/100\n",
      "3515/3515 [==============================] - 58s 16ms/step - loss: 0.0457 - acc: 0.9762 - val_loss: 3.2632 - val_acc: 0.6874\n",
      "Epoch 64/100\n",
      "3515/3515 [==============================] - 57s 16ms/step - loss: 0.0448 - acc: 0.9761 - val_loss: 3.2635 - val_acc: 0.6874\n",
      "Epoch 65/100\n",
      "3515/3515 [==============================] - 57s 16ms/step - loss: 0.0446 - acc: 0.9760 - val_loss: 3.2798 - val_acc: 0.6870\n",
      "Epoch 66/100\n",
      "3515/3515 [==============================] - 57s 16ms/step - loss: 0.0447 - acc: 0.9758 - val_loss: 3.2830 - val_acc: 0.6882\n",
      "Epoch 67/100\n",
      "3515/3515 [==============================] - 57s 16ms/step - loss: 0.0440 - acc: 0.9767 - val_loss: 3.3003 - val_acc: 0.6864\n",
      "Epoch 68/100\n",
      "3515/3515 [==============================] - 57s 16ms/step - loss: 0.0438 - acc: 0.9765 - val_loss: 3.2935 - val_acc: 0.6863\n",
      "Epoch 69/100\n",
      "3515/3515 [==============================] - 57s 16ms/step - loss: 0.0435 - acc: 0.9768 - val_loss: 3.3038 - val_acc: 0.6886\n",
      "Epoch 70/100\n",
      "3515/3515 [==============================] - 57s 16ms/step - loss: 0.0435 - acc: 0.9760 - val_loss: 3.3308 - val_acc: 0.6877\n",
      "Epoch 71/100\n",
      "3515/3515 [==============================] - 56s 16ms/step - loss: 0.0428 - acc: 0.9764 - val_loss: 3.3289 - val_acc: 0.6866\n",
      "Epoch 72/100\n",
      "3515/3515 [==============================] - 57s 16ms/step - loss: 0.0427 - acc: 0.9767 - val_loss: 3.3194 - val_acc: 0.6877\n",
      "Epoch 73/100\n",
      "3515/3515 [==============================] - 57s 16ms/step - loss: 0.0425 - acc: 0.9763 - val_loss: 3.3549 - val_acc: 0.6859\n",
      "Epoch 74/100\n",
      "3515/3515 [==============================] - 56s 16ms/step - loss: 0.0423 - acc: 0.9764 - val_loss: 3.3451 - val_acc: 0.6872\n",
      "Epoch 75/100\n",
      "3515/3515 [==============================] - 57s 16ms/step - loss: 0.0422 - acc: 0.9762 - val_loss: 3.3745 - val_acc: 0.6878\n",
      "Epoch 76/100\n",
      "3515/3515 [==============================] - 57s 16ms/step - loss: 0.0421 - acc: 0.9763 - val_loss: 3.3597 - val_acc: 0.6874\n",
      "Epoch 77/100\n",
      "3515/3515 [==============================] - 58s 16ms/step - loss: 0.0420 - acc: 0.9769 - val_loss: 3.3503 - val_acc: 0.6864\n",
      "Epoch 78/100\n",
      "3515/3515 [==============================] - 57s 16ms/step - loss: 0.0420 - acc: 0.9765 - val_loss: 3.3694 - val_acc: 0.6867\n",
      "Epoch 79/100\n",
      "3515/3515 [==============================] - 57s 16ms/step - loss: 0.0415 - acc: 0.9765 - val_loss: 3.3766 - val_acc: 0.6874\n",
      "Epoch 80/100\n",
      "3515/3515 [==============================] - 57s 16ms/step - loss: 0.0417 - acc: 0.9766 - val_loss: 3.3839 - val_acc: 0.6880\n",
      "Epoch 81/100\n",
      "3515/3515 [==============================] - 58s 17ms/step - loss: 0.0413 - acc: 0.9766 - val_loss: 3.4016 - val_acc: 0.6866\n",
      "Epoch 82/100\n",
      "3515/3515 [==============================] - 57s 16ms/step - loss: 0.0413 - acc: 0.9766 - val_loss: 3.3996 - val_acc: 0.6876\n",
      "Epoch 83/100\n",
      "3515/3515 [==============================] - 57s 16ms/step - loss: 0.0413 - acc: 0.9764 - val_loss: 3.4094 - val_acc: 0.6876\n",
      "Epoch 84/100\n",
      "3515/3515 [==============================] - 57s 16ms/step - loss: 0.0410 - acc: 0.9760 - val_loss: 3.4068 - val_acc: 0.6885\n",
      "Epoch 85/100\n",
      "3515/3515 [==============================] - 57s 16ms/step - loss: 0.0410 - acc: 0.9767 - val_loss: 3.4407 - val_acc: 0.6887\n",
      "Epoch 86/100\n",
      "3515/3515 [==============================] - 56s 16ms/step - loss: 0.0410 - acc: 0.9762 - val_loss: 3.4180 - val_acc: 0.6888\n",
      "Epoch 87/100\n",
      "3515/3515 [==============================] - 57s 16ms/step - loss: 0.0410 - acc: 0.9764 - val_loss: 3.4371 - val_acc: 0.6870\n",
      "Epoch 88/100\n",
      "3515/3515 [==============================] - 57s 16ms/step - loss: 0.0406 - acc: 0.9762 - val_loss: 3.4441 - val_acc: 0.6871\n",
      "Epoch 89/100\n",
      "3515/3515 [==============================] - 57s 16ms/step - loss: 0.0405 - acc: 0.9760 - val_loss: 3.4499 - val_acc: 0.6882\n",
      "Epoch 90/100\n",
      "3515/3515 [==============================] - 57s 16ms/step - loss: 0.0407 - acc: 0.9759 - val_loss: 3.4557 - val_acc: 0.6877\n",
      "Epoch 91/100\n",
      "3515/3515 [==============================] - 56s 16ms/step - loss: 0.0406 - acc: 0.9762 - val_loss: 3.4649 - val_acc: 0.6879\n",
      "Epoch 92/100\n",
      "3515/3515 [==============================] - 56s 16ms/step - loss: 0.0401 - acc: 0.9763 - val_loss: 3.4657 - val_acc: 0.6868\n",
      "Epoch 93/100\n",
      "3515/3515 [==============================] - 57s 16ms/step - loss: 0.0404 - acc: 0.9760 - val_loss: 3.4766 - val_acc: 0.6880\n",
      "Epoch 94/100\n",
      "3515/3515 [==============================] - 57s 16ms/step - loss: 0.0403 - acc: 0.9762 - val_loss: 3.4789 - val_acc: 0.6879\n",
      "Epoch 95/100\n",
      "3515/3515 [==============================] - 56s 16ms/step - loss: 0.0402 - acc: 0.9761 - val_loss: 3.4698 - val_acc: 0.6864\n",
      "Epoch 96/100\n",
      "3515/3515 [==============================] - 56s 16ms/step - loss: 0.0400 - acc: 0.9766 - val_loss: 3.4944 - val_acc: 0.6880\n",
      "Epoch 97/100\n",
      "3515/3515 [==============================] - 56s 16ms/step - loss: 0.0401 - acc: 0.9762 - val_loss: 3.5023 - val_acc: 0.6877\n",
      "Epoch 98/100\n",
      "3515/3515 [==============================] - 57s 16ms/step - loss: 0.0401 - acc: 0.9767 - val_loss: 3.4903 - val_acc: 0.6868\n",
      "Epoch 99/100\n",
      "3515/3515 [==============================] - 57s 16ms/step - loss: 0.0399 - acc: 0.9760 - val_loss: 3.4971 - val_acc: 0.6885\n",
      "Epoch 100/100\n",
      "3515/3515 [==============================] - 57s 16ms/step - loss: 0.0398 - acc: 0.9762 - val_loss: 3.4967 - val_acc: 0.6873\n"
     ]
    }
   ],
   "source": [
    "# Create the model object\n",
    "model = Model([encoder_inputs_placeholder, decoder_inputs_placeholder], decoder_outputs)\n",
    "\n",
    "# Compile the model and train it\n",
    "model.compile(\n",
    "  optimizer='rmsprop',\n",
    "  loss='categorical_crossentropy',\n",
    "  metrics=['accuracy']\n",
    ")\n",
    "r = model.fit(\n",
    "  [encoder_inputs, decoder_inputs], decoder_targets_one_hot,\n",
    "  batch_size=BATCH_SIZE,\n",
    "  epochs=100,\n",
    "  validation_split=0.2,\n",
    ")"
   ]
  },
  {
   "cell_type": "code",
   "execution_count": 36,
   "metadata": {},
   "outputs": [
    {
     "data": {
      "image/png": "[encoded data removed]",
      "text/plain": [
       "<matplotlib.figure.Figure at 0x2387107c3c8>"
      ]
     },
     "metadata": {},
     "output_type": "display_data"
    },
    {
     "data": {
      "image/png": "[encoded data removed]",
      "text/plain": [
       "<matplotlib.figure.Figure at 0x23847105668>"
      ]
     },
     "metadata": {},
     "output_type": "display_data"
    },
    {
     "name": "stderr",
     "output_type": "stream",
     "text": [
      "C:\\Users\\ABHISEK\\Anaconda3\\lib\\site-packages\\keras\\engine\\network.py:877: UserWarning: Layer lstm_2 was passed non-serializable keyword arguments: {'initial_state': [<tf.Tensor 'lstm_1/while/Exit_3:0' shape=(?, 256) dtype=float32>, <tf.Tensor 'lstm_1/while/Exit_4:0' shape=(?, 256) dtype=float32>]}. They will not be included in the serialized model (and thus will be missing at deserialization time).\n",
      "  '. They will not be included '\n"
     ]
    }
   ],
   "source": [
    "# plot some data\n",
    "plt.plot(r.history['loss'], label='loss')\n",
    "plt.plot(r.history['val_loss'], label='val_loss')\n",
    "plt.legend()\n",
    "plt.show()\n",
    "\n",
    "# accuracies\n",
    "plt.plot(r.history['acc'], label='acc')\n",
    "plt.plot(r.history['val_acc'], label='val_acc')\n",
    "plt.legend()\n",
    "plt.show()\n",
    "\n",
    "# Save model\n",
    "model.save('e2b.h5')"
   ]
  },
  {
   "cell_type": "code",
   "execution_count": 53,
   "metadata": {},
   "outputs": [],
   "source": [
    "##### Make predictions #####\n",
    "# As with the poetry example, we need to create another model\n",
    "# that can take in the RNN state and previous word as input\n",
    "# and accept a T=1 sequence.\n",
    "\n",
    "# The encoder will be stand-alone\n",
    "# From this we will get our initial decoder hidden state\n",
    "encoder_model = Model(encoder_inputs_placeholder, encoder_states)\n",
    "\n",
    "decoder_state_input_h = Input(shape=(LATENT_DIM,))\n",
    "decoder_state_input_c = Input(shape=(LATENT_DIM,))\n",
    "decoder_states_inputs = [decoder_state_input_h, decoder_state_input_c]\n",
    "# decoder_states_inputs = [decoder_state_input_h] # gru\n",
    "\n",
    "decoder_inputs_single = Input(shape=(1,))\n",
    "decoder_inputs_single_x = decoder_embedding(decoder_inputs_single)\n",
    "\n",
    "# this time, we want to keep the states too, to be output\n",
    "# by our sampling model\n",
    "decoder_outputs, h, c = decoder_lstm(\n",
    "  decoder_inputs_single_x,\n",
    "  initial_state=decoder_states_inputs\n",
    ")\n",
    "# decoder_outputs, state_h = decoder_lstm(\n",
    "#   decoder_inputs_single_x,\n",
    "#   initial_state=decoder_states_inputs\n",
    "# ) #gru\n",
    "decoder_states = [h, c]\n",
    "# decoder_states = [h] # gru\n",
    "decoder_outputs = decoder_dense(decoder_outputs)\n",
    "\n",
    "# The sampling model\n",
    "# inputs: y(t-1), h(t-1), c(t-1)\n",
    "# outputs: y(t), h(t), c(t)\n",
    "decoder_model = Model(\n",
    "  [decoder_inputs_single] + decoder_states_inputs, \n",
    "  [decoder_outputs] + decoder_states\n",
    ")\n",
    "\n",
    "# map indexes back into real words\n",
    "# so we can view the results\n",
    "idx2word_eng = {v:k for k, v in word2idx_inputs.items()}\n",
    "idx2word_trans = {v:k for k, v in word2idx_outputs.items()}\n",
    "\n",
    "\n",
    "def decode_sequence(input_seq):\n",
    "  # Encode the input as state vectors.\n",
    "  states_value = encoder_model.predict(input_seq)\n",
    "\n",
    "  # Generate empty target sequence of length 1.\n",
    "  target_seq = np.zeros((1, 1))\n",
    "\n",
    "  # Populate the first character of target sequence with the start character.\n",
    "  # NOTE: tokenizer lower-cases all words\n",
    "  target_seq[0, 0] = word2idx_outputs['<sos>']\n",
    "\n",
    "  # if we get this we break\n",
    "  eos = word2idx_outputs['<eos>']\n",
    "\n",
    "  # Create the translation\n",
    "  output_sentence = []\n",
    "  for _ in range(max_len_target):\n",
    "    output_tokens, h, c = decoder_model.predict(\n",
    "      [target_seq] + states_value\n",
    "    )\n",
    "    # output_tokens, h = decoder_model.predict(\n",
    "    #     [target_seq] + states_value\n",
    "    # ) # gru\n",
    "    \n",
    "    # Get next word\n",
    "    idx = np.argmax(output_tokens[0, 0, :])\n",
    "\n",
    "    # End sentence of EOS\n",
    "    if eos == idx:\n",
    "      break\n",
    "\n",
    "    word = ''\n",
    "    if idx > 0:\n",
    "      word = idx2word_trans[idx]\n",
    "      output_sentence.append(word)\n",
    "\n",
    "    # Update the decoder input\n",
    "    # which is just the word just generated\n",
    "    target_seq[0, 0] = idx\n",
    "\n",
    "    # Update states\n",
    "    states_value = [h, c]\n",
    "    # states_value = [h] # gru\n",
    "\n",
    "  return ' '.join(output_sentence)\n"
   ]
  },
  {
   "cell_type": "code",
   "execution_count": 54,
   "metadata": {},
   "outputs": [
    {
     "name": "stdout",
     "output_type": "stream",
     "text": [
      "-\n",
      "Input: Make yourself at home.\n",
      "Translation: এটা নিজের ঘর মনে করুন।\n",
      "Continue? [Y/n]y\n",
      "-\n",
      "Input: Nice to see you again.\n",
      "Translation: তোমাকে আবার দেখে ভালো লাগলো।\n",
      "Continue? [Y/n]n\n"
     ]
    }
   ],
   "source": [
    "while True:\n",
    "  # Do some test translations\n",
    "  i = np.random.choice(len(input_texts))\n",
    "  input_seq = encoder_inputs[i:i+1]\n",
    "  translation = decode_sequence(input_seq)\n",
    "  print('-')\n",
    "  print('Input:', input_texts[i])\n",
    "  print('Translation:', translation)\n",
    "\n",
    "  ans = input(\"Continue? [Y/n]\")\n",
    "  if ans and ans.lower().startswith('n'):\n",
    "    break"
   ]
  },
  {
   "cell_type": "code",
   "execution_count": 52,
   "metadata": {},
   "outputs": [
    {
     "data": {
      "text/plain": [
       "4394"
      ]
     },
     "execution_count": 52,
     "metadata": {},
     "output_type": "execute_result"
    }
   ],
   "source": [
    "len(input_texts)"
   ]
  },
  {
   "cell_type": "code",
   "execution_count": null,
   "metadata": {},
   "outputs": [],
   "source": []
  }
 ],
 "metadata": {
  "kernelspec": {
   "display_name": "Python 3",
   "language": "python",
   "name": "python3"
  },
  "language_info": {
   "codemirror_mode": {
    "name": "ipython",
    "version": 3
   },
   "file_extension": ".py",
   "mimetype": "text/x-python",
   "name": "python",
   "nbconvert_exporter": "python",
   "pygments_lexer": "ipython3",
   "version": "3.6.4"
  }
 },
 "nbformat": 4,
 "nbformat_minor": 2
}
