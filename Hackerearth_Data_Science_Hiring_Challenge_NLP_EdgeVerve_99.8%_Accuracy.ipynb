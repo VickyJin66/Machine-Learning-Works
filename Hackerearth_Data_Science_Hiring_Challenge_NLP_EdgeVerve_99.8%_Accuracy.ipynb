{
 "cells": [
  {
   "cell_type": "code",
   "execution_count": 1,
   "metadata": {},
   "outputs": [],
   "source": [
    "import pandas as pd\n",
    "df_train = pd.read_csv(\"NewDataset/Dataset/Train.csv\")\n",
    "df_test = pd.read_csv(\"NewDataset/Dataset/Test.csv\")"
   ]
  },
  {
   "cell_type": "code",
   "execution_count": 2,
   "metadata": {},
   "outputs": [
    {
     "data": {
      "text/plain": [
       "0       Artworking/Typesetting Production Jun 2009 Cha...\n",
       "1       Auto Leasing Corporate Services Corning Inc /N...\n",
       "2       Store Management Lease/Rent Deltona Corp Real ...\n",
       "3       Store Construction General Requirements Coloni...\n",
       "4       Jul 2015 Aydin Corp Contingent Labor/Temp Labo...\n",
       "5       Final Site Clean Up 2018Mar Store Construction...\n",
       "6       Travel and Entertainment Miscellaneous Company...\n",
       "7       General Contractor General Requirements Final ...\n",
       "8       Aquila Distributors Inc                       ...\n",
       "9       Base Rent Store Management Chicago Rivet & Mac...\n",
       "10      Ground Transportation Travel and Entertainment...\n",
       "11      Base Rent Store Management Bio Rad Laboratorie...\n",
       "12      Real Estate Lease/Rent Base Rent Allegheny Ene...\n",
       "13      First Options Of Chicago, Inc. 2017-Jan  SMAP ...\n",
       "14      Chesapeake Shores Beach & Country Club I 2012M...\n",
       "15      Travel and Entertainment Miscellaneous Company...\n",
       "16      Final Site Clean Up 2007Nov Store Construction...\n",
       "17      Miscellaneous Company Car (Field Only) Oct2018...\n",
       "18      SMAP Artworking/Typesetting Electro Catheter C...\n",
       "19      Ground Transportation Miscellaneous Company Ca...\n",
       "20      SMAP Digital Display Production Digital/Social...\n",
       "21      Flightsafety International Inc Final Site Clea...\n",
       "22      2008-Nov  First Real Estate Investment Trust O...\n",
       "23      Information Technology IT Managed Services Atw...\n",
       "24      Fort Howard Corp Oct2011 Travel and Entertainm...\n",
       "25      Base Rent Store Management Aig Equity Sales Co...\n",
       "26      Daly John J Auto Fleet Repair and Maintenance ...\n",
       "27      Jul 2019 Corning Inc /Ny Auto Leasing Auto Lea...\n",
       "28      Travel and Entertainment Miscellaneous Company...\n",
       "29      Miscellaneous Company Car (Field Only) Mar 201...\n",
       "                              ...                        \n",
       "5536    Base Rent Store Management Chemed Corp 2012Jan...\n",
       "5537    Base Rent Store Management Data Documents Inc/...\n",
       "5538    Real Estate Store Management Lease/Rent Base R...\n",
       "5539    Travel and Entertainment Miscellaneous Company...\n",
       "5540    2010Aug Daly John J Miscellaneous Company Car ...\n",
       "5541    SMAP Media Buy - Traditional Dr Pepper Co Nati...\n",
       "5542    Ground Transportation Miscellaneous Company Ca...\n",
       "5543    Miscellaneous Company Car (Field Only) Travel ...\n",
       "5544    Ami Industries Inc Base Rent 2018-Mar  Lease/R...\n",
       "5545    Aquila Distributors Inc                       ...\n",
       "5546    Freight Forwarders Services Other Mar-2007 Sup...\n",
       "5547    Prototype and Comp Production/Packaging Design...\n",
       "5548    Final Site Clean Up 2013-Apr  Store Constructi...\n",
       "5549    Corporate Services Workmen's Insurance Angelic...\n",
       "5550    Facility Construction General Requirements Fli...\n",
       "5551    Human Resources Corporate Services Benefits Re...\n",
       "5552    2016Apr Alaska Power & Telephone Co Store Fixt...\n",
       "5553    Corporate Services Contingent Labor/Temp Labor...\n",
       "5554    Corporate Services Auto Leasing Other Corporat...\n",
       "5555    Miscellaneous Company Car (Field Only) Travel ...\n",
       "5556    Facility Management Lease/Rent Alabama Telepho...\n",
       "5557    Corporate Services Contingent Labor/Temp Labor...\n",
       "5558    Alabama Power Co Freight Forwarders Services O...\n",
       "5559    Miscellaneous Company Car (Field Only) Ground ...\n",
       "5560    General Contractor General Requirements Final ...\n",
       "5561    Human Resources Corporate Services Contingent ...\n",
       "5562    Logistics Transportation Services Parcel/Posta...\n",
       "5563    2005Sep Addmaster Corp Magazines Media Buy - T...\n",
       "5564    Information Technology IT Managed Services Fri...\n",
       "5565    Ground Transportation Travel and Entertainment...\n",
       "Name: Item_Description, Length: 5566, dtype: object"
      ]
     },
     "execution_count": 2,
     "metadata": {},
     "output_type": "execute_result"
    }
   ],
   "source": [
    "df_train.Item_Description"
   ]
  },
  {
   "cell_type": "code",
   "execution_count": 3,
   "metadata": {},
   "outputs": [
    {
     "data": {
      "text/html": [
       "<div>\n",
       "<style scoped>\n",
       "    .dataframe tbody tr th:only-of-type {\n",
       "        vertical-align: middle;\n",
       "    }\n",
       "\n",
       "    .dataframe tbody tr th {\n",
       "        vertical-align: top;\n",
       "    }\n",
       "\n",
       "    .dataframe thead th {\n",
       "        text-align: right;\n",
       "    }\n",
       "</style>\n",
       "<table border=\"1\" class=\"dataframe\">\n",
       "  <thead>\n",
       "    <tr style=\"text-align: right;\">\n",
       "      <th></th>\n",
       "      <th>Inv_Id</th>\n",
       "      <th>Vendor_Code</th>\n",
       "      <th>GL_Code</th>\n",
       "      <th>Inv_Amt</th>\n",
       "      <th>Item_Description</th>\n",
       "    </tr>\n",
       "  </thead>\n",
       "  <tbody>\n",
       "    <tr>\n",
       "      <th>0</th>\n",
       "      <td>15003</td>\n",
       "      <td>VENDOR-2513</td>\n",
       "      <td>GL-6050310</td>\n",
       "      <td>56.13</td>\n",
       "      <td>Travel and Entertainment Miscellaneous Company...</td>\n",
       "    </tr>\n",
       "    <tr>\n",
       "      <th>1</th>\n",
       "      <td>15008</td>\n",
       "      <td>VENDOR-1044</td>\n",
       "      <td>GL-6101400</td>\n",
       "      <td>96.56</td>\n",
       "      <td>Final Site Clean Up Store Construction Advance...</td>\n",
       "    </tr>\n",
       "    <tr>\n",
       "      <th>2</th>\n",
       "      <td>15013</td>\n",
       "      <td>VENDOR-1254</td>\n",
       "      <td>GL-6101400</td>\n",
       "      <td>55.93</td>\n",
       "      <td>Arabian American Development Co Final Site Cle...</td>\n",
       "    </tr>\n",
       "    <tr>\n",
       "      <th>3</th>\n",
       "      <td>15019</td>\n",
       "      <td>VENDOR-1331</td>\n",
       "      <td>GL-2182000</td>\n",
       "      <td>32.62</td>\n",
       "      <td>Corporate Services Contingent Labor/Temp Labor...</td>\n",
       "    </tr>\n",
       "    <tr>\n",
       "      <th>4</th>\n",
       "      <td>15020</td>\n",
       "      <td>VENDOR-2513</td>\n",
       "      <td>GL-6050310</td>\n",
       "      <td>25.81</td>\n",
       "      <td>Fortune National Corp Miscellaneous Company Ca...</td>\n",
       "    </tr>\n",
       "  </tbody>\n",
       "</table>\n",
       "</div>"
      ],
      "text/plain": [
       "   Inv_Id  Vendor_Code     GL_Code  Inv_Amt  \\\n",
       "0   15003  VENDOR-2513  GL-6050310    56.13   \n",
       "1   15008  VENDOR-1044  GL-6101400    96.56   \n",
       "2   15013  VENDOR-1254  GL-6101400    55.93   \n",
       "3   15019  VENDOR-1331  GL-2182000    32.62   \n",
       "4   15020  VENDOR-2513  GL-6050310    25.81   \n",
       "\n",
       "                                    Item_Description  \n",
       "0  Travel and Entertainment Miscellaneous Company...  \n",
       "1  Final Site Clean Up Store Construction Advance...  \n",
       "2  Arabian American Development Co Final Site Cle...  \n",
       "3  Corporate Services Contingent Labor/Temp Labor...  \n",
       "4  Fortune National Corp Miscellaneous Company Ca...  "
      ]
     },
     "execution_count": 3,
     "metadata": {},
     "output_type": "execute_result"
    }
   ],
   "source": [
    "df_test.head()"
   ]
  },
  {
   "cell_type": "code",
   "execution_count": 4,
   "metadata": {},
   "outputs": [],
   "source": [
    "import re\n",
    "data_train = []\n",
    "for i in range(df_train.Item_Description.shape[0]):\n",
    "    data_train.append(pd.Series(df_train.Item_Description.iloc[i]).str.split(\"[0-9]{4}.?[ADFJMNOS][a-z]{2}|[ADFJMNOS][a-z]{2}.?[0-9]{4}\")[0])"
   ]
  },
  {
   "cell_type": "code",
   "execution_count": 5,
   "metadata": {},
   "outputs": [],
   "source": [
    "data_test = []\n",
    "for i in range(df_test.Item_Description.shape[0]):\n",
    "    data_test.append(pd.Series(df_test.Item_Description.iloc[i]).str.split(\"[0-9]{4}.?[ADFJMNOS][a-z]{2}|[ADFJMNOS][a-z]{2}.?[0-9]{4}\")[0])"
   ]
  },
  {
   "cell_type": "code",
   "execution_count": 6,
   "metadata": {},
   "outputs": [],
   "source": [
    "train_desc = []\n",
    "for listdata in data_train:\n",
    "    train_desc.append(\" \".join(listdata))"
   ]
  },
  {
   "cell_type": "code",
   "execution_count": 7,
   "metadata": {},
   "outputs": [],
   "source": [
    "test_desc = []\n",
    "for listdata in data_test:\n",
    "    test_desc.append(\" \".join(listdata))"
   ]
  },
  {
   "cell_type": "code",
   "execution_count": 8,
   "metadata": {},
   "outputs": [],
   "source": [
    "df_train['dateyear']= df_train['Item_Description'].str.extract('([0-9]{4}.?[ADFJMNOS][a-z]{2}|[ADFJMNOS][a-z]{2}.?[0-9]{4})', expand=True)\n",
    "df_test['dateyear'] = df_test['Item_Description'].str.extract('([0-9]{4}.?[ADFJMNOS][a-z]{2}|[ADFJMNOS][a-z]{2}.?[0-9]{4})', expand=True)"
   ]
  },
  {
   "cell_type": "code",
   "execution_count": 9,
   "metadata": {},
   "outputs": [
    {
     "name": "stderr",
     "output_type": "stream",
     "text": [
      "C:\\Users\\ABHISEK\\Anaconda3\\lib\\site-packages\\pandas\\core\\indexing.py:194: SettingWithCopyWarning: \n",
      "A value is trying to be set on a copy of a slice from a DataFrame\n",
      "\n",
      "See the caveats in the documentation: http://pandas.pydata.org/pandas-docs/stable/indexing.html#indexing-view-versus-copy\n",
      "  self._setitem_with_indexer(indexer, value)\n"
     ]
    }
   ],
   "source": [
    "for i in range(len(train_desc)):\n",
    "    df_train['Item_Description'].iloc[i]= train_desc[i]"
   ]
  },
  {
   "cell_type": "code",
   "execution_count": 10,
   "metadata": {},
   "outputs": [
    {
     "name": "stderr",
     "output_type": "stream",
     "text": [
      "C:\\Users\\ABHISEK\\Anaconda3\\lib\\site-packages\\pandas\\core\\indexing.py:194: SettingWithCopyWarning: \n",
      "A value is trying to be set on a copy of a slice from a DataFrame\n",
      "\n",
      "See the caveats in the documentation: http://pandas.pydata.org/pandas-docs/stable/indexing.html#indexing-view-versus-copy\n",
      "  self._setitem_with_indexer(indexer, value)\n"
     ]
    }
   ],
   "source": [
    "for i in range(len(test_desc)):\n",
    "    df_test['Item_Description'].iloc[i]= test_desc[i]"
   ]
  },
  {
   "cell_type": "code",
   "execution_count": 11,
   "metadata": {},
   "outputs": [
    {
     "data": {
      "text/html": [
       "<div>\n",
       "<style scoped>\n",
       "    .dataframe tbody tr th:only-of-type {\n",
       "        vertical-align: middle;\n",
       "    }\n",
       "\n",
       "    .dataframe tbody tr th {\n",
       "        vertical-align: top;\n",
       "    }\n",
       "\n",
       "    .dataframe thead th {\n",
       "        text-align: right;\n",
       "    }\n",
       "</style>\n",
       "<table border=\"1\" class=\"dataframe\">\n",
       "  <thead>\n",
       "    <tr style=\"text-align: right;\">\n",
       "      <th></th>\n",
       "      <th>Inv_Id</th>\n",
       "      <th>Vendor_Code</th>\n",
       "      <th>GL_Code</th>\n",
       "      <th>Inv_Amt</th>\n",
       "      <th>Item_Description</th>\n",
       "      <th>Product_Category</th>\n",
       "      <th>dateyear</th>\n",
       "    </tr>\n",
       "  </thead>\n",
       "  <tbody>\n",
       "    <tr>\n",
       "      <th>0</th>\n",
       "      <td>15001</td>\n",
       "      <td>VENDOR-1676</td>\n",
       "      <td>GL-6100410</td>\n",
       "      <td>83.24</td>\n",
       "      <td>Artworking/Typesetting Production   Champion P...</td>\n",
       "      <td>CLASS-1963</td>\n",
       "      <td>Jun 2009</td>\n",
       "    </tr>\n",
       "    <tr>\n",
       "      <th>1</th>\n",
       "      <td>15002</td>\n",
       "      <td>VENDOR-1883</td>\n",
       "      <td>GL-2182000</td>\n",
       "      <td>51.18</td>\n",
       "      <td>Auto Leasing Corporate Services Corning Inc /N...</td>\n",
       "      <td>CLASS-1250</td>\n",
       "      <td>2013-Mar</td>\n",
       "    </tr>\n",
       "    <tr>\n",
       "      <th>2</th>\n",
       "      <td>15004</td>\n",
       "      <td>VENDOR-1999</td>\n",
       "      <td>GL-6050100</td>\n",
       "      <td>79.02</td>\n",
       "      <td>Store Management Lease/Rent Deltona Corp Real ...</td>\n",
       "      <td>CLASS-1274</td>\n",
       "      <td>Jul2018</td>\n",
       "    </tr>\n",
       "    <tr>\n",
       "      <th>3</th>\n",
       "      <td>15005</td>\n",
       "      <td>VENDOR-1771</td>\n",
       "      <td>GL-6101400</td>\n",
       "      <td>48.50</td>\n",
       "      <td>Store Construction General Requirements Coloni...</td>\n",
       "      <td>CLASS-1522</td>\n",
       "      <td>2005-Dec</td>\n",
       "    </tr>\n",
       "    <tr>\n",
       "      <th>4</th>\n",
       "      <td>15006</td>\n",
       "      <td>VENDOR-1331</td>\n",
       "      <td>GL-2182000</td>\n",
       "      <td>63.35</td>\n",
       "      <td>Aydin Corp Contingent Labor/Temp Labor Conti...</td>\n",
       "      <td>CLASS-1376</td>\n",
       "      <td>Jul 2015</td>\n",
       "    </tr>\n",
       "  </tbody>\n",
       "</table>\n",
       "</div>"
      ],
      "text/plain": [
       "   Inv_Id  Vendor_Code     GL_Code  Inv_Amt  \\\n",
       "0   15001  VENDOR-1676  GL-6100410    83.24   \n",
       "1   15002  VENDOR-1883  GL-2182000    51.18   \n",
       "2   15004  VENDOR-1999  GL-6050100    79.02   \n",
       "3   15005  VENDOR-1771  GL-6101400    48.50   \n",
       "4   15006  VENDOR-1331  GL-2182000    63.35   \n",
       "\n",
       "                                    Item_Description Product_Category  \\\n",
       "0  Artworking/Typesetting Production   Champion P...       CLASS-1963   \n",
       "1  Auto Leasing Corporate Services Corning Inc /N...       CLASS-1250   \n",
       "2  Store Management Lease/Rent Deltona Corp Real ...       CLASS-1274   \n",
       "3  Store Construction General Requirements Coloni...       CLASS-1522   \n",
       "4    Aydin Corp Contingent Labor/Temp Labor Conti...       CLASS-1376   \n",
       "\n",
       "   dateyear  \n",
       "0  Jun 2009  \n",
       "1  2013-Mar  \n",
       "2   Jul2018  \n",
       "3  2005-Dec  \n",
       "4  Jul 2015  "
      ]
     },
     "execution_count": 11,
     "metadata": {},
     "output_type": "execute_result"
    }
   ],
   "source": [
    "df_train.head()"
   ]
  },
  {
   "cell_type": "code",
   "execution_count": 12,
   "metadata": {},
   "outputs": [],
   "source": [
    "df_train['Month']= df_train['dateyear'].str.extract('([ADFJMNOS][a-z]{2})', expand=True)"
   ]
  },
  {
   "cell_type": "code",
   "execution_count": 13,
   "metadata": {},
   "outputs": [],
   "source": [
    "df_train['Year']= df_train['dateyear'].str.extract('([0-9]{4})', expand=True)"
   ]
  },
  {
   "cell_type": "code",
   "execution_count": 14,
   "metadata": {},
   "outputs": [],
   "source": [
    "df_test['Month']= df_test['dateyear'].str.extract('([ADFJMNOS][a-z]{2})', expand=True)"
   ]
  },
  {
   "cell_type": "code",
   "execution_count": 15,
   "metadata": {},
   "outputs": [],
   "source": [
    "df_test['Year']= df_test['dateyear'].str.extract('([0-9]{4})', expand=True)"
   ]
  },
  {
   "cell_type": "code",
   "execution_count": 16,
   "metadata": {
    "scrolled": true
   },
   "outputs": [
    {
     "data": {
      "text/html": [
       "<div>\n",
       "<style scoped>\n",
       "    .dataframe tbody tr th:only-of-type {\n",
       "        vertical-align: middle;\n",
       "    }\n",
       "\n",
       "    .dataframe tbody tr th {\n",
       "        vertical-align: top;\n",
       "    }\n",
       "\n",
       "    .dataframe thead th {\n",
       "        text-align: right;\n",
       "    }\n",
       "</style>\n",
       "<table border=\"1\" class=\"dataframe\">\n",
       "  <thead>\n",
       "    <tr style=\"text-align: right;\">\n",
       "      <th></th>\n",
       "      <th>Inv_Id</th>\n",
       "      <th>Vendor_Code</th>\n",
       "      <th>GL_Code</th>\n",
       "      <th>Inv_Amt</th>\n",
       "      <th>Item_Description</th>\n",
       "      <th>Product_Category</th>\n",
       "      <th>dateyear</th>\n",
       "      <th>Month</th>\n",
       "      <th>Year</th>\n",
       "    </tr>\n",
       "  </thead>\n",
       "  <tbody>\n",
       "    <tr>\n",
       "      <th>0</th>\n",
       "      <td>15001</td>\n",
       "      <td>VENDOR-1676</td>\n",
       "      <td>GL-6100410</td>\n",
       "      <td>83.24</td>\n",
       "      <td>Artworking/Typesetting Production   Champion P...</td>\n",
       "      <td>CLASS-1963</td>\n",
       "      <td>Jun 2009</td>\n",
       "      <td>Jun</td>\n",
       "      <td>2009</td>\n",
       "    </tr>\n",
       "    <tr>\n",
       "      <th>1</th>\n",
       "      <td>15002</td>\n",
       "      <td>VENDOR-1883</td>\n",
       "      <td>GL-2182000</td>\n",
       "      <td>51.18</td>\n",
       "      <td>Auto Leasing Corporate Services Corning Inc /N...</td>\n",
       "      <td>CLASS-1250</td>\n",
       "      <td>2013-Mar</td>\n",
       "      <td>Mar</td>\n",
       "      <td>2013</td>\n",
       "    </tr>\n",
       "    <tr>\n",
       "      <th>2</th>\n",
       "      <td>15004</td>\n",
       "      <td>VENDOR-1999</td>\n",
       "      <td>GL-6050100</td>\n",
       "      <td>79.02</td>\n",
       "      <td>Store Management Lease/Rent Deltona Corp Real ...</td>\n",
       "      <td>CLASS-1274</td>\n",
       "      <td>Jul2018</td>\n",
       "      <td>Jul</td>\n",
       "      <td>2018</td>\n",
       "    </tr>\n",
       "    <tr>\n",
       "      <th>3</th>\n",
       "      <td>15005</td>\n",
       "      <td>VENDOR-1771</td>\n",
       "      <td>GL-6101400</td>\n",
       "      <td>48.50</td>\n",
       "      <td>Store Construction General Requirements Coloni...</td>\n",
       "      <td>CLASS-1522</td>\n",
       "      <td>2005-Dec</td>\n",
       "      <td>Dec</td>\n",
       "      <td>2005</td>\n",
       "    </tr>\n",
       "    <tr>\n",
       "      <th>4</th>\n",
       "      <td>15006</td>\n",
       "      <td>VENDOR-1331</td>\n",
       "      <td>GL-2182000</td>\n",
       "      <td>63.35</td>\n",
       "      <td>Aydin Corp Contingent Labor/Temp Labor Conti...</td>\n",
       "      <td>CLASS-1376</td>\n",
       "      <td>Jul 2015</td>\n",
       "      <td>Jul</td>\n",
       "      <td>2015</td>\n",
       "    </tr>\n",
       "  </tbody>\n",
       "</table>\n",
       "</div>"
      ],
      "text/plain": [
       "   Inv_Id  Vendor_Code     GL_Code  Inv_Amt  \\\n",
       "0   15001  VENDOR-1676  GL-6100410    83.24   \n",
       "1   15002  VENDOR-1883  GL-2182000    51.18   \n",
       "2   15004  VENDOR-1999  GL-6050100    79.02   \n",
       "3   15005  VENDOR-1771  GL-6101400    48.50   \n",
       "4   15006  VENDOR-1331  GL-2182000    63.35   \n",
       "\n",
       "                                    Item_Description Product_Category  \\\n",
       "0  Artworking/Typesetting Production   Champion P...       CLASS-1963   \n",
       "1  Auto Leasing Corporate Services Corning Inc /N...       CLASS-1250   \n",
       "2  Store Management Lease/Rent Deltona Corp Real ...       CLASS-1274   \n",
       "3  Store Construction General Requirements Coloni...       CLASS-1522   \n",
       "4    Aydin Corp Contingent Labor/Temp Labor Conti...       CLASS-1376   \n",
       "\n",
       "   dateyear Month  Year  \n",
       "0  Jun 2009   Jun  2009  \n",
       "1  2013-Mar   Mar  2013  \n",
       "2   Jul2018   Jul  2018  \n",
       "3  2005-Dec   Dec  2005  \n",
       "4  Jul 2015   Jul  2015  "
      ]
     },
     "execution_count": 16,
     "metadata": {},
     "output_type": "execute_result"
    }
   ],
   "source": [
    "df_train.head()"
   ]
  },
  {
   "cell_type": "code",
   "execution_count": 17,
   "metadata": {},
   "outputs": [],
   "source": [
    "from sklearn.feature_extraction.text import TfidfVectorizer\n",
    "tf_idf_vect = TfidfVectorizer(ngram_range=(1,2))\n",
    "\n",
    "final_tf_idf_train = tf_idf_vect.fit_transform(df_train['Item_Description'])\n",
    "final_tf_idf_test = tf_idf_vect.transform(df_test['Item_Description'])"
   ]
  },
  {
   "cell_type": "code",
   "execution_count": 18,
   "metadata": {},
   "outputs": [
    {
     "data": {
      "text/html": [
       "<div>\n",
       "<style scoped>\n",
       "    .dataframe tbody tr th:only-of-type {\n",
       "        vertical-align: middle;\n",
       "    }\n",
       "\n",
       "    .dataframe tbody tr th {\n",
       "        vertical-align: top;\n",
       "    }\n",
       "\n",
       "    .dataframe thead th {\n",
       "        text-align: right;\n",
       "    }\n",
       "</style>\n",
       "<table border=\"1\" class=\"dataframe\">\n",
       "  <thead>\n",
       "    <tr style=\"text-align: right;\">\n",
       "      <th></th>\n",
       "      <th>Inv_Id</th>\n",
       "      <th>Vendor_Code</th>\n",
       "      <th>GL_Code</th>\n",
       "      <th>Inv_Amt</th>\n",
       "      <th>Item_Description</th>\n",
       "      <th>Product_Category</th>\n",
       "      <th>dateyear</th>\n",
       "      <th>Month</th>\n",
       "      <th>Year</th>\n",
       "    </tr>\n",
       "  </thead>\n",
       "  <tbody>\n",
       "    <tr>\n",
       "      <th>0</th>\n",
       "      <td>15001</td>\n",
       "      <td>VENDOR-1676</td>\n",
       "      <td>GL-6100410</td>\n",
       "      <td>83.24</td>\n",
       "      <td>Artworking/Typesetting Production   Champion P...</td>\n",
       "      <td>CLASS-1963</td>\n",
       "      <td>Jun 2009</td>\n",
       "      <td>Jun</td>\n",
       "      <td>2009</td>\n",
       "    </tr>\n",
       "    <tr>\n",
       "      <th>1</th>\n",
       "      <td>15002</td>\n",
       "      <td>VENDOR-1883</td>\n",
       "      <td>GL-2182000</td>\n",
       "      <td>51.18</td>\n",
       "      <td>Auto Leasing Corporate Services Corning Inc /N...</td>\n",
       "      <td>CLASS-1250</td>\n",
       "      <td>2013-Mar</td>\n",
       "      <td>Mar</td>\n",
       "      <td>2013</td>\n",
       "    </tr>\n",
       "    <tr>\n",
       "      <th>2</th>\n",
       "      <td>15004</td>\n",
       "      <td>VENDOR-1999</td>\n",
       "      <td>GL-6050100</td>\n",
       "      <td>79.02</td>\n",
       "      <td>Store Management Lease/Rent Deltona Corp Real ...</td>\n",
       "      <td>CLASS-1274</td>\n",
       "      <td>Jul2018</td>\n",
       "      <td>Jul</td>\n",
       "      <td>2018</td>\n",
       "    </tr>\n",
       "    <tr>\n",
       "      <th>3</th>\n",
       "      <td>15005</td>\n",
       "      <td>VENDOR-1771</td>\n",
       "      <td>GL-6101400</td>\n",
       "      <td>48.50</td>\n",
       "      <td>Store Construction General Requirements Coloni...</td>\n",
       "      <td>CLASS-1522</td>\n",
       "      <td>2005-Dec</td>\n",
       "      <td>Dec</td>\n",
       "      <td>2005</td>\n",
       "    </tr>\n",
       "    <tr>\n",
       "      <th>4</th>\n",
       "      <td>15006</td>\n",
       "      <td>VENDOR-1331</td>\n",
       "      <td>GL-2182000</td>\n",
       "      <td>63.35</td>\n",
       "      <td>Aydin Corp Contingent Labor/Temp Labor Conti...</td>\n",
       "      <td>CLASS-1376</td>\n",
       "      <td>Jul 2015</td>\n",
       "      <td>Jul</td>\n",
       "      <td>2015</td>\n",
       "    </tr>\n",
       "  </tbody>\n",
       "</table>\n",
       "</div>"
      ],
      "text/plain": [
       "   Inv_Id  Vendor_Code     GL_Code  Inv_Amt  \\\n",
       "0   15001  VENDOR-1676  GL-6100410    83.24   \n",
       "1   15002  VENDOR-1883  GL-2182000    51.18   \n",
       "2   15004  VENDOR-1999  GL-6050100    79.02   \n",
       "3   15005  VENDOR-1771  GL-6101400    48.50   \n",
       "4   15006  VENDOR-1331  GL-2182000    63.35   \n",
       "\n",
       "                                    Item_Description Product_Category  \\\n",
       "0  Artworking/Typesetting Production   Champion P...       CLASS-1963   \n",
       "1  Auto Leasing Corporate Services Corning Inc /N...       CLASS-1250   \n",
       "2  Store Management Lease/Rent Deltona Corp Real ...       CLASS-1274   \n",
       "3  Store Construction General Requirements Coloni...       CLASS-1522   \n",
       "4    Aydin Corp Contingent Labor/Temp Labor Conti...       CLASS-1376   \n",
       "\n",
       "   dateyear Month  Year  \n",
       "0  Jun 2009   Jun  2009  \n",
       "1  2013-Mar   Mar  2013  \n",
       "2   Jul2018   Jul  2018  \n",
       "3  2005-Dec   Dec  2005  \n",
       "4  Jul 2015   Jul  2015  "
      ]
     },
     "execution_count": 18,
     "metadata": {},
     "output_type": "execute_result"
    }
   ],
   "source": [
    "df_train.head()"
   ]
  },
  {
   "cell_type": "code",
   "execution_count": 19,
   "metadata": {},
   "outputs": [],
   "source": [
    "df_train = df_train.drop(['Item_Description','dateyear'], axis=1)\n",
    "df_test = df_test.drop(['Item_Description','dateyear'], axis=1)"
   ]
  },
  {
   "cell_type": "code",
   "execution_count": 20,
   "metadata": {},
   "outputs": [
    {
     "data": {
      "text/html": [
       "<div>\n",
       "<style scoped>\n",
       "    .dataframe tbody tr th:only-of-type {\n",
       "        vertical-align: middle;\n",
       "    }\n",
       "\n",
       "    .dataframe tbody tr th {\n",
       "        vertical-align: top;\n",
       "    }\n",
       "\n",
       "    .dataframe thead th {\n",
       "        text-align: right;\n",
       "    }\n",
       "</style>\n",
       "<table border=\"1\" class=\"dataframe\">\n",
       "  <thead>\n",
       "    <tr style=\"text-align: right;\">\n",
       "      <th></th>\n",
       "      <th>Inv_Id</th>\n",
       "      <th>Vendor_Code</th>\n",
       "      <th>GL_Code</th>\n",
       "      <th>Inv_Amt</th>\n",
       "      <th>Product_Category</th>\n",
       "      <th>Month</th>\n",
       "      <th>Year</th>\n",
       "    </tr>\n",
       "  </thead>\n",
       "  <tbody>\n",
       "    <tr>\n",
       "      <th>0</th>\n",
       "      <td>15001</td>\n",
       "      <td>VENDOR-1676</td>\n",
       "      <td>GL-6100410</td>\n",
       "      <td>83.24</td>\n",
       "      <td>CLASS-1963</td>\n",
       "      <td>Jun</td>\n",
       "      <td>2009</td>\n",
       "    </tr>\n",
       "    <tr>\n",
       "      <th>1</th>\n",
       "      <td>15002</td>\n",
       "      <td>VENDOR-1883</td>\n",
       "      <td>GL-2182000</td>\n",
       "      <td>51.18</td>\n",
       "      <td>CLASS-1250</td>\n",
       "      <td>Mar</td>\n",
       "      <td>2013</td>\n",
       "    </tr>\n",
       "    <tr>\n",
       "      <th>2</th>\n",
       "      <td>15004</td>\n",
       "      <td>VENDOR-1999</td>\n",
       "      <td>GL-6050100</td>\n",
       "      <td>79.02</td>\n",
       "      <td>CLASS-1274</td>\n",
       "      <td>Jul</td>\n",
       "      <td>2018</td>\n",
       "    </tr>\n",
       "    <tr>\n",
       "      <th>3</th>\n",
       "      <td>15005</td>\n",
       "      <td>VENDOR-1771</td>\n",
       "      <td>GL-6101400</td>\n",
       "      <td>48.50</td>\n",
       "      <td>CLASS-1522</td>\n",
       "      <td>Dec</td>\n",
       "      <td>2005</td>\n",
       "    </tr>\n",
       "    <tr>\n",
       "      <th>4</th>\n",
       "      <td>15006</td>\n",
       "      <td>VENDOR-1331</td>\n",
       "      <td>GL-2182000</td>\n",
       "      <td>63.35</td>\n",
       "      <td>CLASS-1376</td>\n",
       "      <td>Jul</td>\n",
       "      <td>2015</td>\n",
       "    </tr>\n",
       "  </tbody>\n",
       "</table>\n",
       "</div>"
      ],
      "text/plain": [
       "   Inv_Id  Vendor_Code     GL_Code  Inv_Amt Product_Category Month  Year\n",
       "0   15001  VENDOR-1676  GL-6100410    83.24       CLASS-1963   Jun  2009\n",
       "1   15002  VENDOR-1883  GL-2182000    51.18       CLASS-1250   Mar  2013\n",
       "2   15004  VENDOR-1999  GL-6050100    79.02       CLASS-1274   Jul  2018\n",
       "3   15005  VENDOR-1771  GL-6101400    48.50       CLASS-1522   Dec  2005\n",
       "4   15006  VENDOR-1331  GL-2182000    63.35       CLASS-1376   Jul  2015"
      ]
     },
     "execution_count": 20,
     "metadata": {},
     "output_type": "execute_result"
    }
   ],
   "source": [
    "df_train.head()"
   ]
  },
  {
   "cell_type": "code",
   "execution_count": 21,
   "metadata": {},
   "outputs": [],
   "source": [
    "df1_train = pd.DataFrame(final_tf_idf_train.toarray())\n",
    "df1_test = pd.DataFrame(final_tf_idf_test.toarray())"
   ]
  },
  {
   "cell_type": "code",
   "execution_count": 22,
   "metadata": {},
   "outputs": [],
   "source": [
    "df2_train = pd.concat([df_train,df1_train], axis=1)\n",
    "df2_test = pd.concat([df_test,df1_test], axis=1)"
   ]
  },
  {
   "cell_type": "code",
   "execution_count": 23,
   "metadata": {
    "scrolled": true
   },
   "outputs": [
    {
     "data": {
      "text/html": [
       "<div>\n",
       "<style scoped>\n",
       "    .dataframe tbody tr th:only-of-type {\n",
       "        vertical-align: middle;\n",
       "    }\n",
       "\n",
       "    .dataframe tbody tr th {\n",
       "        vertical-align: top;\n",
       "    }\n",
       "\n",
       "    .dataframe thead th {\n",
       "        text-align: right;\n",
       "    }\n",
       "</style>\n",
       "<table border=\"1\" class=\"dataframe\">\n",
       "  <thead>\n",
       "    <tr style=\"text-align: right;\">\n",
       "      <th></th>\n",
       "      <th>Inv_Id</th>\n",
       "      <th>Vendor_Code</th>\n",
       "      <th>GL_Code</th>\n",
       "      <th>Inv_Amt</th>\n",
       "      <th>Product_Category</th>\n",
       "      <th>Month</th>\n",
       "      <th>Year</th>\n",
       "      <th>0</th>\n",
       "      <th>1</th>\n",
       "      <th>2</th>\n",
       "      <th>...</th>\n",
       "      <th>6019</th>\n",
       "      <th>6020</th>\n",
       "      <th>6021</th>\n",
       "      <th>6022</th>\n",
       "      <th>6023</th>\n",
       "      <th>6024</th>\n",
       "      <th>6025</th>\n",
       "      <th>6026</th>\n",
       "      <th>6027</th>\n",
       "      <th>6028</th>\n",
       "    </tr>\n",
       "  </thead>\n",
       "  <tbody>\n",
       "    <tr>\n",
       "      <th>0</th>\n",
       "      <td>15001</td>\n",
       "      <td>VENDOR-1676</td>\n",
       "      <td>GL-6100410</td>\n",
       "      <td>83.24</td>\n",
       "      <td>CLASS-1963</td>\n",
       "      <td>Jun</td>\n",
       "      <td>2009</td>\n",
       "      <td>0.0</td>\n",
       "      <td>0.0</td>\n",
       "      <td>0.0</td>\n",
       "      <td>...</td>\n",
       "      <td>0.0</td>\n",
       "      <td>0.0</td>\n",
       "      <td>0.0</td>\n",
       "      <td>0.0</td>\n",
       "      <td>0.0</td>\n",
       "      <td>0.0</td>\n",
       "      <td>0.0</td>\n",
       "      <td>0.0</td>\n",
       "      <td>0.0</td>\n",
       "      <td>0.0</td>\n",
       "    </tr>\n",
       "    <tr>\n",
       "      <th>1</th>\n",
       "      <td>15002</td>\n",
       "      <td>VENDOR-1883</td>\n",
       "      <td>GL-2182000</td>\n",
       "      <td>51.18</td>\n",
       "      <td>CLASS-1250</td>\n",
       "      <td>Mar</td>\n",
       "      <td>2013</td>\n",
       "      <td>0.0</td>\n",
       "      <td>0.0</td>\n",
       "      <td>0.0</td>\n",
       "      <td>...</td>\n",
       "      <td>0.0</td>\n",
       "      <td>0.0</td>\n",
       "      <td>0.0</td>\n",
       "      <td>0.0</td>\n",
       "      <td>0.0</td>\n",
       "      <td>0.0</td>\n",
       "      <td>0.0</td>\n",
       "      <td>0.0</td>\n",
       "      <td>0.0</td>\n",
       "      <td>0.0</td>\n",
       "    </tr>\n",
       "    <tr>\n",
       "      <th>2</th>\n",
       "      <td>15004</td>\n",
       "      <td>VENDOR-1999</td>\n",
       "      <td>GL-6050100</td>\n",
       "      <td>79.02</td>\n",
       "      <td>CLASS-1274</td>\n",
       "      <td>Jul</td>\n",
       "      <td>2018</td>\n",
       "      <td>0.0</td>\n",
       "      <td>0.0</td>\n",
       "      <td>0.0</td>\n",
       "      <td>...</td>\n",
       "      <td>0.0</td>\n",
       "      <td>0.0</td>\n",
       "      <td>0.0</td>\n",
       "      <td>0.0</td>\n",
       "      <td>0.0</td>\n",
       "      <td>0.0</td>\n",
       "      <td>0.0</td>\n",
       "      <td>0.0</td>\n",
       "      <td>0.0</td>\n",
       "      <td>0.0</td>\n",
       "    </tr>\n",
       "    <tr>\n",
       "      <th>3</th>\n",
       "      <td>15005</td>\n",
       "      <td>VENDOR-1771</td>\n",
       "      <td>GL-6101400</td>\n",
       "      <td>48.50</td>\n",
       "      <td>CLASS-1522</td>\n",
       "      <td>Dec</td>\n",
       "      <td>2005</td>\n",
       "      <td>0.0</td>\n",
       "      <td>0.0</td>\n",
       "      <td>0.0</td>\n",
       "      <td>...</td>\n",
       "      <td>0.0</td>\n",
       "      <td>0.0</td>\n",
       "      <td>0.0</td>\n",
       "      <td>0.0</td>\n",
       "      <td>0.0</td>\n",
       "      <td>0.0</td>\n",
       "      <td>0.0</td>\n",
       "      <td>0.0</td>\n",
       "      <td>0.0</td>\n",
       "      <td>0.0</td>\n",
       "    </tr>\n",
       "    <tr>\n",
       "      <th>4</th>\n",
       "      <td>15006</td>\n",
       "      <td>VENDOR-1331</td>\n",
       "      <td>GL-2182000</td>\n",
       "      <td>63.35</td>\n",
       "      <td>CLASS-1376</td>\n",
       "      <td>Jul</td>\n",
       "      <td>2015</td>\n",
       "      <td>0.0</td>\n",
       "      <td>0.0</td>\n",
       "      <td>0.0</td>\n",
       "      <td>...</td>\n",
       "      <td>0.0</td>\n",
       "      <td>0.0</td>\n",
       "      <td>0.0</td>\n",
       "      <td>0.0</td>\n",
       "      <td>0.0</td>\n",
       "      <td>0.0</td>\n",
       "      <td>0.0</td>\n",
       "      <td>0.0</td>\n",
       "      <td>0.0</td>\n",
       "      <td>0.0</td>\n",
       "    </tr>\n",
       "  </tbody>\n",
       "</table>\n",
       "<p>5 rows × 6036 columns</p>\n",
       "</div>"
      ],
      "text/plain": [
       "   Inv_Id  Vendor_Code     GL_Code  Inv_Amt Product_Category Month  Year    0  \\\n",
       "0   15001  VENDOR-1676  GL-6100410    83.24       CLASS-1963   Jun  2009  0.0   \n",
       "1   15002  VENDOR-1883  GL-2182000    51.18       CLASS-1250   Mar  2013  0.0   \n",
       "2   15004  VENDOR-1999  GL-6050100    79.02       CLASS-1274   Jul  2018  0.0   \n",
       "3   15005  VENDOR-1771  GL-6101400    48.50       CLASS-1522   Dec  2005  0.0   \n",
       "4   15006  VENDOR-1331  GL-2182000    63.35       CLASS-1376   Jul  2015  0.0   \n",
       "\n",
       "     1    2  ...   6019  6020  6021  6022  6023  6024  6025  6026  6027  6028  \n",
       "0  0.0  0.0  ...    0.0   0.0   0.0   0.0   0.0   0.0   0.0   0.0   0.0   0.0  \n",
       "1  0.0  0.0  ...    0.0   0.0   0.0   0.0   0.0   0.0   0.0   0.0   0.0   0.0  \n",
       "2  0.0  0.0  ...    0.0   0.0   0.0   0.0   0.0   0.0   0.0   0.0   0.0   0.0  \n",
       "3  0.0  0.0  ...    0.0   0.0   0.0   0.0   0.0   0.0   0.0   0.0   0.0   0.0  \n",
       "4  0.0  0.0  ...    0.0   0.0   0.0   0.0   0.0   0.0   0.0   0.0   0.0   0.0  \n",
       "\n",
       "[5 rows x 6036 columns]"
      ]
     },
     "execution_count": 23,
     "metadata": {},
     "output_type": "execute_result"
    }
   ],
   "source": [
    "df2_train.head()"
   ]
  },
  {
   "cell_type": "code",
   "execution_count": 24,
   "metadata": {},
   "outputs": [
    {
     "data": {
      "text/html": [
       "<div>\n",
       "<style scoped>\n",
       "    .dataframe tbody tr th:only-of-type {\n",
       "        vertical-align: middle;\n",
       "    }\n",
       "\n",
       "    .dataframe tbody tr th {\n",
       "        vertical-align: top;\n",
       "    }\n",
       "\n",
       "    .dataframe thead th {\n",
       "        text-align: right;\n",
       "    }\n",
       "</style>\n",
       "<table border=\"1\" class=\"dataframe\">\n",
       "  <thead>\n",
       "    <tr style=\"text-align: right;\">\n",
       "      <th></th>\n",
       "      <th>Inv_Id</th>\n",
       "      <th>Vendor_Code</th>\n",
       "      <th>GL_Code</th>\n",
       "      <th>Inv_Amt</th>\n",
       "      <th>Month</th>\n",
       "      <th>Year</th>\n",
       "      <th>0</th>\n",
       "      <th>1</th>\n",
       "      <th>2</th>\n",
       "      <th>3</th>\n",
       "      <th>...</th>\n",
       "      <th>6019</th>\n",
       "      <th>6020</th>\n",
       "      <th>6021</th>\n",
       "      <th>6022</th>\n",
       "      <th>6023</th>\n",
       "      <th>6024</th>\n",
       "      <th>6025</th>\n",
       "      <th>6026</th>\n",
       "      <th>6027</th>\n",
       "      <th>6028</th>\n",
       "    </tr>\n",
       "  </thead>\n",
       "  <tbody>\n",
       "    <tr>\n",
       "      <th>0</th>\n",
       "      <td>15003</td>\n",
       "      <td>VENDOR-2513</td>\n",
       "      <td>GL-6050310</td>\n",
       "      <td>56.13</td>\n",
       "      <td>Oct</td>\n",
       "      <td>2011</td>\n",
       "      <td>0.0</td>\n",
       "      <td>0.0</td>\n",
       "      <td>0.0</td>\n",
       "      <td>0.0</td>\n",
       "      <td>...</td>\n",
       "      <td>0.0</td>\n",
       "      <td>0.0</td>\n",
       "      <td>0.0</td>\n",
       "      <td>0.0</td>\n",
       "      <td>0.0</td>\n",
       "      <td>0.0</td>\n",
       "      <td>0.0</td>\n",
       "      <td>0.0</td>\n",
       "      <td>0.0</td>\n",
       "      <td>0.0</td>\n",
       "    </tr>\n",
       "    <tr>\n",
       "      <th>1</th>\n",
       "      <td>15008</td>\n",
       "      <td>VENDOR-1044</td>\n",
       "      <td>GL-6101400</td>\n",
       "      <td>96.56</td>\n",
       "      <td>Oct</td>\n",
       "      <td>2011</td>\n",
       "      <td>0.0</td>\n",
       "      <td>0.0</td>\n",
       "      <td>0.0</td>\n",
       "      <td>0.0</td>\n",
       "      <td>...</td>\n",
       "      <td>0.0</td>\n",
       "      <td>0.0</td>\n",
       "      <td>0.0</td>\n",
       "      <td>0.0</td>\n",
       "      <td>0.0</td>\n",
       "      <td>0.0</td>\n",
       "      <td>0.0</td>\n",
       "      <td>0.0</td>\n",
       "      <td>0.0</td>\n",
       "      <td>0.0</td>\n",
       "    </tr>\n",
       "    <tr>\n",
       "      <th>2</th>\n",
       "      <td>15013</td>\n",
       "      <td>VENDOR-1254</td>\n",
       "      <td>GL-6101400</td>\n",
       "      <td>55.93</td>\n",
       "      <td>Oct</td>\n",
       "      <td>2008</td>\n",
       "      <td>0.0</td>\n",
       "      <td>0.0</td>\n",
       "      <td>0.0</td>\n",
       "      <td>0.0</td>\n",
       "      <td>...</td>\n",
       "      <td>0.0</td>\n",
       "      <td>0.0</td>\n",
       "      <td>0.0</td>\n",
       "      <td>0.0</td>\n",
       "      <td>0.0</td>\n",
       "      <td>0.0</td>\n",
       "      <td>0.0</td>\n",
       "      <td>0.0</td>\n",
       "      <td>0.0</td>\n",
       "      <td>0.0</td>\n",
       "    </tr>\n",
       "    <tr>\n",
       "      <th>3</th>\n",
       "      <td>15019</td>\n",
       "      <td>VENDOR-1331</td>\n",
       "      <td>GL-2182000</td>\n",
       "      <td>32.62</td>\n",
       "      <td>Jun</td>\n",
       "      <td>2014</td>\n",
       "      <td>0.0</td>\n",
       "      <td>0.0</td>\n",
       "      <td>0.0</td>\n",
       "      <td>0.0</td>\n",
       "      <td>...</td>\n",
       "      <td>0.0</td>\n",
       "      <td>0.0</td>\n",
       "      <td>0.0</td>\n",
       "      <td>0.0</td>\n",
       "      <td>0.0</td>\n",
       "      <td>0.0</td>\n",
       "      <td>0.0</td>\n",
       "      <td>0.0</td>\n",
       "      <td>0.0</td>\n",
       "      <td>0.0</td>\n",
       "    </tr>\n",
       "    <tr>\n",
       "      <th>4</th>\n",
       "      <td>15020</td>\n",
       "      <td>VENDOR-2513</td>\n",
       "      <td>GL-6050310</td>\n",
       "      <td>25.81</td>\n",
       "      <td>Jun</td>\n",
       "      <td>2015</td>\n",
       "      <td>0.0</td>\n",
       "      <td>0.0</td>\n",
       "      <td>0.0</td>\n",
       "      <td>0.0</td>\n",
       "      <td>...</td>\n",
       "      <td>0.0</td>\n",
       "      <td>0.0</td>\n",
       "      <td>0.0</td>\n",
       "      <td>0.0</td>\n",
       "      <td>0.0</td>\n",
       "      <td>0.0</td>\n",
       "      <td>0.0</td>\n",
       "      <td>0.0</td>\n",
       "      <td>0.0</td>\n",
       "      <td>0.0</td>\n",
       "    </tr>\n",
       "  </tbody>\n",
       "</table>\n",
       "<p>5 rows × 6035 columns</p>\n",
       "</div>"
      ],
      "text/plain": [
       "   Inv_Id  Vendor_Code     GL_Code  Inv_Amt Month  Year    0    1    2    3  \\\n",
       "0   15003  VENDOR-2513  GL-6050310    56.13   Oct  2011  0.0  0.0  0.0  0.0   \n",
       "1   15008  VENDOR-1044  GL-6101400    96.56   Oct  2011  0.0  0.0  0.0  0.0   \n",
       "2   15013  VENDOR-1254  GL-6101400    55.93   Oct  2008  0.0  0.0  0.0  0.0   \n",
       "3   15019  VENDOR-1331  GL-2182000    32.62   Jun  2014  0.0  0.0  0.0  0.0   \n",
       "4   15020  VENDOR-2513  GL-6050310    25.81   Jun  2015  0.0  0.0  0.0  0.0   \n",
       "\n",
       "   ...   6019  6020  6021  6022  6023  6024  6025  6026  6027  6028  \n",
       "0  ...    0.0   0.0   0.0   0.0   0.0   0.0   0.0   0.0   0.0   0.0  \n",
       "1  ...    0.0   0.0   0.0   0.0   0.0   0.0   0.0   0.0   0.0   0.0  \n",
       "2  ...    0.0   0.0   0.0   0.0   0.0   0.0   0.0   0.0   0.0   0.0  \n",
       "3  ...    0.0   0.0   0.0   0.0   0.0   0.0   0.0   0.0   0.0   0.0  \n",
       "4  ...    0.0   0.0   0.0   0.0   0.0   0.0   0.0   0.0   0.0   0.0  \n",
       "\n",
       "[5 rows x 6035 columns]"
      ]
     },
     "execution_count": 24,
     "metadata": {},
     "output_type": "execute_result"
    }
   ],
   "source": [
    "df2_test.head()"
   ]
  },
  {
   "cell_type": "code",
   "execution_count": 25,
   "metadata": {},
   "outputs": [],
   "source": [
    "from sklearn.preprocessing import OneHotEncoder\n",
    "import numpy as  np\n",
    "enc = OneHotEncoder(handle_unknown=\"ignore\")\n",
    "enc.fit(np.array(df2_train['Vendor_Code']).reshape(-1,1))\n",
    "df2_train_vendorcode = enc.transform(np.array(df2_train['Vendor_Code']).reshape(-1,1))\n",
    "df2_test_vendorcode = enc.transform(np.array(df2_test['Vendor_Code']).reshape(-1,1))"
   ]
  },
  {
   "cell_type": "code",
   "execution_count": 26,
   "metadata": {},
   "outputs": [],
   "source": [
    "from sklearn import preprocessing\n",
    "le = preprocessing.LabelEncoder()\n",
    "le.fit(df2_train['Month'])\n",
    "df2_train['Month'] = le.transform(df2_train['Month'])\n",
    "df2_test['Month'] = le.transform(df2_test['Month'])"
   ]
  },
  {
   "cell_type": "code",
   "execution_count": 27,
   "metadata": {},
   "outputs": [],
   "source": [
    "from sklearn import preprocessing\n",
    "le = preprocessing.LabelEncoder()\n",
    "le.fit(df2_train['Year'])\n",
    "df2_train['Year'] = le.transform(df2_train['Year'])\n",
    "df2_test['Year'] = le.transform(df2_test['Year'])"
   ]
  },
  {
   "cell_type": "code",
   "execution_count": 28,
   "metadata": {},
   "outputs": [],
   "source": [
    "le = preprocessing.LabelEncoder()\n",
    "le.fit(df2_train['GL_Code'])\n",
    "df2_train['GL_Code'] = le.transform(df2_train['GL_Code'])\n",
    "df2_test['GL_Code'] = le.transform(df2_test['GL_Code'])"
   ]
  },
  {
   "cell_type": "code",
   "execution_count": 29,
   "metadata": {},
   "outputs": [],
   "source": [
    "df2_train_vendorcode1 = pd.DataFrame(df2_train_vendorcode.toarray(), columns=[c for c in range(6029,7282)])\n",
    "df2_test_vendorcode1 = pd.DataFrame(df2_test_vendorcode.toarray(), columns=[c for c in range(6029,7282)])"
   ]
  },
  {
   "cell_type": "code",
   "execution_count": 30,
   "metadata": {},
   "outputs": [],
   "source": [
    "df2_train_y = df2_train['Product_Category']\n",
    "df2_train = df2_train.drop(['Product_Category', 'Inv_Id','Vendor_Code'], axis=1)\n",
    "df2_test = df2_test.drop(['Inv_Id','Vendor_Code'], axis=1)"
   ]
  },
  {
   "cell_type": "code",
   "execution_count": 31,
   "metadata": {},
   "outputs": [],
   "source": [
    "train_data_final = pd.concat([df2_train, df2_train_vendorcode1], axis=1)"
   ]
  },
  {
   "cell_type": "code",
   "execution_count": 32,
   "metadata": {},
   "outputs": [],
   "source": [
    "test_data_final = pd.concat([df2_test, df2_test_vendorcode1], axis=1)"
   ]
  },
  {
   "cell_type": "code",
   "execution_count": 33,
   "metadata": {},
   "outputs": [
    {
     "name": "stderr",
     "output_type": "stream",
     "text": [
      "C:\\Users\\ABHISEK\\Anaconda3\\lib\\site-packages\\sklearn\\linear_model\\logistic.py:433: FutureWarning: Default solver will be changed to 'lbfgs' in 0.22. Specify a solver to silence this warning.\n",
      "  FutureWarning)\n",
      "C:\\Users\\ABHISEK\\Anaconda3\\lib\\site-packages\\sklearn\\linear_model\\logistic.py:460: FutureWarning: Default multi_class will be changed to 'auto' in 0.22. Specify the multi_class option to silence this warning.\n",
      "  \"this warning.\", FutureWarning)\n"
     ]
    }
   ],
   "source": [
    "from sklearn.linear_model import LogisticRegression\n",
    "\n",
    "clf = LogisticRegression(random_state=0, class_weight='balanced').fit(train_data_final, df2_train_y)"
   ]
  },
  {
   "cell_type": "code",
   "execution_count": 34,
   "metadata": {},
   "outputs": [],
   "source": [
    "y_pred= clf.predict(train_data_final)"
   ]
  },
  {
   "cell_type": "code",
   "execution_count": 35,
   "metadata": {},
   "outputs": [],
   "source": [
    "from sklearn.metrics import confusion_matrix\n",
    "from sklearn.metrics import accuracy_score"
   ]
  },
  {
   "cell_type": "code",
   "execution_count": 36,
   "metadata": {},
   "outputs": [
    {
     "data": {
      "text/plain": [
       "array([[  5,   0,   0, ...,   0,   0,   0],\n",
       "       [  0, 174,   2, ...,   0,   0,   0],\n",
       "       [  0,   0, 451, ...,   0,   0,   0],\n",
       "       ...,\n",
       "       [  0,   0,   0, ...,   2,   0,   0],\n",
       "       [  0,   0,   0, ...,   0,   9,   0],\n",
       "       [  0,   0,   0, ...,   0,   0,  36]], dtype=int64)"
      ]
     },
     "execution_count": 36,
     "metadata": {},
     "output_type": "execute_result"
    }
   ],
   "source": [
    "confusion_matrix(df2_train_y, y_pred)"
   ]
  },
  {
   "cell_type": "code",
   "execution_count": 37,
   "metadata": {},
   "outputs": [
    {
     "data": {
      "text/plain": [
       "0.9996406755300036"
      ]
     },
     "execution_count": 37,
     "metadata": {},
     "output_type": "execute_result"
    }
   ],
   "source": [
    "accuracy_score(df2_train_y, y_pred)"
   ]
  },
  {
   "cell_type": "code",
   "execution_count": 38,
   "metadata": {},
   "outputs": [],
   "source": [
    "y_pred= clf.predict(test_data_final)"
   ]
  },
  {
   "cell_type": "code",
   "execution_count": 39,
   "metadata": {},
   "outputs": [
    {
     "name": "stdout",
     "output_type": "stream",
     "text": [
      "Unique Values :  ['CLASS-1248' 'CLASS-1249' 'CLASS-1250' 'CLASS-1274' 'CLASS-1294'\n",
      " 'CLASS-1309' 'CLASS-1322' 'CLASS-1376' 'CLASS-1429' 'CLASS-1477'\n",
      " 'CLASS-1522' 'CLASS-1567' 'CLASS-1652' 'CLASS-1688' 'CLASS-1721'\n",
      " 'CLASS-1758' 'CLASS-1770' 'CLASS-1805' 'CLASS-1828' 'CLASS-1850'\n",
      " 'CLASS-1867' 'CLASS-1870' 'CLASS-1919' 'CLASS-1957' 'CLASS-1963'\n",
      " 'CLASS-1964' 'CLASS-1983' 'CLASS-2003' 'CLASS-2038' 'CLASS-2112'\n",
      " 'CLASS-2141' 'CLASS-2146' 'CLASS-2241']\n",
      "Occurrence Count :  [  3  78 192 451  10  11  18 151  18  27 396  36   4   2  56 641   8   4\n",
      "  47  29   8  17  34   1  80  13  14  17   3  17  48   1  11]\n"
     ]
    }
   ],
   "source": [
    "uniqueValues, occurCount = np.unique(y_pred, return_counts=True)\n",
    "print(\"Unique Values : \" , uniqueValues)\n",
    "print(\"Occurrence Count : \", occurCount)"
   ]
  },
  {
   "cell_type": "code",
   "execution_count": 40,
   "metadata": {},
   "outputs": [],
   "source": [
    "submission_data = pd.concat([df_test,pd.DataFrame(y_pred, columns=['Product_Category'])], axis=1)"
   ]
  },
  {
   "cell_type": "code",
   "execution_count": 41,
   "metadata": {},
   "outputs": [],
   "source": [
    "submission_data[['Inv_Id','Product_Category']].to_csv('submissions.csv', index=False)"
   ]
  },
  {
   "cell_type": "code",
   "execution_count": 7,
   "metadata": {},
   "outputs": [],
   "source": [
    "import itertools\n",
    "import numpy as np\n",
    "import matplotlib.pyplot as plt\n",
    "from sklearn.metrics import confusion_matrix\n",
    "plt.rcParams[\"font.family\"] = 'DejaVu Sans'\n",
    "\n",
    "def plot_confusion_matrix(cm, classes,\n",
    "                          normalize=False,\n",
    "                          title='Confusion matrix',\n",
    "                          cmap=plt.cm.Blues):\n",
    "    if normalize:\n",
    "        cm = cm.astype('float') / cm.sum(axis=1)[:, np.newaxis]\n",
    "\n",
    "    plt.imshow(cm, interpolation='nearest', cmap=cmap)\n",
    "    plt.title(title)\n",
    "    plt.colorbar()\n",
    "    tick_marks = np.arange(len(classes))\n",
    "    plt.xticks(tick_marks, classes, rotation=90)\n",
    "    plt.yticks(tick_marks, classes)\n",
    "\n",
    "    fmt = '.2f' if normalize else 'd'\n",
    "    thresh = cm.max() / 2.\n",
    "    for i, j in itertools.product(range(cm.shape[0]), range(cm.shape[1])):\n",
    "        plt.text(j, i, format(cm[i, j], fmt),\n",
    "                 horizontalalignment=\"center\",\n",
    "                 color=\"white\" if cm[i, j] > thresh else \"black\")\n",
    "\n",
    "    plt.tight_layout()\n",
    "    plt.ylabel('True label')\n",
    "    plt.xlabel('Predicted label')"
   ]
  },
  {
   "cell_type": "code",
   "execution_count": 8,
   "metadata": {},
   "outputs": [],
   "source": [
    "labels = ['CLASS-1963', 'CLASS-1250', 'CLASS-1274', 'CLASS-1522',\n",
    "       'CLASS-1376', 'CLASS-1758', 'CLASS-2141', 'CLASS-1429',\n",
    "       'CLASS-1652', 'CLASS-1249', 'CLASS-1721', 'CLASS-1870',\n",
    "       'CLASS-1828', 'CLASS-2112', 'CLASS-1567', 'CLASS-1309',\n",
    "       'CLASS-1477', 'CLASS-1805', 'CLASS-1919', 'CLASS-1322',\n",
    "       'CLASS-1838', 'CLASS-2015', 'CLASS-1850', 'CLASS-2003',\n",
    "       'CLASS-1248', 'CLASS-1964', 'CLASS-2241', 'CLASS-1867',\n",
    "       'CLASS-1983', 'CLASS-1294', 'CLASS-1688', 'CLASS-2038',\n",
    "       'CLASS-1770', 'CLASS-2152', 'CLASS-2146', 'CLASS-1957']"
   ]
  },
  {
   "cell_type": "code",
   "execution_count": 9,
   "metadata": {},
   "outputs": [],
   "source": [
    "from datetime import datetime\n",
    "def perform_model(model, X_train, y_train, class_labels, cm_normalize=True, \\\n",
    "                 print_cm=True, cm_cmap=plt.cm.Greens):\n",
    "    \n",
    "    \n",
    "    # to store results at various phases\n",
    "    results = dict()\n",
    "    \n",
    "    # time at which model starts training \n",
    "    train_start_time = datetime.now()\n",
    "    print('training the model..')\n",
    "    model.fit(X_train, y_train)\n",
    "    print('Done \\n \\n')\n",
    "    train_end_time = datetime.now()\n",
    "    results['training_time'] =  train_end_time - train_start_time\n",
    "    print('training_time(HH:MM:SS.ms) - {}\\n\\n'.format(results['training_time']))\n",
    "    \n",
    "    \n",
    "    # predict test data\n",
    "    print('Predicting test data')\n",
    "    test_start_time = datetime.now()\n",
    "    y_pred = model.predict(X_train)\n",
    "    test_end_time = datetime.now()\n",
    "    print('Done \\n \\n')\n",
    "    results['testing_time'] = test_end_time - test_start_time\n",
    "    print('testing time(HH:MM:SS:ms) - {}\\n\\n'.format(results['testing_time']))\n",
    "    results['predicted'] = y_pred\n",
    "   \n",
    "\n",
    "    # calculate overall accuracty of the model\n",
    "    accuracy = metrics.accuracy_score(y_true=y_train, y_pred=y_pred)\n",
    "    # store accuracy in results\n",
    "    results['accuracy'] = accuracy\n",
    "    print('---------------------')\n",
    "    print('|      Accuracy      |')\n",
    "    print('---------------------')\n",
    "    print('\\n    {}\\n\\n'.format(accuracy))\n",
    "    \n",
    "    \n",
    "    # confusion matrix\n",
    "    cm = metrics.confusion_matrix(y_train, y_pred)\n",
    "    results['confusion_matrix'] = cm\n",
    "    if print_cm: \n",
    "        print('--------------------')\n",
    "        print('| Confusion Matrix |')\n",
    "        print('--------------------')\n",
    "        print('\\n {}'.format(cm))\n",
    "        \n",
    "    # plot confusin matrix\n",
    "    plt.figure(figsize=(8,8))\n",
    "    plt.grid(b=False)\n",
    "    plot_confusion_matrix(cm, classes=class_labels, normalize=True, title='Normalized confusion matrix', cmap = cm_cmap)\n",
    "    plt.show()\n",
    "    \n",
    "    # get classification report\n",
    "    print('-------------------------')\n",
    "    print('| Classifiction Report |')\n",
    "    print('-------------------------')\n",
    "    classification_report = metrics.classification_report(y_train, y_pred)\n",
    "    # store report in results\n",
    "    results['classification_report'] = classification_report\n",
    "    print(classification_report)\n",
    "    \n",
    "    # add the trained  model to the results\n",
    "    results['model'] = model\n",
    "    \n",
    "    return results\n",
    "    "
   ]
  },
  {
   "cell_type": "code",
   "execution_count": null,
   "metadata": {},
   "outputs": [],
   "source": []
  },
  {
   "cell_type": "code",
   "execution_count": 11,
   "metadata": {},
   "outputs": [
    {
     "name": "stdout",
     "output_type": "stream",
     "text": [
      "training the model..\n",
      "Fitting 3 folds for each of 12 candidates, totalling 36 fits\n"
     ]
    },
    {
     "name": "stderr",
     "output_type": "stream",
     "text": [
      "C:\\Users\\ABHISEK\\Anaconda3\\lib\\site-packages\\sklearn\\model_selection\\_split.py:652: Warning: The least populated class in y has only 1 members, which is too few. The minimum number of members in any class cannot be less than n_splits=3.\n",
      "  % (min_groups, self.n_splits)), Warning)\n",
      "[Parallel(n_jobs=-1)]: Using backend LokyBackend with 4 concurrent workers.\n",
      "[Parallel(n_jobs=-1)]: Done   5 tasks      | elapsed:  1.3min\n",
      "[Parallel(n_jobs=-1)]: Done  36 out of  36 | elapsed:  2.5min remaining:    0.0s\n",
      "[Parallel(n_jobs=-1)]: Done  36 out of  36 | elapsed:  2.5min finished\n",
      "C:\\Users\\ABHISEK\\Anaconda3\\lib\\site-packages\\sklearn\\linear_model\\logistic.py:433: FutureWarning: Default solver will be changed to 'lbfgs' in 0.22. Specify a solver to silence this warning.\n",
      "  FutureWarning)\n",
      "C:\\Users\\ABHISEK\\Anaconda3\\lib\\site-packages\\sklearn\\linear_model\\logistic.py:460: FutureWarning: Default multi_class will be changed to 'auto' in 0.22. Specify the multi_class option to silence this warning.\n",
      "  \"this warning.\", FutureWarning)\n",
      "C:\\Users\\ABHISEK\\Anaconda3\\lib\\site-packages\\sklearn\\svm\\base.py:931: ConvergenceWarning: Liblinear failed to converge, increase the number of iterations.\n",
      "  \"the number of iterations.\", ConvergenceWarning)\n"
     ]
    },
    {
     "name": "stdout",
     "output_type": "stream",
     "text": [
      "Done \n",
      " \n",
      "\n",
      "training_time(HH:MM:SS.ms) - 0:02:40.406249\n",
      "\n",
      "\n",
      "Predicting test data\n",
      "Done \n",
      " \n",
      "\n",
      "testing time(HH:MM:SS:ms) - 0:00:00.713095\n",
      "\n",
      "\n",
      "---------------------\n",
      "|      Accuracy      |\n",
      "---------------------\n",
      "\n",
      "    1.0\n",
      "\n",
      "\n",
      "--------------------\n",
      "| Confusion Matrix |\n",
      "--------------------\n",
      "\n",
      " [[  5   0   0 ...   0   0   0]\n",
      " [  0 176   0 ...   0   0   0]\n",
      " [  0   0 451 ...   0   0   0]\n",
      " ...\n",
      " [  0   0   0 ...   2   0   0]\n",
      " [  0   0   0 ...   0   9   0]\n",
      " [  0   0   0 ...   0   0  36]]\n"
     ]
    },
    {
     "data": {
      "image/png": "[encoded data removed]",
      "text/plain": [
       "<matplotlib.figure.Figure at 0x1c1c265d080>"
      ]
     },
     "metadata": {},
     "output_type": "display_data"
    },
    {
     "name": "stdout",
     "output_type": "stream",
     "text": [
      "-------------------------\n",
      "| Classifiction Report |\n",
      "-------------------------\n",
      "              precision    recall  f1-score   support\n",
      "\n",
      "  CLASS-1248       1.00      1.00      1.00         5\n",
      "  CLASS-1249       1.00      1.00      1.00       176\n",
      "  CLASS-1250       1.00      1.00      1.00       451\n",
      "  CLASS-1274       1.00      1.00      1.00       986\n",
      "  CLASS-1294       1.00      1.00      1.00        25\n",
      "  CLASS-1309       1.00      1.00      1.00        32\n",
      "  CLASS-1322       1.00      1.00      1.00        28\n",
      "  CLASS-1376       1.00      1.00      1.00       365\n",
      "  CLASS-1429       1.00      1.00      1.00        32\n",
      "  CLASS-1477       1.00      1.00      1.00        50\n",
      "  CLASS-1522       1.00      1.00      1.00       851\n",
      "  CLASS-1567       1.00      1.00      1.00        84\n",
      "  CLASS-1652       1.00      1.00      1.00        15\n",
      "  CLASS-1688       1.00      1.00      1.00         4\n",
      "  CLASS-1721       1.00      1.00      1.00       107\n",
      "  CLASS-1758       1.00      1.00      1.00      1498\n",
      "  CLASS-1770       1.00      1.00      1.00        19\n",
      "  CLASS-1805       1.00      1.00      1.00        12\n",
      "  CLASS-1828       1.00      1.00      1.00       113\n",
      "  CLASS-1838       1.00      1.00      1.00         1\n",
      "  CLASS-1850       1.00      1.00      1.00        60\n",
      "  CLASS-1867       1.00      1.00      1.00        15\n",
      "  CLASS-1870       1.00      1.00      1.00        36\n",
      "  CLASS-1919       1.00      1.00      1.00        70\n",
      "  CLASS-1957       1.00      1.00      1.00         1\n",
      "  CLASS-1963       1.00      1.00      1.00       230\n",
      "  CLASS-1964       1.00      1.00      1.00        28\n",
      "  CLASS-1983       1.00      1.00      1.00        17\n",
      "  CLASS-2003       1.00      1.00      1.00        32\n",
      "  CLASS-2015       1.00      1.00      1.00         2\n",
      "  CLASS-2038       1.00      1.00      1.00        13\n",
      "  CLASS-2112       1.00      1.00      1.00        53\n",
      "  CLASS-2141       1.00      1.00      1.00       108\n",
      "  CLASS-2146       1.00      1.00      1.00         2\n",
      "  CLASS-2152       1.00      1.00      1.00         9\n",
      "  CLASS-2241       1.00      1.00      1.00        36\n",
      "\n",
      "   micro avg       1.00      1.00      1.00      5566\n",
      "   macro avg       1.00      1.00      1.00      5566\n",
      "weighted avg       1.00      1.00      1.00      5566\n",
      "\n"
     ]
    }
   ],
   "source": [
    "from sklearn import linear_model\n",
    "from sklearn import metrics\n",
    "\n",
    "from sklearn.model_selection import GridSearchCV\n",
    "# start Grid search\n",
    "parameters = {'C':[0.01, 0.1, 1, 10, 20, 30], 'penalty':['l2','l1']}\n",
    "log_reg = linear_model.LogisticRegression()\n",
    "log_reg_grid = GridSearchCV(log_reg, param_grid=parameters, cv=3, verbose=6, n_jobs=-1)\n",
    "log_reg_grid_results =  perform_model(log_reg_grid, train_data_final, df2_train_y, class_labels=labels)"
   ]
  },
  {
   "cell_type": "code",
   "execution_count": 12,
   "metadata": {},
   "outputs": [],
   "source": [
    "y_pred= log_reg_grid.predict(test_data_final)"
   ]
  },
  {
   "cell_type": "code",
   "execution_count": 13,
   "metadata": {},
   "outputs": [
    {
     "name": "stdout",
     "output_type": "stream",
     "text": [
      "Unique Values :  ['CLASS-1248' 'CLASS-1249' 'CLASS-1250' 'CLASS-1274' 'CLASS-1294'\n",
      " 'CLASS-1309' 'CLASS-1322' 'CLASS-1376' 'CLASS-1429' 'CLASS-1477'\n",
      " 'CLASS-1522' 'CLASS-1567' 'CLASS-1652' 'CLASS-1688' 'CLASS-1721'\n",
      " 'CLASS-1758' 'CLASS-1770' 'CLASS-1805' 'CLASS-1828' 'CLASS-1850'\n",
      " 'CLASS-1867' 'CLASS-1870' 'CLASS-1919' 'CLASS-1957' 'CLASS-1963'\n",
      " 'CLASS-1964' 'CLASS-1983' 'CLASS-2003' 'CLASS-2038' 'CLASS-2112'\n",
      " 'CLASS-2141' 'CLASS-2146' 'CLASS-2241']\n",
      "Occurrence Count :  [  3  79 191 451  10  11  17 151  18  27 396  36   4   2  54 642   8   6\n",
      "  47  29   8  17  34   1  80  13  14  17   3  17  48   1  11]\n"
     ]
    }
   ],
   "source": [
    "uniqueValues, occurCount = np.unique(y_pred, return_counts=True)\n",
    "print(\"Unique Values : \" , uniqueValues)\n",
    "print(\"Occurrence Count : \", occurCount)"
   ]
  },
  {
   "cell_type": "code",
   "execution_count": 14,
   "metadata": {},
   "outputs": [],
   "source": [
    "submission_data = pd.concat([df_test,pd.DataFrame(y_pred, columns=['Product_Category'])], axis=1)"
   ]
  },
  {
   "cell_type": "code",
   "execution_count": 15,
   "metadata": {},
   "outputs": [],
   "source": [
    "submission_data[['Inv_Id','Product_Category']].to_csv('submissions.csv', index=False)"
   ]
  },
  {
   "cell_type": "code",
   "execution_count": 58,
   "metadata": {},
   "outputs": [],
   "source": [
    "# import pickle\n",
    "# file = open('train_data_final.pkl', 'wb')\n",
    "# pickle.dump(train_data_final, file)\n",
    "# file.close()"
   ]
  },
  {
   "cell_type": "code",
   "execution_count": 59,
   "metadata": {},
   "outputs": [],
   "source": [
    "# file = open('test_data_final.pkl', 'wb')\n",
    "# pickle.dump(test_data_final, file)\n",
    "# file.close()"
   ]
  },
  {
   "cell_type": "code",
   "execution_count": 60,
   "metadata": {},
   "outputs": [],
   "source": [
    "# file = open('df2_train_y.pkl', 'wb')\n",
    "# pickle.dump(df2_train_y, file)\n",
    "# file.close()"
   ]
  },
  {
   "cell_type": "code",
   "execution_count": 4,
   "metadata": {},
   "outputs": [],
   "source": [
    "# file = open('train_data_final.pkl', 'rb')\n",
    "# train_data_final = pickle.load(file)\n",
    "# file.close()"
   ]
  },
  {
   "cell_type": "code",
   "execution_count": 5,
   "metadata": {},
   "outputs": [],
   "source": [
    "# file = open('test_data_final.pkl', 'rb')\n",
    "# test_data_final = pickle.load(file)\n",
    "# file.close()"
   ]
  },
  {
   "cell_type": "code",
   "execution_count": 6,
   "metadata": {},
   "outputs": [],
   "source": [
    "# file = open('df2_train_y.pkl', 'rb')\n",
    "# df2_train_y = pickle.load(file)\n",
    "# file.close()"
   ]
  },
  {
   "cell_type": "code",
   "execution_count": 3,
   "metadata": {},
   "outputs": [],
   "source": [
    "# import pickle"
   ]
  },
  {
   "cell_type": "code",
   "execution_count": null,
   "metadata": {},
   "outputs": [],
   "source": []
  }
 ],
 "metadata": {
  "kernelspec": {
   "display_name": "Python 3",
   "language": "python",
   "name": "python3"
  }
 },
 "nbformat": 4,
 "nbformat_minor": 2
}
