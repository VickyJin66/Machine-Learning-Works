{
 "cells": [
  {
   "cell_type": "markdown",
   "metadata": {},
   "source": [
    "# Objectives:\n",
    "1. For each Featurization(BOWs, TF-IDF) we need to split the data based on Time Based Slicing\n",
    "   and apply Naive Bayes and find test accurcy.\n",
    "\n",
    "2. Use 10-Fold Cross Validation to determine optimal alpha and apply Naive Bayes with optimal alpha\n",
    "3. find feature importance ( top most words for deciding class labels positive or negative)\n",
    "4. generate result matrices like accurecy , precision, F1 score, confusion matrix (TPR/FPR/FNR/TNR)"
   ]
  },
  {
   "cell_type": "code",
   "execution_count": 1,
   "metadata": {
    "collapsed": true
   },
   "outputs": [],
   "source": [
    "import sqlite3\n",
    "import pandas as pd\n",
    "import numpy as np\n",
    "import nltk\n",
    "import string\n",
    "import matplotlib.pyplot as plt\n",
    "import seaborn as sn\n",
    "from sklearn.feature_extraction.text import TfidfTransformer\n",
    "from sklearn.feature_extraction.text import TfidfVectorizer\n",
    "from sklearn.feature_extraction.text import CountVectorizer\n",
    "from sklearn.metrics import confusion_matrix\n",
    "from sklearn import metrics\n",
    "from sklearn.metrics import roc_curve, auc\n",
    "from nltk.stem.porter import PorterStemmer\n",
    "import re\n",
    "import gensim\n",
    "import string\n",
    "from nltk.corpus import stopwords\n",
    "from nltk.stem import PorterStemmer\n",
    "from nltk.stem.wordnet import WordNetLemmatizer"
   ]
  },
  {
   "cell_type": "code",
   "execution_count": 2,
   "metadata": {},
   "outputs": [],
   "source": [
    "# using the SQLite Table to read data.\n",
    "con = sqlite3.connect('database.sqlite') \n",
    "\n",
    "#filtering only positive and negative reviews i.e. \n",
    "# not taking into consideration those reviews with Score=3\n",
    "filtered_data = pd.read_sql_query(\"\"\"\n",
    "SELECT *\n",
    "FROM Reviews\n",
    "WHERE Score != 3\n",
    "\"\"\", con) \n",
    "# Give reviews with Score>3 a positive rating, and reviews with a score<3 a negative rating.\n",
    "def partition(x):\n",
    "    if x < 3:\n",
    "        return 'negative'\n",
    "    return 'positive'\n",
    "#changing reviews with score less than 3 to be positive and vice-versa\n",
    "actualScore = filtered_data['Score']\n",
    "positiveNegative = actualScore.map(partition) \n",
    "filtered_data['Score'] = positiveNegative"
   ]
  },
  {
   "cell_type": "code",
   "execution_count": 3,
   "metadata": {
    "collapsed": true
   },
   "outputs": [],
   "source": [
    "sorted_data=filtered_data.sort_values('ProductId', axis=0, ascending=True, inplace=False, kind='quicksort', na_position='last')\n",
    "# sort reviews based on ProductId"
   ]
  },
  {
   "cell_type": "code",
   "execution_count": 4,
   "metadata": {},
   "outputs": [
    {
     "data": {
      "text/plain": [
       "(364173, 10)"
      ]
     },
     "execution_count": 4,
     "metadata": {},
     "output_type": "execute_result"
    }
   ],
   "source": [
    "final=sorted_data.drop_duplicates(subset={\"UserId\",\"ProfileName\",\"Time\",\"Text\"}, keep='first', inplace=False)\n",
    "final.shape\n",
    "# Remove duplicate reviews"
   ]
  },
  {
   "cell_type": "code",
   "execution_count": 5,
   "metadata": {},
   "outputs": [
    {
     "name": "stdout",
     "output_type": "stream",
     "text": [
      "(364171, 10)\n"
     ]
    },
    {
     "data": {
      "text/plain": [
       "positive    307061\n",
       "negative     57110\n",
       "Name: Score, dtype: int64"
      ]
     },
     "execution_count": 5,
     "metadata": {},
     "output_type": "execute_result"
    }
   ],
   "source": [
    "final=final[final.HelpfulnessNumerator<=final.HelpfulnessDenominator]\n",
    "#Before starting the next phase of preprocessing lets see the number of entries left\n",
    "print(final.shape)\n",
    "\n",
    "#How many positive and negative reviews are present in our dataset?\n",
    "final['Score'].value_counts()"
   ]
  },
  {
   "cell_type": "code",
   "execution_count": 6,
   "metadata": {},
   "outputs": [
    {
     "name": "stdout",
     "output_type": "stream",
     "text": [
      "6\n",
      "I set aside at least an hour each day to read to my son (3 y/o). At this point, I consider myself a connoisseur of children's books and this is one of the best. Santa Clause put this under the tree. Since then, we've read it perpetually and he loves it.<br /><br />First, this book taught him the months of the year.<br /><br />Second, it's a pleasure to read. Well suited to 1.5 y/o old to 4+.<br /><br />Very few children's books are worth owning. Most should be borrowed from the library. This book, however, deserves a permanent spot on your shelf. Sendak's best.\n"
     ]
    }
   ],
   "source": [
    "# find sentences containing HTML tags\n",
    "i=0;\n",
    "for sent in final['Text'].values:\n",
    "    if (len(re.findall('<.*?>', sent))):\n",
    "        print(i)\n",
    "        print(sent)\n",
    "        break;\n",
    "    i += 1;   "
   ]
  },
  {
   "cell_type": "code",
   "execution_count": 7,
   "metadata": {
    "collapsed": true
   },
   "outputs": [],
   "source": [
    "#stop = set(stopwords.words('english')) #set of stopwords\n",
    "sno = nltk.stem.SnowballStemmer('english') #initialising the snowball stemmer\n",
    "\n",
    "def cleanhtml(sentence): #function to clean the word of any html-tags\n",
    "    cleanr = re.compile('<.*?>')\n",
    "    cleantext = re.sub(cleanr, ' ', sentence)\n",
    "    return cleantext\n",
    "def cleanpunc(sentence): #function to clean the word of any punctuation or special characters\n",
    "    cleaned = re.sub(r'[?|!|\\'|\"|#]',r'',sentence)\n",
    "    cleaned = re.sub(r'[.|,|)|(|\\|/]',r' ',cleaned)\n",
    "    return  cleaned"
   ]
  },
  {
   "cell_type": "code",
   "execution_count": 8,
   "metadata": {
    "collapsed": true
   },
   "outputs": [],
   "source": [
    "#Code for implementing step-by-step the checks mentioned in the pre-processing phase\n",
    "# this code takes a while to run as it needs to run on 500k sentences.\n",
    "i=0\n",
    "str1=' '\n",
    "final_string=[]\n",
    "all_positive_words=[] # store words from +ve reviews here\n",
    "all_negative_words=[] # store words from -ve reviews here.\n",
    "s=''\n",
    "for sent in final['Text'].values:\n",
    "    filtered_sentence=[]\n",
    "    sent=cleanhtml(sent) # remove HTMl tags\n",
    "    for w in sent.split():\n",
    "        for cleaned_words in cleanpunc(w).split():\n",
    "            if((cleaned_words.isalpha()) & (len(cleaned_words)>2)):    \n",
    "                s=(sno.stem(cleaned_words.lower())).encode('utf8')\n",
    "                filtered_sentence.append(s)\n",
    "                if (final['Score'].values)[i] == 'positive': \n",
    "                    all_positive_words.append(s) #list of all words used to describe positive reviews\n",
    "                if(final['Score'].values)[i] == 'negative':\n",
    "                    all_negative_words.append(s) #list of all words used to describe negative reviews reviews\n",
    "            else:\n",
    "                continue \n",
    "    str1 = b\" \".join(filtered_sentence) #final string of cleaned words    \n",
    "    final_string.append(str1)\n",
    "    i+=1"
   ]
  },
  {
   "cell_type": "code",
   "execution_count": 9,
   "metadata": {
    "collapsed": true
   },
   "outputs": [],
   "source": [
    "final['CleanedText']=final_string"
   ]
  },
  {
   "cell_type": "code",
   "execution_count": 10,
   "metadata": {},
   "outputs": [
    {
     "data": {
      "text/html": [
       "<div>\n",
       "<style>\n",
       "    .dataframe thead tr:only-child th {\n",
       "        text-align: right;\n",
       "    }\n",
       "\n",
       "    .dataframe thead th {\n",
       "        text-align: left;\n",
       "    }\n",
       "\n",
       "    .dataframe tbody tr th {\n",
       "        vertical-align: top;\n",
       "    }\n",
       "</style>\n",
       "<table border=\"1\" class=\"dataframe\">\n",
       "  <thead>\n",
       "    <tr style=\"text-align: right;\">\n",
       "      <th></th>\n",
       "      <th>Id</th>\n",
       "      <th>ProductId</th>\n",
       "      <th>UserId</th>\n",
       "      <th>ProfileName</th>\n",
       "      <th>HelpfulnessNumerator</th>\n",
       "      <th>HelpfulnessDenominator</th>\n",
       "      <th>Score</th>\n",
       "      <th>Time</th>\n",
       "      <th>Summary</th>\n",
       "      <th>Text</th>\n",
       "      <th>CleanedText</th>\n",
       "    </tr>\n",
       "  </thead>\n",
       "  <tbody>\n",
       "    <tr>\n",
       "      <th>138706</th>\n",
       "      <td>150524</td>\n",
       "      <td>0006641040</td>\n",
       "      <td>ACITT7DI6IDDL</td>\n",
       "      <td>shari zychinski</td>\n",
       "      <td>0</td>\n",
       "      <td>0</td>\n",
       "      <td>positive</td>\n",
       "      <td>939340800</td>\n",
       "      <td>EVERY book is educational</td>\n",
       "      <td>this witty little book makes my son laugh at l...</td>\n",
       "      <td>b'this witti littl book make son laugh loud re...</td>\n",
       "    </tr>\n",
       "    <tr>\n",
       "      <th>138683</th>\n",
       "      <td>150501</td>\n",
       "      <td>0006641040</td>\n",
       "      <td>AJ46FKXOVC7NR</td>\n",
       "      <td>Nicholas A Mesiano</td>\n",
       "      <td>2</td>\n",
       "      <td>2</td>\n",
       "      <td>positive</td>\n",
       "      <td>940809600</td>\n",
       "      <td>This whole series is great way to spend time w...</td>\n",
       "      <td>I can remember seeing the show when it aired o...</td>\n",
       "      <td>b'can rememb see the show when air televis yea...</td>\n",
       "    </tr>\n",
       "    <tr>\n",
       "      <th>417839</th>\n",
       "      <td>451856</td>\n",
       "      <td>B00004CXX9</td>\n",
       "      <td>AIUWLEQ1ADEG5</td>\n",
       "      <td>Elizabeth Medina</td>\n",
       "      <td>0</td>\n",
       "      <td>0</td>\n",
       "      <td>positive</td>\n",
       "      <td>944092800</td>\n",
       "      <td>Entertainingl Funny!</td>\n",
       "      <td>Beetlejuice is a well written movie ..... ever...</td>\n",
       "      <td>b'beetlejuic well written movi everyth about e...</td>\n",
       "    </tr>\n",
       "    <tr>\n",
       "      <th>346055</th>\n",
       "      <td>374359</td>\n",
       "      <td>B00004CI84</td>\n",
       "      <td>A344SMIA5JECGM</td>\n",
       "      <td>Vincent P. Ross</td>\n",
       "      <td>1</td>\n",
       "      <td>2</td>\n",
       "      <td>positive</td>\n",
       "      <td>944438400</td>\n",
       "      <td>A modern day fairy tale</td>\n",
       "      <td>A twist of rumplestiskin captured on film, sta...</td>\n",
       "      <td>b'twist rumplestiskin captur film star michael...</td>\n",
       "    </tr>\n",
       "    <tr>\n",
       "      <th>417838</th>\n",
       "      <td>451855</td>\n",
       "      <td>B00004CXX9</td>\n",
       "      <td>AJH6LUC1UT1ON</td>\n",
       "      <td>The Phantom of the Opera</td>\n",
       "      <td>0</td>\n",
       "      <td>0</td>\n",
       "      <td>positive</td>\n",
       "      <td>946857600</td>\n",
       "      <td>FANTASTIC!</td>\n",
       "      <td>Beetlejuice is an excellent and funny movie. K...</td>\n",
       "      <td>b'beetlejuic excel and funni movi keaton hilar...</td>\n",
       "    </tr>\n",
       "  </tbody>\n",
       "</table>\n",
       "</div>"
      ],
      "text/plain": [
       "            Id   ProductId          UserId               ProfileName  \\\n",
       "138706  150524  0006641040   ACITT7DI6IDDL           shari zychinski   \n",
       "138683  150501  0006641040   AJ46FKXOVC7NR        Nicholas A Mesiano   \n",
       "417839  451856  B00004CXX9   AIUWLEQ1ADEG5          Elizabeth Medina   \n",
       "346055  374359  B00004CI84  A344SMIA5JECGM           Vincent P. Ross   \n",
       "417838  451855  B00004CXX9   AJH6LUC1UT1ON  The Phantom of the Opera   \n",
       "\n",
       "        HelpfulnessNumerator  HelpfulnessDenominator     Score       Time  \\\n",
       "138706                     0                       0  positive  939340800   \n",
       "138683                     2                       2  positive  940809600   \n",
       "417839                     0                       0  positive  944092800   \n",
       "346055                     1                       2  positive  944438400   \n",
       "417838                     0                       0  positive  946857600   \n",
       "\n",
       "                                                  Summary  \\\n",
       "138706                          EVERY book is educational   \n",
       "138683  This whole series is great way to spend time w...   \n",
       "417839                               Entertainingl Funny!   \n",
       "346055                            A modern day fairy tale   \n",
       "417838                                         FANTASTIC!   \n",
       "\n",
       "                                                     Text  \\\n",
       "138706  this witty little book makes my son laugh at l...   \n",
       "138683  I can remember seeing the show when it aired o...   \n",
       "417839  Beetlejuice is a well written movie ..... ever...   \n",
       "346055  A twist of rumplestiskin captured on film, sta...   \n",
       "417838  Beetlejuice is an excellent and funny movie. K...   \n",
       "\n",
       "                                              CleanedText  \n",
       "138706  b'this witti littl book make son laugh loud re...  \n",
       "138683  b'can rememb see the show when air televis yea...  \n",
       "417839  b'beetlejuic well written movi everyth about e...  \n",
       "346055  b'twist rumplestiskin captur film star michael...  \n",
       "417838  b'beetlejuic excel and funni movi keaton hilar...  "
      ]
     },
     "execution_count": 10,
     "metadata": {},
     "output_type": "execute_result"
    }
   ],
   "source": [
    "final = final.sort_values(['Time'], ascending=[True])\n",
    "final.head()"
   ]
  },
  {
   "cell_type": "code",
   "execution_count": 11,
   "metadata": {
    "collapsed": true
   },
   "outputs": [],
   "source": [
    "positive_50000=final.loc[final['Score'] == \"positive\"].tail(50000)\n",
    "negative_50000=final.loc[final['Score'] == \"negative\"].tail(50000)\n",
    "pos_neg_1l = pd.concat([positive_50000, negative_50000], axis=0)\n",
    "labels = pos_neg_1l['Score']"
   ]
  },
  {
   "cell_type": "markdown",
   "metadata": {},
   "source": [
    "# Sort the sample values based on time"
   ]
  },
  {
   "cell_type": "code",
   "execution_count": 12,
   "metadata": {},
   "outputs": [
    {
     "data": {
      "text/html": [
       "<div>\n",
       "<style>\n",
       "    .dataframe thead tr:only-child th {\n",
       "        text-align: right;\n",
       "    }\n",
       "\n",
       "    .dataframe thead th {\n",
       "        text-align: left;\n",
       "    }\n",
       "\n",
       "    .dataframe tbody tr th {\n",
       "        vertical-align: top;\n",
       "    }\n",
       "</style>\n",
       "<table border=\"1\" class=\"dataframe\">\n",
       "  <thead>\n",
       "    <tr style=\"text-align: right;\">\n",
       "      <th></th>\n",
       "      <th>Id</th>\n",
       "      <th>ProductId</th>\n",
       "      <th>UserId</th>\n",
       "      <th>ProfileName</th>\n",
       "      <th>HelpfulnessNumerator</th>\n",
       "      <th>HelpfulnessDenominator</th>\n",
       "      <th>Score</th>\n",
       "      <th>Time</th>\n",
       "      <th>Summary</th>\n",
       "      <th>Text</th>\n",
       "      <th>CleanedText</th>\n",
       "    </tr>\n",
       "  </thead>\n",
       "  <tbody>\n",
       "    <tr>\n",
       "      <th>288768</th>\n",
       "      <td>312780</td>\n",
       "      <td>B000FPFC4O</td>\n",
       "      <td>A77EO8HXDT3II</td>\n",
       "      <td>Sawyer \"book lover\"</td>\n",
       "      <td>1</td>\n",
       "      <td>1</td>\n",
       "      <td>negative</td>\n",
       "      <td>1248825600</td>\n",
       "      <td>Disappointing</td>\n",
       "      <td>I was very disappointed in the taste of these ...</td>\n",
       "      <td>b'was veri disappoint the tast these cooki ver...</td>\n",
       "    </tr>\n",
       "    <tr>\n",
       "      <th>192576</th>\n",
       "      <td>208809</td>\n",
       "      <td>B00004RAMV</td>\n",
       "      <td>A1RVL257CTT821</td>\n",
       "      <td>Carrie Armstrong</td>\n",
       "      <td>1</td>\n",
       "      <td>5</td>\n",
       "      <td>negative</td>\n",
       "      <td>1248825600</td>\n",
       "      <td>no bees</td>\n",
       "      <td>I did what the guidlines suggested, and no bee...</td>\n",
       "      <td>b'did what the guidlin suggest and bee came ad...</td>\n",
       "    </tr>\n",
       "    <tr>\n",
       "      <th>177947</th>\n",
       "      <td>192959</td>\n",
       "      <td>B000ILA4KW</td>\n",
       "      <td>AQ5JDBXICB18J</td>\n",
       "      <td>R. Culp</td>\n",
       "      <td>0</td>\n",
       "      <td>0</td>\n",
       "      <td>negative</td>\n",
       "      <td>1248825600</td>\n",
       "      <td>Not impressed</td>\n",
       "      <td>I didn't have much luck with this popcorn in t...</td>\n",
       "      <td>b'didnt have much luck with this popcorn the m...</td>\n",
       "    </tr>\n",
       "    <tr>\n",
       "      <th>78622</th>\n",
       "      <td>85503</td>\n",
       "      <td>B002DHTWNO</td>\n",
       "      <td>A4UP3MT4NWCSS</td>\n",
       "      <td>A. Tabachnik \"IDF\"</td>\n",
       "      <td>9</td>\n",
       "      <td>13</td>\n",
       "      <td>negative</td>\n",
       "      <td>1248825600</td>\n",
       "      <td>The item contains MSG</td>\n",
       "      <td>The description for the item is wrong.&lt;br /&gt;It...</td>\n",
       "      <td>b'the descript for the item wrong doe contain ...</td>\n",
       "    </tr>\n",
       "    <tr>\n",
       "      <th>114848</th>\n",
       "      <td>124563</td>\n",
       "      <td>B000UZLQG2</td>\n",
       "      <td>AQ5JDBXICB18J</td>\n",
       "      <td>R. Culp</td>\n",
       "      <td>1</td>\n",
       "      <td>3</td>\n",
       "      <td>negative</td>\n",
       "      <td>1248825600</td>\n",
       "      <td>Buttery flavor ???</td>\n",
       "      <td>Tastes too much like regular oil for me. I'm s...</td>\n",
       "      <td>b'tast too much like regular oil for still loo...</td>\n",
       "    </tr>\n",
       "  </tbody>\n",
       "</table>\n",
       "</div>"
      ],
      "text/plain": [
       "            Id   ProductId          UserId          ProfileName  \\\n",
       "288768  312780  B000FPFC4O   A77EO8HXDT3II  Sawyer \"book lover\"   \n",
       "192576  208809  B00004RAMV  A1RVL257CTT821     Carrie Armstrong   \n",
       "177947  192959  B000ILA4KW   AQ5JDBXICB18J              R. Culp   \n",
       "78622    85503  B002DHTWNO   A4UP3MT4NWCSS   A. Tabachnik \"IDF\"   \n",
       "114848  124563  B000UZLQG2   AQ5JDBXICB18J              R. Culp   \n",
       "\n",
       "        HelpfulnessNumerator  HelpfulnessDenominator     Score        Time  \\\n",
       "288768                     1                       1  negative  1248825600   \n",
       "192576                     1                       5  negative  1248825600   \n",
       "177947                     0                       0  negative  1248825600   \n",
       "78622                      9                      13  negative  1248825600   \n",
       "114848                     1                       3  negative  1248825600   \n",
       "\n",
       "                      Summary  \\\n",
       "288768          Disappointing   \n",
       "192576                no bees   \n",
       "177947          Not impressed   \n",
       "78622   The item contains MSG   \n",
       "114848     Buttery flavor ???   \n",
       "\n",
       "                                                     Text  \\\n",
       "288768  I was very disappointed in the taste of these ...   \n",
       "192576  I did what the guidlines suggested, and no bee...   \n",
       "177947  I didn't have much luck with this popcorn in t...   \n",
       "78622   The description for the item is wrong.<br />It...   \n",
       "114848  Tastes too much like regular oil for me. I'm s...   \n",
       "\n",
       "                                              CleanedText  \n",
       "288768  b'was veri disappoint the tast these cooki ver...  \n",
       "192576  b'did what the guidlin suggest and bee came ad...  \n",
       "177947  b'didnt have much luck with this popcorn the m...  \n",
       "78622   b'the descript for the item wrong doe contain ...  \n",
       "114848  b'tast too much like regular oil for still loo...  "
      ]
     },
     "execution_count": 12,
     "metadata": {},
     "output_type": "execute_result"
    }
   ],
   "source": [
    "pos_neg_1l = pos_neg_1l.sort_values(['Time'], ascending=[True])\n",
    "pos_neg_1l.head()"
   ]
  },
  {
   "cell_type": "code",
   "execution_count": 13,
   "metadata": {
    "collapsed": true
   },
   "outputs": [],
   "source": [
    "# dict = {\"positive\" : '1', \"negative\" : '0'}\n",
    "# pos_neg_60k['Score1'] = pos_neg_1l['Score'].map(dict)\n",
    "X = pos_neg_1l['CleanedText']\n",
    "y = pos_neg_1l['Score']"
   ]
  },
  {
   "cell_type": "code",
   "execution_count": 14,
   "metadata": {
    "collapsed": true
   },
   "outputs": [],
   "source": [
    "from sklearn.model_selection import train_test_split\n",
    "# Split arrays or matrices into random train and test subsets\n",
    "# test_size=0.3 means out of 10k 3k will be test set and 7k train set\n",
    "X_train, X_test, y_train, y_test = train_test_split(X, y, test_size=0.3, random_state=0)"
   ]
  },
  {
   "cell_type": "markdown",
   "metadata": {},
   "source": [
    "# BOW with NB"
   ]
  },
  {
   "cell_type": "code",
   "execution_count": 15,
   "metadata": {
    "collapsed": true
   },
   "outputs": [],
   "source": [
    "# BoW: A bag-of-words model, or BoW for short, is a way of extracting features from \n",
    "#      text for use in modeling, such as with machine learning algorithms.\n",
    "#      It is called a “bag” of words, because any information about the order or structure of words \n",
    "#      in the document is discarded. The model is only concerned with whether known words occur in the document,\n",
    "#      not where in the document.\n",
    "\n",
    "# https://machinelearningmastery.com/gentle-introduction-bag-words-model/\n",
    "\n",
    "# CountVectorizer: Convert a collection of text documents to a matrix of token counts.\n",
    "#                  This implementation produces a sparse representation of the counts using scipy.sparse.csr_matrix.\n",
    "\n",
    "###### CODE ######\n",
    "count_vect = CountVectorizer()\n",
    "X_train = count_vect.fit_transform(X_train)\n",
    "X_test = count_vect.transform(X_test)"
   ]
  },
  {
   "cell_type": "code",
   "execution_count": 16,
   "metadata": {},
   "outputs": [
    {
     "name": "stderr",
     "output_type": "stream",
     "text": [
      "/home/abhisek1651990/anaconda3/lib/python3.6/site-packages/sklearn/utils/validation.py:475: DataConversionWarning: Data with input dtype int64 was converted to float64 by StandardScaler.\n",
      "  warnings.warn(msg, DataConversionWarning)\n"
     ]
    }
   ],
   "source": [
    "# StandardScaler: Transforming data so that mean becomes 0 and std-dev becomes 1(so that to follow Gaussian Distribution)\n",
    "# The StandardScaler applies the transformation  fnew=(f−f¯)/σf  to each dimension, \n",
    "# where  f¯  is the mean and  σf  the standard deviation for that dimension. \n",
    "# This will result in each dimension having a mean of 0 and a standard deviation of 1.\n",
    "# Please note that when our data is stored in a sparse matrix, for instance when \n",
    "# we have a DictVectorizer or a CountVectorizer, the StandardScaler will be created with \n",
    "# the option with_mean=False. This means that we don't subtract  f¯ . The reason is \n",
    "# that we want to keep the matrix sparse: if an entry was zero before the transformation,\n",
    "# we'd like it to be zero after the transformation also.\n",
    "\n",
    "# the call fit_transform consists of a call to fit and then to transform. \n",
    "# In this case, fit will compute the mean and standard deviation, and then transform will apply the formula mentioned above.\n",
    "\n",
    "###### CODE ######\n",
    "from sklearn.preprocessing import StandardScaler\n",
    "# prepare the scaler with train data\n",
    "scaler = StandardScaler(with_mean=False).fit(X_train)\n",
    "# transform both train and test data\n",
    "X_train = scaler.transform(X_train)\n",
    "X_test = scaler.transform(X_test)"
   ]
  },
  {
   "cell_type": "code",
   "execution_count": 17,
   "metadata": {
    "collapsed": true
   },
   "outputs": [],
   "source": [
    "# The multinomial Naive Bayes classifier is suitable for classification with discrete features\n",
    "# (e.g., word counts for text classification). The multinomial distribution normally requires integer feature counts.\n",
    "# However, in practice, fractional counts such as tf-idf may also work."
   ]
  },
  {
   "cell_type": "code",
   "execution_count": 18,
   "metadata": {},
   "outputs": [
    {
     "data": {
      "text/plain": [
       "MultinomialNB(alpha=1.0, class_prior=None, fit_prior=True)"
      ]
     },
     "execution_count": 18,
     "metadata": {},
     "output_type": "execute_result"
    }
   ],
   "source": [
    "from sklearn.naive_bayes import MultinomialNB\n",
    "clf = MultinomialNB()\n",
    "clf.fit(X_train, y_train)"
   ]
  },
  {
   "cell_type": "code",
   "execution_count": 19,
   "metadata": {
    "collapsed": true
   },
   "outputs": [],
   "source": [
    "y_pred = clf.predict(X_test)"
   ]
  },
  {
   "cell_type": "code",
   "execution_count": 20,
   "metadata": {},
   "outputs": [
    {
     "name": "stdout",
     "output_type": "stream",
     "text": [
      "\n",
      "****Test accuracy for k = 5 is 77%\n"
     ]
    }
   ],
   "source": [
    "from sklearn.metrics import accuracy_score\n",
    "acc = accuracy_score(y_test, y_pred, normalize=True) * float(100)\n",
    "print('\\n****Test accuracy for k = 5 is %d%%' % (acc))"
   ]
  },
  {
   "cell_type": "markdown",
   "metadata": {},
   "source": [
    "# 10-Fold Cross Validation to find alpha"
   ]
  },
  {
   "cell_type": "code",
   "execution_count": 21,
   "metadata": {
    "scrolled": true
   },
   "outputs": [
    {
     "name": "stderr",
     "output_type": "stream",
     "text": [
      "/home/abhisek1651990/anaconda3/lib/python3.6/site-packages/sklearn/cross_validation.py:41: DeprecationWarning: This module was deprecated in version 0.18 in favor of the model_selection module into which all the refactored classes and functions are moved. Also note that the interface of the new CV iterators are different from that of this module. This module will be removed in 0.20.\n",
      "  \"This module will be removed in 0.20.\", DeprecationWarning)\n"
     ]
    },
    {
     "name": "stdout",
     "output_type": "stream",
     "text": [
      "[ 0.76846165  0.762034    0.76860449  0.78131695  0.76317669  0.76668095\n",
      "  0.76325189  0.77539649  0.77182455  0.77182455]\n",
      "[ 0.769033    0.76274818  0.76960434  0.78117412  0.76403371  0.76725246\n",
      "  0.76396628  0.77553936  0.7721103   0.77196742]\n",
      "[ 0.76931867  0.76346236  0.76946151  0.78131695  0.76460506  0.76725246\n",
      "  0.76439491  0.77553936  0.77268181  0.77282469]\n",
      "[ 0.76960434  0.76389087  0.76974718  0.78174546  0.76474789  0.76739534\n",
      "  0.76468067  0.77639663  0.77311044  0.77325332]\n",
      "[ 0.76989002  0.76417655  0.77046136  0.78160263  0.76503357  0.76796685\n",
      "  0.76482355  0.77696814  0.77411059  0.7733962 ]\n",
      "[ 0.7706042   0.76446222  0.77103271  0.78160263  0.76531924  0.76839549\n",
      "  0.76482355  0.77725389  0.77439634  0.77396771]\n",
      "[ 0.77074704  0.76503357  0.77146122  0.78203114  0.76574775  0.76853836\n",
      "  0.76525218  0.7778254   0.7746821   0.77482497]\n",
      "[ 0.77074704  0.7651764   0.77203257  0.78231681  0.76574775  0.76868124\n",
      "  0.76525218  0.77796828  0.77453922  0.77511073]\n",
      "[ 0.77103271  0.76546208  0.77231824  0.78217398  0.76589059  0.76910987\n",
      "  0.76568081  0.77796828  0.7746821   0.77539649]\n",
      "\n",
      "The optimal value of alpha is 9.\n"
     ]
    },
    {
     "data": {
      "image/png": "[encoded data removed]",
      "text/plain": [
       "<matplotlib.figure.Figure at 0x7f85164c0f60>"
      ]
     },
     "metadata": {},
     "output_type": "display_data"
    },
    {
     "name": "stdout",
     "output_type": "stream",
     "text": [
      "the misclassification error for each alpha value is :  [ 0.231  0.23   0.23   0.23   0.229  0.229  0.228  0.228  0.228]\n"
     ]
    }
   ],
   "source": [
    "from sklearn.cross_validation import cross_val_score\n",
    "from sklearn.naive_bayes import MultinomialNB\n",
    "# creating odd list of K for KNN\n",
    "myList = list(range(1,10))\n",
    "\n",
    "# empty list that will hold cv scores\n",
    "cv_scores = []\n",
    "\n",
    "# perform 10-fold cross validation\n",
    "for a in myList:\n",
    "    mnb = MultinomialNB(alpha=a)\n",
    "    scores = cross_val_score(mnb, X_train.toarray(), y_train, cv=10, scoring='accuracy')\n",
    "    print(scores)\n",
    "    cv_scores.append(scores.mean())\n",
    "\n",
    "MSE = [1 - x for x in cv_scores]\n",
    "\n",
    "# determining best k\n",
    "optimal_alpha = myList[MSE.index(min(MSE))]\n",
    "print('\\nThe optimal value of alpha is %d.' % optimal_alpha)\n",
    "\n",
    "# plot misclassification error vs k \n",
    "plt.plot(myList, MSE)\n",
    "\n",
    "for xy in zip(myList, np.round(MSE,3)):\n",
    "    plt.annotate('(%s, %s)' % xy, xy=xy, textcoords='data')\n",
    "\n",
    "plt.xlabel('Values of alpha')\n",
    "plt.ylabel('Misclassification Error')\n",
    "plt.show()\n",
    "\n",
    "print(\"the misclassification error for each alpha value is : \", np.round(MSE,3))"
   ]
  },
  {
   "cell_type": "code",
   "execution_count": 23,
   "metadata": {
    "collapsed": true
   },
   "outputs": [],
   "source": [
    "# dump cv-score in a file\n",
    "import pickle\n",
    "pickle_out = open(\"cv_scores_nb.pickle\",\"wb\")\n",
    "pickle.dump(cv_scores, pickle_out)\n",
    "pickle_out.close()"
   ]
  },
  {
   "cell_type": "code",
   "execution_count": 24,
   "metadata": {},
   "outputs": [
    {
     "data": {
      "text/plain": [
       "MultinomialNB(alpha=9, class_prior=None, fit_prior=True)"
      ]
     },
     "execution_count": 24,
     "metadata": {},
     "output_type": "execute_result"
    }
   ],
   "source": [
    "mnb = MultinomialNB(alpha = optimal_alpha)\n",
    "mnb.fit(X_train, y_train)"
   ]
  },
  {
   "cell_type": "code",
   "execution_count": 25,
   "metadata": {
    "collapsed": true
   },
   "outputs": [],
   "source": [
    "y_pred = mnb.predict(X_test)"
   ]
  },
  {
   "cell_type": "code",
   "execution_count": 26,
   "metadata": {},
   "outputs": [
    {
     "name": "stdout",
     "output_type": "stream",
     "text": [
      "\n",
      "****Test accuracy for k = 5 is 77%\n"
     ]
    }
   ],
   "source": [
    "from sklearn.metrics import accuracy_score\n",
    "acc = accuracy_score(y_test, y_pred, normalize=True) * float(100)\n",
    "print('\\n****Test accuracy for k = 9 is %d%%' % (acc))"
   ]
  },
  {
   "cell_type": "code",
   "execution_count": 27,
   "metadata": {},
   "outputs": [
    {
     "data": {
      "text/plain": [
       "array([[-11.02885423, -11.02885423, -14.44321285, ..., -11.02885423,\n",
       "        -14.44321285, -14.44321285],\n",
       "       [-14.30010865, -14.30010865, -10.88575003, ..., -14.30010865,\n",
       "        -10.88575003, -10.88575003]])"
      ]
     },
     "execution_count": 27,
     "metadata": {},
     "output_type": "execute_result"
    }
   ],
   "source": [
    "# Models like logistic regression, or Naive Bayes algorithm, predict the probabilities of observing some outcomes.\n",
    "# In standard binary regression scenario the models give you probability of observing the \"success\" category. \n",
    "# In multinomial case, the models return probabilities of observing each of the outcomes. \n",
    "# Log probabilities are simply natural logarithms of the predicted probabilities.\n",
    "# Empirical log probability of features given a class, P(x_i|y).\n",
    "mnb.feature_log_prob_"
   ]
  },
  {
   "cell_type": "code",
   "execution_count": 28,
   "metadata": {},
   "outputs": [
    {
     "data": {
      "text/plain": [
       "[22195.611549675465,\n",
       " 22651.679810131642,\n",
       " 23369.83532074777,\n",
       " 24316.557637544312,\n",
       " 25857.62109103343,\n",
       " 27283.425931007972,\n",
       " 30322.198890403124,\n",
       " 31484.058535013995,\n",
       " 33347.253087793913,\n",
       " 33422.712302017244]"
      ]
     },
     "execution_count": 28,
     "metadata": {},
     "output_type": "execute_result"
    }
   ],
   "source": [
    "sorted(mnb.feature_count_[0])[-10:]"
   ]
  },
  {
   "cell_type": "code",
   "execution_count": 29,
   "metadata": {},
   "outputs": [
    {
     "data": {
      "text/plain": [
       "[20091.865024666091,\n",
       " 20782.685547414825,\n",
       " 21482.826836358243,\n",
       " 21946.178277279731,\n",
       " 22106.548418216498,\n",
       " 22979.230979129312,\n",
       " 25344.269109398596,\n",
       " 26028.280559340383,\n",
       " 28447.774153617658,\n",
       " 31865.442119707044]"
      ]
     },
     "execution_count": 29,
     "metadata": {},
     "output_type": "execute_result"
    }
   ],
   "source": [
    "sorted(mnb.feature_count_[1])[-10:]"
   ]
  },
  {
   "cell_type": "code",
   "execution_count": 30,
   "metadata": {},
   "outputs": [
    {
     "data": {
      "text/plain": [
       "array([ 35055.,  34945.])"
      ]
     },
     "execution_count": 30,
     "metadata": {},
     "output_type": "execute_result"
    }
   ],
   "source": [
    "# Number of samples encountered for each class during fitting. This value is weighted by the sample weight when provided.\n",
    "mnb.class_count_"
   ]
  },
  {
   "cell_type": "code",
   "execution_count": 31,
   "metadata": {},
   "outputs": [
    {
     "data": {
      "text/plain": [
       "array([ 264.57702095,  264.57702095,    0.        , ...,  264.57702095,\n",
       "          0.        ,    0.        ])"
      ]
     },
     "execution_count": 31,
     "metadata": {},
     "output_type": "execute_result"
    }
   ],
   "source": [
    "# Number of samples encountered for each (class, feature) during fitting. \n",
    "# This value is weighted by the sample weight when provided.\n",
    "mnb.feature_count_[0]"
   ]
  },
  {
   "cell_type": "markdown",
   "metadata": {},
   "source": [
    "# Find Most Important Features"
   ]
  },
  {
   "cell_type": "code",
   "execution_count": 22,
   "metadata": {
    "collapsed": true
   },
   "outputs": [],
   "source": [
    "def most_important_features(vectorizer, classifier, classlabel, n=20):\n",
    "    labelid = list(classifier.classes_).index(classlabel)\n",
    "    feature_names = vectorizer.get_feature_names()\n",
    "    topn = sorted(zip(classifier.feature_log_prob_[labelid], feature_names))[-n:]\n",
    "    for coef, feat in topn:\n",
    "        if feat not in stop:\n",
    "            print(classlabel, feat, coef)\n",
    "        else:\n",
    "            continue"
   ]
  },
  {
   "cell_type": "code",
   "execution_count": 23,
   "metadata": {
    "collapsed": true
   },
   "outputs": [],
   "source": [
    "# Not considering stopwords while getting important words\n",
    "\n",
    "stop = set(stopwords.words('english'))"
   ]
  },
  {
   "cell_type": "code",
   "execution_count": 37,
   "metadata": {},
   "outputs": [
    {
     "name": "stdout",
     "output_type": "stream",
     "text": [
      "positive tri -6.84400788223\n",
      "positive tast -6.83694219049\n",
      "positive veri -6.80150380789\n",
      "positive use -6.7897610457\n",
      "positive like -6.70488150079\n",
      "positive good -6.58881509383\n",
      "positive love -6.49329703454\n",
      "positive great -6.45459555561\n"
     ]
    }
   ],
   "source": [
    "most_important_features(count_vect, mnb, 'positive')"
   ]
  },
  {
   "cell_type": "code",
   "execution_count": 38,
   "metadata": {},
   "outputs": [
    {
     "name": "stdout",
     "output_type": "stream",
     "text": [
      "negative one -6.84270659598\n",
      "negative would -6.80145595237\n",
      "negative product -6.73907008184\n",
      "negative like -6.6323821487\n",
      "negative tast -6.58085100386\n"
     ]
    }
   ],
   "source": [
    "most_important_features(count_vect, mnb, 'negative')"
   ]
  },
  {
   "cell_type": "code",
   "execution_count": 39,
   "metadata": {},
   "outputs": [
    {
     "name": "stdout",
     "output_type": "stream",
     "text": [
      "             precision    recall  f1-score   support\n",
      "\n",
      "   negative       0.78      0.78      0.78     14945\n",
      "   positive       0.78      0.78      0.78     15055\n",
      "\n",
      "avg / total       0.78      0.78      0.78     30000\n",
      "\n"
     ]
    }
   ],
   "source": [
    "from sklearn.metrics import classification_report\n",
    "y_pred = mnb.predict(X_test)\n",
    "print(classification_report(y_test, y_pred))"
   ]
  },
  {
   "cell_type": "code",
   "execution_count": 41,
   "metadata": {
    "scrolled": true
   },
   "outputs": [
    {
     "data": {
      "image/png": "[encoded data removed]",
      "text/plain": [
       "<matplotlib.figure.Figure at 0x7f85152709b0>"
      ]
     },
     "metadata": {},
     "output_type": "display_data"
    }
   ],
   "source": [
    "from sklearn.metrics import confusion_matrix\n",
    "%matplotlib inline  \n",
    "import seaborn as sns\n",
    "mat = confusion_matrix(y_test, y_pred)\n",
    "sns.heatmap(mat.T, square=True, annot=True, fmt='d', cbar=False)\n",
    "plt.xlabel('true label')\n",
    "plt.ylabel('predicted label');"
   ]
  },
  {
   "cell_type": "markdown",
   "metadata": {},
   "source": [
    "# BOW with NB for whole DataSet"
   ]
  },
  {
   "cell_type": "code",
   "execution_count": 11,
   "metadata": {
    "collapsed": true
   },
   "outputs": [],
   "source": [
    "X = final['CleanedText']\n",
    "y = final['Score']"
   ]
  },
  {
   "cell_type": "code",
   "execution_count": 12,
   "metadata": {
    "collapsed": true
   },
   "outputs": [],
   "source": [
    "from sklearn.model_selection import train_test_split\n",
    "# Split arrays or matrices into random train and test subsets\n",
    "# test_size=0.3 means out of 10k 3k will be test set and 7k train set\n",
    "X_train, X_test, y_train, y_test = train_test_split(X, y, test_size=0.3, random_state=0)"
   ]
  },
  {
   "cell_type": "code",
   "execution_count": 13,
   "metadata": {
    "collapsed": true
   },
   "outputs": [],
   "source": [
    "count_vect = CountVectorizer()\n",
    "X_train = count_vect.fit_transform(X_train)\n",
    "X_test = count_vect.transform(X_test)"
   ]
  },
  {
   "cell_type": "code",
   "execution_count": 15,
   "metadata": {},
   "outputs": [
    {
     "data": {
      "text/plain": [
       "MultinomialNB(alpha=1, class_prior=None, fit_prior=True)"
      ]
     },
     "execution_count": 15,
     "metadata": {},
     "output_type": "execute_result"
    }
   ],
   "source": [
    "from sklearn.naive_bayes import MultinomialNB\n",
    "mnb = MultinomialNB(alpha = 1)\n",
    "mnb.fit(X_train, y_train)"
   ]
  },
  {
   "cell_type": "code",
   "execution_count": 16,
   "metadata": {
    "collapsed": true
   },
   "outputs": [],
   "source": [
    "y_pred = mnb.predict(X_test)"
   ]
  },
  {
   "cell_type": "code",
   "execution_count": 18,
   "metadata": {},
   "outputs": [
    {
     "name": "stdout",
     "output_type": "stream",
     "text": [
      "\n",
      "****Test accuracy for k = 1 is 90%\n"
     ]
    }
   ],
   "source": [
    "from sklearn.metrics import accuracy_score\n",
    "acc = accuracy_score(y_test, y_pred, normalize=True) * float(100)\n",
    "print('\\n****Test accuracy for k = 1 is %d%%' % (acc))"
   ]
  },
  {
   "cell_type": "code",
   "execution_count": 24,
   "metadata": {},
   "outputs": [
    {
     "name": "stdout",
     "output_type": "stream",
     "text": [
      "positive love -5.12313875768\n",
      "positive flavor -5.10955015809\n",
      "positive good -5.07384586882\n",
      "positive tast -4.93943452613\n",
      "positive like -4.86256928879\n"
     ]
    }
   ],
   "source": [
    "most_important_features(count_vect, mnb, 'positive')"
   ]
  },
  {
   "cell_type": "code",
   "execution_count": 25,
   "metadata": {
    "scrolled": true
   },
   "outputs": [
    {
     "name": "stdout",
     "output_type": "stream",
     "text": [
      "negative flavor -5.27578819374\n",
      "negative one -5.21686552263\n",
      "negative product -4.89350013145\n",
      "negative like -4.76050349988\n",
      "negative tast -4.69858668915\n"
     ]
    }
   ],
   "source": [
    "most_important_features(count_vect, mnb, 'negative')"
   ]
  },
  {
   "cell_type": "code",
   "execution_count": 26,
   "metadata": {
    "scrolled": true
   },
   "outputs": [
    {
     "name": "stdout",
     "output_type": "stream",
     "text": [
      "             precision    recall  f1-score   support\n",
      "\n",
      "   negative       0.69      0.70      0.70     17213\n",
      "   positive       0.94      0.94      0.94     92039\n",
      "\n",
      "avg / total       0.90      0.90      0.90    109252\n",
      "\n"
     ]
    }
   ],
   "source": [
    "from sklearn.metrics import classification_report\n",
    "y_pred = mnb.predict(X_test)\n",
    "print(classification_report(y_test, y_pred))"
   ]
  },
  {
   "cell_type": "code",
   "execution_count": 27,
   "metadata": {
    "scrolled": true
   },
   "outputs": [
    {
     "data": {
      "image/png": "[encoded data removed]",
      "text/plain": [
       "<matplotlib.figure.Figure at 0x7f504b0fdcc0>"
      ]
     },
     "metadata": {},
     "output_type": "display_data"
    }
   ],
   "source": [
    "from sklearn.metrics import confusion_matrix\n",
    "%matplotlib inline  \n",
    "import seaborn as sns\n",
    "mat = confusion_matrix(y_test, y_pred)\n",
    "sns.heatmap(mat.T, square=True, annot=True, fmt='d', cbar=False)\n",
    "plt.xlabel('true label')\n",
    "plt.ylabel('predicted label');"
   ]
  },
  {
   "cell_type": "markdown",
   "metadata": {},
   "source": [
    "# TimeSeries based cross validation split with gridsearchCV"
   ]
  },
  {
   "cell_type": "code",
   "execution_count": 28,
   "metadata": {
    "collapsed": true
   },
   "outputs": [],
   "source": [
    "# Why is Cross-Validation Different with Time Series?\n",
    "\n",
    "# When dealing with time series data, traditional cross-validation (like k-fold) should not be used for two reasons:\n",
    "# https://towardsdatascience.com/time-series-nested-cross-validation-76adba623eb9"
   ]
  },
  {
   "cell_type": "code",
   "execution_count": 30,
   "metadata": {},
   "outputs": [
    {
     "name": "stdout",
     "output_type": "stream",
     "text": [
      "GridSearchCV(cv=<generator object TimeSeriesSplit.split at 0x7f504af954c0>,\n",
      "       error_score='raise',\n",
      "       estimator=MultinomialNB(alpha=1.0, class_prior=None, fit_prior=True),\n",
      "       fit_params=None, iid=True, n_jobs=1,\n",
      "       param_grid=[{'alpha': [1, 2, 3, 4, 5, 6, 7, 8, 9]}],\n",
      "       pre_dispatch='2*n_jobs', refit=True, return_train_score='warn',\n",
      "       scoring='accuracy', verbose=0)\n",
      "Tuned Hyperparameter Parameters: {'alpha': 1}\n",
      "Best score is 0.9035340637614301\n"
     ]
    }
   ],
   "source": [
    "from sklearn.model_selection import TimeSeriesSplit\n",
    "from sklearn.naive_bayes import MultinomialNB\n",
    "from sklearn.model_selection import GridSearchCV\n",
    "# creating odd list of K for KNN\n",
    "myList = list(range(1,10))\n",
    "#alphas = [0.1, 0.2, 0.3, 0.4, 0.5, 0.6, 0.7, 0.8, 0.9, 1.0]\n",
    "\n",
    "# empty list that will hold cv scores\n",
    "cv_scores = []\n",
    "parameters = [{'alpha': myList}]\n",
    "\n",
    "# perform 10-fold cross validation\n",
    "\n",
    "mnb = MultinomialNB()\n",
    "my_cv = TimeSeriesSplit(n_splits=2).split(X_train)\n",
    "gsearch = GridSearchCV(mnb, cv=my_cv, param_grid=parameters, scoring='accuracy')\n",
    "gsearch.fit(X_train, y_train)\n",
    "print(gsearch)\n",
    "# Print the tuned parameter and score\n",
    "print(\"Tuned Hyperparameter Parameters: {}\".format(gsearch.best_params_))\n",
    "print(\"Best score is {}\".format(gsearch.best_score_))"
   ]
  },
  {
   "cell_type": "markdown",
   "metadata": {},
   "source": [
    "# TF-IDF with NB"
   ]
  },
  {
   "cell_type": "code",
   "execution_count": 42,
   "metadata": {
    "collapsed": true
   },
   "outputs": [],
   "source": [
    "from sklearn.model_selection import train_test_split\n",
    "# Split arrays or matrices into random train and test subsets\n",
    "# test_size=0.3 means out of 10k 3k will be test set and 7k train set\n",
    "X_train_tfidf, X_test_tfidf, y_train_tfidf, y_test_tfidf = train_test_split(X, y, test_size=0.3, random_state=0)"
   ]
  },
  {
   "cell_type": "code",
   "execution_count": 43,
   "metadata": {
    "collapsed": true
   },
   "outputs": [],
   "source": [
    "tf_idf_vect = TfidfVectorizer(ngram_range=(1,2))\n",
    "final_tf_idf_train = tf_idf_vect.fit_transform(X_train_tfidf)\n",
    "final_tf_idf_test = tf_idf_vect.transform(X_test_tfidf)"
   ]
  },
  {
   "cell_type": "code",
   "execution_count": 44,
   "metadata": {
    "collapsed": true
   },
   "outputs": [],
   "source": [
    "from sklearn.preprocessing import StandardScaler\n",
    "# prepare the scaler with train data\n",
    "scaler = StandardScaler(with_mean=False).fit(final_tf_idf_train)\n",
    "# transform both train and test data\n",
    "final_tf_idf_train = scaler.transform(final_tf_idf_train)\n",
    "final_tf_idf_test = scaler.transform(final_tf_idf_test)"
   ]
  },
  {
   "cell_type": "code",
   "execution_count": 55,
   "metadata": {},
   "outputs": [
    {
     "name": "stdout",
     "output_type": "stream",
     "text": [
      "[ 0.78160263  0.78217398  0.78403085  0.78374518  0.78903014  0.78882698\n",
      "  0.79297042  0.78425489  0.79039863  0.78025432]\n",
      "[ 0.78803028  0.79088702  0.78988716  0.79131553  0.79474361  0.79597085\n",
      "  0.79782826  0.79168453  0.79582798  0.78768395]\n",
      "[ 0.79174404  0.79488644  0.79488644  0.79645765  0.79845736  0.80125732\n",
      "  0.80154308  0.79611373  0.80040006  0.79225604]\n",
      "[ 0.79602914  0.79845736  0.79802885  0.80102842  0.80202828  0.80525789\n",
      "  0.80525789  0.79954279  0.80411487  0.79554222]\n",
      "[ 0.79888587  0.80145693  0.80117126  0.80431367  0.80531353  0.80782969\n",
      "  0.80754393  0.80197171  0.8058294   0.79897128]\n",
      "[ 0.8013141   0.80545636  0.80374232  0.80745608  0.80917012  0.80911559\n",
      "  0.81068724  0.80468638  0.80797257  0.8001143 ]\n",
      "[ 0.80388516  0.80645622  0.80588487  0.80874161  0.81116983  0.81054436\n",
      "  0.81240177  0.80611516  0.80925847  0.80311473]\n",
      "[ 0.80459934  0.80674189  0.80802742  0.81131267  0.81331238  0.81397342\n",
      "  0.81525932  0.80868696  0.81140163  0.80511502]\n",
      "[ 0.80502785  0.80802742  0.80917012  0.81274104  0.81431224  0.81454493\n",
      "  0.81654522  0.81011573  0.81397342  0.80797257]\n",
      "\n",
      "The optimal value of alpha is 9.\n"
     ]
    },
    {
     "data": {
      "image/png": "[encoded data removed]",
      "text/plain": [
       "<matplotlib.figure.Figure at 0x7f85046f1eb8>"
      ]
     },
     "metadata": {},
     "output_type": "display_data"
    },
    {
     "name": "stdout",
     "output_type": "stream",
     "text": [
      "the misclassification error for each alpha value is :  [ 0.214  0.208  0.203  0.199  0.197  0.194  0.192  0.19   0.189]\n"
     ]
    }
   ],
   "source": [
    "from sklearn.cross_validation import cross_val_score\n",
    "from sklearn.naive_bayes import MultinomialNB\n",
    "# creating odd list of K for KNN\n",
    "myList = list(range(1,10))\n",
    "\n",
    "# empty list that will hold cv scores\n",
    "cv_scores = []\n",
    "\n",
    "# perform 10-fold cross validation\n",
    "for a in myList:\n",
    "    mnb = MultinomialNB(alpha=a)\n",
    "    scores = cross_val_score(mnb, final_tf_idf_train, y_train_tfidf, cv=10, scoring='accuracy')\n",
    "    print(scores)\n",
    "    cv_scores.append(scores.mean())\n",
    "\n",
    "MSE = [1 - x for x in cv_scores]\n",
    "\n",
    "# determining best k\n",
    "optimal_alpha = myList[MSE.index(min(MSE))]\n",
    "print('\\nThe optimal value of alpha is %d.' % optimal_alpha)\n",
    "\n",
    "# plot misclassification error vs k \n",
    "plt.plot(myList, MSE)\n",
    "\n",
    "for xy in zip(myList, np.round(MSE,3)):\n",
    "    plt.annotate('(%s, %s)' % xy, xy=xy, textcoords='data')\n",
    "\n",
    "plt.xlabel('Values of alpha')\n",
    "plt.ylabel('Misclassification Error')\n",
    "plt.show()\n",
    "\n",
    "print(\"the misclassification error for each alpha value is : \", np.round(MSE,3))"
   ]
  },
  {
   "cell_type": "code",
   "execution_count": 56,
   "metadata": {},
   "outputs": [
    {
     "data": {
      "text/plain": [
       "MultinomialNB(alpha=9, class_prior=None, fit_prior=True)"
      ]
     },
     "execution_count": 56,
     "metadata": {},
     "output_type": "execute_result"
    }
   ],
   "source": [
    "mnb = MultinomialNB(alpha = optimal_alpha)\n",
    "mnb.fit(final_tf_idf_train, y_train_tfidf)"
   ]
  },
  {
   "cell_type": "code",
   "execution_count": 57,
   "metadata": {
    "collapsed": true
   },
   "outputs": [],
   "source": [
    "# Predicting the Test set results\n",
    "y_pred = mnb.predict(final_tf_idf_test)"
   ]
  },
  {
   "cell_type": "code",
   "execution_count": 58,
   "metadata": {},
   "outputs": [
    {
     "name": "stdout",
     "output_type": "stream",
     "text": [
      "\n",
      "****Test accuracy for k = 9 is 74%\n"
     ]
    }
   ],
   "source": [
    "from sklearn.metrics import accuracy_score\n",
    "acc = accuracy_score(y_test_tfidf, y_pred, normalize=True) * float(100)\n",
    "print('\\n****Test accuracy for k = 9 is %d%%' % (acc))"
   ]
  },
  {
   "cell_type": "code",
   "execution_count": 50,
   "metadata": {},
   "outputs": [
    {
     "name": "stdout",
     "output_type": "stream",
     "text": [
      "positive veri -9.2882680974\n",
      "positive tast -9.26373367382\n",
      "positive use -9.17713029225\n",
      "positive like -9.15713971073\n",
      "positive good -9.05719579168\n",
      "positive great -8.97286239284\n",
      "positive love -8.95351724708\n"
     ]
    }
   ],
   "source": [
    "most_important_features(tf_idf_vect, mnb, 'positive')"
   ]
  },
  {
   "cell_type": "code",
   "execution_count": 51,
   "metadata": {},
   "outputs": [
    {
     "name": "stdout",
     "output_type": "stream",
     "text": [
      "negative one -9.32587306646\n",
      "negative would -9.28560015586\n",
      "negative product -9.19950858645\n",
      "negative like -9.0816987971\n",
      "negative tast -9.02859104997\n"
     ]
    }
   ],
   "source": [
    "most_important_features(tf_idf_vect, mnb, 'negative')"
   ]
  },
  {
   "cell_type": "code",
   "execution_count": 52,
   "metadata": {},
   "outputs": [
    {
     "name": "stdout",
     "output_type": "stream",
     "text": [
      "             precision    recall  f1-score   support\n",
      "\n",
      "   negative       0.73      0.78      0.76     14945\n",
      "   positive       0.77      0.72      0.74     15055\n",
      "\n",
      "avg / total       0.75      0.75      0.75     30000\n",
      "\n"
     ]
    }
   ],
   "source": [
    "from sklearn.metrics import classification_report\n",
    "y_pred = mnb.predict(final_tf_idf_test)\n",
    "print(classification_report(y_test_tfidf, y_pred))"
   ]
  },
  {
   "cell_type": "code",
   "execution_count": 53,
   "metadata": {
    "scrolled": true
   },
   "outputs": [
    {
     "data": {
      "image/png": "[encoded data removed]",
      "text/plain": [
       "<matplotlib.figure.Figure at 0x7f8507379470>"
      ]
     },
     "metadata": {},
     "output_type": "display_data"
    }
   ],
   "source": [
    "from sklearn.metrics import confusion_matrix\n",
    "import seaborn as sns\n",
    "mat = confusion_matrix(y_test_tfidf, y_pred)\n",
    "sns.heatmap(mat.T, square=True, annot=True, fmt='d', cbar=False)\n",
    "plt.xlabel('true label')\n",
    "plt.ylabel('predicted label');"
   ]
  },
  {
   "cell_type": "markdown",
   "metadata": {},
   "source": [
    "# TF-IDF with NB for whole DataSet"
   ]
  },
  {
   "cell_type": "code",
   "execution_count": 31,
   "metadata": {
    "collapsed": true
   },
   "outputs": [],
   "source": [
    "from sklearn.model_selection import train_test_split\n",
    "# Split arrays or matrices into random train and test subsets\n",
    "# test_size=0.3 means out of 10k 3k will be test set and 7k train set\n",
    "X_train_tfidf, X_test_tfidf, y_train_tfidf, y_test_tfidf = train_test_split(X, y, test_size=0.3, random_state=0)"
   ]
  },
  {
   "cell_type": "code",
   "execution_count": 32,
   "metadata": {
    "collapsed": true
   },
   "outputs": [],
   "source": [
    "tf_idf_vect = TfidfVectorizer(ngram_range=(1,2))\n",
    "final_tf_idf_train = tf_idf_vect.fit_transform(X_train_tfidf)\n",
    "final_tf_idf_test = tf_idf_vect.transform(X_test_tfidf)"
   ]
  },
  {
   "cell_type": "code",
   "execution_count": 33,
   "metadata": {
    "collapsed": true
   },
   "outputs": [],
   "source": [
    "from sklearn.preprocessing import StandardScaler\n",
    "# prepare the scaler with train data\n",
    "scaler = StandardScaler(with_mean=False).fit(final_tf_idf_train)\n",
    "# transform both train and test data\n",
    "final_tf_idf_train = scaler.transform(final_tf_idf_train)\n",
    "final_tf_idf_test = scaler.transform(final_tf_idf_test)"
   ]
  },
  {
   "cell_type": "code",
   "execution_count": 34,
   "metadata": {},
   "outputs": [
    {
     "data": {
      "text/plain": [
       "MultinomialNB(alpha=1, class_prior=None, fit_prior=True)"
      ]
     },
     "execution_count": 34,
     "metadata": {},
     "output_type": "execute_result"
    }
   ],
   "source": [
    "mnb = MultinomialNB(alpha = 1)\n",
    "mnb.fit(final_tf_idf_train, y_train_tfidf)"
   ]
  },
  {
   "cell_type": "code",
   "execution_count": 35,
   "metadata": {
    "collapsed": true
   },
   "outputs": [],
   "source": [
    "# Predicting the Test set results\n",
    "y_pred = mnb.predict(final_tf_idf_test)"
   ]
  },
  {
   "cell_type": "code",
   "execution_count": 38,
   "metadata": {},
   "outputs": [
    {
     "name": "stdout",
     "output_type": "stream",
     "text": [
      "\n",
      "****Test accuracy for k = 1 is 83%\n"
     ]
    }
   ],
   "source": [
    "from sklearn.metrics import accuracy_score\n",
    "acc = accuracy_score(y_test_tfidf, y_pred, normalize=True) * float(100)\n",
    "print('\\n****Test accuracy for k = 1 is %d%%' % (acc))"
   ]
  },
  {
   "cell_type": "code",
   "execution_count": 37,
   "metadata": {},
   "outputs": [
    {
     "name": "stdout",
     "output_type": "stream",
     "text": [
      "positive use -9.50327340433\n",
      "positive tast -9.3856518648\n",
      "positive good -9.37507304524\n",
      "positive great -9.36725986626\n",
      "positive like -9.36047794734\n",
      "positive love -9.3442440461\n"
     ]
    }
   ],
   "source": [
    "most_important_features(tf_idf_vect, mnb, 'positive')"
   ]
  },
  {
   "cell_type": "code",
   "execution_count": 39,
   "metadata": {},
   "outputs": [
    {
     "name": "stdout",
     "output_type": "stream",
     "text": [
      "negative would -9.47662892962\n",
      "negative product -9.41684211432\n",
      "negative disappoint -9.40265654614\n",
      "negative like -9.32956373498\n",
      "negative tast -9.23272104644\n"
     ]
    }
   ],
   "source": [
    "most_important_features(tf_idf_vect, mnb, 'negative')"
   ]
  },
  {
   "cell_type": "code",
   "execution_count": 40,
   "metadata": {},
   "outputs": [
    {
     "name": "stdout",
     "output_type": "stream",
     "text": [
      "             precision    recall  f1-score   support\n",
      "\n",
      "   negative       0.49      0.36      0.42     17213\n",
      "   positive       0.89      0.93      0.91     92039\n",
      "\n",
      "avg / total       0.82      0.84      0.83    109252\n",
      "\n"
     ]
    }
   ],
   "source": [
    "from sklearn.metrics import classification_report\n",
    "y_pred = mnb.predict(final_tf_idf_test)\n",
    "print(classification_report(y_test_tfidf, y_pred))"
   ]
  },
  {
   "cell_type": "code",
   "execution_count": 41,
   "metadata": {
    "scrolled": true
   },
   "outputs": [
    {
     "data": {
      "image/png": "[encoded data removed]",
      "text/plain": [
       "<matplotlib.figure.Figure at 0x7f502c8feeb8>"
      ]
     },
     "metadata": {},
     "output_type": "display_data"
    }
   ],
   "source": [
    "from sklearn.metrics import confusion_matrix\n",
    "import seaborn as sns\n",
    "mat = confusion_matrix(y_test_tfidf, y_pred)\n",
    "sns.heatmap(mat.T, square=True, annot=True, fmt='d', cbar=False)\n",
    "plt.xlabel('true label')\n",
    "plt.ylabel('predicted label');"
   ]
  },
  {
   "cell_type": "markdown",
   "metadata": {},
   "source": [
    "# TimeSeries based cross validation split with gridsearchCV"
   ]
  },
  {
   "cell_type": "code",
   "execution_count": 43,
   "metadata": {},
   "outputs": [
    {
     "name": "stdout",
     "output_type": "stream",
     "text": [
      "GridSearchCV(cv=<generator object TimeSeriesSplit.split at 0x7f508614b780>,\n",
      "       error_score='raise',\n",
      "       estimator=MultinomialNB(alpha=1.0, class_prior=None, fit_prior=True),\n",
      "       fit_params=None, iid=True, n_jobs=1,\n",
      "       param_grid=[{'alpha': [1, 2, 3, 4, 5, 6, 7, 8, 9]}],\n",
      "       pre_dispatch='2*n_jobs', refit=True, return_train_score='warn',\n",
      "       scoring='accuracy', verbose=0)\n",
      "Tuned Hyperparameter Parameters: {'alpha': 1}\n",
      "Best score is 0.7192578819154319\n"
     ]
    }
   ],
   "source": [
    "from sklearn.model_selection import TimeSeriesSplit\n",
    "from sklearn.naive_bayes import MultinomialNB\n",
    "from sklearn.model_selection import GridSearchCV\n",
    "# creating odd list of K for KNN\n",
    "myList = list(range(1,10))\n",
    "#alphas = [0.1, 0.2, 0.3, 0.4, 0.5, 0.6, 0.7, 0.8, 0.9, 1.0]\n",
    "\n",
    "# empty list that will hold cv scores\n",
    "cv_scores = []\n",
    "parameters = [{'alpha': myList}]\n",
    "\n",
    "# perform 10-fold cross validation\n",
    "\n",
    "mnb = MultinomialNB()\n",
    "my_cv = TimeSeriesSplit(n_splits=2).split(final_tf_idf_train)\n",
    "gsearch = GridSearchCV(mnb, cv=my_cv, param_grid=parameters, scoring='accuracy')\n",
    "gsearch.fit(final_tf_idf_train, y_train_tfidf)\n",
    "print(gsearch)\n",
    "# Print the tuned parameter and score\n",
    "print(\"Tuned Hyperparameter Parameters: {}\".format(gsearch.best_params_))\n",
    "print(\"Best score is {}\".format(gsearch.best_score_))"
   ]
  },
  {
   "cell_type": "markdown",
   "metadata": {},
   "source": [
    "# Conclusion:"
   ]
  },
  {
   "cell_type": "code",
   "execution_count": 1,
   "metadata": {},
   "outputs": [
    {
     "name": "stdout",
     "output_type": "stream",
     "text": [
      "Featurization With Naive Bayes:\n",
      "+----------+------------------------+-------------+------------+\n",
      "|  Model   | hyper parameter- alpha | train error | test error |\n",
      "+----------+------------------------+-------------+------------+\n",
      "|  NB-BOW  |           9            |             |    23%     |\n",
      "| NB-TFIDF |           9            |             |    26%     |\n",
      "+----------+------------------------+-------------+------------+\n"
     ]
    }
   ],
   "source": [
    "from prettytable import PrettyTable\n",
    "x = PrettyTable()\n",
    "\n",
    "x.field_names = [\"Model\", \"hyper parameter- alpha\", \"train error\", \"test error\"]\n",
    "x.add_row([\"NB-BOW\", 9, \"\", \"23%\"])\n",
    "x.add_row([\"NB-TFIDF\", 9, \"\", \"26%\"])\n",
    "print(\"Featurization With Naive Bayes:\")\n",
    "print(x)"
   ]
  },
  {
   "cell_type": "markdown",
   "metadata": {},
   "source": [
    "In Naive Bayes our assumption is that each word is independent of each other. we have used two featurization \n",
    "BOW and TFIDF to convert text to vector. Applying Naive Bayes we could see 77% accuracy for BOW and 74% accuracy \n",
    "for TFIDF."
   ]
  }
 ],
 "metadata": {
  "kernelspec": {
   "display_name": "Python 3",
   "language": "python",
   "name": "python3"
  },
  "language_info": {
   "codemirror_mode": {
    "name": "ipython",
    "version": 3
   },
   "file_extension": ".py",
   "mimetype": "text/x-python",
   "name": "python",
   "nbconvert_exporter": "python",
   "pygments_lexer": "ipython3",
   "version": "3.6.4"
  }
 },
 "nbformat": 4,
 "nbformat_minor": 2
}
